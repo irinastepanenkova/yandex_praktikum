{
 "cells": [
  {
   "cell_type": "markdown",
   "metadata": {
    "deletable": false,
    "editable": false,
    "id": "E0vqbgi9ay0H"
   },
   "source": [
    "# Яндекс Музыка"
   ]
  },
  {
   "cell_type": "markdown",
   "metadata": {
    "deletable": false,
    "editable": false,
    "id": "VUC88oWjTJw2"
   },
   "source": [
    "Сравнение Москвы и Петербурга окружено мифами. Например:\n",
    " * Москва — мегаполис, подчинённый жёсткому ритму рабочей недели;\n",
    " * Петербург — культурная столица, со своими вкусами.\n",
    "\n",
    "На данных Яндекс Музыки вы сравните поведение пользователей двух столиц.\n",
    "\n",
    "**Цель исследования** — проверьте три гипотезы:\n",
    "1. Активность пользователей зависит от дня недели. Причём в Москве и Петербурге это проявляется по-разному.\n",
    "2. В понедельник утром в Москве преобладают одни жанры, а в Петербурге — другие. Так же и вечером пятницы преобладают разные жанры — в зависимости от города.\n",
    "3. Москва и Петербург предпочитают разные жанры музыки. В Москве чаще слушают поп-музыку, в Петербурге — русский рэп.\n",
    "\n",
    "**Ход исследования**\n",
    "\n",
    "Данные о поведении пользователей вы получите из файла `yandex_music_project.csv`. О качестве данных ничего не известно. Поэтому перед проверкой гипотез понадобится обзор данных.\n",
    "\n",
    "Вы проверите данные на ошибки и оцените их влияние на исследование. Затем, на этапе предобработки вы поищете возможность исправить самые критичные ошибки данных.\n",
    "\n",
    "Таким образом, исследование пройдёт в три этапа:\n",
    " 1. Обзор данных.\n",
    " 2. Предобработка данных.\n",
    " 3. Проверка гипотез.\n",
    "\n"
   ]
  },
  {
   "cell_type": "markdown",
   "metadata": {
    "deletable": false,
    "editable": false,
    "id": "Ml1hmfXC_Zcs"
   },
   "source": [
    "## Обзор данных\n",
    "\n",
    "Составьте первое представление о данных Яндекс Музыки.\n",
    "\n",
    "\n"
   ]
  },
  {
   "cell_type": "markdown",
   "metadata": {
    "deletable": false,
    "editable": false,
    "id": "57eAOGIz_Zcs",
    "tags": [
     "start_task"
    ]
   },
   "source": [
    "**Задание 1**\n",
    "\n",
    "Основной инструмент аналитика — `pandas`. Импортируйте эту библиотеку."
   ]
  },
  {
   "cell_type": "code",
   "execution_count": 389,
   "metadata": {
    "deletable": false,
    "id": "AXN7PHPN_Zcs"
   },
   "outputs": [],
   "source": [
    "# импорт библиотеки pandas\n",
    "import pandas as pd"
   ]
  },
  {
   "cell_type": "markdown",
   "metadata": {
    "deletable": false,
    "editable": false,
    "id": "SG23P8tt_Zcs",
    "tags": [
     "start_task"
    ]
   },
   "source": [
    "**Задание 2**\n",
    "\n",
    "Прочитайте файл `yandex_music_project.csv` из папки `/datasets` и сохраните его в переменной `df`:"
   ]
  },
  {
   "cell_type": "code",
   "execution_count": 390,
   "metadata": {
    "deletable": false,
    "id": "fFVu7vqh_Zct"
   },
   "outputs": [],
   "source": [
    "# чтение файла с данными и сохранение в df\n",
    "df = pd.read_csv('/datasets/yandex_music_project.csv')"
   ]
  },
  {
   "cell_type": "markdown",
   "metadata": {
    "deletable": false,
    "editable": false,
    "id": "rDoOMd3uTqnZ",
    "tags": [
     "start_task"
    ]
   },
   "source": [
    "**Задание 3**\n",
    "\n",
    "\n",
    "Выведите на экран первые десять строк таблицы:"
   ]
  },
  {
   "cell_type": "code",
   "execution_count": 391,
   "metadata": {
    "deletable": false,
    "id": "oWTVX3gW_Zct"
   },
   "outputs": [
    {
     "name": "stdout",
     "output_type": "stream",
     "text": [
      "     userID                        Track            artist   genre  \\\n",
      "0  FFB692EC            Kamigata To Boots  The Mass Missile    rock   \n",
      "1  55204538  Delayed Because of Accident  Andreas Rönnberg    rock   \n",
      "2    20EC38            Funiculì funiculà       Mario Lanza     pop   \n",
      "3  A3DD03C9        Dragons in the Sunset        Fire + Ice    folk   \n",
      "4  E2DC1FAE                  Soul People        Space Echo   dance   \n",
      "5  842029A1                    Преданная         IMPERVTOR  rusrap   \n",
      "6  4CB90AA5                         True      Roman Messer   dance   \n",
      "7  F03E1C1F             Feeling This Way   Polina Griffith   dance   \n",
      "8  8FA1D3BE     И вновь продолжается бой               NaN  ruspop   \n",
      "9  E772D5C0                    Pessimist               NaN   dance   \n",
      "\n",
      "             City        time        Day  \n",
      "0  Saint-Petersburg  20:28:33  Wednesday  \n",
      "1            Moscow  14:07:09     Friday  \n",
      "2  Saint-Petersburg  20:58:07  Wednesday  \n",
      "3  Saint-Petersburg  08:37:09     Monday  \n",
      "4            Moscow  08:34:34     Monday  \n",
      "5  Saint-Petersburg  13:09:41     Friday  \n",
      "6            Moscow  13:00:07  Wednesday  \n",
      "7            Moscow  20:47:49  Wednesday  \n",
      "8            Moscow  09:17:40     Friday  \n",
      "9  Saint-Petersburg  21:20:49  Wednesday  \n"
     ]
    }
   ],
   "source": [
    "# получение первых 10 строк таблицы df\n",
    "print(df.head(10))"
   ]
  },
  {
   "cell_type": "markdown",
   "metadata": {
    "deletable": false,
    "editable": false,
    "id": "EO73Kwic_Zct",
    "tags": [
     "start_task"
    ]
   },
   "source": [
    "**Задание 4**\n",
    "\n",
    "\n",
    "Одной командой получить общую информацию о таблице c помощью метода `info()`:"
   ]
  },
  {
   "cell_type": "code",
   "execution_count": 392,
   "metadata": {
    "deletable": false,
    "id": "DSf2kIb-_Zct"
   },
   "outputs": [
    {
     "name": "stdout",
     "output_type": "stream",
     "text": [
      "<class 'pandas.core.frame.DataFrame'>\n",
      "RangeIndex: 65079 entries, 0 to 65078\n",
      "Data columns (total 7 columns):\n",
      " #   Column    Non-Null Count  Dtype \n",
      "---  ------    --------------  ----- \n",
      " 0     userID  65079 non-null  object\n",
      " 1   Track     63848 non-null  object\n",
      " 2   artist    57876 non-null  object\n",
      " 3   genre     63881 non-null  object\n",
      " 4     City    65079 non-null  object\n",
      " 5   time      65079 non-null  object\n",
      " 6   Day       65079 non-null  object\n",
      "dtypes: object(7)\n",
      "memory usage: 3.5+ MB\n"
     ]
    }
   ],
   "source": [
    "# получение общей информации о данных в таблице df\n",
    "df.info()"
   ]
  },
  {
   "cell_type": "markdown",
   "metadata": {
    "deletable": false,
    "editable": false,
    "id": "TaQ2Iwbr_Zct"
   },
   "source": [
    "Итак, в таблице семь столбцов. Тип данных во всех столбцах — `object`.\n",
    "\n",
    "Согласно документации к данным:\n",
    "* `userID` — идентификатор пользователя;\n",
    "* `Track` — название трека;  \n",
    "* `artist` — имя исполнителя;\n",
    "* `genre` — название жанра;\n",
    "* `City` — город пользователя;\n",
    "* `time` — время начала прослушивания;\n",
    "* `Day` — день недели.\n",
    "\n",
    "Количество значений в столбцах различается. Значит, в данных есть пропущенные значения."
   ]
  },
  {
   "cell_type": "markdown",
   "metadata": {
    "deletable": false,
    "editable": false,
    "id": "4P0UCWzswgEm",
    "tags": [
     "start_task"
    ]
   },
   "source": [
    "**Задание 5**\n",
    "\n",
    "**Вопрос со свободной формой ответа**\n",
    "\n",
    "В названиях колонок видны три нарушения стиля:\n",
    "1. Строчные буквы сочетаются с прописными.\n",
    "2. Встречаются пробелы."
   ]
  },
  {
   "cell_type": "code",
   "execution_count": 393,
   "metadata": {
    "id": "c137-ZstwgEm"
   },
   "outputs": [],
   "source": [
    "# Напишите ваш ответ здесь комментарием. Не удаляйте символ #. Не меняйте тип этой ячейки на Markdown.\n",
    "#3. Не соблюден \"змеиный регистр\""
   ]
  },
  {
   "cell_type": "markdown",
   "metadata": {
    "deletable": false,
    "editable": false,
    "id": "MCB6-dXG_Zct"
   },
   "source": [
    "**Выводы**\n",
    "\n",
    "В каждой строке таблицы — данные о прослушанном треке. Часть колонок описывает саму композицию: название, исполнителя и жанр. Остальные данные рассказывают о пользователе: из какого он города, когда он слушал музыку.\n",
    "\n",
    "Предварительно можно утверждать, что данных достаточно для проверки гипотез. Но встречаются пропуски в данных, а в названиях колонок — расхождения с хорошим стилем.\n",
    "\n",
    "Чтобы двигаться дальше, нужно устранить проблемы в данных."
   ]
  },
  {
   "cell_type": "markdown",
   "metadata": {
    "deletable": false,
    "editable": false,
    "id": "SjYF6Ub9_Zct"
   },
   "source": [
    "## Предобработка данных\n",
    "Исправьте стиль в заголовках столбцов, исключите пропуски. Затем проверьте данные на дубликаты."
   ]
  },
  {
   "cell_type": "markdown",
   "metadata": {
    "deletable": false,
    "editable": false,
    "id": "dIaKXr29_Zct",
    "tags": [
     "start_task"
    ]
   },
   "source": [
    "### Стиль заголовков\n",
    "\n",
    "**Задание 6**\n",
    "\n",
    "Выведите на экран названия столбцов:"
   ]
  },
  {
   "cell_type": "code",
   "execution_count": 394,
   "metadata": {
    "deletable": false,
    "id": "oKOTdF_Q_Zct"
   },
   "outputs": [
    {
     "name": "stdout",
     "output_type": "stream",
     "text": [
      "Index(['  userID', 'Track', 'artist', 'genre', '  City  ', 'time', 'Day'], dtype='object')\n"
     ]
    }
   ],
   "source": [
    "# перечень названий столбцов таблицы df\n",
    "print(df.columns)"
   ]
  },
  {
   "cell_type": "markdown",
   "metadata": {
    "deletable": false,
    "editable": false,
    "id": "zj5534cv_Zct",
    "tags": [
     "start_task"
    ]
   },
   "source": [
    "**Задание 7**\n",
    "\n",
    "\n",
    "Приведите названия в соответствие с хорошим стилем:\n",
    "* несколько слов в названии запишите в «змеином_регистре»,\n",
    "* все символы сделайте строчными,\n",
    "* устраните пробелы.\n",
    "\n",
    "Для этого переименуйте колонки так:\n",
    "* `'  userID'` → `'user_id'`;\n",
    "* `'Track'` → `'track'`;\n",
    "* `'  City  '` → `'city'`;\n",
    "* `'Day'` → `'day'`."
   ]
  },
  {
   "cell_type": "code",
   "execution_count": 395,
   "metadata": {
    "deletable": false,
    "id": "ISlFqs5y_Zct"
   },
   "outputs": [],
   "source": [
    "# переименование столбцов\n",
    "df = df.rename(columns={'  userID' : 'user_id', 'Track' : 'track', '  City  ' : 'city', 'Day' : 'day'})"
   ]
  },
  {
   "cell_type": "markdown",
   "metadata": {
    "deletable": false,
    "editable": false,
    "id": "1dqbh00J_Zct",
    "tags": [
     "start_task"
    ]
   },
   "source": [
    "**Задание 8**\n",
    "\n",
    "\n",
    "Проверьте результат. Для этого ещё раз выведите на экран названия столбцов:"
   ]
  },
  {
   "cell_type": "code",
   "execution_count": 396,
   "metadata": {
    "deletable": false,
    "id": "d4NOAmTW_Zct"
   },
   "outputs": [
    {
     "name": "stdout",
     "output_type": "stream",
     "text": [
      "Index(['user_id', 'track', 'artist', 'genre', 'city', 'time', 'day'], dtype='object')\n"
     ]
    }
   ],
   "source": [
    "# проверка результатов - перечень названий столбцов\n",
    "print(df.columns)"
   ]
  },
  {
   "cell_type": "markdown",
   "metadata": {
    "deletable": false,
    "editable": false,
    "id": "5ISfbcfY_Zct",
    "tags": [
     "start_task"
    ]
   },
   "source": [
    "### Пропуски значений\n",
    "\n",
    "**Задание 9**\n",
    "\n",
    "Сначала посчитайте, сколько в таблице пропущенных значений. Для этого достаточно двух методов `pandas`:"
   ]
  },
  {
   "cell_type": "code",
   "execution_count": 397,
   "metadata": {
    "deletable": false,
    "id": "RskX29qr_Zct"
   },
   "outputs": [
    {
     "data": {
      "text/plain": [
       "user_id       0\n",
       "track      1231\n",
       "artist     7203\n",
       "genre      1198\n",
       "city          0\n",
       "time          0\n",
       "day           0\n",
       "dtype: int64"
      ]
     },
     "execution_count": 397,
     "metadata": {},
     "output_type": "execute_result"
    }
   ],
   "source": [
    "# подсчёт пропусков\n",
    "df.isna().sum()"
   ]
  },
  {
   "cell_type": "markdown",
   "metadata": {
    "deletable": false,
    "editable": false,
    "id": "qubhgnlO_Zct"
   },
   "source": [
    "Не все пропущенные значения влияют на исследование. Так, в `track` и `artist` пропуски не важны для вашей работы. Достаточно заменить их явными обозначениями.\n",
    "\n",
    "Но пропуски в `genre` могут помешать сравнить музыкальные вкусы в Москве и Санкт-Петербурге. На практике было бы правильно установить причину пропусков и восстановить данные. Такой возможности нет в учебном проекте. Поэтому придётся:\n",
    "* заполнить и эти пропуски явными обозначениями;\n",
    "* оценить, насколько они повредят расчётам."
   ]
  },
  {
   "cell_type": "markdown",
   "metadata": {
    "deletable": false,
    "editable": false,
    "id": "fSv2laPA_Zct",
    "tags": [
     "start_task"
    ]
   },
   "source": [
    "**Задание 10**\n",
    "\n",
    "Замените пропущенные значения в столбцах `track`, `artist` и `genre` на строку `'unknown'`. Для этого создайте список `columns_to_replace`, переберите его элементы циклом `for` и для каждого столбца выполните замену пропущенных значений:"
   ]
  },
  {
   "cell_type": "code",
   "execution_count": 398,
   "metadata": {
    "deletable": false,
    "id": "KplB5qWs_Zct"
   },
   "outputs": [],
   "source": [
    "# перебор названий столбцов в цикле и замена пропущенных значений на 'unknown'\n",
    "columns_to_replace = ['track', 'artist', 'genre']\n",
    "for col in columns_to_replace:\n",
    "    df[col] = df[col].fillna('unknown')"
   ]
  },
  {
   "cell_type": "markdown",
   "metadata": {
    "deletable": false,
    "editable": false,
    "id": "Ilsm-MZo_Zct",
    "tags": [
     "start_task"
    ]
   },
   "source": [
    "**Задание 11**\n",
    "\n",
    "Убедитесь, что в таблице не осталось пропусков. Для этого ещё раз посчитайте пропущенные значения."
   ]
  },
  {
   "cell_type": "code",
   "execution_count": 399,
   "metadata": {
    "deletable": false,
    "id": "Tq4nYRX4_Zct"
   },
   "outputs": [
    {
     "data": {
      "text/plain": [
       "user_id    0\n",
       "track      0\n",
       "artist     0\n",
       "genre      0\n",
       "city       0\n",
       "time       0\n",
       "day        0\n",
       "dtype: int64"
      ]
     },
     "execution_count": 399,
     "metadata": {},
     "output_type": "execute_result"
    }
   ],
   "source": [
    "# подсчёт пропусков\n",
    "df.isna().sum()"
   ]
  },
  {
   "cell_type": "markdown",
   "metadata": {
    "deletable": false,
    "editable": false,
    "id": "BWKRtBJ3_Zct",
    "tags": [
     "start_task"
    ]
   },
   "source": [
    "### Дубликаты\n",
    "\n",
    "**Задание 12**\n",
    "\n",
    "Посчитайте явные дубликаты в таблице одной командой:"
   ]
  },
  {
   "cell_type": "code",
   "execution_count": 400,
   "metadata": {
    "deletable": false,
    "id": "36eES_S0_Zct"
   },
   "outputs": [
    {
     "data": {
      "text/plain": [
       "3826"
      ]
     },
     "execution_count": 400,
     "metadata": {},
     "output_type": "execute_result"
    }
   ],
   "source": [
    "# подсчёт явных дубликатов\n",
    "df.duplicated().sum()"
   ]
  },
  {
   "cell_type": "markdown",
   "metadata": {
    "deletable": false,
    "editable": false,
    "id": "Ot25h6XR_Zct",
    "tags": [
     "start_task"
    ]
   },
   "source": [
    "**Задание 13**\n",
    "\n",
    "Вызовите специальный метод `pandas`, чтобы удалить явные дубликаты:"
   ]
  },
  {
   "cell_type": "code",
   "execution_count": 401,
   "metadata": {
    "deletable": false,
    "id": "exFHq6tt_Zct"
   },
   "outputs": [],
   "source": [
    "# удаление явных дубликатов\n",
    "df = df.drop_duplicates()"
   ]
  },
  {
   "cell_type": "markdown",
   "metadata": {
    "deletable": false,
    "editable": false,
    "id": "Im2YwBEG_Zct",
    "tags": [
     "start_task"
    ]
   },
   "source": [
    "**Задание 14**\n",
    "\n",
    "Ещё раз посчитайте явные дубликаты в таблице — убедитесь, что полностью от них избавились:"
   ]
  },
  {
   "cell_type": "code",
   "execution_count": 402,
   "metadata": {
    "deletable": false,
    "id": "-8PuNWQ0_Zct"
   },
   "outputs": [
    {
     "data": {
      "text/plain": [
       "0"
      ]
     },
     "execution_count": 402,
     "metadata": {},
     "output_type": "execute_result"
    }
   ],
   "source": [
    "# проверка на отсутствие дубликатов\n",
    "df.duplicated().sum()"
   ]
  },
  {
   "cell_type": "markdown",
   "metadata": {
    "deletable": false,
    "editable": false,
    "id": "QlFBsxAr_Zct"
   },
   "source": [
    "Теперь избавьтесь от неявных дубликатов в колонке `genre`. Например, название одного и того же жанра может быть записано немного по-разному. Такие ошибки тоже повлияют на результат исследования."
   ]
  },
  {
   "cell_type": "markdown",
   "metadata": {
    "deletable": false,
    "editable": false,
    "id": "eSjWwsOh_Zct",
    "tags": [
     "start_task"
    ]
   },
   "source": [
    "**Задание 15**\n",
    "\n",
    "Выведите на экран список уникальных названий жанров, отсортированный в алфавитном порядке. Для этого:\n",
    "* извлеките нужный столбец датафрейма;\n",
    "* примените к нему метод сортировки;\n",
    "* для отсортированного столбца вызовите метод, который вернёт уникальные значения из столбца."
   ]
  },
  {
   "cell_type": "code",
   "execution_count": 403,
   "metadata": {
    "deletable": false,
    "id": "JIUcqzZN_Zct"
   },
   "outputs": [
    {
     "data": {
      "text/plain": [
       "array(['acid', 'acoustic', 'action', 'adult', 'africa', 'afrikaans',\n",
       "       'alternative', 'alternativepunk', 'ambient', 'americana',\n",
       "       'animated', 'anime', 'arabesk', 'arabic', 'arena',\n",
       "       'argentinetango', 'art', 'audiobook', 'author', 'avantgarde',\n",
       "       'axé', 'baile', 'balkan', 'beats', 'bigroom', 'black', 'bluegrass',\n",
       "       'blues', 'bollywood', 'bossa', 'brazilian', 'breakbeat', 'breaks',\n",
       "       'broadway', 'cantautori', 'cantopop', 'canzone', 'caribbean',\n",
       "       'caucasian', 'celtic', 'chamber', 'chanson', 'children', 'chill',\n",
       "       'chinese', 'choral', 'christian', 'christmas', 'classical',\n",
       "       'classicmetal', 'club', 'colombian', 'comedy', 'conjazz',\n",
       "       'contemporary', 'country', 'cuban', 'dance', 'dancehall',\n",
       "       'dancepop', 'dark', 'death', 'deep', 'deutschrock', 'deutschspr',\n",
       "       'dirty', 'disco', 'dnb', 'documentary', 'downbeat', 'downtempo',\n",
       "       'drum', 'dub', 'dubstep', 'eastern', 'easy', 'electronic',\n",
       "       'electropop', 'emo', 'entehno', 'epicmetal', 'estrada', 'ethnic',\n",
       "       'eurofolk', 'european', 'experimental', 'extrememetal', 'fado',\n",
       "       'fairytail', 'film', 'fitness', 'flamenco', 'folk', 'folklore',\n",
       "       'folkmetal', 'folkrock', 'folktronica', 'forró', 'frankreich',\n",
       "       'französisch', 'french', 'funk', 'future', 'gangsta', 'garage',\n",
       "       'german', 'ghazal', 'gitarre', 'glitch', 'gospel', 'gothic',\n",
       "       'grime', 'grunge', 'gypsy', 'handsup', \"hard'n'heavy\", 'hardcore',\n",
       "       'hardstyle', 'hardtechno', 'hip', 'hip-hop', 'hiphop',\n",
       "       'historisch', 'holiday', 'hop', 'horror', 'house', 'hymn', 'idm',\n",
       "       'independent', 'indian', 'indie', 'indipop', 'industrial',\n",
       "       'inspirational', 'instrumental', 'international', 'irish', 'jam',\n",
       "       'japanese', 'jazz', 'jewish', 'jpop', 'jungle', 'k-pop',\n",
       "       'karadeniz', 'karaoke', 'kayokyoku', 'korean', 'laiko', 'latin',\n",
       "       'latino', 'leftfield', 'local', 'lounge', 'loungeelectronic',\n",
       "       'lovers', 'malaysian', 'mandopop', 'marschmusik', 'meditative',\n",
       "       'mediterranean', 'melodic', 'metal', 'metalcore', 'mexican',\n",
       "       'middle', 'minimal', 'miscellaneous', 'modern', 'mood', 'mpb',\n",
       "       'muslim', 'native', 'neoklassik', 'neue', 'new', 'newage',\n",
       "       'newwave', 'nu', 'nujazz', 'numetal', 'oceania', 'old', 'opera',\n",
       "       'orchestral', 'other', 'piano', 'podcasts', 'pop', 'popdance',\n",
       "       'popelectronic', 'popeurodance', 'poprussian', 'post',\n",
       "       'posthardcore', 'postrock', 'power', 'progmetal', 'progressive',\n",
       "       'psychedelic', 'punjabi', 'punk', 'quebecois', 'ragga', 'ram',\n",
       "       'rancheras', 'rap', 'rave', 'reggae', 'reggaeton', 'regional',\n",
       "       'relax', 'religious', 'retro', 'rhythm', 'rnb', 'rnr', 'rock',\n",
       "       'rockabilly', 'rockalternative', 'rockindie', 'rockother',\n",
       "       'romance', 'roots', 'ruspop', 'rusrap', 'rusrock', 'russian',\n",
       "       'salsa', 'samba', 'scenic', 'schlager', 'self', 'sertanejo',\n",
       "       'shanson', 'shoegazing', 'showtunes', 'singer', 'ska', 'skarock',\n",
       "       'slow', 'smooth', 'soft', 'soul', 'soulful', 'sound', 'soundtrack',\n",
       "       'southern', 'specialty', 'speech', 'spiritual', 'sport',\n",
       "       'stonerrock', 'surf', 'swing', 'synthpop', 'synthrock',\n",
       "       'sängerportrait', 'tango', 'tanzorchester', 'taraftar', 'tatar',\n",
       "       'tech', 'techno', 'teen', 'thrash', 'top', 'traditional',\n",
       "       'tradjazz', 'trance', 'tribal', 'trip', 'triphop', 'tropical',\n",
       "       'türk', 'türkçe', 'ukrrock', 'unknown', 'urban', 'uzbek',\n",
       "       'variété', 'vi', 'videogame', 'vocal', 'western', 'world',\n",
       "       'worldbeat', 'ïîï', 'электроника'], dtype=object)"
      ]
     },
     "execution_count": 403,
     "metadata": {},
     "output_type": "execute_result"
    }
   ],
   "source": [
    "# Просмотр уникальных названий жанров\n",
    "df['genre'].sort_values().unique()"
   ]
  },
  {
   "cell_type": "markdown",
   "metadata": {
    "deletable": false,
    "editable": false,
    "id": "qej-Qmuo_Zct",
    "tags": [
     "start_task"
    ]
   },
   "source": [
    "**Задание 16**\n",
    "\n",
    "Просмотрите список и найдите неявные дубликаты названия `hiphop`. Это могут быть названия с ошибками или альтернативные названия того же жанра.\n",
    "\n",
    "Вы увидите следующие неявные дубликаты:\n",
    "* *hip*,\n",
    "* *hop*,\n",
    "* *hip-hop*.\n",
    "\n",
    "Чтобы очистить от них таблицу, используйте метод `replace()` с двумя аргументами: списком строк-дубликатов (включающий *hip*, *hop* и *hip-hop*) и строкой с правильным значением. Вам нужно исправить колонку `genre` в таблице `df`: заменить каждое значение из списка дубликатов на верное. Вместо `hip`, `hop` и `hip-hop` в таблице должно быть значение `hiphop`:"
   ]
  },
  {
   "cell_type": "code",
   "execution_count": 404,
   "metadata": {
    "deletable": false,
    "id": "ErNDkmns_Zct"
   },
   "outputs": [],
   "source": [
    "# Устранение неявных дубликатов\n",
    "duplicates = ['hip', 'hop', 'hip-hop']\n",
    "name = 'hiphop'\n",
    "df['genre'] = df['genre'].replace(duplicates, name)"
   ]
  },
  {
   "cell_type": "markdown",
   "metadata": {
    "deletable": false,
    "editable": false,
    "id": "zQKF16_RG15m",
    "tags": [
     "start_task"
    ]
   },
   "source": [
    "**Задание 17**\n",
    "\n",
    "Проверьте, что заменили неправильные названия:\n",
    "\n",
    "*   *hip*,\n",
    "*   *hop*,\n",
    "*   *hip-hop*.\n",
    "\n",
    "Выведите отсортированный список уникальных значений столбца `genre`:"
   ]
  },
  {
   "cell_type": "code",
   "execution_count": 405,
   "metadata": {
    "deletable": false,
    "id": "wvixALnFG15m"
   },
   "outputs": [
    {
     "data": {
      "text/plain": [
       "array(['acid', 'acoustic', 'action', 'adult', 'africa', 'afrikaans',\n",
       "       'alternative', 'alternativepunk', 'ambient', 'americana',\n",
       "       'animated', 'anime', 'arabesk', 'arabic', 'arena',\n",
       "       'argentinetango', 'art', 'audiobook', 'author', 'avantgarde',\n",
       "       'axé', 'baile', 'balkan', 'beats', 'bigroom', 'black', 'bluegrass',\n",
       "       'blues', 'bollywood', 'bossa', 'brazilian', 'breakbeat', 'breaks',\n",
       "       'broadway', 'cantautori', 'cantopop', 'canzone', 'caribbean',\n",
       "       'caucasian', 'celtic', 'chamber', 'chanson', 'children', 'chill',\n",
       "       'chinese', 'choral', 'christian', 'christmas', 'classical',\n",
       "       'classicmetal', 'club', 'colombian', 'comedy', 'conjazz',\n",
       "       'contemporary', 'country', 'cuban', 'dance', 'dancehall',\n",
       "       'dancepop', 'dark', 'death', 'deep', 'deutschrock', 'deutschspr',\n",
       "       'dirty', 'disco', 'dnb', 'documentary', 'downbeat', 'downtempo',\n",
       "       'drum', 'dub', 'dubstep', 'eastern', 'easy', 'electronic',\n",
       "       'electropop', 'emo', 'entehno', 'epicmetal', 'estrada', 'ethnic',\n",
       "       'eurofolk', 'european', 'experimental', 'extrememetal', 'fado',\n",
       "       'fairytail', 'film', 'fitness', 'flamenco', 'folk', 'folklore',\n",
       "       'folkmetal', 'folkrock', 'folktronica', 'forró', 'frankreich',\n",
       "       'französisch', 'french', 'funk', 'future', 'gangsta', 'garage',\n",
       "       'german', 'ghazal', 'gitarre', 'glitch', 'gospel', 'gothic',\n",
       "       'grime', 'grunge', 'gypsy', 'handsup', \"hard'n'heavy\", 'hardcore',\n",
       "       'hardstyle', 'hardtechno', 'hiphop', 'historisch', 'holiday',\n",
       "       'horror', 'house', 'hymn', 'idm', 'independent', 'indian', 'indie',\n",
       "       'indipop', 'industrial', 'inspirational', 'instrumental',\n",
       "       'international', 'irish', 'jam', 'japanese', 'jazz', 'jewish',\n",
       "       'jpop', 'jungle', 'k-pop', 'karadeniz', 'karaoke', 'kayokyoku',\n",
       "       'korean', 'laiko', 'latin', 'latino', 'leftfield', 'local',\n",
       "       'lounge', 'loungeelectronic', 'lovers', 'malaysian', 'mandopop',\n",
       "       'marschmusik', 'meditative', 'mediterranean', 'melodic', 'metal',\n",
       "       'metalcore', 'mexican', 'middle', 'minimal', 'miscellaneous',\n",
       "       'modern', 'mood', 'mpb', 'muslim', 'native', 'neoklassik', 'neue',\n",
       "       'new', 'newage', 'newwave', 'nu', 'nujazz', 'numetal', 'oceania',\n",
       "       'old', 'opera', 'orchestral', 'other', 'piano', 'podcasts', 'pop',\n",
       "       'popdance', 'popelectronic', 'popeurodance', 'poprussian', 'post',\n",
       "       'posthardcore', 'postrock', 'power', 'progmetal', 'progressive',\n",
       "       'psychedelic', 'punjabi', 'punk', 'quebecois', 'ragga', 'ram',\n",
       "       'rancheras', 'rap', 'rave', 'reggae', 'reggaeton', 'regional',\n",
       "       'relax', 'religious', 'retro', 'rhythm', 'rnb', 'rnr', 'rock',\n",
       "       'rockabilly', 'rockalternative', 'rockindie', 'rockother',\n",
       "       'romance', 'roots', 'ruspop', 'rusrap', 'rusrock', 'russian',\n",
       "       'salsa', 'samba', 'scenic', 'schlager', 'self', 'sertanejo',\n",
       "       'shanson', 'shoegazing', 'showtunes', 'singer', 'ska', 'skarock',\n",
       "       'slow', 'smooth', 'soft', 'soul', 'soulful', 'sound', 'soundtrack',\n",
       "       'southern', 'specialty', 'speech', 'spiritual', 'sport',\n",
       "       'stonerrock', 'surf', 'swing', 'synthpop', 'synthrock',\n",
       "       'sängerportrait', 'tango', 'tanzorchester', 'taraftar', 'tatar',\n",
       "       'tech', 'techno', 'teen', 'thrash', 'top', 'traditional',\n",
       "       'tradjazz', 'trance', 'tribal', 'trip', 'triphop', 'tropical',\n",
       "       'türk', 'türkçe', 'ukrrock', 'unknown', 'urban', 'uzbek',\n",
       "       'variété', 'vi', 'videogame', 'vocal', 'western', 'world',\n",
       "       'worldbeat', 'ïîï', 'электроника'], dtype=object)"
      ]
     },
     "execution_count": 405,
     "metadata": {},
     "output_type": "execute_result"
    }
   ],
   "source": [
    "# Проверка на неявные дубликаты\n",
    "df['genre'].sort_values().unique()"
   ]
  },
  {
   "cell_type": "markdown",
   "metadata": {
    "deletable": false,
    "editable": false,
    "id": "jz6a9-7HQUDd"
   },
   "source": [
    "**Выводы**\n",
    "\n",
    "Предобработка обнаружила три проблемы в данных:\n",
    "\n",
    "- нарушения в стиле заголовков,\n",
    "- пропущенные значения,\n",
    "- дубликаты — явные и неявные.\n",
    "\n",
    "Вы исправили заголовки, чтобы упростить работу с таблицей. Без дубликатов исследование станет более точным.\n",
    "\n",
    "Пропущенные значения вы заменили на `'unknown'`. Ещё предстоит увидеть, не повредят ли исследованию пропуски в колонке `genre`.\n",
    "\n",
    "Теперь можно перейти к проверке гипотез."
   ]
  },
  {
   "cell_type": "markdown",
   "metadata": {
    "deletable": false,
    "editable": false,
    "id": "WttZHXH0SqKk"
   },
   "source": [
    "## Проверка гипотез"
   ]
  },
  {
   "cell_type": "markdown",
   "metadata": {
    "deletable": false,
    "editable": false,
    "id": "Im936VVi_Zcu"
   },
   "source": [
    "### Сравнение поведения пользователей двух столиц"
   ]
  },
  {
   "cell_type": "markdown",
   "metadata": {
    "deletable": false,
    "editable": false,
    "id": "nwt_MuaL_Zcu"
   },
   "source": [
    "Первая гипотеза утверждает, что пользователи по-разному слушают музыку в Москве и Санкт-Петербурге. Проверьте это предположение по данным о трёх днях недели — понедельнике, среде и пятнице. Для этого:\n",
    "\n",
    "* Разделите пользователей Москвы и Санкт-Петербурга.\n",
    "* Сравните, сколько треков послушала каждая группа пользователей в понедельник, среду и пятницу.\n"
   ]
  },
  {
   "cell_type": "markdown",
   "metadata": {
    "deletable": false,
    "editable": false,
    "id": "8Dw_YMmT_Zcu",
    "tags": [
     "start_task"
    ]
   },
   "source": [
    "**Задание 18**\n",
    "\n",
    "Для тренировки сначала выполните каждый из расчётов по отдельности.\n",
    "\n",
    "Оцените активность пользователей в каждом городе. Сгруппируйте данные по городу и посчитайте прослушивания в каждой группе.\n",
    "\n"
   ]
  },
  {
   "cell_type": "code",
   "execution_count": 406,
   "metadata": {
    "deletable": false,
    "id": "0_Qs96oh_Zcu"
   },
   "outputs": [
    {
     "data": {
      "text/plain": [
       "city\n",
       "Moscow              42741\n",
       "Saint-Petersburg    18512\n",
       "Name: time, dtype: int64"
      ]
     },
     "execution_count": 406,
     "metadata": {},
     "output_type": "execute_result"
    }
   ],
   "source": [
    "# Подсчёт прослушиваний в каждом городе\n",
    "df.groupby('city')['time'].count()"
   ]
  },
  {
   "cell_type": "markdown",
   "metadata": {
    "deletable": false,
    "editable": false,
    "id": "dzli3w8o_Zcu",
    "tags": [
     "start_task"
    ]
   },
   "source": [
    "В Москве прослушиваний больше, чем в Петербурге. Из этого не следует, что московские пользователи чаще слушают музыку. Просто самих пользователей в Москве больше.\n",
    "\n",
    "**Задание 19**\n",
    "\n",
    "Теперь сгруппируйте данные по дню недели и посчитайте прослушивания в понедельник, среду и пятницу. Учтите, что в данных есть информация о прослушиваниях только за эти дни.\n"
   ]
  },
  {
   "cell_type": "code",
   "execution_count": 407,
   "metadata": {
    "deletable": false,
    "id": "uZMKjiJz_Zcu"
   },
   "outputs": [
    {
     "data": {
      "text/plain": [
       "day\n",
       "Friday       21840\n",
       "Monday       21354\n",
       "Wednesday    18059\n",
       "Name: time, dtype: int64"
      ]
     },
     "execution_count": 407,
     "metadata": {},
     "output_type": "execute_result"
    }
   ],
   "source": [
    "# Подсчёт прослушиваний в каждый из трёх дней\n",
    "df.groupby('day')['time'].count()"
   ]
  },
  {
   "cell_type": "markdown",
   "metadata": {
    "deletable": false,
    "editable": false,
    "id": "cC2tNrlL_Zcu"
   },
   "source": [
    "В среднем пользователи из двух городов менее активны по средам. Но картина может измениться, если рассмотреть каждый город в отдельности."
   ]
  },
  {
   "cell_type": "markdown",
   "metadata": {
    "deletable": false,
    "editable": false,
    "id": "POzs8bGa_Zcu",
    "tags": [
     "start_task"
    ]
   },
   "source": [
    "**Задание 20**\n",
    "\n",
    "\n",
    "Вы видели, как работает группировка по городу и по дням недели. Теперь напишите функцию, которая объединит два эти расчёта.\n",
    "\n",
    "Создайте функцию `number_tracks()`, которая посчитает прослушивания для заданного дня и города. Ей понадобятся два параметра:\n",
    "* день недели,\n",
    "* название города.\n",
    "\n",
    "В функции сохраните в переменную строки исходной таблицы, у которых значение:\n",
    "  * в колонке `day` равно параметру `day`,\n",
    "  * в колонке `city` равно параметру `city`.\n",
    "\n",
    "Для этого примените последовательную фильтрацию с логической индексацией (или сложные логические выражения в одну строку, если вы уже знакомы с ними).\n",
    "\n",
    "Затем посчитайте значения в столбце `user_id` получившейся таблицы. Результат сохраните в новую переменную. Верните эту переменную из функции."
   ]
  },
  {
   "cell_type": "code",
   "execution_count": 408,
   "metadata": {
    "deletable": false,
    "id": "Nz3GdQB1_Zcu"
   },
   "outputs": [],
   "source": [
    "# <создание функции number_tracks()>\n",
    "def number_tracks(day, city):\n",
    "# Объявляется функция с двумя параметрами: day, city.\n",
    "    track_list = df[(df['day'] == day) & (df['city'] == city)]\n",
    "    track_list_count = track_list['user_id'].count()\n",
    "    return track_list_count\n",
    "\n",
    "# В переменной track_list сохраняются те строки таблицы df, для которых\n",
    "# значение в столбце 'day' равно параметру day и одновременно значение\n",
    "# в столбце 'city' равно параметру city (используйте последовательную фильтрацию\n",
    "# с помощью логической индексации или сложные логические выражения в одну строку, если вы уже знакомы с ними).\n",
    "# В переменной track_list_count сохраняется число значений столбца 'user_id',\n",
    "# рассчитанное методом count() для таблицы track_list.\n",
    "# Функция возвращает число - значение track_list_count.\n",
    "\n",
    "# Функция для подсчёта прослушиваний для конкретного города и дня.\n",
    "# С помощью последовательной фильтрации с логической индексацией она\n",
    "# сначала получит из исходной таблицы строки с нужным днём,\n",
    "# затем из результата отфильтрует строки с нужным городом,\n",
    "# методом count() посчитает количество значений в колонке user_id.\n",
    "# Это количество функция вернёт в качестве результата"
   ]
  },
  {
   "cell_type": "markdown",
   "metadata": {
    "deletable": false,
    "editable": false,
    "id": "ytf7xFrFJQ2r",
    "tags": [
     "start_task"
    ]
   },
   "source": [
    "**Задание 21**\n",
    "\n",
    "Вызовите `number_tracks()` шесть раз, меняя значение параметров — так, чтобы получить данные для каждого города в каждый из трёх дней."
   ]
  },
  {
   "cell_type": "code",
   "execution_count": 409,
   "metadata": {
    "deletable": false,
    "id": "rJcRATNQ_Zcu"
   },
   "outputs": [
    {
     "data": {
      "text/plain": [
       "15740"
      ]
     },
     "execution_count": 409,
     "metadata": {},
     "output_type": "execute_result"
    }
   ],
   "source": [
    "# количество прослушиваний в Москве по понедельникам\n",
    "number_tracks('Monday', 'Moscow')"
   ]
  },
  {
   "cell_type": "code",
   "execution_count": 410,
   "metadata": {
    "deletable": false,
    "id": "hq_ncZ5T_Zcu"
   },
   "outputs": [
    {
     "data": {
      "text/plain": [
       "5614"
      ]
     },
     "execution_count": 410,
     "metadata": {},
     "output_type": "execute_result"
    }
   ],
   "source": [
    "# количество прослушиваний в Санкт-Петербурге по понедельникам\n",
    "number_tracks('Monday', 'Saint-Petersburg')"
   ]
  },
  {
   "cell_type": "code",
   "execution_count": 411,
   "metadata": {
    "deletable": false,
    "id": "_NTy2VPU_Zcu"
   },
   "outputs": [
    {
     "data": {
      "text/plain": [
       "11056"
      ]
     },
     "execution_count": 411,
     "metadata": {},
     "output_type": "execute_result"
    }
   ],
   "source": [
    "# количество прослушиваний в Москве по средам\n",
    "number_tracks('Wednesday', 'Moscow')"
   ]
  },
  {
   "cell_type": "code",
   "execution_count": 412,
   "metadata": {
    "deletable": false,
    "id": "j2y3TAwo_Zcu"
   },
   "outputs": [
    {
     "data": {
      "text/plain": [
       "7003"
      ]
     },
     "execution_count": 412,
     "metadata": {},
     "output_type": "execute_result"
    }
   ],
   "source": [
    "# количество прослушиваний в Санкт-Петербурге по средам\n",
    "number_tracks('Wednesday', 'Saint-Petersburg')"
   ]
  },
  {
   "cell_type": "code",
   "execution_count": 413,
   "metadata": {
    "deletable": false,
    "id": "vYDw5u_K_Zcu"
   },
   "outputs": [
    {
     "data": {
      "text/plain": [
       "15945"
      ]
     },
     "execution_count": 413,
     "metadata": {},
     "output_type": "execute_result"
    }
   ],
   "source": [
    "# количество прослушиваний в Москве по пятницам\n",
    "number_tracks('Friday', 'Moscow')"
   ]
  },
  {
   "cell_type": "code",
   "execution_count": 414,
   "metadata": {
    "deletable": false,
    "id": "8_yzFtW3_Zcu"
   },
   "outputs": [
    {
     "data": {
      "text/plain": [
       "5895"
      ]
     },
     "execution_count": 414,
     "metadata": {},
     "output_type": "execute_result"
    }
   ],
   "source": [
    "# количество прослушиваний в Санкт-Петербурге по пятницам\n",
    "number_tracks('Friday', 'Saint-Petersburg')"
   ]
  },
  {
   "cell_type": "markdown",
   "metadata": {
    "deletable": false,
    "editable": false,
    "id": "7QXffbO-_Zcu",
    "tags": [
     "start_task"
    ]
   },
   "source": [
    "**Задание 22**\n",
    "\n",
    "С помощью конструктора `pd.DataFrame` создайте таблицу, где\n",
    "* названия колонок — `['city', 'monday', 'wednesday', 'friday']`;\n",
    "* данные — результаты, которые вы получили с помощью `number_tracks`."
   ]
  },
  {
   "cell_type": "code",
   "execution_count": 415,
   "metadata": {
    "deletable": false,
    "id": "APAcLpOr_Zcu"
   },
   "outputs": [
    {
     "data": {
      "text/html": [
       "<div>\n",
       "<style scoped>\n",
       "    .dataframe tbody tr th:only-of-type {\n",
       "        vertical-align: middle;\n",
       "    }\n",
       "\n",
       "    .dataframe tbody tr th {\n",
       "        vertical-align: top;\n",
       "    }\n",
       "\n",
       "    .dataframe thead th {\n",
       "        text-align: right;\n",
       "    }\n",
       "</style>\n",
       "<table border=\"1\" class=\"dataframe\">\n",
       "  <thead>\n",
       "    <tr style=\"text-align: right;\">\n",
       "      <th></th>\n",
       "      <th>city</th>\n",
       "      <th>monday</th>\n",
       "      <th>wednesday</th>\n",
       "      <th>friday</th>\n",
       "    </tr>\n",
       "  </thead>\n",
       "  <tbody>\n",
       "    <tr>\n",
       "      <th>0</th>\n",
       "      <td>Moscow</td>\n",
       "      <td>15740</td>\n",
       "      <td>11056</td>\n",
       "      <td>15945</td>\n",
       "    </tr>\n",
       "    <tr>\n",
       "      <th>1</th>\n",
       "      <td>Saint-Petersburg</td>\n",
       "      <td>5614</td>\n",
       "      <td>7003</td>\n",
       "      <td>5895</td>\n",
       "    </tr>\n",
       "  </tbody>\n",
       "</table>\n",
       "</div>"
      ],
      "text/plain": [
       "               city  monday  wednesday  friday\n",
       "0            Moscow   15740      11056   15945\n",
       "1  Saint-Petersburg    5614       7003    5895"
      ]
     },
     "execution_count": 415,
     "metadata": {},
     "output_type": "execute_result"
    }
   ],
   "source": [
    "# Таблица с результатами\n",
    "columns = ['city', 'monday', 'wednesday', 'friday']\n",
    "data = [['Moscow', 15740, 11056, 15945],\n",
    "        ['Saint-Petersburg', 5614, 7003, 5895]]\n",
    "pd.DataFrame(data=data, columns=columns)"
   ]
  },
  {
   "cell_type": "markdown",
   "metadata": {
    "deletable": false,
    "editable": false,
    "id": "-EgPIHYu_Zcu"
   },
   "source": [
    "**Выводы**\n",
    "\n",
    "Данные показывают разницу поведения пользователей:\n",
    "\n",
    "- В Москве пик прослушиваний приходится на понедельник и пятницу, а в среду заметен спад.\n",
    "- В Петербурге, наоборот, больше слушают музыку по средам. Активность в понедельник и пятницу здесь почти в равной мере уступает среде.\n",
    "\n",
    "Значит, данные говорят в пользу первой гипотезы."
   ]
  },
  {
   "cell_type": "markdown",
   "metadata": {
    "deletable": false,
    "editable": false,
    "id": "atZAxtq4_Zcu"
   },
   "source": [
    "### Музыка в начале и в конце недели"
   ]
  },
  {
   "cell_type": "markdown",
   "metadata": {
    "deletable": false,
    "editable": false,
    "id": "eXrQqXFH_Zcu"
   },
   "source": [
    "Согласно второй гипотезе, утром в понедельник в Москве преобладают одни жанры, а в Петербурге — другие. Так же и вечером пятницы преобладают разные жанры — в зависимости от города."
   ]
  },
  {
   "cell_type": "markdown",
   "metadata": {
    "deletable": false,
    "editable": false,
    "id": "S8UcW6Hw_Zcu",
    "tags": [
     "start_task"
    ]
   },
   "source": [
    "**Задание 23**\n",
    "\n",
    "Сохраните таблицы с данными в две переменные:\n",
    "* по Москве — в `moscow_general`;\n",
    "* по Санкт-Петербургу — в `spb_general`."
   ]
  },
  {
   "cell_type": "code",
   "execution_count": 416,
   "metadata": {
    "deletable": false,
    "id": "qeaFfM_P_Zcu"
   },
   "outputs": [],
   "source": [
    "# получение таблицы moscow_general из тех строк таблицы df,\n",
    "# для которых значение в столбце 'city' равно 'Moscow'\n",
    "moscow_general = df[df['city'] == 'Moscow']"
   ]
  },
  {
   "cell_type": "code",
   "execution_count": 417,
   "metadata": {
    "deletable": false,
    "id": "ORaVRKto_Zcu"
   },
   "outputs": [],
   "source": [
    "# получение таблицы spb_general из тех строк таблицы df,\n",
    "# для которых значение в столбце 'city' равно 'Saint-Petersburg'\n",
    "spb_general = df[df['city'] == 'Saint-Petersburg']"
   ]
  },
  {
   "cell_type": "markdown",
   "metadata": {
    "deletable": false,
    "id": "MEJV-CX2_Zcu",
    "tags": [
     "start_task"
    ]
   },
   "source": [
    "**Задание 24**\n",
    "\n",
    "Создайте функцию `genre_weekday()` с четырьмя параметрами:\n",
    "* таблица (датафрейм) с данными,\n",
    "* день недели,\n",
    "* начальная временная метка в формате 'hh:mm',\n",
    "* последняя временная метка в формате 'hh:mm'.\n",
    "\n",
    "Функция должна вернуть информацию о топ-10 жанров тех треков, которые прослушивали в указанный день, в промежутке между двумя отметками времени."
   ]
  },
  {
   "cell_type": "code",
   "execution_count": 418,
   "metadata": {
    "deletable": false,
    "id": "laJT9BYl_Zcu"
   },
   "outputs": [],
   "source": [
    "# Объявление функции genre_weekday() с параметрами df, day, time1, time2,\n",
    "# которая возвращает информацию о самых популярных жанрах в указанный день в\n",
    "# заданное время:\n",
    "# 1) в переменную genre_df сохраняются те строки переданного датафрейма df, для\n",
    "#    которых одновременно:\n",
    "#    - значение в столбце day равно значению аргумента day\n",
    "#    - значение в столбце time больше значения аргумента time1\n",
    "#    - значение в столбце time меньше значения аргумента time2\n",
    "#    Используйте последовательную фильтрацию с помощью логической индексации.\n",
    "# 2) сгруппировать датафрейм genre_df по столбцу genre, взять один из его\n",
    "#    столбцов и посчитать методом count() количество записей для каждого из\n",
    "#    присутствующих жанров, получившийся Series записать в переменную\n",
    "#    genre_df_grouped\n",
    "# 3) отсортировать genre_df_grouped по убыванию встречаемости и сохранить\n",
    "#    в переменную genre_df_sorted\n",
    "# 4) вернуть Series из 10 первых значений genre_df_sorted, это будут топ-10\n",
    "#    популярных жанров (в указанный день, в заданное время)\n",
    "\n",
    "def genre_weekday(df, day, time1, time2):\n",
    "    # последовательная фильтрация\n",
    "    # оставляем в genre_df только те строки df, у которых день равен day\n",
    "    genre_df = df[df['day'] == day] # ваш код здесь\n",
    "    # оставляем в genre_df только те строки genre_df, у которых время меньше time2\n",
    "    genre_df = genre_df[genre_df['time'] < time2] # ваш код здесь\n",
    "    # оставляем в genre_df только те строки genre_df, у которых время больше time1\n",
    "    genre_df = genre_df[genre_df['time'] > time1] # ваш код здесь\n",
    "    # сгруппируем отфильтрованный датафрейм по столбцу с названиями жанров, возьмём столбец genre и посчитаем кол-во строк для каждого жанра методом count()\n",
    "    genre_df_grouped = genre_df.groupby('genre')['genre'].count() # ваш код здесь\n",
    "    # отсортируем результат по убыванию (чтобы в начале Series оказались самые популярные жанры)\n",
    "    genre_df_sorted = genre_df_grouped.sort_values(ascending=False)# ваш код здесь\n",
    "    # вернём Series с 10 самыми популярными жанрами в указанный отрезок времени заданного дня\n",
    "    return genre_df_sorted[:10]"
   ]
  },
  {
   "cell_type": "markdown",
   "metadata": {
    "deletable": false,
    "editable": false,
    "id": "la2s2_PF_Zcu",
    "tags": [
     "start_task"
    ]
   },
   "source": [
    "**Задание 25**\n",
    "\n",
    "\n",
    "Cравните результаты функции `genre_weekday()` для Москвы и Санкт-Петербурга в понедельник утром (с 7:00 до 11:00) и в пятницу вечером (с 17:00 до 23:00):"
   ]
  },
  {
   "cell_type": "code",
   "execution_count": 419,
   "metadata": {
    "deletable": false,
    "id": "yz7itPUQ_Zcu"
   },
   "outputs": [
    {
     "data": {
      "text/plain": [
       "genre\n",
       "pop            781\n",
       "dance          549\n",
       "electronic     480\n",
       "rock           474\n",
       "hiphop         286\n",
       "ruspop         186\n",
       "world          181\n",
       "rusrap         175\n",
       "alternative    164\n",
       "unknown        161\n",
       "Name: genre, dtype: int64"
      ]
     },
     "execution_count": 419,
     "metadata": {},
     "output_type": "execute_result"
    }
   ],
   "source": [
    "# вызов функции для утра понедельника в Москве (вместо df — таблица moscow_general)\n",
    "# объекты, хранящие время, являются строками и сравниваются как строки\n",
    "# пример вызова: genre_weekday(moscow_general, 'Monday', '07:00', '11:00')\n",
    "genre_weekday(moscow_general, 'Monday', '07:00', '11:00')"
   ]
  },
  {
   "cell_type": "code",
   "execution_count": 420,
   "metadata": {
    "deletable": false,
    "id": "kwUcHPdy_Zcu"
   },
   "outputs": [
    {
     "data": {
      "text/plain": [
       "genre\n",
       "pop            218\n",
       "dance          182\n",
       "rock           162\n",
       "electronic     147\n",
       "hiphop          80\n",
       "ruspop          64\n",
       "alternative     58\n",
       "rusrap          55\n",
       "jazz            44\n",
       "classical       40\n",
       "Name: genre, dtype: int64"
      ]
     },
     "execution_count": 420,
     "metadata": {},
     "output_type": "execute_result"
    }
   ],
   "source": [
    "# вызов функции для утра понедельника в Петербург\n",
    "genre_weekday(spb_general, 'Monday', '07:00', '11:00')\n"
   ]
  },
  {
   "cell_type": "code",
   "execution_count": 421,
   "metadata": {
    "deletable": false,
    "id": "EzXVRE1o_Zcu"
   },
   "outputs": [
    {
     "data": {
      "text/plain": [
       "genre\n",
       "pop            713\n",
       "rock           517\n",
       "dance          495\n",
       "electronic     482\n",
       "hiphop         273\n",
       "world          208\n",
       "ruspop         170\n",
       "alternative    163\n",
       "classical      163\n",
       "rusrap         142\n",
       "Name: genre, dtype: int64"
      ]
     },
     "execution_count": 421,
     "metadata": {},
     "output_type": "execute_result"
    }
   ],
   "source": [
    "# вызов функции для вечера пятницы в Москве\n",
    "genre_weekday(moscow_general, 'Friday', '17:00', '23:00')"
   ]
  },
  {
   "cell_type": "code",
   "execution_count": 422,
   "metadata": {
    "deletable": false,
    "id": "JZaEKu5v_Zcu"
   },
   "outputs": [
    {
     "data": {
      "text/plain": [
       "genre\n",
       "pop            256\n",
       "electronic     216\n",
       "rock           216\n",
       "dance          210\n",
       "hiphop          97\n",
       "alternative     63\n",
       "jazz            61\n",
       "classical       60\n",
       "rusrap          59\n",
       "world           54\n",
       "Name: genre, dtype: int64"
      ]
     },
     "execution_count": 422,
     "metadata": {},
     "output_type": "execute_result"
    }
   ],
   "source": [
    "# вызов функции для вечера пятницы в Петербурге\n",
    "genre_weekday(spb_general, 'Friday', '17:00', '23:00')"
   ]
  },
  {
   "cell_type": "markdown",
   "metadata": {
    "deletable": false,
    "editable": false,
    "id": "wrCe4MNX_Zcu"
   },
   "source": [
    "**Выводы**\n",
    "\n",
    "Если сравнить топ-10 жанров в понедельник утром, можно сделать такие выводы:\n",
    "\n",
    "1. В Москве и Петербурге слушают похожую музыку. Единственное различие — в московский рейтинг вошёл жанр “world”, а в петербургский — джаз и классика.\n",
    "\n",
    "2. В Москве пропущенных значений оказалось так много, что значение `'unknown'` заняло десятое место среди самых популярных жанров. Значит, пропущенные значения занимают существенную долю в данных и угрожают достоверности исследования.\n",
    "\n",
    "Вечер пятницы не меняет эту картину. Некоторые жанры поднимаются немного выше, другие спускаются, но в целом топ-10 остаётся тем же самым.\n",
    "\n",
    "Таким образом, вторая гипотеза подтвердилась лишь частично:\n",
    "* Пользователи слушают похожую музыку в начале недели и в конце.\n",
    "* Разница между Москвой и Петербургом не слишком выражена. В Москве чаще слушают русскую популярную музыку, в Петербурге — джаз.\n",
    "\n",
    "Однако пропуски в данных ставят под сомнение этот результат. В Москве их так много, что рейтинг топ-10 мог бы выглядеть иначе, если бы не утерянные  данные о жанрах."
   ]
  },
  {
   "cell_type": "markdown",
   "metadata": {
    "deletable": false,
    "editable": false,
    "id": "JolODAqr_Zcu"
   },
   "source": [
    "### Жанровые предпочтения в Москве и Петербурге\n",
    "\n",
    "Гипотеза: Петербург — столица рэпа, музыку этого жанра там слушают чаще, чем в Москве.  А Москва — город контрастов, в котором, тем не менее, преобладает поп-музыка."
   ]
  },
  {
   "cell_type": "markdown",
   "metadata": {
    "deletable": false,
    "editable": false,
    "id": "DlegSvaT_Zcu",
    "tags": [
     "start_task"
    ]
   },
   "source": [
    "**Задание 26**\n",
    "\n",
    "Сгруппируйте таблицу `moscow_general` по жанру и посчитайте прослушивания треков каждого жанра методом `count()`. Затем отсортируйте результат в порядке убывания и сохраните его в таблице `moscow_genres`."
   ]
  },
  {
   "cell_type": "code",
   "execution_count": 424,
   "metadata": {
    "deletable": false,
    "id": "r19lIPke_Zcu"
   },
   "outputs": [],
   "source": [
    "# одной строкой: группировка таблицы moscow_general по столбцу 'genre',\n",
    "# подсчёт числа значений 'genre' в этой группировке методом count(),\n",
    "# сортировка получившегося Series в порядке убывания и сохранение в moscow_genres\n",
    "moscow_general_group = moscow_general.groupby('genre')['genre'].count()\n",
    "moscow_genres = moscow_general_group.sort_values(ascending=False)"
   ]
  },
  {
   "cell_type": "markdown",
   "metadata": {
    "deletable": false,
    "editable": false,
    "id": "6kMuomxTiIr8",
    "tags": [
     "start_task"
    ]
   },
   "source": [
    "**Задание 27**\n",
    "\n",
    "Выведите на экран первые десять строк `moscow_genres`:"
   ]
  },
  {
   "cell_type": "code",
   "execution_count": null,
   "metadata": {
    "deletable": false,
    "id": "WhCSooF8_Zcv"
   },
   "outputs": [],
   "source": [
    "# просмотр первых 10 строк moscow_genres\n",
    "moscow_genres.head(10)"
   ]
  },
  {
   "cell_type": "markdown",
   "metadata": {
    "deletable": false,
    "editable": false,
    "id": "cnPG2vnN_Zcv",
    "tags": [
     "start_task"
    ]
   },
   "source": [
    "**Задание 28**\n",
    "\n",
    "\n",
    "Теперь повторите то же и для Петербурга.\n",
    "\n",
    "Сгруппируйте таблицу `spb_general` по жанру. Посчитайте прослушивания треков каждого жанра. Результат отсортируйте в порядке убывания и сохраните в таблице `spb_genres`:\n"
   ]
  },
  {
   "cell_type": "code",
   "execution_count": null,
   "metadata": {
    "deletable": false,
    "id": "gluLIpE7_Zcv"
   },
   "outputs": [],
   "source": [
    "# одной строкой: группировка таблицы spb_general по столбцу 'genre',\n",
    "# подсчёт числа значений 'genre' в этой группировке методом count(),\n",
    "# сортировка получившегося Series в порядке убывания и сохранение в spb_genres\n",
    "spb_general_group = spb_general.groupby('genre')['genre'].count()\n",
    "spb_genres = spb_general_group.sort_values(ascending=False)"
   ]
  },
  {
   "cell_type": "markdown",
   "metadata": {
    "deletable": false,
    "editable": false,
    "id": "5Doha_ODgyQ8",
    "tags": [
     "start_task"
    ]
   },
   "source": [
    "**Задание 29**\n",
    "\n",
    "Выведите на экран первые десять строк `spb_genres`:"
   ]
  },
  {
   "cell_type": "code",
   "execution_count": null,
   "metadata": {
    "deletable": false,
    "id": "uaGJHjVU_Zcv"
   },
   "outputs": [],
   "source": [
    "# просмотр первых 10 строк spb_genres\n",
    "spb_genres.head(10)"
   ]
  },
  {
   "cell_type": "markdown",
   "metadata": {
    "deletable": false,
    "editable": false,
    "id": "RY51YJYu_Zcv"
   },
   "source": [
    "**Выводы**"
   ]
  },
  {
   "cell_type": "markdown",
   "metadata": {
    "deletable": false,
    "editable": false,
    "id": "nVhnJEm__Zcv"
   },
   "source": [
    "Гипотеза частично подтвердилась:\n",
    "* Поп-музыка — самый популярный жанр в Москве, как и предполагала гипотеза. Более того, в топ-10 жанров встречается близкий жанр — русская популярная музыка.\n",
    "* Вопреки ожиданиям, рэп одинаково популярен в Москве и Петербурге.\n"
   ]
  },
  {
   "cell_type": "markdown",
   "metadata": {
    "deletable": false,
    "editable": false,
    "id": "ykKQ0N65_Zcv"
   },
   "source": [
    "## Итоги исследования"
   ]
  },
  {
   "cell_type": "markdown",
   "metadata": {
    "deletable": false,
    "editable": false,
    "id": "tjUwbHb3_Zcv"
   },
   "source": [
    "Вы проверили три гипотезы и установили:\n",
    "\n",
    "1. День недели по-разному влияет на активность пользователей в Москве и Петербурге.\n",
    "\n",
    "Первая гипотеза полностью подтвердилась.\n",
    "\n",
    "2. Музыкальные предпочтения не сильно меняются в течение недели — будь то Москва или Петербург. Небольшие различия заметны в начале недели, по понедельникам:\n",
    "* в Москве слушают музыку жанра “world”,\n",
    "* в Петербурге — джаз и классику.\n",
    "\n",
    "Таким образом, вторая гипотеза подтвердилась лишь отчасти. Этот результат мог оказаться иным, если бы не пропуски в данных.\n",
    "\n",
    "3. Во вкусах пользователей Москвы и Петербурга больше общего, чем различий. Вопреки ожиданиям, предпочтения жанров в Петербурге напоминают московские.\n",
    "\n",
    "Третья гипотеза не подтвердилась. Если различия в предпочтениях и существуют, на основной массе пользователей они незаметны.\n",
    "\n",
    "**На практике исследования содержат проверки статистических гипотез.**\n",
    "Из данных одного сервиса не всегда можно сделать вывод о всех жителях города.\n",
    "Проверки статистических гипотез покажут, насколько они достоверны, исходя из имеющихся данных.\n",
    "С методами проверок гипотез вы ещё познакомитесь в следующих темах."
   ]
  }
 ],
 "metadata": {
  "ExecuteTimeLog": [
   {
    "duration": 478,
    "start_time": "2023-07-15T13:53:14.638Z"
   },
   {
    "duration": 203,
    "start_time": "2023-07-15T13:55:23.191Z"
   },
   {
    "duration": 9,
    "start_time": "2023-07-15T13:56:08.605Z"
   },
   {
    "duration": 30,
    "start_time": "2023-07-15T13:57:23.026Z"
   },
   {
    "duration": 189,
    "start_time": "2023-07-15T14:11:44.938Z"
   },
   {
    "duration": 2,
    "start_time": "2023-07-15T14:12:09.190Z"
   },
   {
    "duration": 66,
    "start_time": "2023-07-15T14:12:43.504Z"
   },
   {
    "duration": 11,
    "start_time": "2023-07-15T14:12:50.687Z"
   },
   {
    "duration": 4,
    "start_time": "2023-07-15T14:14:17.808Z"
   },
   {
    "duration": 14,
    "start_time": "2023-07-15T14:17:54.280Z"
   },
   {
    "duration": 4,
    "start_time": "2023-07-15T14:18:45.934Z"
   },
   {
    "duration": 14,
    "start_time": "2023-07-15T14:19:16.497Z"
   },
   {
    "duration": 4,
    "start_time": "2023-07-15T14:19:23.694Z"
   },
   {
    "duration": 19,
    "start_time": "2023-07-15T14:20:28.275Z"
   },
   {
    "duration": 18,
    "start_time": "2023-07-15T14:21:37.465Z"
   },
   {
    "duration": 6,
    "start_time": "2023-07-15T14:21:42.370Z"
   },
   {
    "duration": 16,
    "start_time": "2023-07-15T14:21:57.361Z"
   },
   {
    "duration": 9,
    "start_time": "2023-07-15T14:22:01.256Z"
   },
   {
    "duration": 13,
    "start_time": "2023-07-15T14:22:15.673Z"
   },
   {
    "duration": 3,
    "start_time": "2023-07-15T14:22:19.785Z"
   },
   {
    "duration": 9,
    "start_time": "2023-07-15T14:22:43.910Z"
   },
   {
    "duration": 8,
    "start_time": "2023-07-15T14:22:48.155Z"
   },
   {
    "duration": 9,
    "start_time": "2023-07-15T14:23:24.023Z"
   },
   {
    "duration": 5,
    "start_time": "2023-07-15T14:23:28.467Z"
   },
   {
    "duration": 38,
    "start_time": "2023-07-15T14:24:18.520Z"
   },
   {
    "duration": 25,
    "start_time": "2023-07-15T14:26:15.657Z"
   },
   {
    "duration": 10,
    "start_time": "2023-07-15T14:35:52.619Z"
   },
   {
    "duration": 9,
    "start_time": "2023-07-15T14:54:53.242Z"
   },
   {
    "duration": 101,
    "start_time": "2023-07-15T15:08:17.410Z"
   },
   {
    "duration": 11,
    "start_time": "2023-07-15T15:08:31.100Z"
   },
   {
    "duration": 11,
    "start_time": "2023-07-15T15:22:18.403Z"
   },
   {
    "duration": 20,
    "start_time": "2023-07-15T15:22:34.585Z"
   },
   {
    "duration": 44,
    "start_time": "2023-07-15T15:23:29.991Z"
   },
   {
    "duration": 86,
    "start_time": "2023-07-15T15:26:10.493Z"
   },
   {
    "duration": 79,
    "start_time": "2023-07-15T15:29:00.136Z"
   },
   {
    "duration": 89,
    "start_time": "2023-07-15T15:29:51.005Z"
   },
   {
    "duration": 12,
    "start_time": "2023-07-15T15:31:41.667Z"
   },
   {
    "duration": 51,
    "start_time": "2023-07-15T15:34:28.135Z"
   },
   {
    "duration": 18,
    "start_time": "2023-07-15T15:40:42.256Z"
   },
   {
    "duration": 39,
    "start_time": "2023-07-15T15:42:20.889Z"
   },
   {
    "duration": 40,
    "start_time": "2023-07-15T15:52:46.613Z"
   },
   {
    "duration": 21,
    "start_time": "2023-07-15T15:53:21.642Z"
   },
   {
    "duration": 20,
    "start_time": "2023-07-15T15:55:54.859Z"
   },
   {
    "duration": 17,
    "start_time": "2023-07-15T15:56:32.562Z"
   },
   {
    "duration": 10,
    "start_time": "2023-07-15T15:56:57.484Z"
   },
   {
    "duration": 17,
    "start_time": "2023-07-15T15:57:42.171Z"
   },
   {
    "duration": 12,
    "start_time": "2023-07-15T15:58:23.236Z"
   },
   {
    "duration": 104,
    "start_time": "2023-07-15T16:43:48.045Z"
   },
   {
    "duration": 4,
    "start_time": "2023-07-15T16:44:04.304Z"
   },
   {
    "duration": 50,
    "start_time": "2023-07-15T16:45:03.382Z"
   },
   {
    "duration": 561,
    "start_time": "2023-07-15T16:46:18.723Z"
   },
   {
    "duration": 251,
    "start_time": "2023-07-15T16:46:23.946Z"
   },
   {
    "duration": 10,
    "start_time": "2023-07-15T16:46:26.983Z"
   },
   {
    "duration": 31,
    "start_time": "2023-07-15T16:46:32.682Z"
   },
   {
    "duration": 3,
    "start_time": "2023-07-15T16:46:40.590Z"
   },
   {
    "duration": 4,
    "start_time": "2023-07-15T16:46:45.431Z"
   },
   {
    "duration": 16,
    "start_time": "2023-07-15T16:46:51.112Z"
   },
   {
    "duration": 4,
    "start_time": "2023-07-15T16:46:53.835Z"
   },
   {
    "duration": 29,
    "start_time": "2023-07-15T16:47:03.802Z"
   },
   {
    "duration": 17,
    "start_time": "2023-07-15T16:47:10.231Z"
   },
   {
    "duration": 25,
    "start_time": "2023-07-15T16:47:12.625Z"
   },
   {
    "duration": 67,
    "start_time": "2023-07-15T16:47:23.633Z"
   },
   {
    "duration": 77,
    "start_time": "2023-07-15T16:47:25.694Z"
   },
   {
    "duration": 84,
    "start_time": "2023-07-15T16:47:28.239Z"
   },
   {
    "duration": 38,
    "start_time": "2023-07-15T16:47:36.072Z"
   },
   {
    "duration": 10,
    "start_time": "2023-07-15T16:47:42.802Z"
   },
   {
    "duration": 37,
    "start_time": "2023-07-15T16:47:47.729Z"
   },
   {
    "duration": 13,
    "start_time": "2023-07-15T16:47:56.283Z"
   },
   {
    "duration": 18,
    "start_time": "2023-07-15T16:48:00.867Z"
   },
   {
    "duration": 4,
    "start_time": "2023-07-15T16:48:06.999Z"
   },
   {
    "duration": 50,
    "start_time": "2023-07-15T16:48:22.912Z"
   },
   {
    "duration": 9,
    "start_time": "2023-07-15T16:50:03.753Z"
   },
   {
    "duration": 10,
    "start_time": "2023-07-15T16:51:15.521Z"
   },
   {
    "duration": 116,
    "start_time": "2023-07-15T16:59:29.090Z"
   },
   {
    "duration": 95,
    "start_time": "2023-07-15T17:00:17.801Z"
   },
   {
    "duration": 12,
    "start_time": "2023-07-15T17:00:48.476Z"
   },
   {
    "duration": 3,
    "start_time": "2023-07-15T17:02:51.040Z"
   },
   {
    "duration": 4,
    "start_time": "2023-07-15T17:03:06.512Z"
   },
   {
    "duration": 8,
    "start_time": "2023-07-15T17:03:11.472Z"
   },
   {
    "duration": 381,
    "start_time": "2023-07-15T17:04:22.292Z"
   },
   {
    "duration": 247,
    "start_time": "2023-07-15T17:04:22.675Z"
   },
   {
    "duration": 9,
    "start_time": "2023-07-15T17:04:22.923Z"
   },
   {
    "duration": 49,
    "start_time": "2023-07-15T17:04:22.934Z"
   },
   {
    "duration": 11,
    "start_time": "2023-07-15T17:04:22.987Z"
   },
   {
    "duration": 19,
    "start_time": "2023-07-15T17:04:22.999Z"
   },
   {
    "duration": 34,
    "start_time": "2023-07-15T17:04:23.020Z"
   },
   {
    "duration": 40,
    "start_time": "2023-07-15T17:04:23.056Z"
   },
   {
    "duration": 57,
    "start_time": "2023-07-15T17:04:23.098Z"
   },
   {
    "duration": 20,
    "start_time": "2023-07-15T17:04:23.157Z"
   },
   {
    "duration": 36,
    "start_time": "2023-07-15T17:04:23.179Z"
   },
   {
    "duration": 84,
    "start_time": "2023-07-15T17:04:23.217Z"
   },
   {
    "duration": 97,
    "start_time": "2023-07-15T17:04:23.303Z"
   },
   {
    "duration": 71,
    "start_time": "2023-07-15T17:04:23.403Z"
   },
   {
    "duration": 43,
    "start_time": "2023-07-15T17:04:23.476Z"
   },
   {
    "duration": 11,
    "start_time": "2023-07-15T17:04:23.521Z"
   },
   {
    "duration": 65,
    "start_time": "2023-07-15T17:04:23.533Z"
   },
   {
    "duration": 14,
    "start_time": "2023-07-15T17:04:23.600Z"
   },
   {
    "duration": 20,
    "start_time": "2023-07-15T17:04:23.616Z"
   },
   {
    "duration": 23,
    "start_time": "2023-07-15T17:04:23.638Z"
   },
   {
    "duration": 24,
    "start_time": "2023-07-15T17:04:23.662Z"
   },
   {
    "duration": 25,
    "start_time": "2023-07-15T17:04:23.688Z"
   },
   {
    "duration": 16,
    "start_time": "2023-07-15T17:04:23.715Z"
   },
   {
    "duration": 17,
    "start_time": "2023-07-15T17:04:23.733Z"
   },
   {
    "duration": 18,
    "start_time": "2023-07-15T17:04:23.752Z"
   },
   {
    "duration": 6,
    "start_time": "2023-07-15T17:04:23.772Z"
   },
   {
    "duration": 7,
    "start_time": "2023-07-15T17:04:23.779Z"
   },
   {
    "duration": 7,
    "start_time": "2023-07-15T17:04:23.788Z"
   },
   {
    "duration": 10,
    "start_time": "2023-07-15T17:04:23.797Z"
   },
   {
    "duration": 99,
    "start_time": "2023-07-15T17:04:23.809Z"
   },
   {
    "duration": 0,
    "start_time": "2023-07-15T17:04:23.910Z"
   },
   {
    "duration": 0,
    "start_time": "2023-07-15T17:04:23.912Z"
   },
   {
    "duration": 1,
    "start_time": "2023-07-15T17:04:23.913Z"
   },
   {
    "duration": 0,
    "start_time": "2023-07-15T17:04:23.915Z"
   },
   {
    "duration": 0,
    "start_time": "2023-07-15T17:04:23.916Z"
   },
   {
    "duration": 0,
    "start_time": "2023-07-15T17:04:23.918Z"
   },
   {
    "duration": 0,
    "start_time": "2023-07-15T17:04:23.919Z"
   },
   {
    "duration": 1,
    "start_time": "2023-07-15T17:04:23.920Z"
   },
   {
    "duration": 18,
    "start_time": "2023-07-15T17:04:47.794Z"
   },
   {
    "duration": 17,
    "start_time": "2023-07-15T17:07:41.769Z"
   },
   {
    "duration": 15,
    "start_time": "2023-07-15T17:07:45.273Z"
   },
   {
    "duration": 19,
    "start_time": "2023-07-15T17:07:47.018Z"
   },
   {
    "duration": 17,
    "start_time": "2023-07-15T17:07:48.665Z"
   },
   {
    "duration": 10,
    "start_time": "2023-07-15T17:15:25.217Z"
   },
   {
    "duration": 6,
    "start_time": "2023-07-15T17:18:38.112Z"
   },
   {
    "duration": 6,
    "start_time": "2023-07-15T17:19:17.810Z"
   },
   {
    "duration": 12,
    "start_time": "2023-07-15T17:19:48.603Z"
   },
   {
    "duration": 11,
    "start_time": "2023-07-15T17:19:50.111Z"
   },
   {
    "duration": 4,
    "start_time": "2023-07-15T17:29:42.236Z"
   },
   {
    "duration": 28,
    "start_time": "2023-07-15T17:31:17.555Z"
   },
   {
    "duration": 14,
    "start_time": "2023-07-15T17:32:12.546Z"
   },
   {
    "duration": 13,
    "start_time": "2023-07-15T17:32:15.972Z"
   },
   {
    "duration": 5,
    "start_time": "2023-07-15T17:32:21.550Z"
   },
   {
    "duration": 1378,
    "start_time": "2023-07-15T17:32:26.006Z"
   },
   {
    "duration": 76,
    "start_time": "2023-07-15T17:37:43.541Z"
   },
   {
    "duration": 5,
    "start_time": "2023-07-15T17:37:52.392Z"
   },
   {
    "duration": 5,
    "start_time": "2023-07-15T17:37:59.408Z"
   },
   {
    "duration": 26,
    "start_time": "2023-07-15T17:38:04.760Z"
   },
   {
    "duration": 18,
    "start_time": "2023-07-15T17:39:16.806Z"
   },
   {
    "duration": 27,
    "start_time": "2023-07-15T17:39:51.514Z"
   },
   {
    "duration": 20,
    "start_time": "2023-07-15T17:40:26.351Z"
   },
   {
    "duration": 30,
    "start_time": "2023-07-15T17:49:06.187Z"
   },
   {
    "duration": 144,
    "start_time": "2023-07-15T17:49:30.355Z"
   },
   {
    "duration": 6,
    "start_time": "2023-07-15T17:50:04.200Z"
   },
   {
    "duration": 9,
    "start_time": "2023-07-15T17:50:32.441Z"
   },
   {
    "duration": 10,
    "start_time": "2023-07-15T17:51:03.004Z"
   },
   {
    "duration": 9,
    "start_time": "2023-07-15T17:52:37.923Z"
   },
   {
    "duration": 9,
    "start_time": "2023-07-15T17:54:23.625Z"
   },
   {
    "duration": 8,
    "start_time": "2023-07-15T18:01:10.602Z"
   },
   {
    "duration": 9,
    "start_time": "2023-07-15T18:02:53.546Z"
   },
   {
    "duration": 10,
    "start_time": "2023-07-15T18:03:28.289Z"
   },
   {
    "duration": 3,
    "start_time": "2023-07-15T18:03:38.964Z"
   },
   {
    "duration": 207,
    "start_time": "2023-07-15T18:03:38.969Z"
   },
   {
    "duration": 8,
    "start_time": "2023-07-15T18:03:39.178Z"
   },
   {
    "duration": 31,
    "start_time": "2023-07-15T18:03:39.188Z"
   },
   {
    "duration": 2,
    "start_time": "2023-07-15T18:03:39.222Z"
   },
   {
    "duration": 25,
    "start_time": "2023-07-15T18:03:39.227Z"
   },
   {
    "duration": 21,
    "start_time": "2023-07-15T18:03:39.253Z"
   },
   {
    "duration": 6,
    "start_time": "2023-07-15T18:03:39.276Z"
   },
   {
    "duration": 27,
    "start_time": "2023-07-15T18:03:39.283Z"
   },
   {
    "duration": 36,
    "start_time": "2023-07-15T18:03:39.312Z"
   },
   {
    "duration": 42,
    "start_time": "2023-07-15T18:03:39.350Z"
   },
   {
    "duration": 72,
    "start_time": "2023-07-15T18:03:39.394Z"
   },
   {
    "duration": 67,
    "start_time": "2023-07-15T18:03:39.471Z"
   },
   {
    "duration": 66,
    "start_time": "2023-07-15T18:03:39.551Z"
   },
   {
    "duration": 58,
    "start_time": "2023-07-15T18:03:39.619Z"
   },
   {
    "duration": 11,
    "start_time": "2023-07-15T18:03:39.680Z"
   },
   {
    "duration": 38,
    "start_time": "2023-07-15T18:03:39.693Z"
   },
   {
    "duration": 36,
    "start_time": "2023-07-15T18:03:39.733Z"
   },
   {
    "duration": 17,
    "start_time": "2023-07-15T18:03:39.771Z"
   },
   {
    "duration": 5,
    "start_time": "2023-07-15T18:03:39.789Z"
   },
   {
    "duration": 25,
    "start_time": "2023-07-15T18:03:39.795Z"
   },
   {
    "duration": 33,
    "start_time": "2023-07-15T18:03:39.822Z"
   },
   {
    "duration": 18,
    "start_time": "2023-07-15T18:03:39.857Z"
   },
   {
    "duration": 14,
    "start_time": "2023-07-15T18:03:39.877Z"
   },
   {
    "duration": 18,
    "start_time": "2023-07-15T18:03:39.892Z"
   },
   {
    "duration": 13,
    "start_time": "2023-07-15T18:03:39.912Z"
   },
   {
    "duration": 16,
    "start_time": "2023-07-15T18:03:39.952Z"
   },
   {
    "duration": 14,
    "start_time": "2023-07-15T18:03:39.969Z"
   },
   {
    "duration": 12,
    "start_time": "2023-07-15T18:03:39.984Z"
   },
   {
    "duration": 5,
    "start_time": "2023-07-15T18:03:39.998Z"
   },
   {
    "duration": 51,
    "start_time": "2023-07-15T18:03:40.004Z"
   },
   {
    "duration": 22,
    "start_time": "2023-07-15T18:03:40.057Z"
   },
   {
    "duration": 32,
    "start_time": "2023-07-15T18:03:40.081Z"
   },
   {
    "duration": 18,
    "start_time": "2023-07-15T18:03:40.115Z"
   },
   {
    "duration": 16,
    "start_time": "2023-07-15T18:03:40.151Z"
   },
   {
    "duration": 6,
    "start_time": "2023-07-15T18:03:40.170Z"
   },
   {
    "duration": 10,
    "start_time": "2023-07-15T18:03:40.179Z"
   },
   {
    "duration": 6,
    "start_time": "2023-07-15T18:03:40.191Z"
   },
   {
    "duration": 7,
    "start_time": "2023-07-15T18:05:29.521Z"
   },
   {
    "duration": 3,
    "start_time": "2023-07-15T18:05:54.443Z"
   },
   {
    "duration": 201,
    "start_time": "2023-07-15T18:05:54.448Z"
   },
   {
    "duration": 7,
    "start_time": "2023-07-15T18:05:54.651Z"
   },
   {
    "duration": 39,
    "start_time": "2023-07-15T18:05:54.660Z"
   },
   {
    "duration": 3,
    "start_time": "2023-07-15T18:05:54.702Z"
   },
   {
    "duration": 11,
    "start_time": "2023-07-15T18:05:54.706Z"
   },
   {
    "duration": 21,
    "start_time": "2023-07-15T18:05:54.718Z"
   },
   {
    "duration": 3,
    "start_time": "2023-07-15T18:05:54.752Z"
   },
   {
    "duration": 43,
    "start_time": "2023-07-15T18:05:54.757Z"
   },
   {
    "duration": 24,
    "start_time": "2023-07-15T18:05:54.802Z"
   },
   {
    "duration": 39,
    "start_time": "2023-07-15T18:05:54.829Z"
   },
   {
    "duration": 89,
    "start_time": "2023-07-15T18:05:54.870Z"
   },
   {
    "duration": 101,
    "start_time": "2023-07-15T18:05:54.962Z"
   },
   {
    "duration": 76,
    "start_time": "2023-07-15T18:05:55.065Z"
   },
   {
    "duration": 43,
    "start_time": "2023-07-15T18:05:55.143Z"
   },
   {
    "duration": 11,
    "start_time": "2023-07-15T18:05:55.188Z"
   },
   {
    "duration": 64,
    "start_time": "2023-07-15T18:05:55.200Z"
   },
   {
    "duration": 13,
    "start_time": "2023-07-15T18:05:55.266Z"
   },
   {
    "duration": 14,
    "start_time": "2023-07-15T18:05:55.281Z"
   },
   {
    "duration": 5,
    "start_time": "2023-07-15T18:05:55.297Z"
   },
   {
    "duration": 59,
    "start_time": "2023-07-15T18:05:55.304Z"
   },
   {
    "duration": 22,
    "start_time": "2023-07-15T18:05:55.365Z"
   },
   {
    "duration": 30,
    "start_time": "2023-07-15T18:05:55.390Z"
   },
   {
    "duration": 30,
    "start_time": "2023-07-15T18:05:55.422Z"
   },
   {
    "duration": 19,
    "start_time": "2023-07-15T18:05:55.454Z"
   },
   {
    "duration": 17,
    "start_time": "2023-07-15T18:05:55.475Z"
   },
   {
    "duration": 10,
    "start_time": "2023-07-15T18:05:55.493Z"
   },
   {
    "duration": 22,
    "start_time": "2023-07-15T18:05:55.505Z"
   },
   {
    "duration": 18,
    "start_time": "2023-07-15T18:05:55.551Z"
   },
   {
    "duration": 5,
    "start_time": "2023-07-15T18:05:55.571Z"
   },
   {
    "duration": 37,
    "start_time": "2023-07-15T18:05:55.578Z"
   },
   {
    "duration": 18,
    "start_time": "2023-07-15T18:05:55.617Z"
   },
   {
    "duration": 39,
    "start_time": "2023-07-15T18:05:55.637Z"
   },
   {
    "duration": 19,
    "start_time": "2023-07-15T18:05:55.677Z"
   },
   {
    "duration": 11,
    "start_time": "2023-07-15T18:05:55.698Z"
   },
   {
    "duration": 7,
    "start_time": "2023-07-15T18:05:55.711Z"
   },
   {
    "duration": 39,
    "start_time": "2023-07-15T18:05:55.720Z"
   },
   {
    "duration": 6,
    "start_time": "2023-07-15T18:05:55.762Z"
   },
   {
    "duration": 10,
    "start_time": "2023-07-15T18:14:06.449Z"
   },
   {
    "duration": 5,
    "start_time": "2023-07-15T18:14:35.979Z"
   },
   {
    "duration": 9,
    "start_time": "2023-07-15T18:17:01.826Z"
   },
   {
    "duration": 1278,
    "start_time": "2023-07-15T18:17:29.370Z"
   },
   {
    "duration": 5,
    "start_time": "2023-07-15T18:18:51.033Z"
   },
   {
    "duration": 1298,
    "start_time": "2023-07-15T18:18:56.616Z"
   },
   {
    "duration": 3,
    "start_time": "2023-07-15T18:19:06.621Z"
   },
   {
    "duration": 204,
    "start_time": "2023-07-15T18:19:06.626Z"
   },
   {
    "duration": 6,
    "start_time": "2023-07-15T18:19:06.832Z"
   },
   {
    "duration": 46,
    "start_time": "2023-07-15T18:19:06.840Z"
   },
   {
    "duration": 2,
    "start_time": "2023-07-15T18:19:06.888Z"
   },
   {
    "duration": 8,
    "start_time": "2023-07-15T18:19:06.892Z"
   },
   {
    "duration": 17,
    "start_time": "2023-07-15T18:19:06.902Z"
   },
   {
    "duration": 4,
    "start_time": "2023-07-15T18:19:06.921Z"
   },
   {
    "duration": 35,
    "start_time": "2023-07-15T18:19:06.927Z"
   },
   {
    "duration": 21,
    "start_time": "2023-07-15T18:19:06.964Z"
   },
   {
    "duration": 26,
    "start_time": "2023-07-15T18:19:06.989Z"
   },
   {
    "duration": 90,
    "start_time": "2023-07-15T18:19:07.017Z"
   },
   {
    "duration": 83,
    "start_time": "2023-07-15T18:19:07.109Z"
   },
   {
    "duration": 73,
    "start_time": "2023-07-15T18:19:07.194Z"
   },
   {
    "duration": 37,
    "start_time": "2023-07-15T18:19:07.269Z"
   },
   {
    "duration": 11,
    "start_time": "2023-07-15T18:19:07.307Z"
   },
   {
    "duration": 72,
    "start_time": "2023-07-15T18:19:07.320Z"
   },
   {
    "duration": 14,
    "start_time": "2023-07-15T18:19:07.395Z"
   },
   {
    "duration": 13,
    "start_time": "2023-07-15T18:19:07.411Z"
   },
   {
    "duration": 4,
    "start_time": "2023-07-15T18:19:07.426Z"
   },
   {
    "duration": 36,
    "start_time": "2023-07-15T18:19:07.431Z"
   },
   {
    "duration": 14,
    "start_time": "2023-07-15T18:19:07.468Z"
   },
   {
    "duration": 18,
    "start_time": "2023-07-15T18:19:07.484Z"
   },
   {
    "duration": 16,
    "start_time": "2023-07-15T18:19:07.503Z"
   },
   {
    "duration": 41,
    "start_time": "2023-07-15T18:19:07.521Z"
   },
   {
    "duration": 16,
    "start_time": "2023-07-15T18:19:07.565Z"
   },
   {
    "duration": 7,
    "start_time": "2023-07-15T18:19:07.583Z"
   },
   {
    "duration": 14,
    "start_time": "2023-07-15T18:19:07.592Z"
   },
   {
    "duration": 9,
    "start_time": "2023-07-15T18:19:07.609Z"
   },
   {
    "duration": 4,
    "start_time": "2023-07-15T18:19:07.620Z"
   },
   {
    "duration": 24,
    "start_time": "2023-07-15T18:19:07.653Z"
   },
   {
    "duration": 16,
    "start_time": "2023-07-15T18:19:07.679Z"
   },
   {
    "duration": 25,
    "start_time": "2023-07-15T18:19:07.696Z"
   },
   {
    "duration": 45,
    "start_time": "2023-07-15T18:19:07.723Z"
   },
   {
    "duration": 10,
    "start_time": "2023-07-15T18:19:07.770Z"
   },
   {
    "duration": 10,
    "start_time": "2023-07-15T18:19:07.782Z"
   },
   {
    "duration": 20,
    "start_time": "2023-07-15T18:19:07.793Z"
   },
   {
    "duration": 5,
    "start_time": "2023-07-15T18:19:07.815Z"
   },
   {
    "duration": 5,
    "start_time": "2023-07-15T18:20:04.384Z"
   },
   {
    "duration": 1287,
    "start_time": "2023-07-15T18:26:34.751Z"
   },
   {
    "duration": 1274,
    "start_time": "2023-07-15T18:31:27.757Z"
   },
   {
    "duration": 1413,
    "start_time": "2023-07-15T18:31:37.017Z"
   },
   {
    "duration": 3,
    "start_time": "2023-07-15T18:31:49.513Z"
   },
   {
    "duration": 213,
    "start_time": "2023-07-15T18:31:49.518Z"
   },
   {
    "duration": 8,
    "start_time": "2023-07-15T18:31:49.733Z"
   },
   {
    "duration": 45,
    "start_time": "2023-07-15T18:31:49.743Z"
   },
   {
    "duration": 3,
    "start_time": "2023-07-15T18:31:49.791Z"
   },
   {
    "duration": 11,
    "start_time": "2023-07-15T18:31:49.796Z"
   },
   {
    "duration": 14,
    "start_time": "2023-07-15T18:31:49.810Z"
   },
   {
    "duration": 4,
    "start_time": "2023-07-15T18:31:49.851Z"
   },
   {
    "duration": 33,
    "start_time": "2023-07-15T18:31:49.858Z"
   },
   {
    "duration": 25,
    "start_time": "2023-07-15T18:31:49.893Z"
   },
   {
    "duration": 44,
    "start_time": "2023-07-15T18:31:49.920Z"
   },
   {
    "duration": 91,
    "start_time": "2023-07-15T18:31:49.966Z"
   },
   {
    "duration": 83,
    "start_time": "2023-07-15T18:31:50.059Z"
   },
   {
    "duration": 76,
    "start_time": "2023-07-15T18:31:50.152Z"
   },
   {
    "duration": 52,
    "start_time": "2023-07-15T18:31:50.230Z"
   },
   {
    "duration": 13,
    "start_time": "2023-07-15T18:31:50.284Z"
   },
   {
    "duration": 57,
    "start_time": "2023-07-15T18:31:50.299Z"
   },
   {
    "duration": 13,
    "start_time": "2023-07-15T18:31:50.358Z"
   },
   {
    "duration": 14,
    "start_time": "2023-07-15T18:31:50.373Z"
   },
   {
    "duration": 3,
    "start_time": "2023-07-15T18:31:50.389Z"
   },
   {
    "duration": 33,
    "start_time": "2023-07-15T18:31:50.394Z"
   },
   {
    "duration": 17,
    "start_time": "2023-07-15T18:31:50.451Z"
   },
   {
    "duration": 55,
    "start_time": "2023-07-15T18:31:50.470Z"
   },
   {
    "duration": 16,
    "start_time": "2023-07-15T18:31:50.529Z"
   },
   {
    "duration": 25,
    "start_time": "2023-07-15T18:31:50.547Z"
   },
   {
    "duration": 27,
    "start_time": "2023-07-15T18:31:50.574Z"
   },
   {
    "duration": 15,
    "start_time": "2023-07-15T18:31:50.603Z"
   },
   {
    "duration": 14,
    "start_time": "2023-07-15T18:31:50.620Z"
   },
   {
    "duration": 17,
    "start_time": "2023-07-15T18:31:50.637Z"
   },
   {
    "duration": 5,
    "start_time": "2023-07-15T18:31:50.656Z"
   },
   {
    "duration": 28,
    "start_time": "2023-07-15T18:31:50.662Z"
   },
   {
    "duration": 13,
    "start_time": "2023-07-15T18:31:50.692Z"
   },
   {
    "duration": 20,
    "start_time": "2023-07-15T18:31:50.707Z"
   },
   {
    "duration": 15,
    "start_time": "2023-07-15T18:31:50.752Z"
   },
   {
    "duration": 11,
    "start_time": "2023-07-15T18:31:50.769Z"
   },
   {
    "duration": 5,
    "start_time": "2023-07-15T18:31:50.782Z"
   },
   {
    "duration": 11,
    "start_time": "2023-07-15T18:31:50.788Z"
   },
   {
    "duration": 14,
    "start_time": "2023-07-15T18:31:50.801Z"
   },
   {
    "duration": 1471,
    "start_time": "2023-07-15T18:41:08.859Z"
   },
   {
    "duration": 3,
    "start_time": "2023-07-15T18:44:04.416Z"
   },
   {
    "duration": 215,
    "start_time": "2023-07-15T18:44:04.421Z"
   },
   {
    "duration": 19,
    "start_time": "2023-07-15T18:44:04.639Z"
   },
   {
    "duration": 37,
    "start_time": "2023-07-15T18:44:04.661Z"
   },
   {
    "duration": 2,
    "start_time": "2023-07-15T18:44:04.700Z"
   },
   {
    "duration": 8,
    "start_time": "2023-07-15T18:44:04.704Z"
   },
   {
    "duration": 19,
    "start_time": "2023-07-15T18:44:04.714Z"
   },
   {
    "duration": 17,
    "start_time": "2023-07-15T18:44:04.735Z"
   },
   {
    "duration": 29,
    "start_time": "2023-07-15T18:44:04.755Z"
   },
   {
    "duration": 21,
    "start_time": "2023-07-15T18:44:04.786Z"
   },
   {
    "duration": 33,
    "start_time": "2023-07-15T18:44:04.809Z"
   },
   {
    "duration": 79,
    "start_time": "2023-07-15T18:44:04.851Z"
   },
   {
    "duration": 85,
    "start_time": "2023-07-15T18:44:04.931Z"
   },
   {
    "duration": 76,
    "start_time": "2023-07-15T18:44:05.018Z"
   },
   {
    "duration": 40,
    "start_time": "2023-07-15T18:44:05.096Z"
   },
   {
    "duration": 14,
    "start_time": "2023-07-15T18:44:05.138Z"
   },
   {
    "duration": 70,
    "start_time": "2023-07-15T18:44:05.154Z"
   },
   {
    "duration": 14,
    "start_time": "2023-07-15T18:44:05.226Z"
   },
   {
    "duration": 19,
    "start_time": "2023-07-15T18:44:05.242Z"
   },
   {
    "duration": 29,
    "start_time": "2023-07-15T18:44:05.263Z"
   },
   {
    "duration": 82,
    "start_time": "2023-07-15T18:44:05.294Z"
   },
   {
    "duration": 53,
    "start_time": "2023-07-15T18:44:05.379Z"
   },
   {
    "duration": 35,
    "start_time": "2023-07-15T18:44:05.434Z"
   },
   {
    "duration": 16,
    "start_time": "2023-07-15T18:44:05.472Z"
   },
   {
    "duration": 18,
    "start_time": "2023-07-15T18:44:05.489Z"
   },
   {
    "duration": 38,
    "start_time": "2023-07-15T18:44:05.509Z"
   },
   {
    "duration": 13,
    "start_time": "2023-07-15T18:44:05.548Z"
   },
   {
    "duration": 22,
    "start_time": "2023-07-15T18:44:05.562Z"
   },
   {
    "duration": 11,
    "start_time": "2023-07-15T18:44:05.586Z"
   },
   {
    "duration": 13,
    "start_time": "2023-07-15T18:44:05.598Z"
   },
   {
    "duration": 43,
    "start_time": "2023-07-15T18:44:05.612Z"
   },
   {
    "duration": 2,
    "start_time": "2023-07-15T18:44:05.658Z"
   },
   {
    "duration": 44,
    "start_time": "2023-07-15T18:44:05.662Z"
   },
   {
    "duration": 13,
    "start_time": "2023-07-15T18:44:05.707Z"
   },
   {
    "duration": 35,
    "start_time": "2023-07-15T18:44:05.722Z"
   },
   {
    "duration": 24,
    "start_time": "2023-07-15T18:44:05.759Z"
   },
   {
    "duration": 59,
    "start_time": "2023-07-15T18:44:05.785Z"
   },
   {
    "duration": 22,
    "start_time": "2023-07-15T18:44:05.846Z"
   },
   {
    "duration": 2,
    "start_time": "2023-07-15T18:46:08.596Z"
   },
   {
    "duration": 219,
    "start_time": "2023-07-15T18:46:08.601Z"
   },
   {
    "duration": 7,
    "start_time": "2023-07-15T18:46:08.822Z"
   },
   {
    "duration": 46,
    "start_time": "2023-07-15T18:46:08.831Z"
   },
   {
    "duration": 7,
    "start_time": "2023-07-15T18:46:08.880Z"
   },
   {
    "duration": 12,
    "start_time": "2023-07-15T18:46:08.888Z"
   },
   {
    "duration": 28,
    "start_time": "2023-07-15T18:46:08.902Z"
   },
   {
    "duration": 22,
    "start_time": "2023-07-15T18:46:08.932Z"
   },
   {
    "duration": 35,
    "start_time": "2023-07-15T18:46:08.956Z"
   },
   {
    "duration": 34,
    "start_time": "2023-07-15T18:46:08.992Z"
   },
   {
    "duration": 31,
    "start_time": "2023-07-15T18:46:09.028Z"
   },
   {
    "duration": 85,
    "start_time": "2023-07-15T18:46:09.061Z"
   },
   {
    "duration": 82,
    "start_time": "2023-07-15T18:46:09.148Z"
   },
   {
    "duration": 84,
    "start_time": "2023-07-15T18:46:09.231Z"
   },
   {
    "duration": 50,
    "start_time": "2023-07-15T18:46:09.317Z"
   },
   {
    "duration": 11,
    "start_time": "2023-07-15T18:46:09.369Z"
   },
   {
    "duration": 39,
    "start_time": "2023-07-15T18:46:09.381Z"
   },
   {
    "duration": 31,
    "start_time": "2023-07-15T18:46:09.422Z"
   },
   {
    "duration": 15,
    "start_time": "2023-07-15T18:46:09.455Z"
   },
   {
    "duration": 8,
    "start_time": "2023-07-15T18:46:09.472Z"
   },
   {
    "duration": 29,
    "start_time": "2023-07-15T18:46:09.482Z"
   },
   {
    "duration": 21,
    "start_time": "2023-07-15T18:46:09.512Z"
   },
   {
    "duration": 35,
    "start_time": "2023-07-15T18:46:09.534Z"
   },
   {
    "duration": 19,
    "start_time": "2023-07-15T18:46:09.572Z"
   },
   {
    "duration": 18,
    "start_time": "2023-07-15T18:46:09.592Z"
   },
   {
    "duration": 15,
    "start_time": "2023-07-15T18:46:09.612Z"
   },
   {
    "duration": 26,
    "start_time": "2023-07-15T18:46:09.629Z"
   },
   {
    "duration": 16,
    "start_time": "2023-07-15T18:46:09.656Z"
   },
   {
    "duration": 11,
    "start_time": "2023-07-15T18:46:09.674Z"
   },
   {
    "duration": 5,
    "start_time": "2023-07-15T18:46:09.687Z"
   },
   {
    "duration": 24,
    "start_time": "2023-07-15T18:46:09.693Z"
   },
   {
    "duration": 39,
    "start_time": "2023-07-15T18:46:09.719Z"
   },
   {
    "duration": 20,
    "start_time": "2023-07-15T18:46:09.760Z"
   },
   {
    "duration": 12,
    "start_time": "2023-07-15T18:46:09.782Z"
   },
   {
    "duration": 15,
    "start_time": "2023-07-15T18:46:09.796Z"
   },
   {
    "duration": 8,
    "start_time": "2023-07-15T18:46:09.813Z"
   },
   {
    "duration": 34,
    "start_time": "2023-07-15T18:46:09.823Z"
   },
   {
    "duration": 6,
    "start_time": "2023-07-15T18:46:09.858Z"
   },
   {
    "duration": 3,
    "start_time": "2023-07-15T18:48:29.369Z"
   },
   {
    "duration": 182,
    "start_time": "2023-07-15T18:48:29.374Z"
   },
   {
    "duration": 8,
    "start_time": "2023-07-15T18:48:29.558Z"
   },
   {
    "duration": 35,
    "start_time": "2023-07-15T18:48:29.569Z"
   },
   {
    "duration": 3,
    "start_time": "2023-07-15T18:48:29.607Z"
   },
   {
    "duration": 10,
    "start_time": "2023-07-15T18:48:29.611Z"
   },
   {
    "duration": 30,
    "start_time": "2023-07-15T18:48:29.622Z"
   },
   {
    "duration": 4,
    "start_time": "2023-07-15T18:48:29.654Z"
   },
   {
    "duration": 30,
    "start_time": "2023-07-15T18:48:29.661Z"
   },
   {
    "duration": 21,
    "start_time": "2023-07-15T18:48:29.693Z"
   },
   {
    "duration": 41,
    "start_time": "2023-07-15T18:48:29.716Z"
   },
   {
    "duration": 69,
    "start_time": "2023-07-15T18:48:29.759Z"
   },
   {
    "duration": 90,
    "start_time": "2023-07-15T18:48:29.829Z"
   },
   {
    "duration": 82,
    "start_time": "2023-07-15T18:48:29.920Z"
   },
   {
    "duration": 48,
    "start_time": "2023-07-15T18:48:30.004Z"
   },
   {
    "duration": 11,
    "start_time": "2023-07-15T18:48:30.054Z"
   },
   {
    "duration": 48,
    "start_time": "2023-07-15T18:48:30.066Z"
   },
   {
    "duration": 12,
    "start_time": "2023-07-15T18:48:30.116Z"
   },
   {
    "duration": 24,
    "start_time": "2023-07-15T18:48:30.130Z"
   },
   {
    "duration": 4,
    "start_time": "2023-07-15T18:48:30.156Z"
   },
   {
    "duration": 41,
    "start_time": "2023-07-15T18:48:30.162Z"
   },
   {
    "duration": 39,
    "start_time": "2023-07-15T18:48:30.205Z"
   },
   {
    "duration": 54,
    "start_time": "2023-07-15T18:48:30.246Z"
   },
   {
    "duration": 28,
    "start_time": "2023-07-15T18:48:30.303Z"
   },
   {
    "duration": 33,
    "start_time": "2023-07-15T18:48:30.333Z"
   },
   {
    "duration": 17,
    "start_time": "2023-07-15T18:48:30.368Z"
   },
   {
    "duration": 30,
    "start_time": "2023-07-15T18:48:30.387Z"
   },
   {
    "duration": 47,
    "start_time": "2023-07-15T18:48:30.419Z"
   },
   {
    "duration": 38,
    "start_time": "2023-07-15T18:48:30.468Z"
   },
   {
    "duration": 44,
    "start_time": "2023-07-15T18:48:30.508Z"
   },
   {
    "duration": 77,
    "start_time": "2023-07-15T18:48:30.554Z"
   },
   {
    "duration": 51,
    "start_time": "2023-07-15T18:48:30.633Z"
   },
   {
    "duration": 44,
    "start_time": "2023-07-15T18:48:30.686Z"
   },
   {
    "duration": 53,
    "start_time": "2023-07-15T18:48:30.731Z"
   },
   {
    "duration": 51,
    "start_time": "2023-07-15T18:48:30.786Z"
   },
   {
    "duration": 94,
    "start_time": "2023-07-15T18:48:30.839Z"
   },
   {
    "duration": 65,
    "start_time": "2023-07-15T18:48:30.936Z"
   },
   {
    "duration": 47,
    "start_time": "2023-07-15T18:48:31.003Z"
   },
   {
    "duration": 5,
    "start_time": "2023-07-15T18:50:25.120Z"
   },
   {
    "duration": 2,
    "start_time": "2023-07-15T18:54:23.970Z"
   },
   {
    "duration": 189,
    "start_time": "2023-07-15T18:54:23.994Z"
   },
   {
    "duration": 8,
    "start_time": "2023-07-15T18:54:24.185Z"
   },
   {
    "duration": 48,
    "start_time": "2023-07-15T18:54:24.194Z"
   },
   {
    "duration": 7,
    "start_time": "2023-07-15T18:54:24.244Z"
   },
   {
    "duration": 5,
    "start_time": "2023-07-15T18:54:24.254Z"
   },
   {
    "duration": 27,
    "start_time": "2023-07-15T18:54:24.261Z"
   },
   {
    "duration": 4,
    "start_time": "2023-07-15T18:54:24.290Z"
   },
   {
    "duration": 36,
    "start_time": "2023-07-15T18:54:24.297Z"
   },
   {
    "duration": 28,
    "start_time": "2023-07-15T18:54:24.334Z"
   },
   {
    "duration": 32,
    "start_time": "2023-07-15T18:54:24.364Z"
   },
   {
    "duration": 104,
    "start_time": "2023-07-15T18:54:24.399Z"
   },
   {
    "duration": 101,
    "start_time": "2023-07-15T18:54:24.504Z"
   },
   {
    "duration": 89,
    "start_time": "2023-07-15T18:54:24.607Z"
   },
   {
    "duration": 38,
    "start_time": "2023-07-15T18:54:24.751Z"
   },
   {
    "duration": 13,
    "start_time": "2023-07-15T18:54:24.791Z"
   },
   {
    "duration": 59,
    "start_time": "2023-07-15T18:54:24.805Z"
   },
   {
    "duration": 13,
    "start_time": "2023-07-15T18:54:24.866Z"
   },
   {
    "duration": 12,
    "start_time": "2023-07-15T18:54:24.880Z"
   },
   {
    "duration": 11,
    "start_time": "2023-07-15T18:54:24.893Z"
   },
   {
    "duration": 36,
    "start_time": "2023-07-15T18:54:24.905Z"
   },
   {
    "duration": 24,
    "start_time": "2023-07-15T18:54:24.942Z"
   },
   {
    "duration": 16,
    "start_time": "2023-07-15T18:54:24.968Z"
   },
   {
    "duration": 15,
    "start_time": "2023-07-15T18:54:24.985Z"
   },
   {
    "duration": 18,
    "start_time": "2023-07-15T18:54:25.002Z"
   },
   {
    "duration": 37,
    "start_time": "2023-07-15T18:54:25.021Z"
   },
   {
    "duration": 9,
    "start_time": "2023-07-15T18:54:25.060Z"
   },
   {
    "duration": 21,
    "start_time": "2023-07-15T18:54:25.071Z"
   },
   {
    "duration": 10,
    "start_time": "2023-07-15T18:54:25.094Z"
   },
   {
    "duration": 10,
    "start_time": "2023-07-15T18:54:25.106Z"
   },
   {
    "duration": 40,
    "start_time": "2023-07-15T18:54:25.117Z"
   },
   {
    "duration": 17,
    "start_time": "2023-07-15T18:54:25.159Z"
   },
   {
    "duration": 20,
    "start_time": "2023-07-15T18:54:25.177Z"
   },
   {
    "duration": 13,
    "start_time": "2023-07-15T18:54:25.199Z"
   },
   {
    "duration": 40,
    "start_time": "2023-07-15T18:54:25.214Z"
   },
   {
    "duration": 0,
    "start_time": "2023-07-15T18:54:25.256Z"
   },
   {
    "duration": 0,
    "start_time": "2023-07-15T18:54:25.257Z"
   },
   {
    "duration": 0,
    "start_time": "2023-07-15T18:54:25.259Z"
   },
   {
    "duration": 13,
    "start_time": "2023-07-15T18:59:26.815Z"
   },
   {
    "duration": 9,
    "start_time": "2023-07-15T19:00:15.810Z"
   },
   {
    "duration": 3,
    "start_time": "2023-07-15T19:00:20.076Z"
   },
   {
    "duration": 205,
    "start_time": "2023-07-15T19:00:20.081Z"
   },
   {
    "duration": 8,
    "start_time": "2023-07-15T19:00:20.288Z"
   },
   {
    "duration": 41,
    "start_time": "2023-07-15T19:00:20.298Z"
   },
   {
    "duration": 10,
    "start_time": "2023-07-15T19:00:20.342Z"
   },
   {
    "duration": 5,
    "start_time": "2023-07-15T19:00:20.353Z"
   },
   {
    "duration": 13,
    "start_time": "2023-07-15T19:00:20.360Z"
   },
   {
    "duration": 4,
    "start_time": "2023-07-15T19:00:20.375Z"
   },
   {
    "duration": 41,
    "start_time": "2023-07-15T19:00:20.381Z"
   },
   {
    "duration": 45,
    "start_time": "2023-07-15T19:00:20.424Z"
   },
   {
    "duration": 43,
    "start_time": "2023-07-15T19:00:20.472Z"
   },
   {
    "duration": 88,
    "start_time": "2023-07-15T19:00:20.518Z"
   },
   {
    "duration": 86,
    "start_time": "2023-07-15T19:00:20.608Z"
   },
   {
    "duration": 79,
    "start_time": "2023-07-15T19:00:20.696Z"
   },
   {
    "duration": 40,
    "start_time": "2023-07-15T19:00:20.776Z"
   },
   {
    "duration": 12,
    "start_time": "2023-07-15T19:00:20.817Z"
   },
   {
    "duration": 64,
    "start_time": "2023-07-15T19:00:20.831Z"
   },
   {
    "duration": 13,
    "start_time": "2023-07-15T19:00:20.897Z"
   },
   {
    "duration": 72,
    "start_time": "2023-07-15T19:00:20.912Z"
   },
   {
    "duration": 4,
    "start_time": "2023-07-15T19:00:20.986Z"
   },
   {
    "duration": 61,
    "start_time": "2023-07-15T19:00:20.992Z"
   },
   {
    "duration": 52,
    "start_time": "2023-07-15T19:00:21.055Z"
   },
   {
    "duration": 62,
    "start_time": "2023-07-15T19:00:21.109Z"
   },
   {
    "duration": 16,
    "start_time": "2023-07-15T19:00:21.173Z"
   },
   {
    "duration": 25,
    "start_time": "2023-07-15T19:00:21.191Z"
   },
   {
    "duration": 14,
    "start_time": "2023-07-15T19:00:21.218Z"
   },
   {
    "duration": 25,
    "start_time": "2023-07-15T19:00:21.234Z"
   },
   {
    "duration": 20,
    "start_time": "2023-07-15T19:00:21.261Z"
   },
   {
    "duration": 14,
    "start_time": "2023-07-15T19:00:21.285Z"
   },
   {
    "duration": 6,
    "start_time": "2023-07-15T19:00:21.301Z"
   },
   {
    "duration": 44,
    "start_time": "2023-07-15T19:00:21.309Z"
   },
   {
    "duration": 18,
    "start_time": "2023-07-15T19:00:21.355Z"
   },
   {
    "duration": 30,
    "start_time": "2023-07-15T19:00:21.375Z"
   },
   {
    "duration": 14,
    "start_time": "2023-07-15T19:00:21.407Z"
   },
   {
    "duration": 29,
    "start_time": "2023-07-15T19:00:21.424Z"
   },
   {
    "duration": 0,
    "start_time": "2023-07-15T19:00:21.455Z"
   },
   {
    "duration": 0,
    "start_time": "2023-07-15T19:00:21.457Z"
   },
   {
    "duration": 0,
    "start_time": "2023-07-15T19:00:21.458Z"
   },
   {
    "duration": 10,
    "start_time": "2023-07-15T19:08:00.411Z"
   }
  ],
  "colab": {
   "collapsed_sections": [
    "E0vqbgi9ay0H",
    "VUC88oWjTJw2"
   ],
   "provenance": []
  },
  "kernelspec": {
   "display_name": "Python 3 (ipykernel)",
   "language": "python",
   "name": "python3"
  },
  "language_info": {
   "codemirror_mode": {
    "name": "ipython",
    "version": 3
   },
   "file_extension": ".py",
   "mimetype": "text/x-python",
   "name": "python",
   "nbconvert_exporter": "python",
   "pygments_lexer": "ipython3",
   "version": "3.9.5"
  },
  "toc": {
   "base_numbering": 1,
   "nav_menu": {
    "height": "215px",
    "width": "403px"
   },
   "number_sections": true,
   "sideBar": true,
   "skip_h1_title": true,
   "title_cell": "Table of Contents",
   "title_sidebar": "Contents",
   "toc_cell": false,
   "toc_position": {
    "height": "calc(100% - 180px)",
    "left": "10px",
    "top": "150px",
    "width": "285.825px"
   },
   "toc_section_display": true,
   "toc_window_display": false
  }
 },
 "nbformat": 4,
 "nbformat_minor": 1
}
