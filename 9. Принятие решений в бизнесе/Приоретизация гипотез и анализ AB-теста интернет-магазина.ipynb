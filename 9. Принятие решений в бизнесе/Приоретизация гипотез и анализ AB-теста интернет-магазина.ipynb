{
 "cells": [
  {
   "cell_type": "markdown",
   "metadata": {},
   "source": [
    "<div style=\"border:solid Chocolate 2px; padding: 40px\">\n",
    "\n",
    "<b>Ирина, приветствую!</b>\n",
    "\n",
    "Буду рада с тобой познакомиться. Меня зовут ... и я буду ревьюером твоего проекта. Если ты не против, то предлагаю общаться на \"ты\":) Если удобнее на \"вы\", то нет проблем, только скажи об этом.\n",
    "\n",
    "В процессе работы ты встретишь комментарии <font color='green'>зеленого</font>, <font color='gold'>желтого</font> и <font color='red'>красного</font> цветов. Что они значат, смотри ниже:\n",
    "    <br/>\n",
    "\n",
    "<div class=\"alert alert-success\">\n",
    "<h2> Комментарий ревьюера <a class=\"tocSkip\"> </h2>\n",
    "\n",
    "<b>Отлично!✅:</b> Решение на этом шаге является полностью правильным. У тебя хорошо получается проводить АВ-тестирование и анализировать данные!\n",
    "</div>\n",
    "\n",
    "<br/>\n",
    "\n",
    "<div class=\"alert alert-warning\">\n",
    "    <h2> Комментарий ревьюера <a class=\"tocSkip\"> </h2>\n",
    "    \n",
    "<b>Можно лучше⚠️:</b> Решение на этом шаге станет еще лучше, если внести небольшие коррективы.\n",
    "</div>\n",
    "\n",
    "\n",
    "<br/>\n",
    "<div class=\"alert alert-block alert-danger\">\n",
    "<h2> Комментарий ревьюера <a class=\"tocSkip\"></h2>\n",
    "\n",
    "    \n",
    "<b>Необходимо исправить❌:</b>\n",
    " Решение на этом шаге требует существенной переработки и внесения правок. Напоминаю, что проект не может быть принят с первого раза, если ревью содержит комментарии, рекомендующие доработать шаги.\n",
    "</div>\n",
    "    \n",
    "Увидев мой комментарий, не удаляй его, он будет очень полезен в случае повторной проверки работы😊\n",
    "    \n",
    "Свой комментарий помечай так, как показано ниже, тогда нам будет легче вести диалог, а мне выполнить повторную проверку проекта.\n",
    "    <div class=\"alert alert-info\"> <b>Комментарий студента: Привет Евгения! Рада знакомству! </b> </div>\n",
    "    \n"
   ]
  },
  {
   "cell_type": "markdown",
   "metadata": {},
   "source": [
    "<div class=\"alert alert-warning\">\n",
    "    <h2> Комментарий ревьюера <a class=\"tocSkip\"> </h2>\n",
    "    \n",
    "<b>Можно лучше⚠️:</b> Ира, не хватает названия проекта:)\n",
    "</div>"
   ]
  },
  {
   "cell_type": "markdown",
   "metadata": {},
   "source": [
    "<div class=\"alert alert-info\"> <b>Комментарий студента: Добавила название проекта и оглавление. </b> </div>"
   ]
  },
  {
   "cell_type": "markdown",
   "metadata": {},
   "source": [
    "<div class=\"alert alert-success\">\n",
    "<h2> Комментарий ревьюера v2<a class=\"tocSkip\"> </h2>\n",
    "\n",
    "<b>Отлично!✅:</b> Умничка!\n",
    "\n",
    "</div>"
   ]
  },
  {
   "cell_type": "markdown",
   "metadata": {},
   "source": [
    "# Приоретизация гипотез и анализ AB-теста интернет-магазина"
   ]
  },
  {
   "cell_type": "markdown",
   "metadata": {},
   "source": [
    "# Описание данных\n",
    "\n",
    "\n",
    "# Данные для первой части\n",
    "\n",
    "Файл /datasets/hypothesis.csv\n",
    "\n",
    "\n",
    "Hypothesis — краткое описание гипотезы;\n",
    "\n",
    "Reach — охват пользователей по 10-балльной шкале;\n",
    "\n",
    "Impact — влияние на пользователей по 10-балльной шкале;\n",
    "\n",
    "Confidence — уверенность в гипотезе по 10-балльной шкале;\n",
    "\n",
    "Efforts — затраты ресурсов на проверку гипотезы по 10-балльной шкале. Чем больше значение Efforts, тем дороже проверка гипотезы.\n",
    "\n",
    "\n",
    "# Данные для второй части\n",
    "\n",
    "Файл /datasets/orders.csv\n",
    "\n",
    "\n",
    "transactionId — идентификатор заказа;\n",
    "\n",
    "visitorId — идентификатор пользователя, совершившего заказ;\n",
    "\n",
    "date — дата, когда был совершён заказ;\n",
    "\n",
    "revenue — выручка заказа;\n",
    "\n",
    "group — группа A/B-теста, в которую попал заказ.  \n",
    "\n",
    "\n",
    "\n",
    "Файл /datasets/visitors.csv\n",
    "\n",
    "date — дата;\n",
    "\n",
    "group — группа A/B-теста;\n",
    "\n",
    "visitors — количество пользователей в указанную дату в указанной группе A/B-теста\n",
    "\n",
    "\n",
    "# Описание проекта\n",
    "\n",
    "# Задача\n",
    "\n",
    "Вы — аналитик крупного интернет-магазина. Вместе с отделом маркетинга вы подготовили список гипотез для увеличения выручки.\n",
    "Приоритизируйте гипотезы, запустите A/B-тест и проанализируйте результаты. \n",
    "\n",
    "# Часть 1. Приоритизация гипотез.\n",
    "В файле /datasets/hypothesis.csv 9 гипотез по увеличению выручки интернет-магазина с указанными параметрами Reach, Impact, Confidence, Effort.\n",
    "\n",
    "# Задача\n",
    "Примените фреймворк ICE для приоритизации гипотез. Отсортируйте их по убыванию приоритета.\n",
    "\n",
    "Примените фреймворк RICE для приоритизации гипотез. Отсортируйте их по убыванию приоритета.\n",
    "\n",
    "Укажите, как изменилась приоритизация гипотез при применении RICE вместо ICE. Объясните, почему так произошло.\n",
    "\n",
    "\n",
    "# Часть 2. Анализ A/B-теста\n",
    "\n",
    "Вы провели A/B-тест и получили результаты, которые описаны в файлах /datasets/orders.csv и /datasets/visitors.csv.\n",
    "\n",
    "# Задача\n",
    "\n",
    "Проанализируйте A/B-тест:\n",
    "\n",
    "Постройте график кумулятивной выручки по группам. Сделайте выводы и предположения.\n",
    "\n",
    "Постройте график кумулятивного среднего чека по группам. Сделайте выводы и предположения.\n",
    "\n",
    "Постройте график относительного изменения кумулятивного среднего чека группы B к группе A. Сделайте выводы и предположения.\n",
    "\n",
    "Постройте график кумулятивного среднего количества заказов на посетителя по группам. Сделайте выводы и предположения.\n",
    "\n",
    "Постройте график относительного изменения кумулятивного среднего количества заказов на посетителя группы B к группе A. Сделайте выводы и предположения.\n",
    "\n",
    "Постройте точечный график количества заказов по пользователям. Сделайте выводы и предположения.\n",
    "\n",
    "Посчитайте 95-й и 99-й перцентили количества заказов на пользователя. Выберите границу для определения аномальных пользователей.\n",
    "\n",
    "Постройте точечный график стоимостей заказов. Сделайте выводы и предположения.\n",
    "\n",
    "Посчитайте 95-й и 99-й перцентили стоимости заказов. Выберите границу для определения аномальных заказов.\n",
    "\n",
    "Посчитайте статистическую значимость различий в среднем количестве заказов на посетителя между группами по «сырым» данным. \n",
    "Сделайте выводы и предположения.\n",
    "\n",
    "Посчитайте статистическую значимость различий в среднем чеке заказа между группами по «сырым» данным. Сделайте выводы и предположения.\n",
    "\n",
    "Посчитайте статистическую значимость различий в среднем количестве заказов на посетителя между группами по «очищенным» данным. Сделайте выводы и предположения.\n",
    "\n",
    "Посчитайте статистическую значимость различий в среднем чеке заказа между группами по «очищенным» данным. Сделайте выводы и предположения.\n",
    "\n",
    "Примите решение по результатам теста и объясните его. Варианты решений:\n",
    "1. Остановить тест, зафиксировать победу одной из групп.\n",
    "2. Остановить тест, зафиксировать отсутствие различий между группами.\n",
    "3. Продолжить тест."
   ]
  },
  {
   "cell_type": "markdown",
   "metadata": {},
   "source": [
    "<div class=\"alert alert-success\">\n",
    "<h2> Комментарий ревьюера <a class=\"tocSkip\"> </h2>\n",
    "\n",
    "<b>Отлично!✅:</b> Супер, что добавила описание и привела детальный план изучения проекта, так будет легче каждому соореентироваться в работе!\n",
    "</div>"
   ]
  },
  {
   "cell_type": "markdown",
   "metadata": {},
   "source": [
    "## Подготовка данных к анализу"
   ]
  },
  {
   "cell_type": "code",
   "execution_count": 126,
   "metadata": {},
   "outputs": [],
   "source": [
    "#загружаем библиотеки\n",
    "import pandas as pd\n",
    "import matplotlib.pyplot as plt\n",
    "import seaborn as sns\n",
    "import math\n",
    "import numpy as np\n",
    "import datetime as dt\n",
    "import scipy.stats as stats"
   ]
  },
  {
   "cell_type": "code",
   "execution_count": 127,
   "metadata": {},
   "outputs": [],
   "source": [
    "# настройка отображения\n",
    "pd.set_option('display.max_columns', None)\n",
    "pd.options.display.float_format = '{:,.2f}'.format\n",
    "pd.options.display.max_colwidth = 100"
   ]
  },
  {
   "cell_type": "code",
   "execution_count": 128,
   "metadata": {},
   "outputs": [],
   "source": [
    "#загружаем данные\n",
    "hypothesis = pd.read_csv('/datasets/hypothesis.csv')\n",
    "orders = pd.read_csv('/datasets/orders.csv')\n",
    "visitors = pd.read_csv('/datasets/visitors.csv')"
   ]
  },
  {
   "cell_type": "code",
   "execution_count": 129,
   "metadata": {
    "scrolled": true
   },
   "outputs": [
    {
     "data": {
      "text/html": [
       "<div>\n",
       "<style scoped>\n",
       "    .dataframe tbody tr th:only-of-type {\n",
       "        vertical-align: middle;\n",
       "    }\n",
       "\n",
       "    .dataframe tbody tr th {\n",
       "        vertical-align: top;\n",
       "    }\n",
       "\n",
       "    .dataframe thead th {\n",
       "        text-align: right;\n",
       "    }\n",
       "</style>\n",
       "<table border=\"1\" class=\"dataframe\">\n",
       "  <thead>\n",
       "    <tr style=\"text-align: right;\">\n",
       "      <th></th>\n",
       "      <th>Hypothesis</th>\n",
       "      <th>Reach</th>\n",
       "      <th>Impact</th>\n",
       "      <th>Confidence</th>\n",
       "      <th>Efforts</th>\n",
       "    </tr>\n",
       "  </thead>\n",
       "  <tbody>\n",
       "    <tr>\n",
       "      <th>0</th>\n",
       "      <td>Добавить два новых канала привлечения трафика, что позволит привлекать на 30% больше пользователей</td>\n",
       "      <td>3</td>\n",
       "      <td>10</td>\n",
       "      <td>8</td>\n",
       "      <td>6</td>\n",
       "    </tr>\n",
       "    <tr>\n",
       "      <th>1</th>\n",
       "      <td>Запустить собственную службу доставки, что сократит срок доставки заказов</td>\n",
       "      <td>2</td>\n",
       "      <td>5</td>\n",
       "      <td>4</td>\n",
       "      <td>10</td>\n",
       "    </tr>\n",
       "    <tr>\n",
       "      <th>2</th>\n",
       "      <td>Добавить блоки рекомендаций товаров на сайт интернет магазина, чтобы повысить конверсию и средни...</td>\n",
       "      <td>8</td>\n",
       "      <td>3</td>\n",
       "      <td>7</td>\n",
       "      <td>3</td>\n",
       "    </tr>\n",
       "    <tr>\n",
       "      <th>3</th>\n",
       "      <td>Изменить структура категорий, что увеличит конверсию, т.к. пользователи быстрее найдут нужный товар</td>\n",
       "      <td>8</td>\n",
       "      <td>3</td>\n",
       "      <td>3</td>\n",
       "      <td>8</td>\n",
       "    </tr>\n",
       "    <tr>\n",
       "      <th>4</th>\n",
       "      <td>Изменить цвет фона главной страницы, чтобы увеличить вовлеченность пользователей</td>\n",
       "      <td>3</td>\n",
       "      <td>1</td>\n",
       "      <td>1</td>\n",
       "      <td>1</td>\n",
       "    </tr>\n",
       "    <tr>\n",
       "      <th>5</th>\n",
       "      <td>Добавить страницу отзывов клиентов о магазине, что позволит увеличить количество заказов</td>\n",
       "      <td>3</td>\n",
       "      <td>2</td>\n",
       "      <td>2</td>\n",
       "      <td>3</td>\n",
       "    </tr>\n",
       "    <tr>\n",
       "      <th>6</th>\n",
       "      <td>Показать на главной странице баннеры с актуальными акциями и распродажами, чтобы увеличить конве...</td>\n",
       "      <td>5</td>\n",
       "      <td>3</td>\n",
       "      <td>8</td>\n",
       "      <td>3</td>\n",
       "    </tr>\n",
       "    <tr>\n",
       "      <th>7</th>\n",
       "      <td>Добавить форму подписки на все основные страницы, чтобы собрать базу клиентов для email-рассылок</td>\n",
       "      <td>10</td>\n",
       "      <td>7</td>\n",
       "      <td>8</td>\n",
       "      <td>5</td>\n",
       "    </tr>\n",
       "    <tr>\n",
       "      <th>8</th>\n",
       "      <td>Запустить акцию, дающую скидку на товар в день рождения</td>\n",
       "      <td>1</td>\n",
       "      <td>9</td>\n",
       "      <td>9</td>\n",
       "      <td>5</td>\n",
       "    </tr>\n",
       "  </tbody>\n",
       "</table>\n",
       "</div>"
      ],
      "text/plain": [
       "                                                                                            Hypothesis  \\\n",
       "0   Добавить два новых канала привлечения трафика, что позволит привлекать на 30% больше пользователей   \n",
       "1                            Запустить собственную службу доставки, что сократит срок доставки заказов   \n",
       "2  Добавить блоки рекомендаций товаров на сайт интернет магазина, чтобы повысить конверсию и средни...   \n",
       "3  Изменить структура категорий, что увеличит конверсию, т.к. пользователи быстрее найдут нужный товар   \n",
       "4                     Изменить цвет фона главной страницы, чтобы увеличить вовлеченность пользователей   \n",
       "5             Добавить страницу отзывов клиентов о магазине, что позволит увеличить количество заказов   \n",
       "6  Показать на главной странице баннеры с актуальными акциями и распродажами, чтобы увеличить конве...   \n",
       "7     Добавить форму подписки на все основные страницы, чтобы собрать базу клиентов для email-рассылок   \n",
       "8                                              Запустить акцию, дающую скидку на товар в день рождения   \n",
       "\n",
       "   Reach  Impact  Confidence  Efforts  \n",
       "0      3      10           8        6  \n",
       "1      2       5           4       10  \n",
       "2      8       3           7        3  \n",
       "3      8       3           3        8  \n",
       "4      3       1           1        1  \n",
       "5      3       2           2        3  \n",
       "6      5       3           8        3  \n",
       "7     10       7           8        5  \n",
       "8      1       9           9        5  "
      ]
     },
     "metadata": {},
     "output_type": "display_data"
    },
    {
     "name": "stdout",
     "output_type": "stream",
     "text": [
      "<class 'pandas.core.frame.DataFrame'>\n",
      "RangeIndex: 9 entries, 0 to 8\n",
      "Data columns (total 5 columns):\n",
      " #   Column      Non-Null Count  Dtype \n",
      "---  ------      --------------  ----- \n",
      " 0   Hypothesis  9 non-null      object\n",
      " 1   Reach       9 non-null      int64 \n",
      " 2   Impact      9 non-null      int64 \n",
      " 3   Confidence  9 non-null      int64 \n",
      " 4   Efforts     9 non-null      int64 \n",
      "dtypes: int64(4), object(1)\n",
      "memory usage: 488.0+ bytes\n"
     ]
    },
    {
     "data": {
      "text/plain": [
       "None"
      ]
     },
     "metadata": {},
     "output_type": "display_data"
    },
    {
     "data": {
      "text/html": [
       "<div>\n",
       "<style scoped>\n",
       "    .dataframe tbody tr th:only-of-type {\n",
       "        vertical-align: middle;\n",
       "    }\n",
       "\n",
       "    .dataframe tbody tr th {\n",
       "        vertical-align: top;\n",
       "    }\n",
       "\n",
       "    .dataframe thead th {\n",
       "        text-align: right;\n",
       "    }\n",
       "</style>\n",
       "<table border=\"1\" class=\"dataframe\">\n",
       "  <thead>\n",
       "    <tr style=\"text-align: right;\">\n",
       "      <th></th>\n",
       "      <th>transactionId</th>\n",
       "      <th>visitorId</th>\n",
       "      <th>date</th>\n",
       "      <th>revenue</th>\n",
       "      <th>group</th>\n",
       "    </tr>\n",
       "  </thead>\n",
       "  <tbody>\n",
       "    <tr>\n",
       "      <th>0</th>\n",
       "      <td>3667963787</td>\n",
       "      <td>3312258926</td>\n",
       "      <td>2019-08-15</td>\n",
       "      <td>1650</td>\n",
       "      <td>B</td>\n",
       "    </tr>\n",
       "    <tr>\n",
       "      <th>1</th>\n",
       "      <td>2804400009</td>\n",
       "      <td>3642806036</td>\n",
       "      <td>2019-08-15</td>\n",
       "      <td>730</td>\n",
       "      <td>B</td>\n",
       "    </tr>\n",
       "    <tr>\n",
       "      <th>2</th>\n",
       "      <td>2961555356</td>\n",
       "      <td>4069496402</td>\n",
       "      <td>2019-08-15</td>\n",
       "      <td>400</td>\n",
       "      <td>A</td>\n",
       "    </tr>\n",
       "    <tr>\n",
       "      <th>3</th>\n",
       "      <td>3797467345</td>\n",
       "      <td>1196621759</td>\n",
       "      <td>2019-08-15</td>\n",
       "      <td>9759</td>\n",
       "      <td>B</td>\n",
       "    </tr>\n",
       "    <tr>\n",
       "      <th>4</th>\n",
       "      <td>2282983706</td>\n",
       "      <td>2322279887</td>\n",
       "      <td>2019-08-15</td>\n",
       "      <td>2308</td>\n",
       "      <td>B</td>\n",
       "    </tr>\n",
       "  </tbody>\n",
       "</table>\n",
       "</div>"
      ],
      "text/plain": [
       "   transactionId   visitorId        date  revenue group\n",
       "0     3667963787  3312258926  2019-08-15     1650     B\n",
       "1     2804400009  3642806036  2019-08-15      730     B\n",
       "2     2961555356  4069496402  2019-08-15      400     A\n",
       "3     3797467345  1196621759  2019-08-15     9759     B\n",
       "4     2282983706  2322279887  2019-08-15     2308     B"
      ]
     },
     "metadata": {},
     "output_type": "display_data"
    },
    {
     "name": "stdout",
     "output_type": "stream",
     "text": [
      "<class 'pandas.core.frame.DataFrame'>\n",
      "RangeIndex: 1197 entries, 0 to 1196\n",
      "Data columns (total 5 columns):\n",
      " #   Column         Non-Null Count  Dtype \n",
      "---  ------         --------------  ----- \n",
      " 0   transactionId  1197 non-null   int64 \n",
      " 1   visitorId      1197 non-null   int64 \n",
      " 2   date           1197 non-null   object\n",
      " 3   revenue        1197 non-null   int64 \n",
      " 4   group          1197 non-null   object\n",
      "dtypes: int64(3), object(2)\n",
      "memory usage: 46.9+ KB\n"
     ]
    },
    {
     "data": {
      "text/plain": [
       "None"
      ]
     },
     "metadata": {},
     "output_type": "display_data"
    },
    {
     "data": {
      "text/html": [
       "<div>\n",
       "<style scoped>\n",
       "    .dataframe tbody tr th:only-of-type {\n",
       "        vertical-align: middle;\n",
       "    }\n",
       "\n",
       "    .dataframe tbody tr th {\n",
       "        vertical-align: top;\n",
       "    }\n",
       "\n",
       "    .dataframe thead th {\n",
       "        text-align: right;\n",
       "    }\n",
       "</style>\n",
       "<table border=\"1\" class=\"dataframe\">\n",
       "  <thead>\n",
       "    <tr style=\"text-align: right;\">\n",
       "      <th></th>\n",
       "      <th>date</th>\n",
       "      <th>group</th>\n",
       "      <th>visitors</th>\n",
       "    </tr>\n",
       "  </thead>\n",
       "  <tbody>\n",
       "    <tr>\n",
       "      <th>0</th>\n",
       "      <td>2019-08-01</td>\n",
       "      <td>A</td>\n",
       "      <td>719</td>\n",
       "    </tr>\n",
       "    <tr>\n",
       "      <th>1</th>\n",
       "      <td>2019-08-02</td>\n",
       "      <td>A</td>\n",
       "      <td>619</td>\n",
       "    </tr>\n",
       "    <tr>\n",
       "      <th>2</th>\n",
       "      <td>2019-08-03</td>\n",
       "      <td>A</td>\n",
       "      <td>507</td>\n",
       "    </tr>\n",
       "    <tr>\n",
       "      <th>3</th>\n",
       "      <td>2019-08-04</td>\n",
       "      <td>A</td>\n",
       "      <td>717</td>\n",
       "    </tr>\n",
       "    <tr>\n",
       "      <th>4</th>\n",
       "      <td>2019-08-05</td>\n",
       "      <td>A</td>\n",
       "      <td>756</td>\n",
       "    </tr>\n",
       "  </tbody>\n",
       "</table>\n",
       "</div>"
      ],
      "text/plain": [
       "         date group  visitors\n",
       "0  2019-08-01     A       719\n",
       "1  2019-08-02     A       619\n",
       "2  2019-08-03     A       507\n",
       "3  2019-08-04     A       717\n",
       "4  2019-08-05     A       756"
      ]
     },
     "metadata": {},
     "output_type": "display_data"
    },
    {
     "name": "stdout",
     "output_type": "stream",
     "text": [
      "<class 'pandas.core.frame.DataFrame'>\n",
      "RangeIndex: 62 entries, 0 to 61\n",
      "Data columns (total 3 columns):\n",
      " #   Column    Non-Null Count  Dtype \n",
      "---  ------    --------------  ----- \n",
      " 0   date      62 non-null     object\n",
      " 1   group     62 non-null     object\n",
      " 2   visitors  62 non-null     int64 \n",
      "dtypes: int64(1), object(2)\n",
      "memory usage: 1.6+ KB\n"
     ]
    },
    {
     "data": {
      "text/plain": [
       "None"
      ]
     },
     "metadata": {},
     "output_type": "display_data"
    }
   ],
   "source": [
    "# изучим данные\n",
    "display(hypothesis)\n",
    "display(hypothesis.info())\n",
    "display(orders.head())\n",
    "display(orders.info())\n",
    "display(visitors.head())\n",
    "display(visitors.info())"
   ]
  },
  {
   "cell_type": "markdown",
   "metadata": {},
   "source": [
    "<div class=\"alert alert-success\">\n",
    "<h2> Комментарий ревьюера <a class=\"tocSkip\"> </h2>\n",
    "\n",
    "<b>Отлично!✅:</b> Данные загружены верно. Молодец, что применила настройку, так с гипотезами мы сможем познакомиться в полном объеме!\n",
    "</div>"
   ]
  },
  {
   "cell_type": "markdown",
   "metadata": {},
   "source": [
    "Выводы:\n",
    "\n",
    "В данных нет пропусков\n",
    "\n",
    "Необходимо перевести даты в нужный формат\n",
    "\n",
    "Необходимо привести заголовки столбцов к единому формату (строчные буквы)\n",
    "\n",
    "Необходимо данные проверить на дубликаты"
   ]
  },
  {
   "cell_type": "code",
   "execution_count": 130,
   "metadata": {},
   "outputs": [],
   "source": [
    "# переведем дату в соответствующий формат\n",
    "orders['date'] = pd.to_datetime(orders.date).dt.date\n",
    "visitors['date'] = pd.to_datetime(visitors.date).dt.date"
   ]
  },
  {
   "cell_type": "code",
   "execution_count": 131,
   "metadata": {},
   "outputs": [],
   "source": [
    "# приведем столбцы к нижнему регистру\n",
    "hypothesis.columns = hypothesis.columns.map(lambda x: x.lower())\n",
    "\n",
    "orders.rename(columns={\n",
    "            'transactionId': 'transactionid',\n",
    "            'visitorId': 'visitorid',\n",
    "    },\n",
    "             inplace=True)"
   ]
  },
  {
   "cell_type": "code",
   "execution_count": 132,
   "metadata": {},
   "outputs": [
    {
     "name": "stdout",
     "output_type": "stream",
     "text": [
      "Количество дубликатов в hypothesis 0\n",
      "Количество дубликатов в orders 0\n",
      "Количество дубликатов в visitors 0\n"
     ]
    }
   ],
   "source": [
    "# фунцкия проверки на дубли\n",
    "def duplicate_check(list):\n",
    "    for file in list:\n",
    "        print('Количество дубликатов в {}'.format(file.name), file.duplicated().sum())\n",
    "\n",
    "hypothesis.name = 'hypothesis'\n",
    "orders.name = 'orders'\n",
    "visitors.name = 'visitors'        \n",
    "\n",
    "spisok = [hypothesis, orders, visitors]\n",
    "\n",
    "duplicate_check(spisok)"
   ]
  },
  {
   "cell_type": "markdown",
   "metadata": {},
   "source": [
    "Дубликатов нет"
   ]
  },
  {
   "cell_type": "markdown",
   "metadata": {},
   "source": [
    "<div class=\"alert alert-success\">\n",
    "<h2> Комментарий ревьюера <a class=\"tocSkip\"> </h2>\n",
    "\n",
    "<b>Отлично!✅:</b> Типы данных заменили, убедились в корректности данных, можем двигаться дальше!\n",
    "</div>"
   ]
  },
  {
   "cell_type": "markdown",
   "metadata": {},
   "source": [
    "<div class=\"alert alert-warning\">\n",
    "    <h2> Комментарий ревьюера <a class=\"tocSkip\"> </h2>\n",
    "    \n",
    "<b>Можно лучше⚠️:</b> Также рекомендую проанализировать: \n",
    "1. Количество групп в АВ-тесте; \n",
    "2. Даты начала и окончания теста; \n",
    "3. Количество пользователей в каждой группе - по таблице с заказами; \n",
    "4. Вероятность попадания пользователей в обе группы - по таблице с заказами.\n",
    "        \n",
    "С помощью дополнительного анализа мы удостоверимся в корректности данных, сможем избежать ошибок, а также это пригодится тебе в будущем, например, при решении финального проекта:)\n",
    "</div>"
   ]
  },
  {
   "cell_type": "markdown",
   "metadata": {},
   "source": [
    "<div class=\"alert alert-info\"> <b>Комментарий студента: Добавила ниже </b> </div>"
   ]
  },
  {
   "cell_type": "code",
   "execution_count": 133,
   "metadata": {},
   "outputs": [
    {
     "name": "stdout",
     "output_type": "stream",
     "text": [
      "  group  visitorid\n",
      "0     A        557\n",
      "1     B        640\n"
     ]
    }
   ],
   "source": [
    "# проверим количество групп и количество пользователей в АБ-тесте\n",
    "groupsTest = (\n",
    "    orders.groupby('group', as_index=False)\n",
    "    .agg({'visitorid': 'count'})\n",
    ")\n",
    "print(groupsTest)"
   ]
  },
  {
   "cell_type": "code",
   "execution_count": 134,
   "metadata": {},
   "outputs": [
    {
     "name": "stdout",
     "output_type": "stream",
     "text": [
      "Дата начала в visitors:  2019-08-01\n",
      "Дата окончания в visitors:  2019-08-31\n",
      "Дата начала в orders:  2019-08-01\n",
      "Дата окончания в orders:  2019-08-31\n"
     ]
    }
   ],
   "source": [
    "# проверим даты начала и окончания теста в датасетах\n",
    "print('Дата начала в visitors: ', visitors.date.min())\n",
    "print('Дата окончания в visitors: ', visitors.date.max())\n",
    "print('Дата начала в orders: ', orders.date.min())\n",
    "print('Дата окончания в orders: ', orders.date.max())"
   ]
  },
  {
   "cell_type": "code",
   "execution_count": 135,
   "metadata": {},
   "outputs": [
    {
     "data": {
      "text/plain": [
       "'Число пользователей присутствующих в обеих группах: 58'"
      ]
     },
     "metadata": {},
     "output_type": "display_data"
    }
   ],
   "source": [
    "# проверим есть ли пересечения пользователей в группах А и В (один пользователь попал в обе группы)\n",
    "testA_user = orders.query('group == \"A\"').visitorid.unique()\n",
    "testB_user = orders.query('group == \"B\"').visitorid.unique()\n",
    "inter = np.intersect1d(testA_user, testB_user)\n",
    "display(f'Число пользователей присутствующих в обеих группах: {len(inter)}')"
   ]
  },
  {
   "cell_type": "markdown",
   "metadata": {},
   "source": [
    "Выводы:\n",
    "\n",
    "1. Количество групп в тесте - 2 (А и В)\n",
    "\n",
    "2. AB-тест проводился с 1 по 31 августа 2019 года\n",
    "\n",
    "3. 58 пользователей - присутствует в обоих группах"
   ]
  },
  {
   "cell_type": "markdown",
   "metadata": {},
   "source": [
    "<div class=\"alert alert-success\">\n",
    "<h2> Комментарий ревьюера v2<a class=\"tocSkip\"> </h2>\n",
    "\n",
    "<b>Отлично!✅:</b> Хорошо!\n",
    "\n",
    "</div>"
   ]
  },
  {
   "cell_type": "markdown",
   "metadata": {},
   "source": [
    "## Приоретизация гипотез"
   ]
  },
  {
   "cell_type": "markdown",
   "metadata": {},
   "source": [
    "Примените фреймворк ICE для приоритизации гипотез. Отсортируйте их по убыванию приоритета."
   ]
  },
  {
   "cell_type": "code",
   "execution_count": 136,
   "metadata": {},
   "outputs": [
    {
     "data": {
      "text/html": [
       "<div>\n",
       "<style scoped>\n",
       "    .dataframe tbody tr th:only-of-type {\n",
       "        vertical-align: middle;\n",
       "    }\n",
       "\n",
       "    .dataframe tbody tr th {\n",
       "        vertical-align: top;\n",
       "    }\n",
       "\n",
       "    .dataframe thead th {\n",
       "        text-align: right;\n",
       "    }\n",
       "</style>\n",
       "<table border=\"1\" class=\"dataframe\">\n",
       "  <thead>\n",
       "    <tr style=\"text-align: right;\">\n",
       "      <th></th>\n",
       "      <th>hypothesis</th>\n",
       "      <th>ICE</th>\n",
       "    </tr>\n",
       "  </thead>\n",
       "  <tbody>\n",
       "    <tr>\n",
       "      <th>8</th>\n",
       "      <td>Запустить акцию, дающую скидку на товар в день рождения</td>\n",
       "      <td>16.20</td>\n",
       "    </tr>\n",
       "    <tr>\n",
       "      <th>0</th>\n",
       "      <td>Добавить два новых канала привлечения трафика, что позволит привлекать на 30% больше пользователей</td>\n",
       "      <td>13.33</td>\n",
       "    </tr>\n",
       "    <tr>\n",
       "      <th>7</th>\n",
       "      <td>Добавить форму подписки на все основные страницы, чтобы собрать базу клиентов для email-рассылок</td>\n",
       "      <td>11.20</td>\n",
       "    </tr>\n",
       "    <tr>\n",
       "      <th>6</th>\n",
       "      <td>Показать на главной странице баннеры с актуальными акциями и распродажами, чтобы увеличить конве...</td>\n",
       "      <td>8.00</td>\n",
       "    </tr>\n",
       "    <tr>\n",
       "      <th>2</th>\n",
       "      <td>Добавить блоки рекомендаций товаров на сайт интернет магазина, чтобы повысить конверсию и средни...</td>\n",
       "      <td>7.00</td>\n",
       "    </tr>\n",
       "    <tr>\n",
       "      <th>1</th>\n",
       "      <td>Запустить собственную службу доставки, что сократит срок доставки заказов</td>\n",
       "      <td>2.00</td>\n",
       "    </tr>\n",
       "    <tr>\n",
       "      <th>5</th>\n",
       "      <td>Добавить страницу отзывов клиентов о магазине, что позволит увеличить количество заказов</td>\n",
       "      <td>1.33</td>\n",
       "    </tr>\n",
       "    <tr>\n",
       "      <th>3</th>\n",
       "      <td>Изменить структура категорий, что увеличит конверсию, т.к. пользователи быстрее найдут нужный товар</td>\n",
       "      <td>1.12</td>\n",
       "    </tr>\n",
       "    <tr>\n",
       "      <th>4</th>\n",
       "      <td>Изменить цвет фона главной страницы, чтобы увеличить вовлеченность пользователей</td>\n",
       "      <td>1.00</td>\n",
       "    </tr>\n",
       "  </tbody>\n",
       "</table>\n",
       "</div>"
      ],
      "text/plain": [
       "                                                                                            hypothesis  \\\n",
       "8                                              Запустить акцию, дающую скидку на товар в день рождения   \n",
       "0   Добавить два новых канала привлечения трафика, что позволит привлекать на 30% больше пользователей   \n",
       "7     Добавить форму подписки на все основные страницы, чтобы собрать базу клиентов для email-рассылок   \n",
       "6  Показать на главной странице баннеры с актуальными акциями и распродажами, чтобы увеличить конве...   \n",
       "2  Добавить блоки рекомендаций товаров на сайт интернет магазина, чтобы повысить конверсию и средни...   \n",
       "1                            Запустить собственную службу доставки, что сократит срок доставки заказов   \n",
       "5             Добавить страницу отзывов клиентов о магазине, что позволит увеличить количество заказов   \n",
       "3  Изменить структура категорий, что увеличит конверсию, т.к. пользователи быстрее найдут нужный товар   \n",
       "4                     Изменить цвет фона главной страницы, чтобы увеличить вовлеченность пользователей   \n",
       "\n",
       "    ICE  \n",
       "8 16.20  \n",
       "0 13.33  \n",
       "7 11.20  \n",
       "6  8.00  \n",
       "2  7.00  \n",
       "1  2.00  \n",
       "5  1.33  \n",
       "3  1.12  \n",
       "4  1.00  "
      ]
     },
     "metadata": {},
     "output_type": "display_data"
    }
   ],
   "source": [
    "# рассчитываем ICE\n",
    "hypothesis['ICE'] = (hypothesis['impact'] * hypothesis['confidence']) / hypothesis['efforts']\n",
    "display(hypothesis[['hypothesis', 'ICE']].sort_values(by='ICE', ascending=False))"
   ]
  },
  {
   "cell_type": "markdown",
   "metadata": {},
   "source": [
    "Примените фреймворк RICE для приоритизации гипотез. Отсортируйте их по убыванию приоритета."
   ]
  },
  {
   "cell_type": "code",
   "execution_count": 137,
   "metadata": {},
   "outputs": [
    {
     "data": {
      "text/html": [
       "<div>\n",
       "<style scoped>\n",
       "    .dataframe tbody tr th:only-of-type {\n",
       "        vertical-align: middle;\n",
       "    }\n",
       "\n",
       "    .dataframe tbody tr th {\n",
       "        vertical-align: top;\n",
       "    }\n",
       "\n",
       "    .dataframe thead th {\n",
       "        text-align: right;\n",
       "    }\n",
       "</style>\n",
       "<table border=\"1\" class=\"dataframe\">\n",
       "  <thead>\n",
       "    <tr style=\"text-align: right;\">\n",
       "      <th></th>\n",
       "      <th>hypothesis</th>\n",
       "      <th>RICE</th>\n",
       "    </tr>\n",
       "  </thead>\n",
       "  <tbody>\n",
       "    <tr>\n",
       "      <th>7</th>\n",
       "      <td>Добавить форму подписки на все основные страницы, чтобы собрать базу клиентов для email-рассылок</td>\n",
       "      <td>112.00</td>\n",
       "    </tr>\n",
       "    <tr>\n",
       "      <th>2</th>\n",
       "      <td>Добавить блоки рекомендаций товаров на сайт интернет магазина, чтобы повысить конверсию и средни...</td>\n",
       "      <td>56.00</td>\n",
       "    </tr>\n",
       "    <tr>\n",
       "      <th>0</th>\n",
       "      <td>Добавить два новых канала привлечения трафика, что позволит привлекать на 30% больше пользователей</td>\n",
       "      <td>40.00</td>\n",
       "    </tr>\n",
       "    <tr>\n",
       "      <th>6</th>\n",
       "      <td>Показать на главной странице баннеры с актуальными акциями и распродажами, чтобы увеличить конве...</td>\n",
       "      <td>40.00</td>\n",
       "    </tr>\n",
       "    <tr>\n",
       "      <th>8</th>\n",
       "      <td>Запустить акцию, дающую скидку на товар в день рождения</td>\n",
       "      <td>16.20</td>\n",
       "    </tr>\n",
       "    <tr>\n",
       "      <th>3</th>\n",
       "      <td>Изменить структура категорий, что увеличит конверсию, т.к. пользователи быстрее найдут нужный товар</td>\n",
       "      <td>9.00</td>\n",
       "    </tr>\n",
       "    <tr>\n",
       "      <th>1</th>\n",
       "      <td>Запустить собственную службу доставки, что сократит срок доставки заказов</td>\n",
       "      <td>4.00</td>\n",
       "    </tr>\n",
       "    <tr>\n",
       "      <th>5</th>\n",
       "      <td>Добавить страницу отзывов клиентов о магазине, что позволит увеличить количество заказов</td>\n",
       "      <td>4.00</td>\n",
       "    </tr>\n",
       "    <tr>\n",
       "      <th>4</th>\n",
       "      <td>Изменить цвет фона главной страницы, чтобы увеличить вовлеченность пользователей</td>\n",
       "      <td>3.00</td>\n",
       "    </tr>\n",
       "  </tbody>\n",
       "</table>\n",
       "</div>"
      ],
      "text/plain": [
       "                                                                                            hypothesis  \\\n",
       "7     Добавить форму подписки на все основные страницы, чтобы собрать базу клиентов для email-рассылок   \n",
       "2  Добавить блоки рекомендаций товаров на сайт интернет магазина, чтобы повысить конверсию и средни...   \n",
       "0   Добавить два новых канала привлечения трафика, что позволит привлекать на 30% больше пользователей   \n",
       "6  Показать на главной странице баннеры с актуальными акциями и распродажами, чтобы увеличить конве...   \n",
       "8                                              Запустить акцию, дающую скидку на товар в день рождения   \n",
       "3  Изменить структура категорий, что увеличит конверсию, т.к. пользователи быстрее найдут нужный товар   \n",
       "1                            Запустить собственную службу доставки, что сократит срок доставки заказов   \n",
       "5             Добавить страницу отзывов клиентов о магазине, что позволит увеличить количество заказов   \n",
       "4                     Изменить цвет фона главной страницы, чтобы увеличить вовлеченность пользователей   \n",
       "\n",
       "    RICE  \n",
       "7 112.00  \n",
       "2  56.00  \n",
       "0  40.00  \n",
       "6  40.00  \n",
       "8  16.20  \n",
       "3   9.00  \n",
       "1   4.00  \n",
       "5   4.00  \n",
       "4   3.00  "
      ]
     },
     "metadata": {},
     "output_type": "display_data"
    }
   ],
   "source": [
    "# рассчитываем RICE\n",
    "hypothesis['RICE'] = (hypothesis['reach'] * hypothesis['impact'] * hypothesis['confidence']) / hypothesis['efforts']\n",
    "display(hypothesis[['hypothesis', 'RICE']].sort_values(by='RICE', ascending=False))"
   ]
  },
  {
   "cell_type": "markdown",
   "metadata": {},
   "source": [
    "<div class=\"alert alert-success\">\n",
    "<h2> Комментарий ревьюера <a class=\"tocSkip\"> </h2>\n",
    "\n",
    "<b>Отлично!✅:</b> Отлично, что вывела таблицу дважды и применила сортировку по одному из фреймворков - так мы более наглядно можем наблюдать различия в их работе!\n",
    "</div>"
   ]
  },
  {
   "cell_type": "markdown",
   "metadata": {},
   "source": [
    "Как изменилась приоритизация гипотез при применении RICE вместо ICE. Объясните, почему так произошло."
   ]
  },
  {
   "cell_type": "code",
   "execution_count": 138,
   "metadata": {},
   "outputs": [
    {
     "data": {
      "text/html": [
       "<div>\n",
       "<style scoped>\n",
       "    .dataframe tbody tr th:only-of-type {\n",
       "        vertical-align: middle;\n",
       "    }\n",
       "\n",
       "    .dataframe tbody tr th {\n",
       "        vertical-align: top;\n",
       "    }\n",
       "\n",
       "    .dataframe thead th {\n",
       "        text-align: right;\n",
       "    }\n",
       "</style>\n",
       "<table border=\"1\" class=\"dataframe\">\n",
       "  <thead>\n",
       "    <tr style=\"text-align: right;\">\n",
       "      <th></th>\n",
       "      <th>ICE</th>\n",
       "      <th>RICE</th>\n",
       "    </tr>\n",
       "  </thead>\n",
       "  <tbody>\n",
       "    <tr>\n",
       "      <th>0</th>\n",
       "      <td>13.33</td>\n",
       "      <td>40.00</td>\n",
       "    </tr>\n",
       "    <tr>\n",
       "      <th>1</th>\n",
       "      <td>2.00</td>\n",
       "      <td>4.00</td>\n",
       "    </tr>\n",
       "    <tr>\n",
       "      <th>2</th>\n",
       "      <td>7.00</td>\n",
       "      <td>56.00</td>\n",
       "    </tr>\n",
       "    <tr>\n",
       "      <th>3</th>\n",
       "      <td>1.12</td>\n",
       "      <td>9.00</td>\n",
       "    </tr>\n",
       "    <tr>\n",
       "      <th>4</th>\n",
       "      <td>1.00</td>\n",
       "      <td>3.00</td>\n",
       "    </tr>\n",
       "    <tr>\n",
       "      <th>5</th>\n",
       "      <td>1.33</td>\n",
       "      <td>4.00</td>\n",
       "    </tr>\n",
       "    <tr>\n",
       "      <th>6</th>\n",
       "      <td>8.00</td>\n",
       "      <td>40.00</td>\n",
       "    </tr>\n",
       "    <tr>\n",
       "      <th>7</th>\n",
       "      <td>11.20</td>\n",
       "      <td>112.00</td>\n",
       "    </tr>\n",
       "    <tr>\n",
       "      <th>8</th>\n",
       "      <td>16.20</td>\n",
       "      <td>16.20</td>\n",
       "    </tr>\n",
       "  </tbody>\n",
       "</table>\n",
       "</div>"
      ],
      "text/plain": [
       "    ICE   RICE\n",
       "0 13.33  40.00\n",
       "1  2.00   4.00\n",
       "2  7.00  56.00\n",
       "3  1.12   9.00\n",
       "4  1.00   3.00\n",
       "5  1.33   4.00\n",
       "6  8.00  40.00\n",
       "7 11.20 112.00\n",
       "8 16.20  16.20"
      ]
     },
     "metadata": {},
     "output_type": "display_data"
    }
   ],
   "source": [
    "#сравним RICE и ICE\n",
    "df = hypothesis[['ICE']].join(hypothesis['RICE'])\n",
    "display(df)"
   ]
  },
  {
   "cell_type": "markdown",
   "metadata": {},
   "source": [
    "Выводы:\n",
    "\n",
    "Изучив данные в 2 фреймворках, можно выделить приорететные гипотезы, которые попали в тройку лидеров:\n",
    "\n",
    "7 - \"Добавить два новых канала привлечения трафика, что позволит привлекать на 30% больше пользователей\"\n",
    "\n",
    "0 - \"Запустить собственную службу доставки, что сократит срок доставки заказов\"\n",
    "\n",
    "Из списка лидеров фреймворка RICE исчезла гипотеза 8, её заменила гипотеза 2. Это влияние параметра REACH (охват аудитории), то есть у гипотезы очень низкий охват аудитории (1 из 10)."
   ]
  },
  {
   "cell_type": "markdown",
   "metadata": {},
   "source": [
    "<div class=\"alert alert-success\">\n",
    "<h2> Комментарий ревьюера <a class=\"tocSkip\"> </h2>\n",
    "\n",
    "<b>Отлично!✅:</b> Совершенно верно!\n",
    "</div>"
   ]
  },
  {
   "cell_type": "markdown",
   "metadata": {},
   "source": [
    "## Анализ A/B-теста"
   ]
  },
  {
   "cell_type": "markdown",
   "metadata": {},
   "source": [
    "Вы провели A/B-тест и получили результаты, которые описаны в файлах /datasets/orders.csv и /datasets/visitors.csv."
   ]
  },
  {
   "cell_type": "markdown",
   "metadata": {},
   "source": [
    "### График кумулятивной выручки по группам"
   ]
  },
  {
   "cell_type": "markdown",
   "metadata": {},
   "source": [
    "Для построяния нужного графика создадим датафрейм. Для этого:\n",
    "\n",
    "1. Создадим массив уникальных пар значений дат и групп теста\n",
    "\n",
    "2. Соберём агрегированные кумулятивные по дням данные о заказах\n",
    "\n",
    "3. Получим агрегированные кумулятивные по дням данные о посетителях\n",
    "\n",
    "4. Объединим таблицы из п. 2, 3\n",
    "\n",
    "5. На основе таблицы из п. 4 построим график с двумя трендами: по одному на каждую группу."
   ]
  },
  {
   "cell_type": "code",
   "execution_count": 139,
   "metadata": {},
   "outputs": [],
   "source": [
    "# создаем массив уникальных пар значений дат и групп теста\n",
    "datesGroups = orders[['date','group']].drop_duplicates() "
   ]
  },
  {
   "cell_type": "code",
   "execution_count": 140,
   "metadata": {},
   "outputs": [],
   "source": [
    "# получаем агрегированные кумулятивные по дням данные о заказах \n",
    "ordersAggregated = datesGroups.apply(\n",
    "    lambda x: orders[\n",
    "        np.logical_and(\n",
    "            orders['date'] <= x['date'], orders['group'] == x['group']\n",
    "        )\n",
    "    ].agg(\n",
    "        {\n",
    "            'date': 'max',\n",
    "            'group': 'max',\n",
    "            'transactionid': pd.Series.nunique,\n",
    "            'visitorid': pd.Series.nunique,\n",
    "            'revenue': 'sum',\n",
    "        }\n",
    "    ),\n",
    "    axis=1,\n",
    ").sort_values(by=['date', 'group'])"
   ]
  },
  {
   "cell_type": "code",
   "execution_count": 141,
   "metadata": {},
   "outputs": [],
   "source": [
    "# получаем агрегированные кумулятивные данные по дням о посетителях интернет-магазина \n",
    "visitorsAggregated = datesGroups.apply(\n",
    "    lambda x: visitors[\n",
    "        np.logical_and(\n",
    "            visitors['date'] <= x['date'], visitors['group'] == x['group']\n",
    "        )\n",
    "    ].agg({'date': 'max', 'group': 'max', 'visitors': 'sum'}),\n",
    "    axis=1,\n",
    ").sort_values(by=['date', 'group'])"
   ]
  },
  {
   "cell_type": "code",
   "execution_count": 142,
   "metadata": {},
   "outputs": [],
   "source": [
    "# объединяем кумулятивные данные в одной таблице и присваиваем ее столбцам названия\n",
    "cumulativeData = ordersAggregated.merge(\n",
    "    visitorsAggregated, left_on=['date', 'group'], right_on=['date', 'group']\n",
    ")\n",
    "\n",
    "cumulativeData.columns = [\n",
    "    'date',\n",
    "    'group',\n",
    "    'orders',\n",
    "    'buyers',\n",
    "    'revenue',\n",
    "    'visitors',\n",
    "]"
   ]
  },
  {
   "cell_type": "code",
   "execution_count": 143,
   "metadata": {},
   "outputs": [],
   "source": [
    "# датафрейм с кумулятивным количеством заказов и кумулятивной выручкой по дням в группе А\n",
    "cumulativeRevenueA = cumulativeData[cumulativeData['group'] == 'A'][['date','revenue', 'orders']]"
   ]
  },
  {
   "cell_type": "code",
   "execution_count": 144,
   "metadata": {},
   "outputs": [],
   "source": [
    "# датафрейм с кумулятивным количеством заказов и кумулятивной выручкой по дням в группе B\n",
    "cumulativeRevenueB = cumulativeData[cumulativeData['group'] == 'B'][['date','revenue', 'orders']]"
   ]
  },
  {
   "cell_type": "code",
   "execution_count": 145,
   "metadata": {},
   "outputs": [
    {
     "data": {
      "text/html": [
       "<div>\n",
       "<style scoped>\n",
       "    .dataframe tbody tr th:only-of-type {\n",
       "        vertical-align: middle;\n",
       "    }\n",
       "\n",
       "    .dataframe tbody tr th {\n",
       "        vertical-align: top;\n",
       "    }\n",
       "\n",
       "    .dataframe thead th {\n",
       "        text-align: right;\n",
       "    }\n",
       "</style>\n",
       "<table border=\"1\" class=\"dataframe\">\n",
       "  <thead>\n",
       "    <tr style=\"text-align: right;\">\n",
       "      <th></th>\n",
       "      <th>date</th>\n",
       "      <th>group</th>\n",
       "      <th>orders</th>\n",
       "      <th>buyers</th>\n",
       "      <th>revenue</th>\n",
       "      <th>visitors</th>\n",
       "    </tr>\n",
       "  </thead>\n",
       "  <tbody>\n",
       "    <tr>\n",
       "      <th>0</th>\n",
       "      <td>2019-08-01</td>\n",
       "      <td>A</td>\n",
       "      <td>24</td>\n",
       "      <td>20</td>\n",
       "      <td>148579</td>\n",
       "      <td>719</td>\n",
       "    </tr>\n",
       "    <tr>\n",
       "      <th>1</th>\n",
       "      <td>2019-08-01</td>\n",
       "      <td>B</td>\n",
       "      <td>21</td>\n",
       "      <td>20</td>\n",
       "      <td>101217</td>\n",
       "      <td>713</td>\n",
       "    </tr>\n",
       "    <tr>\n",
       "      <th>2</th>\n",
       "      <td>2019-08-02</td>\n",
       "      <td>A</td>\n",
       "      <td>44</td>\n",
       "      <td>38</td>\n",
       "      <td>242401</td>\n",
       "      <td>1338</td>\n",
       "    </tr>\n",
       "    <tr>\n",
       "      <th>3</th>\n",
       "      <td>2019-08-02</td>\n",
       "      <td>B</td>\n",
       "      <td>45</td>\n",
       "      <td>43</td>\n",
       "      <td>266748</td>\n",
       "      <td>1294</td>\n",
       "    </tr>\n",
       "    <tr>\n",
       "      <th>4</th>\n",
       "      <td>2019-08-03</td>\n",
       "      <td>A</td>\n",
       "      <td>68</td>\n",
       "      <td>62</td>\n",
       "      <td>354874</td>\n",
       "      <td>1845</td>\n",
       "    </tr>\n",
       "  </tbody>\n",
       "</table>\n",
       "</div>"
      ],
      "text/plain": [
       "         date group  orders  buyers  revenue  visitors\n",
       "0  2019-08-01     A      24      20   148579       719\n",
       "1  2019-08-01     B      21      20   101217       713\n",
       "2  2019-08-02     A      44      38   242401      1338\n",
       "3  2019-08-02     B      45      43   266748      1294\n",
       "4  2019-08-03     A      68      62   354874      1845"
      ]
     },
     "metadata": {},
     "output_type": "display_data"
    }
   ],
   "source": [
    "display(cumulativeData.head(5))"
   ]
  },
  {
   "cell_type": "code",
   "execution_count": 146,
   "metadata": {},
   "outputs": [
    {
     "data": {
      "image/png": "[encoded data removed]",
      "text/plain": [
       "<Figure size 432x288 with 1 Axes>"
      ]
     },
     "metadata": {
      "needs_background": "light"
     },
     "output_type": "display_data"
    }
   ],
   "source": [
    "# строим график кумулятивной выручки по группам\n",
    "plt.plot(cumulativeRevenueA['date'], cumulativeRevenueA['revenue'], label='A')\n",
    "plt.plot(cumulativeRevenueB['date'], cumulativeRevenueB['revenue'], label='B')\n",
    "plt.title('График кумулятивной выручки по группам')\n",
    "plt.xticks(rotation = 45)\n",
    "plt.xlabel(\"Дата\")\n",
    "plt.ylabel(\"Выручка\")\n",
    "plt.grid()\n",
    "plt.legend();"
   ]
  },
  {
   "cell_type": "markdown",
   "metadata": {},
   "source": [
    "Вывод:\n",
    "\n",
    "1. Во второй половине теста выручка по группе для гипотезы В делает скачок, и до конца теста растёт стабильными темпами.\n",
    "2. Скачок выручки может быть вызван:\n",
    "   - очень крупными заказами\n",
    "   - увеличением количества заказов"
   ]
  },
  {
   "cell_type": "markdown",
   "metadata": {},
   "source": [
    "<div class=\"alert alert-success\">\n",
    "<h2> Комментарий ревьюера <a class=\"tocSkip\"> </h2>\n",
    "\n",
    "<b>Отлично!✅:</b> Согласна, все может быть!\n",
    "</div>"
   ]
  },
  {
   "cell_type": "markdown",
   "metadata": {},
   "source": [
    "### График кумулятивного среднего чека по группам"
   ]
  },
  {
   "cell_type": "code",
   "execution_count": 147,
   "metadata": {},
   "outputs": [
    {
     "data": {
      "image/png": "[encoded data removed]",
      "text/plain": [
       "<Figure size 432x288 with 1 Axes>"
      ]
     },
     "metadata": {
      "needs_background": "light"
     },
     "output_type": "display_data"
    }
   ],
   "source": [
    "plt.plot(cumulativeRevenueA['date'], cumulativeRevenueA['revenue']/cumulativeRevenueA['orders'], label='A')\n",
    "plt.plot(cumulativeRevenueB['date'], cumulativeRevenueB['revenue']/cumulativeRevenueB['orders'], label='B')\n",
    "plt.title('График кумулятивного среднего чека по группам')\n",
    "plt.xticks(rotation = 45)\n",
    "plt.xlabel(\"Дата\")\n",
    "plt.ylabel(\"Средний чек\")\n",
    "plt.grid()\n",
    "plt.legend();"
   ]
  },
  {
   "cell_type": "markdown",
   "metadata": {},
   "source": [
    "Вывод:\n",
    "\n",
    "1. Наблюдается всплеск суммы среднего чека по группе В в дату совпадающию с графиком выше. \n",
    "\n",
    "2. Подтверждается предположение об очень крупном заказе или увеличении количества заказов."
   ]
  },
  {
   "cell_type": "markdown",
   "metadata": {},
   "source": [
    "<div class=\"alert alert-success\">\n",
    "<h2> Комментарий ревьюера <a class=\"tocSkip\"> </h2>\n",
    "\n",
    "<b>Отлично!✅:</b> Молодец, верно, группа В нестабильна. Возможно, в данную группу в середине теста попали крупные заказы. Необходимо будет учесть этот факт при принятии решения о результатах A/B-теста:)\n",
    "</div>"
   ]
  },
  {
   "cell_type": "markdown",
   "metadata": {},
   "source": [
    "### График относительного изменения кумулятивного среднего чека группы B к группе A"
   ]
  },
  {
   "cell_type": "code",
   "execution_count": 148,
   "metadata": {},
   "outputs": [],
   "source": [
    "# собираем данные в одном датафрейме\n",
    "mergedCumulativeRevenue = cumulativeRevenueA.merge(cumulativeRevenueB, left_on='date',\n",
    "                                                   right_on='date', how='left', suffixes=['A', 'B'])"
   ]
  },
  {
   "cell_type": "code",
   "execution_count": 149,
   "metadata": {},
   "outputs": [
    {
     "data": {
      "text/plain": [
       "<matplotlib.lines.Line2D at 0x7fb897f22130>"
      ]
     },
     "execution_count": 149,
     "metadata": {},
     "output_type": "execute_result"
    },
    {
     "data": {
      "image/png": "[encoded data removed]",
      "text/plain": [
       "<Figure size 432x288 with 1 Axes>"
      ]
     },
     "metadata": {
      "needs_background": "light"
     },
     "output_type": "display_data"
    }
   ],
   "source": [
    "#строим график\n",
    "plt.plot(mergedCumulativeRevenue['date'], (mergedCumulativeRevenue['revenueB']/mergedCumulativeRevenue['ordersB'])/(mergedCumulativeRevenue['revenueA']/mergedCumulativeRevenue['ordersA'])-1)\n",
    "plt.title('График относительного изменения кумулятивного среднего чека группы B к группе A')\n",
    "plt.xticks(rotation = 45)\n",
    "plt.xlabel(\"Дата\")\n",
    "plt.ylabel(\"Средний чек\")\n",
    "plt.grid()\n",
    "plt.axhline(y=0, color='black', linestyle='--')"
   ]
  },
  {
   "cell_type": "markdown",
   "metadata": {},
   "source": [
    "Выводы:\n",
    "\n",
    "1. В некоторые даты наблюдаются резкие скачки в сторону увеличения. Скорее всего это крупные заказы или выбросы."
   ]
  },
  {
   "cell_type": "markdown",
   "metadata": {},
   "source": [
    "<div class=\"alert alert-success\">\n",
    "<h2> Комментарий ревьюера <a class=\"tocSkip\"> </h2>\n",
    "\n",
    "<b>Отлично!✅:</b> Отлично!\n",
    "</div>"
   ]
  },
  {
   "cell_type": "markdown",
   "metadata": {},
   "source": [
    "### График кумулятивного среднего количества заказов на посетителя по группам"
   ]
  },
  {
   "cell_type": "code",
   "execution_count": 150,
   "metadata": {},
   "outputs": [],
   "source": [
    "# считаем среднее количество заказов на посетителя\n",
    "cumulativeData['conversion'] = (\n",
    "    cumulativeData['orders'] / cumulativeData['visitors']\n",
    ")"
   ]
  },
  {
   "cell_type": "code",
   "execution_count": 151,
   "metadata": {},
   "outputs": [],
   "source": [
    "# отделяем данные по группе A\n",
    "cumulativeDataA = cumulativeData[cumulativeData['group']=='A']\n",
    "\n",
    "# отделяем данные по группе B\n",
    "cumulativeDataB = cumulativeData[cumulativeData['group']=='B']"
   ]
  },
  {
   "cell_type": "code",
   "execution_count": 152,
   "metadata": {},
   "outputs": [
    {
     "data": {
      "text/plain": [
       "<matplotlib.legend.Legend at 0x7fb897beeeb0>"
      ]
     },
     "execution_count": 152,
     "metadata": {},
     "output_type": "execute_result"
    },
    {
     "data": {
      "image/png": "[encoded data removed]",
      "text/plain": [
       "<Figure size 432x288 with 1 Axes>"
      ]
     },
     "metadata": {
      "needs_background": "light"
     },
     "output_type": "display_data"
    }
   ],
   "source": [
    "# строим график\n",
    "plt.plot(cumulativeDataA['date'], cumulativeDataA['conversion'], label='A')\n",
    "plt.plot(cumulativeDataB['date'], cumulativeDataB['conversion'], label='B')\n",
    "plt.title('График кумулятивного среднего количества заказов на посетителя по группам')\n",
    "plt.xticks(rotation = 45)\n",
    "plt.xlabel(\"Дата\")\n",
    "plt.ylabel(\"Средний чек\")\n",
    "plt.grid()\n",
    "plt.legend()"
   ]
  },
  {
   "cell_type": "markdown",
   "metadata": {},
   "source": [
    "Выводы:\n",
    "\n",
    "1. В первые дни, группа А имела большую конверсию, но затем конверсия группы В сделала скачек и превысила конверсию группы А. \n",
    "\n",
    "2. Далее конверсия группы В была стабильно выше до конца теста."
   ]
  },
  {
   "cell_type": "markdown",
   "metadata": {},
   "source": [
    "<div class=\"alert alert-success\">\n",
    "<h2> Комментарий ревьюера <a class=\"tocSkip\"> </h2>\n",
    "\n",
    "<b>Отлично!✅:</b> Умничка, правильно!\n",
    "</div>"
   ]
  },
  {
   "cell_type": "markdown",
   "metadata": {},
   "source": [
    "### График относительного изменения кумулятивного среднего количества заказов на посетителя группы B к группе A"
   ]
  },
  {
   "cell_type": "code",
   "execution_count": 153,
   "metadata": {},
   "outputs": [],
   "source": [
    "# собираем данные в одном датафрейме\n",
    "mergedCumulativeConversions = cumulativeDataA[['date','conversion']].merge(cumulativeDataB[['date','conversion']],\n",
    "                                                                           left_on='date',\n",
    "                                                                           right_on='date',\n",
    "                                                                           how='left',\n",
    "                                                                           suffixes=['A', 'B'])"
   ]
  },
  {
   "cell_type": "code",
   "execution_count": 154,
   "metadata": {},
   "outputs": [
    {
     "data": {
      "text/plain": [
       "<matplotlib.lines.Line2D at 0x7fb88bfa4910>"
      ]
     },
     "execution_count": 154,
     "metadata": {},
     "output_type": "execute_result"
    },
    {
     "data": {
      "image/png": "[encoded data removed]",
      "text/plain": [
       "<Figure size 432x288 with 1 Axes>"
      ]
     },
     "metadata": {
      "needs_background": "light"
     },
     "output_type": "display_data"
    }
   ],
   "source": [
    "# строим график\n",
    "plt.plot(mergedCumulativeConversions['date'], mergedCumulativeConversions['conversionB']/mergedCumulativeConversions['conversionA']-1, label=\"Относительный прирост конверсии группы B относительно группы A\")\n",
    "plt.legend()\n",
    "plt.title('График относительного изменения кумулятивного среднего количества заказов на посетителя группы B к группе A')\n",
    "plt.xticks(rotation = 45)\n",
    "plt.xlabel(\"Дата\")\n",
    "plt.ylabel(\"Средний чек\")\n",
    "plt.grid()\n",
    "plt.axhline(y=0, color='black', linestyle='--')\n",
    "plt.axhline(y=0.15, color='grey', linestyle='--')"
   ]
  },
  {
   "cell_type": "markdown",
   "metadata": {},
   "source": [
    "Выводы:\n",
    "\n",
    "1. Сначала конверсия группы В резко выросла относительно группы А, затем резко упала. Через несколько дней опять выросла.\n",
    "\n",
    "2. К концу теста уровень конверсии группы В снизился, относительно группы А."
   ]
  },
  {
   "cell_type": "markdown",
   "metadata": {},
   "source": [
    "<div class=\"alert alert-success\">\n",
    "<h2> Комментарий ревьюера <a class=\"tocSkip\"> </h2>\n",
    "\n",
    "<b>Отлично!✅:</b> Хорошо, давай посмотрим на аномалии:)"
   ]
  },
  {
   "cell_type": "markdown",
   "metadata": {},
   "source": [
    "### Точечный график количества заказов по пользователям"
   ]
  },
  {
   "cell_type": "code",
   "execution_count": 155,
   "metadata": {},
   "outputs": [],
   "source": [
    "# считаем количество заказов для каждого пользователя\n",
    "ordersByUsers = (\n",
    "    orders.groupby('visitorid', as_index=False)\n",
    "    .agg({'transactionid': 'nunique'})\n",
    ")\n",
    "ordersByUsers.columns = ['users', 'number_orders']"
   ]
  },
  {
   "cell_type": "code",
   "execution_count": 156,
   "metadata": {},
   "outputs": [
    {
     "data": {
      "image/png": "[encoded data removed]",
      "text/plain": [
       "<Figure size 432x288 with 1 Axes>"
      ]
     },
     "metadata": {
      "needs_background": "light"
     },
     "output_type": "display_data"
    }
   ],
   "source": [
    "# строим график\n",
    "x_values = pd.Series(range(0, len(ordersByUsers)))\n",
    "plt.scatter(x_values, ordersByUsers['number_orders'])\n",
    "plt.title('Точечный график количества заказов')\n",
    "plt.xlabel(\"Количество пользователей\")\n",
    "plt.ylabel(\"Количество заказов\")\n",
    "plt.grid()"
   ]
  },
  {
   "cell_type": "markdown",
   "metadata": {},
   "source": [
    "Выводы:\n",
    "\n",
    "На графике отчетливо видно, что большинство покупателей делают 1, 2 или 3 заказа."
   ]
  },
  {
   "cell_type": "markdown",
   "metadata": {},
   "source": [
    "<div class=\"alert alert-success\">\n",
    "<h2> Комментарий ревьюера <a class=\"tocSkip\"> </h2>\n",
    "\n",
    "<b>Отлично!✅:</b> Верно!"
   ]
  },
  {
   "cell_type": "markdown",
   "metadata": {},
   "source": [
    "### Расчёт 95-го и 99-го перцентилей количества заказов на пользователя"
   ]
  },
  {
   "cell_type": "code",
   "execution_count": 157,
   "metadata": {},
   "outputs": [
    {
     "name": "stdout",
     "output_type": "stream",
     "text": [
      "[2. 4.]\n"
     ]
    }
   ],
   "source": [
    "# рассчитаем и выведим перцентиль\n",
    "print(np.percentile(ordersByUsers['number_orders'], [95, 99]))"
   ]
  },
  {
   "cell_type": "markdown",
   "metadata": {},
   "source": [
    "Выводы: \n",
    "\n",
    "1. 99% пользователей имеют 4 заказа и менее\n",
    "2. Установим аномальным количеством - 5 и более заказов."
   ]
  },
  {
   "cell_type": "markdown",
   "metadata": {},
   "source": [
    "<div class=\"alert alert-success\">\n",
    "<h2> Комментарий ревьюера <a class=\"tocSkip\"> </h2>\n",
    "\n",
    "<b>Отлично!✅:</b> Отлично, идем дальше!\n",
    "</div>"
   ]
  },
  {
   "cell_type": "markdown",
   "metadata": {},
   "source": [
    "### Точечный график стоимостей заказов"
   ]
  },
  {
   "cell_type": "code",
   "execution_count": 158,
   "metadata": {},
   "outputs": [],
   "source": [
    "# количество покупок\n",
    "x_values = pd.Series(range(0,len(orders['revenue'])))"
   ]
  },
  {
   "cell_type": "code",
   "execution_count": 159,
   "metadata": {},
   "outputs": [
    {
     "data": {
      "image/png": "[encoded data removed]",
      "text/plain": [
       "<Figure size 432x288 with 1 Axes>"
      ]
     },
     "metadata": {
      "needs_background": "light"
     },
     "output_type": "display_data"
    }
   ],
   "source": [
    "# строим график\n",
    "plt.scatter(x_values, orders['revenue'])\n",
    "plt.title('Точечный график стоимостей заказов')\n",
    "plt.xlabel(\"Количество пользователей\")\n",
    "plt.ylabel(\"Стоимость заказа\")\n",
    "plt.grid();"
   ]
  },
  {
   "cell_type": "code",
   "execution_count": 160,
   "metadata": {},
   "outputs": [
    {
     "data": {
      "image/png": "[encoded data removed]",
      "text/plain": [
       "<Figure size 432x288 with 1 Axes>"
      ]
     },
     "metadata": {
      "needs_background": "light"
     },
     "output_type": "display_data"
    }
   ],
   "source": [
    "# убираем выбросы\n",
    "orders_new  = orders[orders['revenue'] < 180000]\n",
    "\n",
    "# количество покупок\n",
    "x_values = pd.Series(range(0,len(orders_new['revenue'])))\n",
    "\n",
    "# строим график\n",
    "plt.scatter(x_values, orders_new['revenue'])\n",
    "plt.title('Точечный график стоимостей заказов')\n",
    "plt.xlabel(\"Количество пользователей\")\n",
    "plt.ylabel(\"Стоимость заказа\")\n",
    "plt.grid();"
   ]
  },
  {
   "cell_type": "markdown",
   "metadata": {},
   "source": [
    "Выводы:\n",
    "\n",
    "1. В выборке есть 2 аномальных заказа на сумму 200 000 и на 1 200 000.\n",
    "2. Так как такие заказы влияют на результат теста, избавимся от них и перестроим график."
   ]
  },
  {
   "cell_type": "markdown",
   "metadata": {},
   "source": [
    "<div class=\"alert alert-success\">\n",
    "<h2> Комментарий ревьюера <a class=\"tocSkip\"> </h2>\n",
    "\n",
    "<b>Отлично!✅:</b> Правильно!\n",
    "</div>"
   ]
  },
  {
   "cell_type": "markdown",
   "metadata": {},
   "source": [
    "### Расчет 95-ого и 99-ого перцентилей стоимости заказов"
   ]
  },
  {
   "cell_type": "code",
   "execution_count": 161,
   "metadata": {},
   "outputs": [
    {
     "name": "stdout",
     "output_type": "stream",
     "text": [
      "[27565.  56744.2]\n"
     ]
    }
   ],
   "source": [
    "# рассчитаем и выведим перцентили\n",
    "print(np.percentile(orders_new['revenue'], [95, 99]))"
   ]
  },
  {
   "cell_type": "markdown",
   "metadata": {},
   "source": [
    "Выводы:\n",
    "\n",
    "1. 95% пользователей оформляли заказ стоимостью до 27565 рублей.\n",
    "2. 99% пользователей оформляли заказ стоимостью до 56744,2 рублей.\n"
   ]
  },
  {
   "cell_type": "markdown",
   "metadata": {},
   "source": [
    "<div class=\"alert alert-success\">\n",
    "<h2> Комментарий ревьюера <a class=\"tocSkip\"> </h2>\n",
    "\n",
    "<b>Отлично!✅:</b> Замечательно!\n",
    "</div>"
   ]
  },
  {
   "cell_type": "markdown",
   "metadata": {},
   "source": [
    "### Статистическая значимость различий в среднем количестве заказов на посетителя между группами по «сырым» данным"
   ]
  },
  {
   "cell_type": "markdown",
   "metadata": {},
   "source": [
    "Для выявление статистической значимости:\n",
    "\n",
    "1. Установим уровень статистической значимости равным 0.05\n",
    "\n",
    "2. Выдвигаем гипотезы:\n",
    "\n",
    "   Н0: различий в среднем количестве заказов между группами нет\n",
    "   \n",
    "   Н1: различия в среднем количестве заказов между группами есть"
   ]
  },
  {
   "cell_type": "markdown",
   "metadata": {},
   "source": [
    "<div class=\"alert alert-success\">\n",
    "<h2> Комментарий ревьюера <a class=\"tocSkip\"> </h2>\n",
    "\n",
    "<b>Отлично!✅:</b> Гипотезы сформулированы верно, молодец!\n",
    "</div>"
   ]
  },
  {
   "cell_type": "code",
   "execution_count": 162,
   "metadata": {},
   "outputs": [],
   "source": [
    "# кол-во пользователей по дням, группа А\n",
    "visitorsADaily = visitors[visitors['group'] == 'A'][['date', 'visitors']]  \n",
    "visitorsADaily.columns = ['date', 'visitorsPerDateA']"
   ]
  },
  {
   "cell_type": "code",
   "execution_count": 163,
   "metadata": {},
   "outputs": [],
   "source": [
    "# получаем агрегированные кумулятивные по дням данные о посетителях по группе А\n",
    "visitorsACummulative = visitorsADaily.apply(\n",
    "    lambda x: visitorsADaily[visitorsADaily['date'] <= x['date']].agg(\n",
    "        {'date': 'max', 'visitorsPerDateA': 'sum'}\n",
    "    ),\n",
    "    axis=1,\n",
    ")\n",
    "visitorsACummulative.columns = ['date', 'visitorsCummulativeA']"
   ]
  },
  {
   "cell_type": "code",
   "execution_count": 164,
   "metadata": {},
   "outputs": [],
   "source": [
    "# получаем данные о посетителях по дням, группа В\n",
    "visitorsBDaily = visitors[visitors['group'] == 'B'][['date', 'visitors']]\n",
    "visitorsBDaily.columns = ['date', 'visitorsPerDateB']"
   ]
  },
  {
   "cell_type": "code",
   "execution_count": 165,
   "metadata": {},
   "outputs": [],
   "source": [
    "# получаем агрегированные кумулятивные по дням данные о посетителях по группе В\n",
    "visitorsBCummulative = visitorsBDaily.apply(\n",
    "    lambda x: visitorsBDaily[visitorsBDaily['date'] <= x['date']].agg(\n",
    "        {'date': 'max', 'visitorsPerDateB': 'sum'}\n",
    "    ),\n",
    "    axis=1,\n",
    ")\n",
    "visitorsBCummulative.columns = ['date', 'visitorsCummulativeB']"
   ]
  },
  {
   "cell_type": "code",
   "execution_count": 166,
   "metadata": {},
   "outputs": [],
   "source": [
    "# получаем данные о заказах по дням, группа А\n",
    "ordersADaily = (\n",
    "    orders[orders['group'] == 'A'][['date', 'transactionid', 'visitorid', 'revenue']]\n",
    "    .groupby('date', as_index=False)\n",
    "    .agg({'visitorid': pd.Series.nunique, 'revenue': 'sum'})\n",
    ")\n",
    "ordersADaily.columns = ['date', 'ordersPerDateA', 'revenuePerDateA']"
   ]
  },
  {
   "cell_type": "code",
   "execution_count": 167,
   "metadata": {},
   "outputs": [],
   "source": [
    "# получаем агрегированные кумулятивные по дням данные о заказах, группа А\n",
    "ordersACummulative = ordersADaily.apply(\n",
    "    lambda x: ordersADaily[ordersADaily['date'] <= x['date']].agg(\n",
    "        {'date': 'max', 'ordersPerDateA': 'sum', 'revenuePerDateA': 'sum'}\n",
    "    ),\n",
    "    axis=1,\n",
    ").sort_values(by=['date'])\n",
    "\n",
    "ordersACummulative.columns = [\n",
    "    'date',\n",
    "    'ordersCummulativeA',\n",
    "    'revenueCummulativeA',\n",
    "]"
   ]
  },
  {
   "cell_type": "code",
   "execution_count": 168,
   "metadata": {},
   "outputs": [],
   "source": [
    "# получаем данные о заказах по дням, группа В\n",
    "ordersBDaily = (\n",
    "    orders[orders['group'] == 'B'][['date', 'visitorid', 'transactionid', 'revenue']]\n",
    "    .groupby('date', as_index=False)\n",
    "    .agg({'visitorid': pd.Series.nunique, 'revenue': 'sum'})\n",
    ")\n",
    "ordersBDaily.columns = ['date', 'ordersPerDateB', 'revenuePerDateB']"
   ]
  },
  {
   "cell_type": "code",
   "execution_count": 169,
   "metadata": {},
   "outputs": [],
   "source": [
    "# получаем агрегированные кумулятивные по дням данные о заказах, группа В\n",
    "ordersBCummulative = ordersBDaily.apply(\n",
    "    lambda x: ordersBDaily[ordersBDaily['date'] <= x['date']].agg(\n",
    "        {'date': 'max', 'ordersPerDateB': 'sum', 'revenuePerDateB': 'sum'}\n",
    "    ),\n",
    "    axis=1,\n",
    ").sort_values(by=['date'])\n",
    "\n",
    "ordersBCummulative.columns = [\n",
    "    'date',\n",
    "    'ordersCummulativeB',\n",
    "    'revenueCummulativeB',\n",
    "]"
   ]
  },
  {
   "cell_type": "code",
   "execution_count": 170,
   "metadata": {},
   "outputs": [],
   "source": [
    "# объединяем кумулятивные данные в одной таблице (по заказам, выручке, кол-ву пользователей)\n",
    "data = (\n",
    "    ordersADaily.merge(\n",
    "        ordersBDaily, left_on='date', right_on='date', how='left'\n",
    "    )\n",
    "    .merge(ordersACummulative, left_on='date', right_on='date', how='left')\n",
    "    .merge(ordersBCummulative, left_on='date', right_on='date', how='left')\n",
    "    .merge(visitorsADaily, left_on='date', right_on='date', how='left')\n",
    "    .merge(visitorsBDaily, left_on='date', right_on='date', how='left')\n",
    "    .merge(visitorsACummulative, left_on='date', right_on='date', how='left')\n",
    "    .merge(visitorsBCummulative, left_on='date', right_on='date', how='left')\n",
    ")"
   ]
  },
  {
   "cell_type": "code",
   "execution_count": 171,
   "metadata": {},
   "outputs": [],
   "source": [
    "# расчёт кол-во заказов на каждого пользователя по группе А\n",
    "ordersByUsersA = (\n",
    "    orders[orders['group'] == 'A']\n",
    "    .groupby('visitorid', as_index=False)\n",
    "    .agg({'transactionid': pd.Series.nunique})\n",
    ")  \n",
    "ordersByUsersA.columns = ['userId', 'orders']"
   ]
  },
  {
   "cell_type": "code",
   "execution_count": 172,
   "metadata": {},
   "outputs": [],
   "source": [
    "# расчёт кол-во заказов на каждого пользователя по группе В\n",
    "ordersByUsersB = (\n",
    "    orders[orders['group'] == 'B']\n",
    "    .groupby('visitorid', as_index=False)\n",
    "    .agg({'transactionid': pd.Series.nunique})\n",
    ")  \n",
    "ordersByUsersB.columns = ['userId', 'orders']"
   ]
  },
  {
   "cell_type": "code",
   "execution_count": 173,
   "metadata": {},
   "outputs": [],
   "source": [
    "# В переменной sampleA, пользователям из группы А будет соответствовать количество заказов из сырых данных\n",
    "sampleA = pd.concat(\n",
    "    [\n",
    "        ordersByUsersA['orders'],\n",
    "        pd.Series(\n",
    "            0,\n",
    "            index=np.arange(\n",
    "                data['visitorsPerDateA'].sum() - len(ordersByUsersA['orders'])\n",
    "            ),\n",
    "            name='orders',\n",
    "        ),\n",
    "    ],\n",
    "    axis=0,\n",
    ")"
   ]
  },
  {
   "cell_type": "code",
   "execution_count": 174,
   "metadata": {},
   "outputs": [],
   "source": [
    "# В переменной sampleB, пользователям из группы В будет соответствовать количество заказов из сырых данных\n",
    "sampleB = pd.concat(\n",
    "    [\n",
    "        ordersByUsersB['orders'],\n",
    "        pd.Series(\n",
    "            0,\n",
    "            index=np.arange(\n",
    "                data['visitorsPerDateB'].sum() - len(ordersByUsersB['orders'])\n",
    "            ),\n",
    "            name='orders',\n",
    "        ),\n",
    "    ],\n",
    "    axis=0,\n",
    ")"
   ]
  },
  {
   "cell_type": "code",
   "execution_count": 175,
   "metadata": {},
   "outputs": [
    {
     "name": "stdout",
     "output_type": "stream",
     "text": [
      "p_value: 0.017\n",
      "Относительный прирост группы В к группе А: 13.8%\n",
      "Отвергаем нулевую гипотезу\n"
     ]
    }
   ],
   "source": [
    "a = 0.05\n",
    "\n",
    "p_value = stats.mannwhitneyu(sampleA, sampleB)[1]\n",
    "\n",
    "print(\"p_value: {0:.3f}\".format(p_value))\n",
    "\n",
    "print(\"Относительный прирост группы В к группе А: {0:.1%}\".format(sampleB.mean() / sampleA.mean() - 1))\n",
    "\n",
    "if p_value < a:\n",
    "        print('Отвергаем нулевую гипотезу')\n",
    "else:\n",
    "        print('Не отвергаем нулевую гипотезу')"
   ]
  },
  {
   "cell_type": "markdown",
   "metadata": {},
   "source": [
    "Выводы: \n",
    "\n",
    "1. P-value меньше 0.05, отвергаем гипотезу Н0 \n",
    "2. В среднем количестве заказов по группам А и В есть значимые различия, следовательно в конверсии между группами будут различия\n",
    "3. Относительный прирост среднего группы В к конверсии группы А равен 13,8% и он статистически значим."
   ]
  },
  {
   "cell_type": "markdown",
   "metadata": {},
   "source": [
    "<div class=\"alert alert-success\">\n",
    "<h2> Комментарий ревьюера <a class=\"tocSkip\"> </h2>\n",
    "\n",
    "<b>Отлично!✅:</b> Хорошо!\n",
    "</div>"
   ]
  },
  {
   "cell_type": "markdown",
   "metadata": {},
   "source": [
    "### Расчет статистической значимости различий в среднем чеке заказа"
   ]
  },
  {
   "cell_type": "markdown",
   "metadata": {},
   "source": [
    "Для выявление статистической значимости:\n",
    "\n",
    "Установим уровень статистической значимости равным 0.05\n",
    "\n",
    "Выдвигаем гипотезы:\n",
    "\n",
    "Н0: различий в среднем чеке заказа между группами нет\n",
    "\n",
    "Н1: различия в среднем чеке заказа между группами есть"
   ]
  },
  {
   "cell_type": "code",
   "execution_count": 176,
   "metadata": {},
   "outputs": [
    {
     "name": "stdout",
     "output_type": "stream",
     "text": [
      "p_value: 0.729\n",
      "Относительный прирост группы В к группе А: 25.9%\n",
      "Не отвергаем нулевую гипотезу\n"
     ]
    }
   ],
   "source": [
    "a = 0.05\n",
    "\n",
    "p_value = stats.mannwhitneyu(orders[orders['group']=='A']['revenue'], orders[orders['group']=='B']['revenue'])[1]\n",
    "\n",
    "print(\"p_value: {0:.3f}\".format(p_value))\n",
    "\n",
    "print(\"Относительный прирост группы В к группе А: {0:.1%}\".format(orders[orders['group']=='B']['revenue'].mean()/orders[orders['group']=='A']['revenue'].mean()-1))\n",
    "\n",
    "if p_value < a:\n",
    "        print('Отвергаем нулевую гипотезу')\n",
    "else:\n",
    "        print('Не отвергаем нулевую гипотезу')"
   ]
  },
  {
   "cell_type": "markdown",
   "metadata": {},
   "source": [
    "Выводы:\n",
    "\n",
    "1. P-value намного больше 0.05, не отвергаем гипотезу Н0\n",
    "2. В среднем чеке заказа по группам А и В нет значимых различий\n",
    "3. Относительный прирост среднего чека группы В к среднему чеку группы А равен 25,9%."
   ]
  },
  {
   "cell_type": "markdown",
   "metadata": {},
   "source": [
    "<div class=\"alert alert-success\">\n",
    "<h2> Комментарий ревьюера <a class=\"tocSkip\"> </h2>\n",
    "\n",
    "<b>Отлично!✅:</b> Согласна!\n",
    "</div>"
   ]
  },
  {
   "cell_type": "markdown",
   "metadata": {},
   "source": [
    "### Статистическая значимость различий в среднем количестве заказов на посетителя между группами по «очищенным» данным"
   ]
  },
  {
   "cell_type": "markdown",
   "metadata": {},
   "source": [
    "Для выявление статистической значимости:\n",
    "\n",
    "Установим пороговое значения альфа равным 0.05\n",
    "\n",
    "Выдвигаем гипотезы:\n",
    "\n",
    "Н0: различий в среднем количестве заказов между группами нет\n",
    "Н1: различия в среднем количестве заказов группами есть.\n",
    "\n",
    "\"Очищенные\" данные - данные очищенные от статистических выбросов.\n",
    "\n",
    "Примем за аномальных пользователей, попадающих в 95-й перцентиль. \n",
    "Это пользователи с 3 и более заказами и суммой заказа более 27565 рублей. \n",
    "\n",
    "Получим ID аномальных пользователей."
   ]
  },
  {
   "cell_type": "code",
   "execution_count": 177,
   "metadata": {},
   "outputs": [
    {
     "data": {
      "text/plain": [
       "'Количество аномальных пользователей: 74'"
      ]
     },
     "metadata": {},
     "output_type": "display_data"
    }
   ],
   "source": [
    "usersWithManyOrders = pd.concat(\n",
    "    [\n",
    "        ordersByUsersA[ordersByUsersA['orders'] > 2]['userId'],\n",
    "        ordersByUsersB[ordersByUsersB['orders'] > 2]['userId'],\n",
    "    ],\n",
    "    axis=0,\n",
    ")\n",
    "\n",
    "usersWithExpensiveOrders = orders[orders['revenue'] > 28000]['visitorid']\n",
    "\n",
    "abnormalUsers = (\n",
    "    pd.concat([usersWithManyOrders, usersWithExpensiveOrders], axis=0)\n",
    "    .drop_duplicates()\n",
    "    .sort_values()\n",
    ")\n",
    "display(f'Количество аномальных пользователей: {abnormalUsers.shape[0]}') "
   ]
  },
  {
   "cell_type": "code",
   "execution_count": 178,
   "metadata": {},
   "outputs": [],
   "source": [
    "# В переменной sampleAFiltered, пользователям из группы А будет соответствовать количество заказов из очищенных данных\n",
    "sampleAFiltered = pd.concat(\n",
    "    [\n",
    "        ordersByUsersA[\n",
    "            np.logical_not(ordersByUsersA['userId'].isin(abnormalUsers))\n",
    "        ]['orders'],\n",
    "        pd.Series(\n",
    "            0,\n",
    "            index=np.arange(\n",
    "                data['visitorsPerDateA'].sum() - len(ordersByUsersA['orders'])\n",
    "            ),\n",
    "            name='orders',\n",
    "        ),\n",
    "    ],\n",
    "    axis=0,\n",
    ")"
   ]
  },
  {
   "cell_type": "code",
   "execution_count": 179,
   "metadata": {},
   "outputs": [],
   "source": [
    "# В переменной sampleBFiltered, пользователям из группы B будет соответствовать количество заказов из очищенных данных\n",
    "sampleBFiltered = pd.concat(\n",
    "    [\n",
    "        ordersByUsersB[\n",
    "            np.logical_not(ordersByUsersB['userId'].isin(abnormalUsers))\n",
    "        ]['orders'],\n",
    "        pd.Series(\n",
    "            0,\n",
    "            index=np.arange(\n",
    "                data['visitorsPerDateB'].sum() - len(ordersByUsersB['orders'])\n",
    "            ),\n",
    "            name='orders',\n",
    "        ),\n",
    "    ],\n",
    "    axis=0,\n",
    ") "
   ]
  },
  {
   "cell_type": "code",
   "execution_count": 180,
   "metadata": {},
   "outputs": [
    {
     "name": "stdout",
     "output_type": "stream",
     "text": [
      "p_value: 0.013\n",
      "Относительный прирост группы В к группе А: 17.3%\n",
      "Отвергаем нулевую гипотезу\n"
     ]
    }
   ],
   "source": [
    "a = 0.05\n",
    "\n",
    "p_value = stats.mannwhitneyu(sampleAFiltered, sampleBFiltered)[1]\n",
    "\n",
    "print(\"p_value: {0:.3f}\".format(p_value))\n",
    "\n",
    "print(\"Относительный прирост группы В к группе А: {0:.1%}\".format(sampleBFiltered.mean()/sampleAFiltered.mean()-1))\n",
    "\n",
    "if p_value < a:\n",
    "        print('Отвергаем нулевую гипотезу')\n",
    "else:\n",
    "        print('Не отвергаем нулевую гипотезу')"
   ]
  },
  {
   "cell_type": "markdown",
   "metadata": {},
   "source": [
    "Выводы:\n",
    "\n",
    "1. На \"очищенных\" данных картина не изменилась, p_value меньше альфы (0.05)\n",
    "\n",
    "2. Нулевая гипотеза отвергается\n",
    "\n",
    "3. Статистические различия в конверсии между группами есть\n",
    "\n",
    "4. Для сегментов А и В увеличились различия на \"очищенных\" данных: среднее количество заказов по сегменту В превосходит на 17.3% (было 13.8%) количество заказов по сегменту А. Это статистически значимые различия"
   ]
  },
  {
   "cell_type": "markdown",
   "metadata": {},
   "source": [
    "<div class=\"alert alert-success\">\n",
    "<h2> Комментарий ревьюера <a class=\"tocSkip\"> </h2>\n",
    "\n",
    "<b>Отлично!✅:</b> Супер, двигаемся дальше!\n",
    "</div>\n",
    "    \n",
    "    "
   ]
  },
  {
   "cell_type": "markdown",
   "metadata": {},
   "source": [
    "### Расчет статистической значимости различий в среднем чеке заказа между группами по «очищенным» данным"
   ]
  },
  {
   "cell_type": "markdown",
   "metadata": {},
   "source": [
    "Для выявление статистической значимости:\n",
    "\n",
    "Установим уровень статистической значимости равным 0.05\n",
    "\n",
    "Выдвигаем гипотезы:\n",
    "\n",
    "Н0: различий в среднем чеке заказа между группами нет\n",
    "\n",
    "Н1: различия в среднем чеке заказа между группами есть"
   ]
  },
  {
   "cell_type": "code",
   "execution_count": 181,
   "metadata": {},
   "outputs": [
    {
     "name": "stdout",
     "output_type": "stream",
     "text": [
      "p_value: 0.738\n",
      "Относительный прирост группы В к группе А: -2.0%\n",
      "Не отвергаем нулевую гипотезу\n"
     ]
    }
   ],
   "source": [
    "a = 0.05\n",
    "\n",
    "p_value = stats.mannwhitneyu(\n",
    "            orders[\n",
    "                np.logical_and(\n",
    "                    orders['group'] == 'A',\n",
    "                    np.logical_not(orders['visitorid'].isin(abnormalUsers)),\n",
    "                )\n",
    "            ]['revenue'],\n",
    "            orders[\n",
    "                np.logical_and(\n",
    "                    orders['group'] == 'B',\n",
    "                    np.logical_not(orders['visitorid'].isin(abnormalUsers)),\n",
    "                )\n",
    "            ]['revenue'],\n",
    "        )[1]\n",
    "\n",
    "print(\"p_value: {0:.3f}\".format(p_value))\n",
    "\n",
    "print(\"Относительный прирост группы В к группе А: {0:.1%}\".format(orders[\n",
    "            np.logical_and(\n",
    "                orders['group'] == 'B',\n",
    "                np.logical_not(orders['visitorid'].isin(abnormalUsers)),\n",
    "            )\n",
    "        ]['revenue'].mean()\n",
    "        / orders[\n",
    "            np.logical_and(\n",
    "                orders['group'] == 'A',\n",
    "                np.logical_not(orders['visitorid'].isin(abnormalUsers)),\n",
    "            )\n",
    "        ]['revenue'].mean()\n",
    "        - 1))\n",
    "\n",
    "if p_value < a:\n",
    "        print('Отвергаем нулевую гипотезу')\n",
    "else:\n",
    "        print('Не отвергаем нулевую гипотезу')"
   ]
  },
  {
   "cell_type": "markdown",
   "metadata": {},
   "source": [
    "Выводы:\n",
    "\n",
    "1. P_value равный 0,738 больше 0,05\n",
    "\n",
    "2. Статистической значимости различий в среднем чеке заказа между группами по «очищенным» данным нет - как и было на \"сырых\" данных\n",
    "\n",
    "3. Различия в среднем чеке на 2% не являются статистически значимыми"
   ]
  },
  {
   "cell_type": "markdown",
   "metadata": {},
   "source": [
    "<div class=\"alert alert-success\">\n",
    "<h2> Комментарий ревьюера <a class=\"tocSkip\"> </h2>\n",
    "\n",
    "<b>Отлично!✅:</b> Отлично!\n",
    "</div>\n",
    "    \n",
    "    "
   ]
  },
  {
   "cell_type": "markdown",
   "metadata": {},
   "source": [
    "## Решение по результатам теста"
   ]
  },
  {
   "cell_type": "markdown",
   "metadata": {},
   "source": [
    "Имеющиеся факты:\n",
    "\n",
    "Есть статистически значимое различие по среднему количеству заказов между группами и по «сырым», и по данным после фильтрации аномалий;\n",
    "\n",
    "Нет статистически значимого различия по среднему чеку между группами ни по «сырым», ни по данным после фильтрации аномалий;\n",
    "\n",
    "График различия конверсии между группами сообщает, что результаты группы B стабильно лучше группы A на протяжении почти всего теста (кроме первых нескольких дней)."
   ]
  },
  {
   "cell_type": "markdown",
   "metadata": {},
   "source": [
    "<b>Вывод</b>\n",
    "\n",
    "Исходя из обнаруженных фактов, тест следует остановить и признать его успешным. Можно зафиксировать победу группы В."
   ]
  },
  {
   "cell_type": "markdown",
   "metadata": {},
   "source": [
    "\n",
    "<div class=\"alert alert-success\">\n",
    "<h2> Комментарий ревьюера <a class=\"tocSkip\"> </h2>\n",
    "\n",
    "<b>Отлично!✅:</b> Решение на этом шаге является полностью правильным. Ты здорово разобралась во влиянии выбросов на результаты сравнения средних значений и отметила преимущество статистического теста при интерпретации результатов.\n",
    "</div>"
   ]
  },
  {
   "cell_type": "markdown",
   "metadata": {},
   "source": [
    "<div style=\"border:solid Chocolate 2px; padding: 40px\">\n",
    "Ира, давай подведем итоги. Ты большая молодец, что старалась и проделала такую большую работу. Мне понравилось, что ты наполнила проект развернутыми выводами и наглядно продемонстрировала каждое задание:) \n",
    "    \n",
    "    Разберем над чем стоит поработать:\n",
    "   \n",
    "    1. Рекомендую:\n",
    "    - указать название проекта;\n",
    "    - провести доп. исследование датафреймов.\n",
    "    \n",
    "    Пересмотри работу и исправь ошибки. Обязательно пиши, если я могу тебе еще чем-то помочь. Удачи!)\n",
    "  "
   ]
  },
  {
   "cell_type": "markdown",
   "metadata": {},
   "source": [
    "<div class=\"alert alert-info\"> <b>Комментарий студента: Евгения спасибо, за проверку! Добавила инфо в проект по твоим замечаниям. </b> </div>"
   ]
  },
  {
   "cell_type": "markdown",
   "metadata": {},
   "source": [
    "<div class=\"alert alert-success\">\n",
    "<h2> Комментарий ревьюера v2<a class=\"tocSkip\"> </h2>\n",
    "\n",
    "<b>Отлично!✅:</b> Ира, привет! Молодец, оперативно и верно доработала проект. Благодарю за обратную связь, работа принята, удачи в обучении!)\n",
    "\n",
    "</div>"
   ]
  }
 ],
 "metadata": {
  "ExecuteTimeLog": [
   {
    "duration": 50,
    "start_time": "2024-04-18T14:19:25.873Z"
   },
   {
    "duration": 1297,
    "start_time": "2024-04-18T14:19:30.907Z"
   },
   {
    "duration": 3,
    "start_time": "2024-04-18T14:19:33.015Z"
   },
   {
    "duration": 225,
    "start_time": "2024-04-18T14:20:16.586Z"
   },
   {
    "duration": 45,
    "start_time": "2024-04-18T14:29:11.036Z"
   },
   {
    "duration": 7,
    "start_time": "2024-04-19T11:02:07.312Z"
   },
   {
    "duration": 5,
    "start_time": "2024-04-19T11:10:05.937Z"
   },
   {
    "duration": 66,
    "start_time": "2024-04-19T11:16:07.470Z"
   },
   {
    "duration": 8,
    "start_time": "2024-04-19T11:17:08.362Z"
   },
   {
    "duration": 45,
    "start_time": "2024-04-19T12:41:34.310Z"
   },
   {
    "duration": 10,
    "start_time": "2024-04-19T12:45:14.503Z"
   },
   {
    "duration": 8,
    "start_time": "2024-04-19T14:48:13.374Z"
   },
   {
    "duration": 9,
    "start_time": "2024-04-19T14:49:03.600Z"
   },
   {
    "duration": 85,
    "start_time": "2024-04-19T14:49:16.473Z"
   },
   {
    "duration": 4,
    "start_time": "2024-04-19T14:51:13.216Z"
   },
   {
    "duration": 7,
    "start_time": "2024-04-19T14:51:39.177Z"
   },
   {
    "duration": 9,
    "start_time": "2024-04-19T14:53:57.979Z"
   },
   {
    "duration": 7,
    "start_time": "2024-04-19T14:54:33.616Z"
   },
   {
    "duration": 12,
    "start_time": "2024-04-19T14:54:48.299Z"
   },
   {
    "duration": 7,
    "start_time": "2024-04-19T14:56:41.507Z"
   },
   {
    "duration": 11,
    "start_time": "2024-04-19T14:57:20.552Z"
   },
   {
    "duration": 10,
    "start_time": "2024-04-19T14:57:38.670Z"
   },
   {
    "duration": 11,
    "start_time": "2024-04-19T14:58:22.936Z"
   },
   {
    "duration": 11,
    "start_time": "2024-04-19T14:58:29.484Z"
   },
   {
    "duration": 11,
    "start_time": "2024-04-19T14:58:57.145Z"
   },
   {
    "duration": 8,
    "start_time": "2024-04-19T14:59:32.760Z"
   },
   {
    "duration": 8,
    "start_time": "2024-04-19T15:03:09.589Z"
   },
   {
    "duration": 38,
    "start_time": "2024-04-19T15:10:44.861Z"
   },
   {
    "duration": 3,
    "start_time": "2024-04-19T15:11:40.973Z"
   },
   {
    "duration": 3,
    "start_time": "2024-04-19T15:11:40.978Z"
   },
   {
    "duration": 80,
    "start_time": "2024-04-19T15:11:40.982Z"
   },
   {
    "duration": 35,
    "start_time": "2024-04-19T15:11:41.064Z"
   },
   {
    "duration": 5,
    "start_time": "2024-04-19T15:11:41.100Z"
   },
   {
    "duration": 3,
    "start_time": "2024-04-19T15:11:41.107Z"
   },
   {
    "duration": 8,
    "start_time": "2024-04-19T15:11:41.112Z"
   },
   {
    "duration": 8,
    "start_time": "2024-04-19T15:11:41.121Z"
   },
   {
    "duration": 9,
    "start_time": "2024-04-19T15:11:41.130Z"
   },
   {
    "duration": 9,
    "start_time": "2024-04-19T15:11:41.140Z"
   },
   {
    "duration": 8,
    "start_time": "2024-04-19T15:12:26.649Z"
   },
   {
    "duration": 1546,
    "start_time": "2024-04-20T12:49:52.522Z"
   },
   {
    "duration": 4,
    "start_time": "2024-04-20T12:49:54.070Z"
   },
   {
    "duration": 254,
    "start_time": "2024-04-20T12:49:54.075Z"
   },
   {
    "duration": 49,
    "start_time": "2024-04-20T12:49:54.331Z"
   },
   {
    "duration": 6,
    "start_time": "2024-04-20T12:49:54.382Z"
   },
   {
    "duration": 10,
    "start_time": "2024-04-20T12:49:54.390Z"
   },
   {
    "duration": 11,
    "start_time": "2024-04-20T12:49:54.401Z"
   },
   {
    "duration": 12,
    "start_time": "2024-04-20T12:49:54.414Z"
   },
   {
    "duration": 11,
    "start_time": "2024-04-20T12:49:54.427Z"
   },
   {
    "duration": 36,
    "start_time": "2024-04-20T12:49:54.440Z"
   },
   {
    "duration": 7,
    "start_time": "2024-04-20T13:39:13.319Z"
   },
   {
    "duration": 119,
    "start_time": "2024-04-20T13:40:57.480Z"
   },
   {
    "duration": 4,
    "start_time": "2024-04-20T13:41:51.196Z"
   },
   {
    "duration": 3,
    "start_time": "2024-04-20T13:41:56.036Z"
   },
   {
    "duration": 15,
    "start_time": "2024-04-20T13:41:56.042Z"
   },
   {
    "duration": 85,
    "start_time": "2024-04-20T13:41:56.059Z"
   },
   {
    "duration": 46,
    "start_time": "2024-04-20T13:41:56.145Z"
   },
   {
    "duration": 8,
    "start_time": "2024-04-20T13:41:56.194Z"
   },
   {
    "duration": 19,
    "start_time": "2024-04-20T13:41:56.204Z"
   },
   {
    "duration": 11,
    "start_time": "2024-04-20T13:41:56.224Z"
   },
   {
    "duration": 10,
    "start_time": "2024-04-20T13:41:56.237Z"
   },
   {
    "duration": 23,
    "start_time": "2024-04-20T13:41:56.248Z"
   },
   {
    "duration": 12,
    "start_time": "2024-04-20T13:41:56.272Z"
   },
   {
    "duration": 7,
    "start_time": "2024-04-20T13:41:56.286Z"
   },
   {
    "duration": 28,
    "start_time": "2024-04-20T13:41:56.295Z"
   },
   {
    "duration": 0,
    "start_time": "2024-04-20T13:41:56.325Z"
   },
   {
    "duration": 12,
    "start_time": "2024-04-20T13:43:03.696Z"
   },
   {
    "duration": 9,
    "start_time": "2024-04-20T13:43:26.335Z"
   },
   {
    "duration": 3,
    "start_time": "2024-04-20T13:44:45.813Z"
   },
   {
    "duration": 20,
    "start_time": "2024-04-20T13:44:45.819Z"
   },
   {
    "duration": 92,
    "start_time": "2024-04-20T13:44:45.841Z"
   },
   {
    "duration": 42,
    "start_time": "2024-04-20T13:44:45.935Z"
   },
   {
    "duration": 14,
    "start_time": "2024-04-20T13:44:45.980Z"
   },
   {
    "duration": 12,
    "start_time": "2024-04-20T13:44:45.996Z"
   },
   {
    "duration": 10,
    "start_time": "2024-04-20T13:44:46.010Z"
   },
   {
    "duration": 14,
    "start_time": "2024-04-20T13:44:46.022Z"
   },
   {
    "duration": 22,
    "start_time": "2024-04-20T13:44:46.038Z"
   },
   {
    "duration": 17,
    "start_time": "2024-04-20T13:44:46.061Z"
   },
   {
    "duration": 23,
    "start_time": "2024-04-20T13:44:46.080Z"
   },
   {
    "duration": 21,
    "start_time": "2024-04-20T13:44:46.105Z"
   },
   {
    "duration": 25,
    "start_time": "2024-04-20T13:44:46.128Z"
   },
   {
    "duration": 0,
    "start_time": "2024-04-20T13:44:46.155Z"
   },
   {
    "duration": 14,
    "start_time": "2024-04-20T13:45:11.197Z"
   },
   {
    "duration": 4,
    "start_time": "2024-04-20T13:46:30.803Z"
   },
   {
    "duration": 170,
    "start_time": "2024-04-20T13:46:30.809Z"
   },
   {
    "duration": 350,
    "start_time": "2024-04-20T13:46:30.980Z"
   },
   {
    "duration": 460,
    "start_time": "2024-04-20T13:46:31.332Z"
   },
   {
    "duration": 519,
    "start_time": "2024-04-20T13:46:31.794Z"
   },
   {
    "duration": 97,
    "start_time": "2024-04-20T13:46:32.314Z"
   },
   {
    "duration": 192,
    "start_time": "2024-04-20T13:46:32.413Z"
   },
   {
    "duration": 228,
    "start_time": "2024-04-20T13:46:32.607Z"
   },
   {
    "duration": 111,
    "start_time": "2024-04-20T13:46:32.836Z"
   },
   {
    "duration": 33,
    "start_time": "2024-04-20T13:46:32.949Z"
   },
   {
    "duration": 14,
    "start_time": "2024-04-20T13:46:32.983Z"
   },
   {
    "duration": 41,
    "start_time": "2024-04-20T13:46:32.998Z"
   },
   {
    "duration": 190,
    "start_time": "2024-04-20T13:46:33.041Z"
   },
   {
    "duration": 120,
    "start_time": "2024-04-20T13:46:33.234Z"
   },
   {
    "duration": 9,
    "start_time": "2024-04-20T13:49:36.867Z"
   },
   {
    "duration": 8,
    "start_time": "2024-04-20T13:50:02.418Z"
   },
   {
    "duration": 4,
    "start_time": "2024-04-20T13:50:06.113Z"
   },
   {
    "duration": 5,
    "start_time": "2024-04-20T13:53:01.580Z"
   },
   {
    "duration": 5,
    "start_time": "2024-04-20T13:53:24.928Z"
   },
   {
    "duration": 9,
    "start_time": "2024-04-20T13:54:19.069Z"
   },
   {
    "duration": 283,
    "start_time": "2024-04-20T13:56:03.054Z"
   },
   {
    "duration": 208,
    "start_time": "2024-04-20T14:03:38.370Z"
   },
   {
    "duration": 6,
    "start_time": "2024-04-20T14:09:52.219Z"
   },
   {
    "duration": 367,
    "start_time": "2024-04-20T14:10:51.083Z"
   },
   {
    "duration": 9,
    "start_time": "2024-04-20T14:28:34.153Z"
   },
   {
    "duration": 4,
    "start_time": "2024-04-20T14:28:40.080Z"
   },
   {
    "duration": 44,
    "start_time": "2024-04-20T14:28:40.086Z"
   },
   {
    "duration": 97,
    "start_time": "2024-04-20T14:28:40.132Z"
   },
   {
    "duration": 43,
    "start_time": "2024-04-20T14:28:40.231Z"
   },
   {
    "duration": 16,
    "start_time": "2024-04-20T14:28:40.276Z"
   },
   {
    "duration": 45,
    "start_time": "2024-04-20T14:28:40.294Z"
   },
   {
    "duration": 31,
    "start_time": "2024-04-20T14:28:40.341Z"
   },
   {
    "duration": 33,
    "start_time": "2024-04-20T14:28:40.374Z"
   },
   {
    "duration": 26,
    "start_time": "2024-04-20T14:28:40.409Z"
   },
   {
    "duration": 34,
    "start_time": "2024-04-20T14:28:40.436Z"
   },
   {
    "duration": 22,
    "start_time": "2024-04-20T14:28:40.472Z"
   },
   {
    "duration": 210,
    "start_time": "2024-04-20T14:28:40.496Z"
   },
   {
    "duration": 121,
    "start_time": "2024-04-20T14:28:40.708Z"
   },
   {
    "duration": 6,
    "start_time": "2024-04-20T14:28:40.831Z"
   },
   {
    "duration": 8,
    "start_time": "2024-04-20T14:28:40.838Z"
   },
   {
    "duration": 17,
    "start_time": "2024-04-20T14:28:40.847Z"
   },
   {
    "duration": 12,
    "start_time": "2024-04-20T14:28:40.866Z"
   },
   {
    "duration": 216,
    "start_time": "2024-04-20T14:28:40.880Z"
   },
   {
    "duration": 221,
    "start_time": "2024-04-20T14:28:41.097Z"
   },
   {
    "duration": 6,
    "start_time": "2024-04-20T14:28:41.320Z"
   },
   {
    "duration": 338,
    "start_time": "2024-04-20T14:28:41.327Z"
   },
   {
    "duration": 4,
    "start_time": "2024-04-20T14:28:41.667Z"
   },
   {
    "duration": 4,
    "start_time": "2024-04-20T14:29:55.635Z"
   },
   {
    "duration": 218,
    "start_time": "2024-04-20T14:30:34.261Z"
   },
   {
    "duration": 328,
    "start_time": "2024-04-20T14:31:01.830Z"
   },
   {
    "duration": 11,
    "start_time": "2024-04-20T14:39:35.598Z"
   },
   {
    "duration": 303,
    "start_time": "2024-04-20T14:40:14.620Z"
   },
   {
    "duration": 209,
    "start_time": "2024-04-20T14:41:25.420Z"
   },
   {
    "duration": 311,
    "start_time": "2024-04-20T14:41:47.529Z"
   },
   {
    "duration": 90,
    "start_time": "2024-04-20T14:52:43.634Z"
   },
   {
    "duration": 7,
    "start_time": "2024-04-20T14:59:11.284Z"
   },
   {
    "duration": 7,
    "start_time": "2024-04-20T15:00:07.230Z"
   },
   {
    "duration": 130,
    "start_time": "2024-04-20T15:01:56.042Z"
   },
   {
    "duration": 126,
    "start_time": "2024-04-20T15:04:15.661Z"
   },
   {
    "duration": 129,
    "start_time": "2024-04-20T15:04:25.644Z"
   },
   {
    "duration": 11,
    "start_time": "2024-04-20T15:10:12.252Z"
   },
   {
    "duration": 5,
    "start_time": "2024-04-20T15:10:31.022Z"
   },
   {
    "duration": 4,
    "start_time": "2024-04-20T15:15:47.945Z"
   },
   {
    "duration": 142,
    "start_time": "2024-04-20T15:16:32.869Z"
   },
   {
    "duration": 138,
    "start_time": "2024-04-20T15:17:26.094Z"
   },
   {
    "duration": 117,
    "start_time": "2024-04-20T15:22:14.393Z"
   },
   {
    "duration": 149,
    "start_time": "2024-04-20T15:22:32.273Z"
   },
   {
    "duration": 5,
    "start_time": "2024-04-20T15:33:49.990Z"
   },
   {
    "duration": 100,
    "start_time": "2024-04-20T15:40:09.942Z"
   },
   {
    "duration": 5,
    "start_time": "2024-04-20T15:53:56.447Z"
   },
   {
    "duration": 5,
    "start_time": "2024-04-20T15:54:44.066Z"
   },
   {
    "duration": 44,
    "start_time": "2024-04-20T15:55:31.517Z"
   },
   {
    "duration": 4,
    "start_time": "2024-04-20T15:56:50.111Z"
   },
   {
    "duration": 48,
    "start_time": "2024-04-20T15:57:25.260Z"
   },
   {
    "duration": 14,
    "start_time": "2024-04-20T15:58:44.495Z"
   },
   {
    "duration": 46,
    "start_time": "2024-04-20T15:59:27.878Z"
   },
   {
    "duration": 13,
    "start_time": "2024-04-20T16:00:00.632Z"
   },
   {
    "duration": 48,
    "start_time": "2024-04-20T16:00:30.018Z"
   },
   {
    "duration": 21,
    "start_time": "2024-04-20T16:02:18.681Z"
   },
   {
    "duration": 15,
    "start_time": "2024-04-20T16:04:40.552Z"
   },
   {
    "duration": 73,
    "start_time": "2024-04-20T16:07:22.894Z"
   },
   {
    "duration": 63,
    "start_time": "2024-04-20T16:08:07.092Z"
   },
   {
    "duration": 85,
    "start_time": "2024-04-20T16:08:35.400Z"
   },
   {
    "duration": 5,
    "start_time": "2024-04-20T16:09:30.255Z"
   },
   {
    "duration": 1170,
    "start_time": "2024-04-20T16:11:53.260Z"
   },
   {
    "duration": 4,
    "start_time": "2024-04-20T16:12:40.886Z"
   },
   {
    "duration": 9,
    "start_time": "2024-04-20T16:12:40.892Z"
   },
   {
    "duration": 74,
    "start_time": "2024-04-20T16:12:40.902Z"
   },
   {
    "duration": 41,
    "start_time": "2024-04-20T16:12:40.979Z"
   },
   {
    "duration": 6,
    "start_time": "2024-04-20T16:12:41.021Z"
   },
   {
    "duration": 6,
    "start_time": "2024-04-20T16:12:41.028Z"
   },
   {
    "duration": 9,
    "start_time": "2024-04-20T16:12:41.035Z"
   },
   {
    "duration": 10,
    "start_time": "2024-04-20T16:12:41.045Z"
   },
   {
    "duration": 37,
    "start_time": "2024-04-20T16:12:41.056Z"
   },
   {
    "duration": 9,
    "start_time": "2024-04-20T16:12:41.096Z"
   },
   {
    "duration": 9,
    "start_time": "2024-04-20T16:12:41.106Z"
   },
   {
    "duration": 214,
    "start_time": "2024-04-20T16:12:41.116Z"
   },
   {
    "duration": 111,
    "start_time": "2024-04-20T16:12:41.332Z"
   },
   {
    "duration": 6,
    "start_time": "2024-04-20T16:12:41.445Z"
   },
   {
    "duration": 6,
    "start_time": "2024-04-20T16:12:41.453Z"
   },
   {
    "duration": 4,
    "start_time": "2024-04-20T16:12:41.461Z"
   },
   {
    "duration": 29,
    "start_time": "2024-04-20T16:12:41.467Z"
   },
   {
    "duration": 291,
    "start_time": "2024-04-20T16:12:41.498Z"
   },
   {
    "duration": 202,
    "start_time": "2024-04-20T16:12:41.791Z"
   },
   {
    "duration": 6,
    "start_time": "2024-04-20T16:12:41.995Z"
   },
   {
    "duration": 320,
    "start_time": "2024-04-20T16:12:42.002Z"
   },
   {
    "duration": 3,
    "start_time": "2024-04-20T16:12:42.325Z"
   },
   {
    "duration": 6,
    "start_time": "2024-04-20T16:12:42.330Z"
   },
   {
    "duration": 233,
    "start_time": "2024-04-20T16:12:42.338Z"
   },
   {
    "duration": 18,
    "start_time": "2024-04-20T16:12:42.573Z"
   },
   {
    "duration": 336,
    "start_time": "2024-04-20T16:12:42.593Z"
   },
   {
    "duration": 7,
    "start_time": "2024-04-20T16:12:42.931Z"
   },
   {
    "duration": 138,
    "start_time": "2024-04-20T16:12:42.941Z"
   },
   {
    "duration": 4,
    "start_time": "2024-04-20T16:12:43.080Z"
   },
   {
    "duration": 11,
    "start_time": "2024-04-20T16:12:43.085Z"
   },
   {
    "duration": 144,
    "start_time": "2024-04-20T16:12:43.098Z"
   },
   {
    "duration": 142,
    "start_time": "2024-04-20T16:12:43.244Z"
   },
   {
    "duration": 4,
    "start_time": "2024-04-20T16:12:43.390Z"
   },
   {
    "duration": 11,
    "start_time": "2024-04-20T16:12:43.396Z"
   },
   {
    "duration": 46,
    "start_time": "2024-04-20T16:12:43.409Z"
   },
   {
    "duration": 9,
    "start_time": "2024-04-20T16:12:43.457Z"
   },
   {
    "duration": 47,
    "start_time": "2024-04-20T16:12:43.467Z"
   },
   {
    "duration": 16,
    "start_time": "2024-04-20T16:12:43.516Z"
   },
   {
    "duration": 58,
    "start_time": "2024-04-20T16:12:43.534Z"
   },
   {
    "duration": 36,
    "start_time": "2024-04-20T16:12:43.594Z"
   },
   {
    "duration": 61,
    "start_time": "2024-04-20T16:12:43.632Z"
   },
   {
    "duration": 20,
    "start_time": "2024-04-20T16:12:43.694Z"
   },
   {
    "duration": 81,
    "start_time": "2024-04-20T16:12:43.716Z"
   },
   {
    "duration": 95,
    "start_time": "2024-04-20T16:12:43.798Z"
   },
   {
    "duration": 23,
    "start_time": "2024-04-20T16:12:43.894Z"
   },
   {
    "duration": 1220,
    "start_time": "2024-04-20T16:12:43.918Z"
   },
   {
    "duration": 85,
    "start_time": "2024-04-20T16:14:50.459Z"
   },
   {
    "duration": 5,
    "start_time": "2024-04-20T16:14:54.604Z"
   },
   {
    "duration": 1376,
    "start_time": "2024-04-20T16:15:11.578Z"
   },
   {
    "duration": 1243,
    "start_time": "2024-04-20T16:16:02.095Z"
   },
   {
    "duration": 90,
    "start_time": "2024-04-20T16:17:01.689Z"
   },
   {
    "duration": 4,
    "start_time": "2024-04-20T16:17:04.434Z"
   },
   {
    "duration": 5,
    "start_time": "2024-04-20T16:17:11.668Z"
   },
   {
    "duration": 27,
    "start_time": "2024-04-20T16:18:10.143Z"
   },
   {
    "duration": 35,
    "start_time": "2024-04-20T16:25:34.007Z"
   },
   {
    "duration": 24,
    "start_time": "2024-04-20T16:31:23.197Z"
   },
   {
    "duration": 25,
    "start_time": "2024-04-20T16:31:44.978Z"
   },
   {
    "duration": 3,
    "start_time": "2024-04-20T16:32:16.710Z"
   },
   {
    "duration": 4,
    "start_time": "2024-04-20T16:33:13.718Z"
   },
   {
    "duration": 54,
    "start_time": "2024-04-20T16:33:35.897Z"
   },
   {
    "duration": 85,
    "start_time": "2024-04-20T16:34:51.676Z"
   },
   {
    "duration": 84,
    "start_time": "2024-04-20T16:35:14.363Z"
   },
   {
    "duration": 84,
    "start_time": "2024-04-20T16:37:16.558Z"
   },
   {
    "duration": 25,
    "start_time": "2024-04-20T16:38:27.929Z"
   },
   {
    "duration": 25,
    "start_time": "2024-04-20T16:38:47.103Z"
   },
   {
    "duration": 31,
    "start_time": "2024-04-20T16:39:14.044Z"
   },
   {
    "duration": 27,
    "start_time": "2024-04-20T16:40:37.211Z"
   },
   {
    "duration": 100,
    "start_time": "2024-04-20T16:49:43.997Z"
   },
   {
    "duration": 12,
    "start_time": "2024-04-20T16:53:37.140Z"
   },
   {
    "duration": 85,
    "start_time": "2024-04-20T17:00:08.648Z"
   },
   {
    "duration": 1197,
    "start_time": "2024-04-20T17:18:38.998Z"
   },
   {
    "duration": 1305,
    "start_time": "2024-04-20T17:19:37.787Z"
   },
   {
    "duration": 1197,
    "start_time": "2024-04-20T17:21:52.455Z"
   },
   {
    "duration": 1488,
    "start_time": "2024-04-20T17:25:09.294Z"
   },
   {
    "duration": 1209,
    "start_time": "2024-04-20T17:29:56.953Z"
   },
   {
    "duration": 1200,
    "start_time": "2024-04-20T17:31:10.122Z"
   },
   {
    "duration": 13,
    "start_time": "2024-04-20T17:32:54.668Z"
   },
   {
    "duration": 10,
    "start_time": "2024-04-20T17:35:00.146Z"
   },
   {
    "duration": 6,
    "start_time": "2024-04-20T17:37:04.195Z"
   },
   {
    "duration": 6,
    "start_time": "2024-04-20T17:37:58.557Z"
   },
   {
    "duration": 26,
    "start_time": "2024-04-20T17:41:31.352Z"
   },
   {
    "duration": 1312,
    "start_time": "2024-04-20T17:52:18.253Z"
   },
   {
    "duration": 14,
    "start_time": "2024-04-20T17:54:00.575Z"
   },
   {
    "duration": 14,
    "start_time": "2024-04-20T17:56:47.721Z"
   },
   {
    "duration": 82,
    "start_time": "2024-04-20T18:02:17.220Z"
   },
   {
    "duration": 0,
    "start_time": "2024-04-21T14:15:03.330Z"
   },
   {
    "duration": 41,
    "start_time": "2024-04-21T14:31:52.013Z"
   },
   {
    "duration": 6,
    "start_time": "2024-04-21T14:33:04.174Z"
   },
   {
    "duration": 6,
    "start_time": "2024-04-21T14:33:29.272Z"
   },
   {
    "duration": 1311,
    "start_time": "2024-04-21T14:34:14.186Z"
   },
   {
    "duration": 4,
    "start_time": "2024-04-21T14:34:15.499Z"
   },
   {
    "duration": 242,
    "start_time": "2024-04-21T14:34:15.505Z"
   },
   {
    "duration": 40,
    "start_time": "2024-04-21T14:34:15.748Z"
   },
   {
    "duration": 7,
    "start_time": "2024-04-21T14:34:15.789Z"
   },
   {
    "duration": 20,
    "start_time": "2024-04-21T14:34:15.797Z"
   },
   {
    "duration": 19,
    "start_time": "2024-04-21T14:34:15.818Z"
   },
   {
    "duration": 14,
    "start_time": "2024-04-21T14:34:15.839Z"
   },
   {
    "duration": 26,
    "start_time": "2024-04-21T14:34:15.854Z"
   },
   {
    "duration": 13,
    "start_time": "2024-04-21T14:34:15.882Z"
   },
   {
    "duration": 16,
    "start_time": "2024-04-21T14:34:15.897Z"
   },
   {
    "duration": 23,
    "start_time": "2024-04-21T14:34:15.914Z"
   },
   {
    "duration": 173,
    "start_time": "2024-04-21T14:34:15.938Z"
   },
   {
    "duration": 105,
    "start_time": "2024-04-21T14:34:16.113Z"
   },
   {
    "duration": 6,
    "start_time": "2024-04-21T14:34:16.219Z"
   },
   {
    "duration": 25,
    "start_time": "2024-04-21T14:34:16.226Z"
   },
   {
    "duration": 44,
    "start_time": "2024-04-21T14:34:16.252Z"
   },
   {
    "duration": 36,
    "start_time": "2024-04-21T14:34:16.297Z"
   },
   {
    "duration": 267,
    "start_time": "2024-04-21T14:34:16.334Z"
   },
   {
    "duration": 180,
    "start_time": "2024-04-21T14:34:16.602Z"
   },
   {
    "duration": 12,
    "start_time": "2024-04-21T14:34:16.784Z"
   },
   {
    "duration": 345,
    "start_time": "2024-04-21T14:34:16.797Z"
   },
   {
    "duration": 4,
    "start_time": "2024-04-21T14:34:17.143Z"
   },
   {
    "duration": 26,
    "start_time": "2024-04-21T14:34:17.148Z"
   },
   {
    "duration": 212,
    "start_time": "2024-04-21T14:34:17.175Z"
   },
   {
    "duration": 8,
    "start_time": "2024-04-21T14:34:17.389Z"
   },
   {
    "duration": 329,
    "start_time": "2024-04-21T14:34:17.398Z"
   },
   {
    "duration": 6,
    "start_time": "2024-04-21T14:34:17.731Z"
   },
   {
    "duration": 137,
    "start_time": "2024-04-21T14:34:17.738Z"
   },
   {
    "duration": 4,
    "start_time": "2024-04-21T14:34:17.876Z"
   },
   {
    "duration": 42,
    "start_time": "2024-04-21T14:34:17.881Z"
   },
   {
    "duration": 234,
    "start_time": "2024-04-21T14:34:17.924Z"
   },
   {
    "duration": 129,
    "start_time": "2024-04-21T14:34:18.159Z"
   },
   {
    "duration": 3,
    "start_time": "2024-04-21T14:34:18.293Z"
   },
   {
    "duration": 55,
    "start_time": "2024-04-21T14:34:18.298Z"
   },
   {
    "duration": 127,
    "start_time": "2024-04-21T14:34:18.354Z"
   },
   {
    "duration": 18,
    "start_time": "2024-04-21T14:34:18.482Z"
   },
   {
    "duration": 55,
    "start_time": "2024-04-21T14:34:18.501Z"
   },
   {
    "duration": 12,
    "start_time": "2024-04-21T14:34:18.557Z"
   },
   {
    "duration": 66,
    "start_time": "2024-04-21T14:34:18.570Z"
   },
   {
    "duration": 29,
    "start_time": "2024-04-21T14:34:18.637Z"
   },
   {
    "duration": 71,
    "start_time": "2024-04-21T14:34:18.667Z"
   },
   {
    "duration": 18,
    "start_time": "2024-04-21T14:34:18.739Z"
   },
   {
    "duration": 64,
    "start_time": "2024-04-21T14:34:18.758Z"
   },
   {
    "duration": 79,
    "start_time": "2024-04-21T14:34:18.823Z"
   },
   {
    "duration": 4,
    "start_time": "2024-04-21T14:34:18.903Z"
   },
   {
    "duration": 9,
    "start_time": "2024-04-21T14:34:18.908Z"
   },
   {
    "duration": 25,
    "start_time": "2024-04-21T14:34:18.918Z"
   },
   {
    "duration": 10,
    "start_time": "2024-04-21T14:34:18.944Z"
   },
   {
    "duration": 20,
    "start_time": "2024-04-21T14:34:18.955Z"
   },
   {
    "duration": 25,
    "start_time": "2024-04-21T14:34:18.994Z"
   },
   {
    "duration": 14,
    "start_time": "2024-04-21T14:34:19.021Z"
   },
   {
    "duration": 29,
    "start_time": "2024-04-21T14:34:19.036Z"
   },
   {
    "duration": 13,
    "start_time": "2024-04-21T14:34:19.067Z"
   },
   {
    "duration": 3,
    "start_time": "2024-04-21T14:35:28.322Z"
   },
   {
    "duration": 30,
    "start_time": "2024-04-21T14:35:28.326Z"
   },
   {
    "duration": 72,
    "start_time": "2024-04-21T14:35:28.357Z"
   },
   {
    "duration": 36,
    "start_time": "2024-04-21T14:35:28.430Z"
   },
   {
    "duration": 5,
    "start_time": "2024-04-21T14:35:28.467Z"
   },
   {
    "duration": 26,
    "start_time": "2024-04-21T14:35:28.473Z"
   },
   {
    "duration": 10,
    "start_time": "2024-04-21T14:35:28.500Z"
   },
   {
    "duration": 8,
    "start_time": "2024-04-21T14:35:28.511Z"
   },
   {
    "duration": 8,
    "start_time": "2024-04-21T14:35:28.521Z"
   },
   {
    "duration": 9,
    "start_time": "2024-04-21T14:35:28.531Z"
   },
   {
    "duration": 11,
    "start_time": "2024-04-21T14:35:28.541Z"
   },
   {
    "duration": 14,
    "start_time": "2024-04-21T14:35:28.553Z"
   },
   {
    "duration": 171,
    "start_time": "2024-04-21T14:35:28.594Z"
   },
   {
    "duration": 127,
    "start_time": "2024-04-21T14:35:28.767Z"
   },
   {
    "duration": 6,
    "start_time": "2024-04-21T14:35:28.895Z"
   },
   {
    "duration": 7,
    "start_time": "2024-04-21T14:35:28.903Z"
   },
   {
    "duration": 27,
    "start_time": "2024-04-21T14:35:28.912Z"
   },
   {
    "duration": 20,
    "start_time": "2024-04-21T14:35:28.940Z"
   },
   {
    "duration": 203,
    "start_time": "2024-04-21T14:35:28.962Z"
   },
   {
    "duration": 176,
    "start_time": "2024-04-21T14:35:29.166Z"
   },
   {
    "duration": 6,
    "start_time": "2024-04-21T14:35:29.343Z"
   },
   {
    "duration": 321,
    "start_time": "2024-04-21T14:35:29.350Z"
   },
   {
    "duration": 4,
    "start_time": "2024-04-21T14:35:29.673Z"
   },
   {
    "duration": 25,
    "start_time": "2024-04-21T14:35:29.693Z"
   },
   {
    "duration": 212,
    "start_time": "2024-04-21T14:35:29.719Z"
   },
   {
    "duration": 7,
    "start_time": "2024-04-21T14:35:29.932Z"
   },
   {
    "duration": 330,
    "start_time": "2024-04-21T14:35:29.940Z"
   },
   {
    "duration": 6,
    "start_time": "2024-04-21T14:35:30.271Z"
   },
   {
    "duration": 185,
    "start_time": "2024-04-21T14:35:30.278Z"
   },
   {
    "duration": 5,
    "start_time": "2024-04-21T14:35:30.465Z"
   },
   {
    "duration": 193,
    "start_time": "2024-04-21T14:35:30.472Z"
   },
   {
    "duration": 195,
    "start_time": "2024-04-21T14:35:30.666Z"
   },
   {
    "duration": 139,
    "start_time": "2024-04-21T14:35:30.862Z"
   },
   {
    "duration": 215,
    "start_time": "2024-04-21T14:35:31.003Z"
   },
   {
    "duration": 125,
    "start_time": "2024-04-21T14:35:31.220Z"
   },
   {
    "duration": 140,
    "start_time": "2024-04-21T14:35:31.347Z"
   },
   {
    "duration": 76,
    "start_time": "2024-04-21T14:35:31.488Z"
   },
   {
    "duration": 171,
    "start_time": "2024-04-21T14:35:31.565Z"
   },
   {
    "duration": 164,
    "start_time": "2024-04-21T14:35:31.737Z"
   },
   {
    "duration": 103,
    "start_time": "2024-04-21T14:35:31.903Z"
   },
   {
    "duration": 35,
    "start_time": "2024-04-21T14:35:32.008Z"
   },
   {
    "duration": 46,
    "start_time": "2024-04-21T14:35:32.044Z"
   },
   {
    "duration": 48,
    "start_time": "2024-04-21T14:35:32.092Z"
   },
   {
    "duration": 73,
    "start_time": "2024-04-21T14:35:32.142Z"
   },
   {
    "duration": 63,
    "start_time": "2024-04-21T14:35:32.216Z"
   },
   {
    "duration": 17,
    "start_time": "2024-04-21T14:35:32.281Z"
   },
   {
    "duration": 41,
    "start_time": "2024-04-21T14:35:32.299Z"
   },
   {
    "duration": 40,
    "start_time": "2024-04-21T14:35:32.342Z"
   },
   {
    "duration": 26,
    "start_time": "2024-04-21T14:35:32.383Z"
   },
   {
    "duration": 20,
    "start_time": "2024-04-21T14:35:32.410Z"
   },
   {
    "duration": 26,
    "start_time": "2024-04-21T14:35:32.432Z"
   },
   {
    "duration": 50,
    "start_time": "2024-04-21T14:35:32.460Z"
   },
   {
    "duration": 35,
    "start_time": "2024-04-21T14:35:32.511Z"
   },
   {
    "duration": 14,
    "start_time": "2024-04-21T14:35:32.548Z"
   },
   {
    "duration": 5,
    "start_time": "2024-04-21T14:39:33.415Z"
   },
   {
    "duration": 5,
    "start_time": "2024-04-21T14:41:55.573Z"
   },
   {
    "duration": 5,
    "start_time": "2024-04-21T14:42:58.130Z"
   },
   {
    "duration": 80,
    "start_time": "2024-04-21T14:59:47.666Z"
   },
   {
    "duration": 12,
    "start_time": "2024-04-21T15:00:36.520Z"
   },
   {
    "duration": 11,
    "start_time": "2024-04-21T15:00:52.046Z"
   },
   {
    "duration": 10,
    "start_time": "2024-04-21T15:02:05.774Z"
   },
   {
    "duration": 7,
    "start_time": "2024-04-21T15:02:14.000Z"
   },
   {
    "duration": 7,
    "start_time": "2024-04-21T15:02:42.926Z"
   },
   {
    "duration": 13,
    "start_time": "2024-04-21T15:02:58.304Z"
   },
   {
    "duration": 12,
    "start_time": "2024-04-21T15:03:24.707Z"
   },
   {
    "duration": 8,
    "start_time": "2024-04-21T15:04:24.761Z"
   },
   {
    "duration": 14,
    "start_time": "2024-04-21T15:09:10.706Z"
   },
   {
    "duration": 4,
    "start_time": "2024-04-21T15:21:49.814Z"
   },
   {
    "duration": 10,
    "start_time": "2024-04-21T15:21:49.820Z"
   },
   {
    "duration": 89,
    "start_time": "2024-04-21T15:21:49.832Z"
   },
   {
    "duration": 43,
    "start_time": "2024-04-21T15:21:49.923Z"
   },
   {
    "duration": 29,
    "start_time": "2024-04-21T15:21:49.967Z"
   },
   {
    "duration": 11,
    "start_time": "2024-04-21T15:21:49.998Z"
   },
   {
    "duration": 26,
    "start_time": "2024-04-21T15:21:50.010Z"
   },
   {
    "duration": 18,
    "start_time": "2024-04-21T15:21:50.038Z"
   },
   {
    "duration": 19,
    "start_time": "2024-04-21T15:21:50.058Z"
   },
   {
    "duration": 23,
    "start_time": "2024-04-21T15:21:50.078Z"
   },
   {
    "duration": 15,
    "start_time": "2024-04-21T15:21:50.104Z"
   },
   {
    "duration": 22,
    "start_time": "2024-04-21T15:21:50.120Z"
   },
   {
    "duration": 28,
    "start_time": "2024-04-21T15:21:50.144Z"
   },
   {
    "duration": 8,
    "start_time": "2024-04-21T15:21:50.173Z"
   },
   {
    "duration": 196,
    "start_time": "2024-04-21T15:21:50.182Z"
   },
   {
    "duration": 131,
    "start_time": "2024-04-21T15:21:50.380Z"
   },
   {
    "duration": 6,
    "start_time": "2024-04-21T15:21:50.515Z"
   },
   {
    "duration": 14,
    "start_time": "2024-04-21T15:21:50.522Z"
   },
   {
    "duration": 13,
    "start_time": "2024-04-21T15:21:50.537Z"
   },
   {
    "duration": 15,
    "start_time": "2024-04-21T15:21:50.552Z"
   },
   {
    "duration": 272,
    "start_time": "2024-04-21T15:21:50.569Z"
   },
   {
    "duration": 194,
    "start_time": "2024-04-21T15:21:50.842Z"
   },
   {
    "duration": 7,
    "start_time": "2024-04-21T15:21:51.038Z"
   },
   {
    "duration": 353,
    "start_time": "2024-04-21T15:21:51.047Z"
   },
   {
    "duration": 6,
    "start_time": "2024-04-21T15:21:51.402Z"
   },
   {
    "duration": 41,
    "start_time": "2024-04-21T15:21:51.410Z"
   },
   {
    "duration": 245,
    "start_time": "2024-04-21T15:21:51.452Z"
   },
   {
    "duration": 8,
    "start_time": "2024-04-21T15:21:51.700Z"
   },
   {
    "duration": 332,
    "start_time": "2024-04-21T15:21:51.710Z"
   },
   {
    "duration": 6,
    "start_time": "2024-04-21T15:21:52.044Z"
   },
   {
    "duration": 162,
    "start_time": "2024-04-21T15:21:52.051Z"
   },
   {
    "duration": 5,
    "start_time": "2024-04-21T15:21:52.215Z"
   },
   {
    "duration": 11,
    "start_time": "2024-04-21T15:21:52.221Z"
   },
   {
    "duration": 150,
    "start_time": "2024-04-21T15:21:52.233Z"
   },
   {
    "duration": 148,
    "start_time": "2024-04-21T15:21:52.385Z"
   },
   {
    "duration": 4,
    "start_time": "2024-04-21T15:21:52.534Z"
   },
   {
    "duration": 25,
    "start_time": "2024-04-21T15:21:52.540Z"
   },
   {
    "duration": 65,
    "start_time": "2024-04-21T15:21:52.566Z"
   },
   {
    "duration": 15,
    "start_time": "2024-04-21T15:21:52.633Z"
   },
   {
    "duration": 40,
    "start_time": "2024-04-21T15:21:52.650Z"
   },
   {
    "duration": 35,
    "start_time": "2024-04-21T15:21:52.692Z"
   },
   {
    "duration": 65,
    "start_time": "2024-04-21T15:21:52.729Z"
   },
   {
    "duration": 15,
    "start_time": "2024-04-21T15:21:52.797Z"
   },
   {
    "duration": 95,
    "start_time": "2024-04-21T15:21:52.814Z"
   },
   {
    "duration": 23,
    "start_time": "2024-04-21T15:21:52.911Z"
   },
   {
    "duration": 85,
    "start_time": "2024-04-21T15:21:52.936Z"
   },
   {
    "duration": 84,
    "start_time": "2024-04-21T15:21:53.023Z"
   },
   {
    "duration": 10,
    "start_time": "2024-04-21T15:21:53.109Z"
   },
   {
    "duration": 27,
    "start_time": "2024-04-21T15:21:53.121Z"
   },
   {
    "duration": 34,
    "start_time": "2024-04-21T15:21:53.150Z"
   },
   {
    "duration": 12,
    "start_time": "2024-04-21T15:21:53.185Z"
   },
   {
    "duration": 12,
    "start_time": "2024-04-21T15:21:53.199Z"
   },
   {
    "duration": 13,
    "start_time": "2024-04-21T15:21:53.213Z"
   },
   {
    "duration": 28,
    "start_time": "2024-04-21T15:21:53.227Z"
   },
   {
    "duration": 39,
    "start_time": "2024-04-21T15:21:53.257Z"
   },
   {
    "duration": 16,
    "start_time": "2024-04-21T15:21:53.298Z"
   }
  ],
  "kernelspec": {
   "display_name": "Python 3 (ipykernel)",
   "language": "python",
   "name": "python3"
  },
  "language_info": {
   "codemirror_mode": {
    "name": "ipython",
    "version": 3
   },
   "file_extension": ".py",
   "mimetype": "text/x-python",
   "name": "python",
   "nbconvert_exporter": "python",
   "pygments_lexer": "ipython3",
   "version": "3.9.5"
  },
  "toc": {
   "base_numbering": 1,
   "nav_menu": {},
   "number_sections": true,
   "sideBar": true,
   "skip_h1_title": true,
   "title_cell": "Table of Contents",
   "title_sidebar": "Contents",
   "toc_cell": false,
   "toc_position": {},
   "toc_section_display": true,
   "toc_window_display": true
  }
 },
 "nbformat": 4,
 "nbformat_minor": 2
}
