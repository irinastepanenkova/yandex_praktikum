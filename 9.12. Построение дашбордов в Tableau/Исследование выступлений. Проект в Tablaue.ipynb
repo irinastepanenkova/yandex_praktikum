{
 "cells": [
  {
   "cell_type": "markdown",
   "id": "22591afc",
   "metadata": {},
   "source": [
    "<div  style=\"border-radius: 10px; box-shadow: 2px 2px 2px; border: 1px solid; padding: 10px \">\n",
    "\n",
    "**Ирина, привет!**\n",
    "\n",
    "Меня зовут ... и я буду проверять твой проект. Предлагаю общаться на «ты». Если это неприемлемо, то дай мне знать и мы перейдем на «вы». \n",
    "\n",
    "Для удобства я оставлю комментарии в отдельных ячейках Markdown с заголовком «Комментарий ревьюера». Пожалуйста, не перемещай, не изменяй и не удаляй их - так наше общение будет более продуктивным. Я буду использовать цветовую разметку:\n",
    "\n",
    "<div class=\"alert alert-danger\" style=\"border-radius: 10px; box-shadow: 2px 2px 2px; border: 1px solid; padding: 10px \">\n",
    "<b>Комментарий ревьюера</b> \n",
    "    \n",
    "✍ Так выделены самые важные замечания. Без их отработки проект не будет принят. При проверке я обращаю внимание не только на код, но и на интерпретацию и анализ результатов, а также соответствие данных техническому заданию.\n",
    "</div>\n",
    "\n",
    "<div class=\"alert alert-warning\" style=\"border-radius: 10px; box-shadow: 2px 2px 2px; border: 1px solid; padding: 10px \">\n",
    "<b>Комментарий ревьюера</b> \n",
    "    \n",
    "📝 Так выделены небольшие замечания или рекомендации. Постарайся, пожалуйста, учесть эти комментарии в этом проекте или в будущих проектах.\n",
    "</div>\n",
    "\n",
    "<div class=\"alert alert-success\" style=\"border-radius: 10px; box-shadow: 2px 2px 2px; border: 1px solid; padding: 10px \">\n",
    "<b>Комментарий ревьюера</b> \n",
    "    \n",
    "👍 Так выделены все остальные комментарии, включая рекомендации, позитивные моменты или какие-то рассуждения и пояснения.\n",
    "</div>\n",
    "\n",
    "\n",
    "    \n",
    "Давай работать над проектом в диалоге: если ты что-то меняешь в проекте или отвечаешь на мои комментарии — пиши об этом. Мне будет легче отследить изменения, если ты выделишь свои комментарии:\n",
    "\n",
    "<div class=\"alert alert-info\" style=\"border-radius: 10px; box-shadow: 2px 2px 2px; border: 1px solid; padding: 10px \"> \n",
    "<b>Комментарий студента</b> \n",
    "    \n",
    "Например, вот так. Также, если есть какие-то вопросы, или что-то осталось непонятным по ревью - спрашивай в таких блоках и я постараюсь дать ответ.\n",
    "</div>\n",
    "\n",
    "---"
   ]
  },
  {
   "cell_type": "markdown",
   "id": "99b685a8",
   "metadata": {},
   "source": [
    "https://public.tableau.com/views/TED_16990990273870/TED?:language=en-US&publish=yes&:display_count=n&:origin=viz_share_link\n",
    "\n",
    "Приветствую! Меня зовут Ирина. Отправляю ссылку на проект по спринту Tableau.\n",
    "\n",
    "Спасибо!"
   ]
  },
  {
   "cell_type": "markdown",
   "id": "0a840062",
   "metadata": {},
   "source": [
    "# История выступлений"
   ]
  },
  {
   "cell_type": "markdown",
   "id": "7a5633c9",
   "metadata": {},
   "source": [
    "<div class=\"alert alert-success\" style=\"border-radius: 10px; box-shadow: 2px 2px 2px; border: 1px solid; padding: 10px \">\n",
    "<b>Комментарий ревьюера v.1</b> \n",
    "    \n",
    "👍 \n",
    "Сделано хорошо:\n",
    "\n",
    "- дашборд соответствует макету;\n",
    "- правильно настроен Action на фильтрацию\n",
    "- выводы понятны и логичны.\n",
    "\n",
    "\n",
    "</div>"
   ]
  },
  {
   "cell_type": "markdown",
   "id": "2c4543e6",
   "metadata": {},
   "source": [
    "<div class=\"alert alert-warning\" style=\"border-radius: 10px; box-shadow: 2px 2px 2px; border: 1px solid; padding: 10px \">\n",
    "<b>Комментарий ревьюера v.1</b> \n",
    "    \n",
    "📝 \n",
    "Также мы можем добавить краткие описания графиков на всех слайдах.\n",
    "    \n",
    "\n",
    "</div>"
   ]
  },
  {
   "cell_type": "markdown",
   "id": "48f974bd",
   "metadata": {},
   "source": [
    "<div class=\"alert alert-info\" style=\"border-radius: 10px; box-shadow: 2px 2px 2px; border: 1px solid; padding: 10px \"> \n",
    "<b>Комментарий студента</b> \n",
    "    \n",
    "Добавила краткие описания визуализаций."
   ]
  },
  {
   "cell_type": "markdown",
   "id": "c2598efd",
   "metadata": {},
   "source": [
    "# Тематика выступлений"
   ]
  },
  {
   "cell_type": "markdown",
   "id": "e61e299d",
   "metadata": {},
   "source": [
    "<div class=\"alert alert-success\" style=\"border-radius: 10px; box-shadow: 2px 2px 2px; border: 1px solid; padding: 10px \">\n",
    "<b>Комментарий ревьюера v.1</b> \n",
    "    \n",
    "👍 \n",
    "    \n",
    "\n",
    "- дашборд соответствует макету;\n",
    "- правильно настроен Action на фильтрацию;\n",
    "- корректность вычисляемых полей;\n",
    "- всплывающие подсказки содержат нужные гистограммы\n",
    "- есть ответы на поставленные вопросы.\n",
    "</div>"
   ]
  },
  {
   "cell_type": "markdown",
   "id": "720ce569",
   "metadata": {},
   "source": [
    "<div class=\"alert alert-warning\" style=\"border-radius: 10px; box-shadow: 2px 2px 2px; border: 1px solid; padding: 10px \">\n",
    "<b>Комментарий ревьюера v.1</b> \n",
    "    \n",
    "📝 \n",
    "Также, можно добавить в табличку \"Тематики и страны\" категорию \"Другие\"\n",
    "</div>"
   ]
  },
  {
   "cell_type": "markdown",
   "id": "90d72280",
   "metadata": {},
   "source": [
    "<div class=\"alert alert-info\" style=\"border-radius: 10px; box-shadow: 2px 2px 2px; border: 1px solid; padding: 10px \"> \n",
    "<b>Комментарий студента</b>  На вкладке Тематики и страны добавлена группа Other, она самая большая."
   ]
  },
  {
   "cell_type": "markdown",
   "id": "fc265f57",
   "metadata": {},
   "source": [
    "# Авторы выступлений"
   ]
  },
  {
   "cell_type": "markdown",
   "id": "11ebb802",
   "metadata": {},
   "source": [
    "<div class=\"alert alert-success\" style=\"border-radius: 10px; box-shadow: 2px 2px 2px; border: 1px solid; padding: 10px \">\n",
    "<b>Комментарий ревьюера v.1</b> \n",
    "    \n",
    "👍 \n",
    "- параметр Top-N  работает корректно,\n",
    "- на дашборде настроен Action, фильтрующий таблицы, также здорово, что таблицы отсортированы;\n",
    "- есть ответы на поставленные вопросы.\n",
    "</div>"
   ]
  },
  {
   "cell_type": "markdown",
   "id": "5248e2da",
   "metadata": {},
   "source": [
    "# Дашборд на свободную тему"
   ]
  },
  {
   "cell_type": "markdown",
   "id": "ba0e3db4",
   "metadata": {},
   "source": [
    "<div class=\"alert alert-success\" style=\"border-radius: 10px; box-shadow: 2px 2px 2px; border: 1px solid; padding: 10px \">\n",
    "<b>Комментарий ревьюера v.1</b> \n",
    "    \n",
    "👍 \n",
    "- здорово, что выполнил дашборд на свободную тему,\n",
    "- отлично подобраны типы визуализаций;\n",
    "- на дашборде есть выводы и наблюдения;\n",
    "\n",
    "</div>"
   ]
  },
  {
   "cell_type": "markdown",
   "id": "8eb0bb77",
   "metadata": {},
   "source": [
    "<div style=\"border:solid blue 3px; padding: 20px\" >\n",
    "<div class=\"alert alert-success\">\n",
    "<b>Обратная связь v.1</b> \n",
    "    \n",
    "👋Ирина, у тебя получилась очень сильная и хорошая работа. Я готов принять твой проект и если у тебя не осталось каких-либо вопросов, то пришли свой проект на повторное ревью и он будет принят 😊\n",
    "\n",
    "* Если тебе интересна тема визуализации, то можешь пройти вот этот крутой и бесплатный курс по табло — https://tableau.pro/m01 (переходить по дням можно, если менять цифру в ссылке).\n",
    "\n",
    "* Потом советую посмотреть на такой инструмент, как Redash — https://redash.io/help/user-guide/getting-started. Это надстройка над SQL-запросами, которая позволяет строить красивые таблички и графики в веб-интерфейсе, а потом собирать из них дашборды. \n",
    "\n",
    "* А вот сайт Ромы Бунина — https://revealthedata.com/ По-моему мнению, он один из самых крутых специалистов по визуализации в России. У него есть телеграм канал, блог и много всего интересного, что поможет расширить знания по визуализации.\n",
    "\n",
    "* Знание BI-инструментов — это крайне полезно в работе аналитика, во многих вакансиях встречаются требования по инструментам для построения дашбордов.\n"
   ]
  },
  {
   "cell_type": "markdown",
   "id": "fda30550",
   "metadata": {},
   "source": [
    "<div class=\"alert alert-info\" style=\"border-radius: 10px; box-shadow: 2px 2px 2px; border: 1px solid; padding: 10px \"> \n",
    "<b>Комментарий студента</b> \n",
    "Василий, спасибо за дополнительные материалы! Буду изучать, особенно интересен Redash."
   ]
  },
  {
   "cell_type": "markdown",
   "id": "5ae1e87d",
   "metadata": {},
   "source": [
    "<div class=\"alert alert-info\" style=\"border-radius: 10px; box-shadow: 2px 2px 2px; border: 1px solid; padding: 10px \"> \n",
    "<b>Комментарий студента</b> \n",
    "    \n",
    "Добавляю ссылку на отредактированный дашборд.\n",
    "\n",
    "https://public.tableau.com/views/TED_16990990273870/TED?:language=en-US&publish=yes&:display_count=n&:origin=viz_share_link\n"
   ]
  },
  {
   "cell_type": "markdown",
   "id": "b26a9fb9",
   "metadata": {},
   "source": [
    "<div style=\"border:solid indigo 3px; padding: 20px\">\n",
    "<div class=\"alert alert-success\">\n",
    "<b>Обратная связь v.2</b> \n",
    "    \n",
    "👋 \n",
    "      \n",
    "Ирина, спасибо тебе за  хорошую работу.\n",
    "    \n",
    "Поздравляю с успешным завершением проекта 🥳 🎉\n",
    "    \n",
    "И желаю успехов в новых работах 😊"
   ]
  }
 ],
 "metadata": {
  "kernelspec": {
   "display_name": "Python 3 (ipykernel)",
   "language": "python",
   "name": "python3"
  },
  "language_info": {
   "codemirror_mode": {
    "name": "ipython",
    "version": 3
   },
   "file_extension": ".py",
   "mimetype": "text/x-python",
   "name": "python",
   "nbconvert_exporter": "python",
   "pygments_lexer": "ipython3",
   "version": "3.9.5"
  },
  "toc": {
   "base_numbering": 1,
   "nav_menu": {},
   "number_sections": true,
   "sideBar": true,
   "skip_h1_title": true,
   "title_cell": "Table of Contents",
   "title_sidebar": "Contents",
   "toc_cell": false,
   "toc_position": {},
   "toc_section_display": true,
   "toc_window_display": false
  }
 },
 "nbformat": 4,
 "nbformat_minor": 5
}
