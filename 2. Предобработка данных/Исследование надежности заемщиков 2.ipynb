{
 "cells": [
  {
   "cell_type": "markdown",
   "id": "7d490a02",
   "metadata": {},
   "source": [
    "<font color='DarkBlue' size=+2><b>Комментарий ревьюера</b></font><br>\n",
    "<font color='DarkBlue'>Привет, Ирина! <br>Меня зовут Олег Мазуренко, и я буду проверять этот проект. Спасибо за проделанную работу! <br>Ко мне можно обращаться на «ты». Как мне обращаться, напиши.</font><br>\n",
    "<font color='DarkBlue'>Я буду использовать различные цвета, чтобы было удобнее воспринимать мои комментарии:</font><br>\n",
    "<font color='DarkBlue'>Синий текст &mdash; просто текст комментария.</font><br>\n",
    "<font color='DarkGreen'>👌 Зеленый текст &mdash; все отлично.</font><br>\n",
    "<font color='DarkMagenta'>👉 Фиолетовый текст &mdash; сделано все правильно, однако есть рекомендации, на что стоит обратить внимание. Реализованные рекомендации позволят нам наработать опыт решения задачи разными способами или посмотреть на задачу под иным углом.</font><br>\n",
    "<font color='Red'>🛠 Красный текст &mdash; есть недочеты, они иногда бывают. </font><br><font color='DarkBlue'>Любая ошибка это возможность посмотреть на задачу с другой стороны и освоить новые знания, по этому не надо расстраиваться, если они есть.</font><br>\n",
    "<font color='DarkBlue'>Обращаю внимание, что комментарии ревьюера после проверки удалять нельзя они помогают отследить логику исправления или изменения проекта. Это дополнительный навык при обучении. Свой исправляемый код лучше тоже не удалять, а ремить #, это позволит акцентировать изменения в ходе подготовки окончательного варианта проекта.<br>\n",
    "Ответы на мои комментарии лучше тоже помечать. \n",
    "Например: </font><font color='Blue'><b>Комментарий студента</b></font><br>\n",
    "<font color='DarkBlue'><b>Теперь посмотрим, что у нас получилось!</b></font>"
   ]
  },
  {
   "cell_type": "markdown",
   "id": "386f2ae7",
   "metadata": {
    "deletable": false,
    "editable": false,
    "id": "386f2ae7"
   },
   "source": [
    "# Исследование надежности заемщиков\n"
   ]
  },
  {
   "cell_type": "markdown",
   "id": "716e7d01",
   "metadata": {},
   "source": [
    "<font color='DarkBlue'><b>Комментарий ревьюера</b></font><br>\n",
    "<font color='DarkMagenta'>👉 Хочу обратить внимание, что во всех следующих проектах необходимо будет делать описание проекта. Где отразить какая цель исследования, какой контекст (особенности отрасли и данных), что планируем делать (план исследования). <br>В реальном проекте не будет инструкции и задач, которые необходимо выполнить, по этому будем учиться делать описание проекта самостоятельно.</font>"
   ]
  },
  {
   "cell_type": "markdown",
   "id": "ffe86f65",
   "metadata": {
    "deletable": false,
    "editable": false,
    "id": "ffe86f65"
   },
   "source": [
    "Во второй части проекта вы выполните шаги 3 и 4. Их вручную проверит ревьюер.\n",
    "Чтобы вам не пришлось писать код заново для шагов 1 и 2, мы добавили авторские решения в ячейки с кодом. \n",
    "\n"
   ]
  },
  {
   "cell_type": "markdown",
   "id": "26613308",
   "metadata": {
    "deletable": false,
    "editable": false,
    "id": "26613308"
   },
   "source": [
    "## Откройте таблицу и изучите общую информацию о данных"
   ]
  },
  {
   "cell_type": "markdown",
   "id": "3c9f838e",
   "metadata": {
    "deletable": false,
    "editable": false,
    "id": "3c9f838e"
   },
   "source": [
    "**Задание 1. Импортируйте библиотеку pandas. Считайте данные из csv-файла в датафрейм и сохраните в переменную `data`. Путь к файлу:**\n",
    "\n",
    "`/datasets/data.csv`"
   ]
  },
  {
   "cell_type": "code",
   "execution_count": 1,
   "id": "77a68a90",
   "metadata": {
    "deletable": false,
    "id": "77a68a90"
   },
   "outputs": [],
   "source": [
    "import pandas as pd #импорт pandas\n",
    "\n",
    "try: #конструкция по отработке ошибок\n",
    "    data = pd.read_csv('/datasets/data.csv')\n",
    "except:\n",
    "    data = pd.read_csv('https://code.s3.yandex.net/datasets/data.csv')"
   ]
  },
  {
   "cell_type": "markdown",
   "id": "45365635",
   "metadata": {
    "deletable": false,
    "editable": false,
    "id": "45365635"
   },
   "source": [
    "**Задание 2. Выведите первые 20 строчек датафрейма `data` на экран.**"
   ]
  },
  {
   "cell_type": "code",
   "execution_count": 2,
   "id": "b0451a9a",
   "metadata": {
    "deletable": false,
    "id": "b0451a9a",
    "outputId": "1a8f3ef2-d323-4ec2-ddf7-89670b5944c4"
   },
   "outputs": [
    {
     "data": {
      "text/html": [
       "<div>\n",
       "<style scoped>\n",
       "    .dataframe tbody tr th:only-of-type {\n",
       "        vertical-align: middle;\n",
       "    }\n",
       "\n",
       "    .dataframe tbody tr th {\n",
       "        vertical-align: top;\n",
       "    }\n",
       "\n",
       "    .dataframe thead th {\n",
       "        text-align: right;\n",
       "    }\n",
       "</style>\n",
       "<table border=\"1\" class=\"dataframe\">\n",
       "  <thead>\n",
       "    <tr style=\"text-align: right;\">\n",
       "      <th></th>\n",
       "      <th>children</th>\n",
       "      <th>days_employed</th>\n",
       "      <th>dob_years</th>\n",
       "      <th>education</th>\n",
       "      <th>education_id</th>\n",
       "      <th>family_status</th>\n",
       "      <th>family_status_id</th>\n",
       "      <th>gender</th>\n",
       "      <th>income_type</th>\n",
       "      <th>debt</th>\n",
       "      <th>total_income</th>\n",
       "      <th>purpose</th>\n",
       "    </tr>\n",
       "  </thead>\n",
       "  <tbody>\n",
       "    <tr>\n",
       "      <th>0</th>\n",
       "      <td>1</td>\n",
       "      <td>-8437.673028</td>\n",
       "      <td>42</td>\n",
       "      <td>высшее</td>\n",
       "      <td>0</td>\n",
       "      <td>женат / замужем</td>\n",
       "      <td>0</td>\n",
       "      <td>F</td>\n",
       "      <td>сотрудник</td>\n",
       "      <td>0</td>\n",
       "      <td>253875.639453</td>\n",
       "      <td>покупка жилья</td>\n",
       "    </tr>\n",
       "    <tr>\n",
       "      <th>1</th>\n",
       "      <td>1</td>\n",
       "      <td>-4024.803754</td>\n",
       "      <td>36</td>\n",
       "      <td>среднее</td>\n",
       "      <td>1</td>\n",
       "      <td>женат / замужем</td>\n",
       "      <td>0</td>\n",
       "      <td>F</td>\n",
       "      <td>сотрудник</td>\n",
       "      <td>0</td>\n",
       "      <td>112080.014102</td>\n",
       "      <td>приобретение автомобиля</td>\n",
       "    </tr>\n",
       "    <tr>\n",
       "      <th>2</th>\n",
       "      <td>0</td>\n",
       "      <td>-5623.422610</td>\n",
       "      <td>33</td>\n",
       "      <td>Среднее</td>\n",
       "      <td>1</td>\n",
       "      <td>женат / замужем</td>\n",
       "      <td>0</td>\n",
       "      <td>M</td>\n",
       "      <td>сотрудник</td>\n",
       "      <td>0</td>\n",
       "      <td>145885.952297</td>\n",
       "      <td>покупка жилья</td>\n",
       "    </tr>\n",
       "    <tr>\n",
       "      <th>3</th>\n",
       "      <td>3</td>\n",
       "      <td>-4124.747207</td>\n",
       "      <td>32</td>\n",
       "      <td>среднее</td>\n",
       "      <td>1</td>\n",
       "      <td>женат / замужем</td>\n",
       "      <td>0</td>\n",
       "      <td>M</td>\n",
       "      <td>сотрудник</td>\n",
       "      <td>0</td>\n",
       "      <td>267628.550329</td>\n",
       "      <td>дополнительное образование</td>\n",
       "    </tr>\n",
       "    <tr>\n",
       "      <th>4</th>\n",
       "      <td>0</td>\n",
       "      <td>340266.072047</td>\n",
       "      <td>53</td>\n",
       "      <td>среднее</td>\n",
       "      <td>1</td>\n",
       "      <td>гражданский брак</td>\n",
       "      <td>1</td>\n",
       "      <td>F</td>\n",
       "      <td>пенсионер</td>\n",
       "      <td>0</td>\n",
       "      <td>158616.077870</td>\n",
       "      <td>сыграть свадьбу</td>\n",
       "    </tr>\n",
       "    <tr>\n",
       "      <th>5</th>\n",
       "      <td>0</td>\n",
       "      <td>-926.185831</td>\n",
       "      <td>27</td>\n",
       "      <td>высшее</td>\n",
       "      <td>0</td>\n",
       "      <td>гражданский брак</td>\n",
       "      <td>1</td>\n",
       "      <td>M</td>\n",
       "      <td>компаньон</td>\n",
       "      <td>0</td>\n",
       "      <td>255763.565419</td>\n",
       "      <td>покупка жилья</td>\n",
       "    </tr>\n",
       "    <tr>\n",
       "      <th>6</th>\n",
       "      <td>0</td>\n",
       "      <td>-2879.202052</td>\n",
       "      <td>43</td>\n",
       "      <td>высшее</td>\n",
       "      <td>0</td>\n",
       "      <td>женат / замужем</td>\n",
       "      <td>0</td>\n",
       "      <td>F</td>\n",
       "      <td>компаньон</td>\n",
       "      <td>0</td>\n",
       "      <td>240525.971920</td>\n",
       "      <td>операции с жильем</td>\n",
       "    </tr>\n",
       "    <tr>\n",
       "      <th>7</th>\n",
       "      <td>0</td>\n",
       "      <td>-152.779569</td>\n",
       "      <td>50</td>\n",
       "      <td>СРЕДНЕЕ</td>\n",
       "      <td>1</td>\n",
       "      <td>женат / замужем</td>\n",
       "      <td>0</td>\n",
       "      <td>M</td>\n",
       "      <td>сотрудник</td>\n",
       "      <td>0</td>\n",
       "      <td>135823.934197</td>\n",
       "      <td>образование</td>\n",
       "    </tr>\n",
       "    <tr>\n",
       "      <th>8</th>\n",
       "      <td>2</td>\n",
       "      <td>-6929.865299</td>\n",
       "      <td>35</td>\n",
       "      <td>ВЫСШЕЕ</td>\n",
       "      <td>0</td>\n",
       "      <td>гражданский брак</td>\n",
       "      <td>1</td>\n",
       "      <td>F</td>\n",
       "      <td>сотрудник</td>\n",
       "      <td>0</td>\n",
       "      <td>95856.832424</td>\n",
       "      <td>на проведение свадьбы</td>\n",
       "    </tr>\n",
       "    <tr>\n",
       "      <th>9</th>\n",
       "      <td>0</td>\n",
       "      <td>-2188.756445</td>\n",
       "      <td>41</td>\n",
       "      <td>среднее</td>\n",
       "      <td>1</td>\n",
       "      <td>женат / замужем</td>\n",
       "      <td>0</td>\n",
       "      <td>M</td>\n",
       "      <td>сотрудник</td>\n",
       "      <td>0</td>\n",
       "      <td>144425.938277</td>\n",
       "      <td>покупка жилья для семьи</td>\n",
       "    </tr>\n",
       "    <tr>\n",
       "      <th>10</th>\n",
       "      <td>2</td>\n",
       "      <td>-4171.483647</td>\n",
       "      <td>36</td>\n",
       "      <td>высшее</td>\n",
       "      <td>0</td>\n",
       "      <td>женат / замужем</td>\n",
       "      <td>0</td>\n",
       "      <td>M</td>\n",
       "      <td>компаньон</td>\n",
       "      <td>0</td>\n",
       "      <td>113943.491460</td>\n",
       "      <td>покупка недвижимости</td>\n",
       "    </tr>\n",
       "    <tr>\n",
       "      <th>11</th>\n",
       "      <td>0</td>\n",
       "      <td>-792.701887</td>\n",
       "      <td>40</td>\n",
       "      <td>среднее</td>\n",
       "      <td>1</td>\n",
       "      <td>женат / замужем</td>\n",
       "      <td>0</td>\n",
       "      <td>F</td>\n",
       "      <td>сотрудник</td>\n",
       "      <td>0</td>\n",
       "      <td>77069.234271</td>\n",
       "      <td>покупка коммерческой недвижимости</td>\n",
       "    </tr>\n",
       "    <tr>\n",
       "      <th>12</th>\n",
       "      <td>0</td>\n",
       "      <td>NaN</td>\n",
       "      <td>65</td>\n",
       "      <td>среднее</td>\n",
       "      <td>1</td>\n",
       "      <td>гражданский брак</td>\n",
       "      <td>1</td>\n",
       "      <td>M</td>\n",
       "      <td>пенсионер</td>\n",
       "      <td>0</td>\n",
       "      <td>NaN</td>\n",
       "      <td>сыграть свадьбу</td>\n",
       "    </tr>\n",
       "    <tr>\n",
       "      <th>13</th>\n",
       "      <td>0</td>\n",
       "      <td>-1846.641941</td>\n",
       "      <td>54</td>\n",
       "      <td>неоконченное высшее</td>\n",
       "      <td>2</td>\n",
       "      <td>женат / замужем</td>\n",
       "      <td>0</td>\n",
       "      <td>F</td>\n",
       "      <td>сотрудник</td>\n",
       "      <td>0</td>\n",
       "      <td>130458.228857</td>\n",
       "      <td>приобретение автомобиля</td>\n",
       "    </tr>\n",
       "    <tr>\n",
       "      <th>14</th>\n",
       "      <td>0</td>\n",
       "      <td>-1844.956182</td>\n",
       "      <td>56</td>\n",
       "      <td>высшее</td>\n",
       "      <td>0</td>\n",
       "      <td>гражданский брак</td>\n",
       "      <td>1</td>\n",
       "      <td>F</td>\n",
       "      <td>компаньон</td>\n",
       "      <td>1</td>\n",
       "      <td>165127.911772</td>\n",
       "      <td>покупка жилой недвижимости</td>\n",
       "    </tr>\n",
       "    <tr>\n",
       "      <th>15</th>\n",
       "      <td>1</td>\n",
       "      <td>-972.364419</td>\n",
       "      <td>26</td>\n",
       "      <td>среднее</td>\n",
       "      <td>1</td>\n",
       "      <td>женат / замужем</td>\n",
       "      <td>0</td>\n",
       "      <td>F</td>\n",
       "      <td>сотрудник</td>\n",
       "      <td>0</td>\n",
       "      <td>116820.904450</td>\n",
       "      <td>строительство собственной недвижимости</td>\n",
       "    </tr>\n",
       "    <tr>\n",
       "      <th>16</th>\n",
       "      <td>0</td>\n",
       "      <td>-1719.934226</td>\n",
       "      <td>35</td>\n",
       "      <td>среднее</td>\n",
       "      <td>1</td>\n",
       "      <td>женат / замужем</td>\n",
       "      <td>0</td>\n",
       "      <td>F</td>\n",
       "      <td>сотрудник</td>\n",
       "      <td>0</td>\n",
       "      <td>289202.704229</td>\n",
       "      <td>недвижимость</td>\n",
       "    </tr>\n",
       "    <tr>\n",
       "      <th>17</th>\n",
       "      <td>0</td>\n",
       "      <td>-2369.999720</td>\n",
       "      <td>33</td>\n",
       "      <td>высшее</td>\n",
       "      <td>0</td>\n",
       "      <td>гражданский брак</td>\n",
       "      <td>1</td>\n",
       "      <td>M</td>\n",
       "      <td>сотрудник</td>\n",
       "      <td>0</td>\n",
       "      <td>90410.586745</td>\n",
       "      <td>строительство недвижимости</td>\n",
       "    </tr>\n",
       "    <tr>\n",
       "      <th>18</th>\n",
       "      <td>0</td>\n",
       "      <td>400281.136913</td>\n",
       "      <td>53</td>\n",
       "      <td>среднее</td>\n",
       "      <td>1</td>\n",
       "      <td>вдовец / вдова</td>\n",
       "      <td>2</td>\n",
       "      <td>F</td>\n",
       "      <td>пенсионер</td>\n",
       "      <td>0</td>\n",
       "      <td>56823.777243</td>\n",
       "      <td>на покупку подержанного автомобиля</td>\n",
       "    </tr>\n",
       "    <tr>\n",
       "      <th>19</th>\n",
       "      <td>0</td>\n",
       "      <td>-10038.818549</td>\n",
       "      <td>48</td>\n",
       "      <td>СРЕДНЕЕ</td>\n",
       "      <td>1</td>\n",
       "      <td>в разводе</td>\n",
       "      <td>3</td>\n",
       "      <td>F</td>\n",
       "      <td>сотрудник</td>\n",
       "      <td>0</td>\n",
       "      <td>242831.107982</td>\n",
       "      <td>на покупку своего автомобиля</td>\n",
       "    </tr>\n",
       "  </tbody>\n",
       "</table>\n",
       "</div>"
      ],
      "text/plain": [
       "    children  days_employed  dob_years            education  education_id  \\\n",
       "0          1   -8437.673028         42               высшее             0   \n",
       "1          1   -4024.803754         36              среднее             1   \n",
       "2          0   -5623.422610         33              Среднее             1   \n",
       "3          3   -4124.747207         32              среднее             1   \n",
       "4          0  340266.072047         53              среднее             1   \n",
       "5          0    -926.185831         27               высшее             0   \n",
       "6          0   -2879.202052         43               высшее             0   \n",
       "7          0    -152.779569         50              СРЕДНЕЕ             1   \n",
       "8          2   -6929.865299         35               ВЫСШЕЕ             0   \n",
       "9          0   -2188.756445         41              среднее             1   \n",
       "10         2   -4171.483647         36               высшее             0   \n",
       "11         0    -792.701887         40              среднее             1   \n",
       "12         0            NaN         65              среднее             1   \n",
       "13         0   -1846.641941         54  неоконченное высшее             2   \n",
       "14         0   -1844.956182         56               высшее             0   \n",
       "15         1    -972.364419         26              среднее             1   \n",
       "16         0   -1719.934226         35              среднее             1   \n",
       "17         0   -2369.999720         33               высшее             0   \n",
       "18         0  400281.136913         53              среднее             1   \n",
       "19         0  -10038.818549         48              СРЕДНЕЕ             1   \n",
       "\n",
       "       family_status  family_status_id gender income_type  debt  \\\n",
       "0    женат / замужем                 0      F   сотрудник     0   \n",
       "1    женат / замужем                 0      F   сотрудник     0   \n",
       "2    женат / замужем                 0      M   сотрудник     0   \n",
       "3    женат / замужем                 0      M   сотрудник     0   \n",
       "4   гражданский брак                 1      F   пенсионер     0   \n",
       "5   гражданский брак                 1      M   компаньон     0   \n",
       "6    женат / замужем                 0      F   компаньон     0   \n",
       "7    женат / замужем                 0      M   сотрудник     0   \n",
       "8   гражданский брак                 1      F   сотрудник     0   \n",
       "9    женат / замужем                 0      M   сотрудник     0   \n",
       "10   женат / замужем                 0      M   компаньон     0   \n",
       "11   женат / замужем                 0      F   сотрудник     0   \n",
       "12  гражданский брак                 1      M   пенсионер     0   \n",
       "13   женат / замужем                 0      F   сотрудник     0   \n",
       "14  гражданский брак                 1      F   компаньон     1   \n",
       "15   женат / замужем                 0      F   сотрудник     0   \n",
       "16   женат / замужем                 0      F   сотрудник     0   \n",
       "17  гражданский брак                 1      M   сотрудник     0   \n",
       "18    вдовец / вдова                 2      F   пенсионер     0   \n",
       "19         в разводе                 3      F   сотрудник     0   \n",
       "\n",
       "     total_income                                 purpose  \n",
       "0   253875.639453                           покупка жилья  \n",
       "1   112080.014102                 приобретение автомобиля  \n",
       "2   145885.952297                           покупка жилья  \n",
       "3   267628.550329              дополнительное образование  \n",
       "4   158616.077870                         сыграть свадьбу  \n",
       "5   255763.565419                           покупка жилья  \n",
       "6   240525.971920                       операции с жильем  \n",
       "7   135823.934197                             образование  \n",
       "8    95856.832424                   на проведение свадьбы  \n",
       "9   144425.938277                 покупка жилья для семьи  \n",
       "10  113943.491460                    покупка недвижимости  \n",
       "11   77069.234271       покупка коммерческой недвижимости  \n",
       "12            NaN                         сыграть свадьбу  \n",
       "13  130458.228857                 приобретение автомобиля  \n",
       "14  165127.911772              покупка жилой недвижимости  \n",
       "15  116820.904450  строительство собственной недвижимости  \n",
       "16  289202.704229                            недвижимость  \n",
       "17   90410.586745              строительство недвижимости  \n",
       "18   56823.777243      на покупку подержанного автомобиля  \n",
       "19  242831.107982            на покупку своего автомобиля  "
      ]
     },
     "execution_count": 2,
     "metadata": {},
     "output_type": "execute_result"
    }
   ],
   "source": [
    "data.head(20)"
   ]
  },
  {
   "cell_type": "markdown",
   "id": "0ed8f27f",
   "metadata": {
    "deletable": false,
    "editable": false,
    "id": "0ed8f27f"
   },
   "source": [
    "**Задание 3. Выведите основную информацию о датафрейме с помощью метода `info()`.**"
   ]
  },
  {
   "cell_type": "code",
   "execution_count": 3,
   "id": "ab3f863b",
   "metadata": {
    "deletable": false,
    "id": "ab3f863b",
    "outputId": "15376089-8dad-46c9-b520-c05248d43158"
   },
   "outputs": [
    {
     "name": "stdout",
     "output_type": "stream",
     "text": [
      "<class 'pandas.core.frame.DataFrame'>\n",
      "RangeIndex: 21525 entries, 0 to 21524\n",
      "Data columns (total 12 columns):\n",
      " #   Column            Non-Null Count  Dtype  \n",
      "---  ------            --------------  -----  \n",
      " 0   children          21525 non-null  int64  \n",
      " 1   days_employed     19351 non-null  float64\n",
      " 2   dob_years         21525 non-null  int64  \n",
      " 3   education         21525 non-null  object \n",
      " 4   education_id      21525 non-null  int64  \n",
      " 5   family_status     21525 non-null  object \n",
      " 6   family_status_id  21525 non-null  int64  \n",
      " 7   gender            21525 non-null  object \n",
      " 8   income_type       21525 non-null  object \n",
      " 9   debt              21525 non-null  int64  \n",
      " 10  total_income      19351 non-null  float64\n",
      " 11  purpose           21525 non-null  object \n",
      "dtypes: float64(2), int64(5), object(5)\n",
      "memory usage: 2.0+ MB\n"
     ]
    }
   ],
   "source": [
    "data.info()"
   ]
  },
  {
   "cell_type": "markdown",
   "id": "60e3e22d",
   "metadata": {
    "deletable": false,
    "editable": false,
    "id": "60e3e22d"
   },
   "source": [
    "## Предобработка данных"
   ]
  },
  {
   "cell_type": "markdown",
   "id": "03dc170c",
   "metadata": {
    "deletable": false,
    "editable": false,
    "id": "03dc170c"
   },
   "source": [
    "### Удаление пропусков"
   ]
  },
  {
   "cell_type": "markdown",
   "id": "a4f54eef",
   "metadata": {
    "deletable": false,
    "editable": false,
    "id": "a4f54eef"
   },
   "source": [
    "**Задание 4. Выведите количество пропущенных значений для каждого столбца. Используйте комбинацию двух методов.**"
   ]
  },
  {
   "cell_type": "code",
   "execution_count": 4,
   "id": "2dc372b2",
   "metadata": {
    "deletable": false,
    "id": "2dc372b2",
    "outputId": "81f4d817-781c-465c-ed15-91ce4446810d"
   },
   "outputs": [
    {
     "data": {
      "text/plain": [
       "children               0\n",
       "days_employed       2174\n",
       "dob_years              0\n",
       "education              0\n",
       "education_id           0\n",
       "family_status          0\n",
       "family_status_id       0\n",
       "gender                 0\n",
       "income_type            0\n",
       "debt                   0\n",
       "total_income        2174\n",
       "purpose                0\n",
       "dtype: int64"
      ]
     },
     "execution_count": 4,
     "metadata": {},
     "output_type": "execute_result"
    }
   ],
   "source": [
    "data.isna().sum()"
   ]
  },
  {
   "cell_type": "markdown",
   "id": "14f011b1",
   "metadata": {
    "deletable": false,
    "editable": false,
    "id": "14f011b1"
   },
   "source": [
    "**Задание 5. В двух столбцах есть пропущенные значения. Один из них — `days_employed`. Пропуски в этом столбце вы обработаете на следующем этапе. Другой столбец с пропущенными значениями — `total_income` — хранит данные о доходах. На сумму дохода сильнее всего влияет тип занятости, поэтому заполнить пропуски в этом столбце нужно медианным значением по каждому типу из столбца `income_type`. Например, у человека с типом занятости `сотрудник` пропуск в столбце `total_income` должен быть заполнен медианным доходом среди всех записей с тем же типом.**"
   ]
  },
  {
   "cell_type": "code",
   "execution_count": 5,
   "id": "bdabfb6e",
   "metadata": {
    "deletable": false,
    "id": "bdabfb6e"
   },
   "outputs": [],
   "source": [
    "for t in data['income_type'].unique():\n",
    "    data.loc[(data['income_type'] == t) & (data['total_income'].isna()), 'total_income'] = \\\n",
    "    data.loc[(data['income_type'] == t), 'total_income'].median()"
   ]
  },
  {
   "cell_type": "markdown",
   "id": "5be34059",
   "metadata": {
    "deletable": false,
    "editable": false,
    "id": "5be34059"
   },
   "source": [
    "### Обработка аномальных значений"
   ]
  },
  {
   "cell_type": "markdown",
   "id": "a87606cb",
   "metadata": {
    "deletable": false,
    "editable": false,
    "id": "a87606cb"
   },
   "source": [
    "**Задание 6. В данных могут встречаться артефакты (аномалии) — значения, которые не отражают действительность и появились по какой-то ошибке. таким артефактом будет отрицательное количество дней трудового стажа в столбце `days_employed`. Для реальных данных это нормально. Обработайте значения в этом столбце: замените все отрицательные значения положительными с помощью метода `abs()`.**"
   ]
  },
  {
   "cell_type": "code",
   "execution_count": 6,
   "id": "020c46cc",
   "metadata": {
    "deletable": false,
    "id": "020c46cc"
   },
   "outputs": [],
   "source": [
    "data['days_employed'] = data['days_employed'].abs()"
   ]
  },
  {
   "cell_type": "markdown",
   "id": "45538a3a",
   "metadata": {
    "deletable": false,
    "editable": false,
    "id": "45538a3a"
   },
   "source": [
    "**Задание 7. Для каждого типа занятости выведите медианное значение трудового стажа `days_employed` в днях.**"
   ]
  },
  {
   "cell_type": "code",
   "execution_count": 7,
   "id": "cd3e6328",
   "metadata": {
    "deletable": false,
    "id": "cd3e6328",
    "outputId": "801ef80e-522b-4668-f34e-565af7432bcf"
   },
   "outputs": [
    {
     "data": {
      "text/plain": [
       "income_type\n",
       "безработный        366413.652744\n",
       "в декрете            3296.759962\n",
       "госслужащий          2689.368353\n",
       "компаньон            1547.382223\n",
       "пенсионер          365213.306266\n",
       "предприниматель       520.848083\n",
       "сотрудник            1574.202821\n",
       "студент               578.751554\n",
       "Name: days_employed, dtype: float64"
      ]
     },
     "execution_count": 7,
     "metadata": {},
     "output_type": "execute_result"
    }
   ],
   "source": [
    "data.groupby('income_type')['days_employed'].agg('median')"
   ]
  },
  {
   "cell_type": "markdown",
   "id": "90c5f058",
   "metadata": {
    "deletable": false,
    "editable": false,
    "id": "90c5f058"
   },
   "source": [
    "У двух типов (безработные и пенсионеры) получатся аномально большие значения. Исправить такие значения сложно, поэтому оставьте их как есть."
   ]
  },
  {
   "cell_type": "markdown",
   "id": "9652e50d",
   "metadata": {
    "deletable": false,
    "editable": false,
    "id": "9652e50d"
   },
   "source": [
    "**Задание 8. Выведите перечень уникальных значений столбца `children`.**"
   ]
  },
  {
   "cell_type": "code",
   "execution_count": 8,
   "id": "dbb37b8e",
   "metadata": {
    "deletable": false,
    "id": "dbb37b8e",
    "outputId": "6975b15c-7f95-4697-d16d-a0c79b657b03"
   },
   "outputs": [
    {
     "data": {
      "text/plain": [
       "array([ 1,  0,  3,  2, -1,  4, 20,  5])"
      ]
     },
     "execution_count": 8,
     "metadata": {},
     "output_type": "execute_result"
    }
   ],
   "source": [
    "data['children'].unique()"
   ]
  },
  {
   "cell_type": "markdown",
   "id": "2b8b0715",
   "metadata": {
    "deletable": false,
    "editable": false,
    "id": "2b8b0715"
   },
   "source": [
    "**Задание 9. В столбце `children` есть два аномальных значения. Удалите строки, в которых встречаются такие аномальные значения из датафрейма `data`.**"
   ]
  },
  {
   "cell_type": "code",
   "execution_count": 9,
   "id": "20009df8",
   "metadata": {
    "deletable": false,
    "id": "20009df8"
   },
   "outputs": [],
   "source": [
    "data = data[(data['children'] != -1) & (data['children'] != 20)]"
   ]
  },
  {
   "cell_type": "markdown",
   "id": "8c6ac9f1",
   "metadata": {
    "deletable": false,
    "editable": false,
    "id": "8c6ac9f1"
   },
   "source": [
    "**Задание 10. Ещё раз выведите перечень уникальных значений столбца `children`, чтобы убедиться, что артефакты удалены.**"
   ]
  },
  {
   "cell_type": "code",
   "execution_count": 10,
   "id": "07337b81",
   "metadata": {
    "deletable": false,
    "id": "07337b81",
    "outputId": "b2097101-d49d-44d9-901b-32a65c9463d1"
   },
   "outputs": [
    {
     "data": {
      "text/plain": [
       "array([1, 0, 3, 2, 4, 5])"
      ]
     },
     "execution_count": 10,
     "metadata": {},
     "output_type": "execute_result"
    }
   ],
   "source": [
    "data['children'].unique()"
   ]
  },
  {
   "cell_type": "markdown",
   "id": "ee3f52d4",
   "metadata": {
    "deletable": false,
    "editable": false,
    "id": "ee3f52d4"
   },
   "source": [
    "### Удаление пропусков (продолжение)"
   ]
  },
  {
   "cell_type": "markdown",
   "id": "a700b0e4",
   "metadata": {
    "deletable": false,
    "editable": false,
    "id": "a700b0e4"
   },
   "source": [
    "**Задание 11. Заполните пропуски в столбце `days_employed` медианными значениями по каждого типа занятости `income_type`.**"
   ]
  },
  {
   "cell_type": "code",
   "execution_count": 11,
   "id": "61946b83",
   "metadata": {
    "deletable": false,
    "id": "61946b83"
   },
   "outputs": [],
   "source": [
    "for t in data['income_type'].unique():\n",
    "    data.loc[(data['income_type'] == t) & (data['days_employed'].isna()), 'days_employed'] = \\\n",
    "    data.loc[(data['income_type'] == t), 'days_employed'].median()"
   ]
  },
  {
   "cell_type": "markdown",
   "id": "550dcd9b",
   "metadata": {
    "deletable": false,
    "editable": false,
    "id": "550dcd9b"
   },
   "source": [
    "**Задание 12. Убедитесь, что все пропуски заполнены. Проверьте себя и ещё раз выведите количество пропущенных значений для каждого столбца с помощью двух методов.**"
   ]
  },
  {
   "cell_type": "code",
   "execution_count": 12,
   "id": "937c7014",
   "metadata": {
    "deletable": false,
    "id": "937c7014",
    "outputId": "8da1e4e1-358e-4e87-98c9-f261bce0a7b2"
   },
   "outputs": [
    {
     "data": {
      "text/plain": [
       "children            0\n",
       "days_employed       0\n",
       "dob_years           0\n",
       "education           0\n",
       "education_id        0\n",
       "family_status       0\n",
       "family_status_id    0\n",
       "gender              0\n",
       "income_type         0\n",
       "debt                0\n",
       "total_income        0\n",
       "purpose             0\n",
       "dtype: int64"
      ]
     },
     "execution_count": 12,
     "metadata": {},
     "output_type": "execute_result"
    }
   ],
   "source": [
    "data.isna().sum()"
   ]
  },
  {
   "cell_type": "markdown",
   "id": "d522e295",
   "metadata": {
    "deletable": false,
    "editable": false,
    "id": "d522e295"
   },
   "source": [
    "### Изменение типов данных"
   ]
  },
  {
   "cell_type": "markdown",
   "id": "c229c581",
   "metadata": {
    "deletable": false,
    "editable": false,
    "id": "c229c581"
   },
   "source": [
    "**Задание 13. Замените вещественный тип данных в столбце `total_income` на целочисленный с помощью метода `astype()`.**"
   ]
  },
  {
   "cell_type": "code",
   "execution_count": 13,
   "id": "31036462",
   "metadata": {
    "deletable": false,
    "id": "31036462"
   },
   "outputs": [],
   "source": [
    "data['total_income'] = data['total_income'].astype(int)"
   ]
  },
  {
   "cell_type": "markdown",
   "id": "b8e3d1d9",
   "metadata": {
    "deletable": false,
    "editable": false,
    "id": "b8e3d1d9"
   },
   "source": [
    "### Обработка дубликатов"
   ]
  },
  {
   "cell_type": "markdown",
   "id": "9be53c49",
   "metadata": {
    "deletable": false,
    "editable": false,
    "id": "9be53c49"
   },
   "source": [
    "**Задание 14. Обработайте неявные дубликаты в столбце `education`. В этом столбце есть одни и те же значения, но записанные по-разному: с использованием заглавных и строчных букв. Приведите их к нижнему регистру.**"
   ]
  },
  {
   "cell_type": "code",
   "execution_count": 14,
   "id": "d89e73e1",
   "metadata": {
    "deletable": false,
    "id": "d89e73e1"
   },
   "outputs": [],
   "source": [
    "data['education'] = data['education'].str.lower()"
   ]
  },
  {
   "cell_type": "markdown",
   "id": "01d4500e",
   "metadata": {
    "deletable": false,
    "editable": false,
    "id": "01d4500e"
   },
   "source": [
    "**Задание 15. Выведите на экран количество строк-дубликатов в данных. Если такие строки присутствуют, удалите их.**"
   ]
  },
  {
   "cell_type": "code",
   "execution_count": 15,
   "id": "e10efb23",
   "metadata": {
    "deletable": false,
    "id": "e10efb23",
    "outputId": "9684deba-1934-42d1-99e1-cda61740f822"
   },
   "outputs": [
    {
     "data": {
      "text/plain": [
       "71"
      ]
     },
     "execution_count": 15,
     "metadata": {},
     "output_type": "execute_result"
    }
   ],
   "source": [
    "data.duplicated().sum()"
   ]
  },
  {
   "cell_type": "code",
   "execution_count": 16,
   "id": "df853f20",
   "metadata": {
    "deletable": false,
    "id": "df853f20"
   },
   "outputs": [],
   "source": [
    "data = data.drop_duplicates()"
   ]
  },
  {
   "cell_type": "markdown",
   "id": "627be38f",
   "metadata": {
    "deletable": false,
    "editable": false,
    "id": "627be38f"
   },
   "source": [
    "### Категоризация данных"
   ]
  },
  {
   "cell_type": "markdown",
   "id": "4684c3e0",
   "metadata": {
    "deletable": false,
    "editable": false,
    "id": "4684c3e0"
   },
   "source": [
    "**Задание 16. На основании диапазонов, указанных ниже, создайте в датафрейме `data` столбец `total_income_category` с категориями:**\n",
    "\n",
    "- 0–30000 — `'E'`;\n",
    "- 30001–50000 — `'D'`;\n",
    "- 50001–200000 — `'C'`;\n",
    "- 200001–1000000 — `'B'`;\n",
    "- 1000001 и выше — `'A'`.\n",
    "\n",
    "\n",
    "**Например, кредитополучателю с доходом 25000 нужно назначить категорию `'E'`, а клиенту, получающему 235000, — `'B'`. Используйте собственную функцию с именем `categorize_income()` и метод `apply()`.**"
   ]
  },
  {
   "cell_type": "code",
   "execution_count": 17,
   "id": "78965238",
   "metadata": {
    "deletable": false,
    "id": "78965238"
   },
   "outputs": [],
   "source": [
    "def categorize_income(income):\n",
    "    try:\n",
    "        if 0 <= income <= 30000:\n",
    "            return 'E'\n",
    "        elif 30001 <= income <= 50000:\n",
    "            return 'D'\n",
    "        elif 50001 <= income <= 200000:\n",
    "            return 'C'\n",
    "        elif 200001 <= income <= 1000000:\n",
    "            return 'B'\n",
    "        elif income >= 1000001:\n",
    "            return 'A'\n",
    "    except:\n",
    "        pass"
   ]
  },
  {
   "cell_type": "code",
   "execution_count": 18,
   "id": "0980ada1",
   "metadata": {
    "deletable": false,
    "id": "0980ada1"
   },
   "outputs": [],
   "source": [
    "data['total_income_category'] = data['total_income'].apply(categorize_income)"
   ]
  },
  {
   "cell_type": "markdown",
   "id": "9917bba0",
   "metadata": {
    "deletable": false,
    "editable": false,
    "id": "9917bba0"
   },
   "source": [
    "**Задание 17. Выведите на экран перечень уникальных целей взятия кредита из столбца `purpose`.**"
   ]
  },
  {
   "cell_type": "code",
   "execution_count": 19,
   "id": "ee07b65e",
   "metadata": {
    "deletable": false,
    "id": "ee07b65e",
    "outputId": "673c12d9-7d7e-4ae0-9812-c622c89dd244"
   },
   "outputs": [
    {
     "data": {
      "text/plain": [
       "array(['покупка жилья', 'приобретение автомобиля',\n",
       "       'дополнительное образование', 'сыграть свадьбу',\n",
       "       'операции с жильем', 'образование', 'на проведение свадьбы',\n",
       "       'покупка жилья для семьи', 'покупка недвижимости',\n",
       "       'покупка коммерческой недвижимости', 'покупка жилой недвижимости',\n",
       "       'строительство собственной недвижимости', 'недвижимость',\n",
       "       'строительство недвижимости', 'на покупку подержанного автомобиля',\n",
       "       'на покупку своего автомобиля',\n",
       "       'операции с коммерческой недвижимостью',\n",
       "       'строительство жилой недвижимости', 'жилье',\n",
       "       'операции со своей недвижимостью', 'автомобили',\n",
       "       'заняться образованием', 'сделка с подержанным автомобилем',\n",
       "       'получение образования', 'автомобиль', 'свадьба',\n",
       "       'получение дополнительного образования', 'покупка своего жилья',\n",
       "       'операции с недвижимостью', 'получение высшего образования',\n",
       "       'свой автомобиль', 'сделка с автомобилем',\n",
       "       'профильное образование', 'высшее образование',\n",
       "       'покупка жилья для сдачи', 'на покупку автомобиля', 'ремонт жилью',\n",
       "       'заняться высшим образованием'], dtype=object)"
      ]
     },
     "execution_count": 19,
     "metadata": {},
     "output_type": "execute_result"
    }
   ],
   "source": [
    "data['purpose'].unique()"
   ]
  },
  {
   "cell_type": "markdown",
   "id": "52b79d56",
   "metadata": {
    "deletable": false,
    "editable": false,
    "id": "52b79d56"
   },
   "source": [
    "**Задание 18. Создайте функцию, которая на основании данных из столбца `purpose` сформирует новый столбец `purpose_category`, в который войдут следующие категории:**\n",
    "\n",
    "- `'операции с автомобилем'`,\n",
    "- `'операции с недвижимостью'`,\n",
    "- `'проведение свадьбы'`,\n",
    "- `'получение образования'`.\n",
    "\n",
    "**Например, если в столбце `purpose` находится подстрока `'на покупку автомобиля'`, то в столбце `purpose_category` должна появиться строка `'операции с автомобилем'`.**\n",
    "\n",
    "**Используйте собственную функцию с именем `categorize_purpose()` и метод `apply()`. Изучите данные в столбце `purpose` и определите, какие подстроки помогут вам правильно определить категорию.**"
   ]
  },
  {
   "cell_type": "code",
   "execution_count": 20,
   "id": "be41da5d",
   "metadata": {
    "deletable": false,
    "id": "be41da5d"
   },
   "outputs": [],
   "source": [
    "def categorize_purpose(row):\n",
    "    try:\n",
    "        if 'автом' in row:\n",
    "            return 'операции с автомобилем'\n",
    "        elif 'жил' in row or 'недвиж' in row:\n",
    "            return 'операции с недвижимостью'\n",
    "        elif 'свад' in row:\n",
    "            return 'проведение свадьбы'\n",
    "        elif 'образов' in row:\n",
    "            return 'получение образования'\n",
    "    except:\n",
    "        return 'нет категории'"
   ]
  },
  {
   "cell_type": "code",
   "execution_count": 21,
   "id": "94c4a19a",
   "metadata": {
    "deletable": false,
    "id": "94c4a19a"
   },
   "outputs": [],
   "source": [
    "data['purpose_category'] = data['purpose'].apply(categorize_purpose)"
   ]
  },
  {
   "cell_type": "markdown",
   "id": "3d596c34",
   "metadata": {
    "deletable": false,
    "editable": false,
    "id": "3d596c34"
   },
   "source": [
    "### Шаг 3. Исследуйте данные и ответьте на вопросы"
   ]
  },
  {
   "cell_type": "markdown",
   "id": "648db036",
   "metadata": {
    "deletable": false,
    "editable": false,
    "id": "648db036"
   },
   "source": [
    "#### 3.1 Есть ли зависимость между количеством детей и возвратом кредита в срок?"
   ]
  },
  {
   "cell_type": "code",
   "execution_count": 22,
   "id": "7fcff25e",
   "metadata": {
    "deletable": false,
    "id": "7fcff25e"
   },
   "outputs": [
    {
     "name": "stdout",
     "output_type": "stream",
     "text": [
      "children\n",
      "0    1063\n",
      "1     444\n",
      "2     194\n",
      "3      27\n",
      "4       4\n",
      "5       0\n",
      "Name: debt, dtype: int64\n"
     ]
    }
   ],
   "source": [
    "# Ваш код будет здесь. Вы можете создавать новые ячейки.\n",
    "print(data.groupby('children')['debt'].sum())"
   ]
  },
  {
   "attachments": {
    "image.png": {
     "image/png": "[encoded data removed]"
    }
   },
   "cell_type": "markdown",
   "id": "36f5de5b",
   "metadata": {},
   "source": [
    "<font color='DarkBlue'><b>Комментарий ревьюера</b></font><br>\n",
    "<font color='Red'>🛠 Для анализа необходимо построить сводную таблицу со следующими колонками: 'Всего кредитополучателей', 'Всего должников', 'Доля должников'. В этом случае таблица строится со следующими параметрами: `aggfunc=['count', 'sum', 'mean']`. Пример ниже. Это относится ко всем заданиям проекта.</font>\n",
    "![image.png](attachment:image.png)"
   ]
  },
  {
   "cell_type": "markdown",
   "id": "8df4989a",
   "metadata": {},
   "source": [
    "<font color='DarkBlue'><b>Комментарий ревьюера</b></font><br>\n",
    "<font color='Red'>🛠 Вывод делается без анализа самих выборок клиентов по наличию детей. Необходимо вывести кроме задолжности и сами выборки и откорректировать вывод. Это относится ко всем заданиям проекта.</font>"
   ]
  },
  {
   "cell_type": "markdown",
   "id": "39d531a8",
   "metadata": {},
   "source": [
    "Комментарий студента"
   ]
  },
  {
   "cell_type": "code",
   "execution_count": 23,
   "id": "c608cc14",
   "metadata": {},
   "outputs": [
    {
     "name": "stdout",
     "output_type": "stream",
     "text": [
      "          Всего кредитополучателей  Всего должников  Доля должников\n",
      "children                                                           \n",
      "0                            14091             1063        0.075438\n",
      "1                             4808              444        0.092346\n",
      "2                             2052              194        0.094542\n",
      "3                              330               27        0.081818\n",
      "4                               41                4        0.097561\n",
      "5                                9                0        0.000000\n"
     ]
    }
   ],
   "source": [
    "data_pivot = data.pivot_table(index=['children'], values='debt', aggfunc=['count','sum','mean'])\n",
    "data_pivot.columns = ['Всего кредитополучателей', 'Всего должников', 'Доля должников']\n",
    "\n",
    "print(data_pivot)"
   ]
  },
  {
   "cell_type": "markdown",
   "id": "045677f9",
   "metadata": {},
   "source": [
    "<font color='DarkBlue'><b>Комментарий ревьюера 2</b></font><br>\n",
    "<font color='DarkMagenta'>👉 Можно сделать вот так, через функцию.</font>"
   ]
  },
  {
   "cell_type": "code",
   "execution_count": 24,
   "id": "2b49ec36",
   "metadata": {},
   "outputs": [
    {
     "data": {
      "text/html": [
       "<style  type=\"text/css\" >\n",
       "#T_daff0_row0_col0,#T_daff0_row0_col1,#T_daff0_row4_col2{\n",
       "            background-color:  #08306b;\n",
       "            color:  #f1f1f1;\n",
       "        }#T_daff0_row0_col2{\n",
       "            background-color:  #1c6bb0;\n",
       "            color:  #f1f1f1;\n",
       "        }#T_daff0_row1_col0{\n",
       "            background-color:  #a9cfe5;\n",
       "            color:  #000000;\n",
       "        }#T_daff0_row1_col1{\n",
       "            background-color:  #8dc1dd;\n",
       "            color:  #000000;\n",
       "        }#T_daff0_row1_col2{\n",
       "            background-color:  #083d7f;\n",
       "            color:  #f1f1f1;\n",
       "        }#T_daff0_row2_col0{\n",
       "            background-color:  #dae8f6;\n",
       "            color:  #000000;\n",
       "        }#T_daff0_row2_col1{\n",
       "            background-color:  #d3e4f3;\n",
       "            color:  #000000;\n",
       "        }#T_daff0_row2_col2{\n",
       "            background-color:  #083776;\n",
       "            color:  #f1f1f1;\n",
       "        }#T_daff0_row3_col0{\n",
       "            background-color:  #f3f8fe;\n",
       "            color:  #000000;\n",
       "        }#T_daff0_row3_col1{\n",
       "            background-color:  #f2f8fd;\n",
       "            color:  #000000;\n",
       "        }#T_daff0_row3_col2{\n",
       "            background-color:  #0f5aa3;\n",
       "            color:  #f1f1f1;\n",
       "        }#T_daff0_row4_col0,#T_daff0_row4_col1,#T_daff0_row5_col0,#T_daff0_row5_col1,#T_daff0_row5_col2{\n",
       "            background-color:  #f7fbff;\n",
       "            color:  #000000;\n",
       "        }</style><table id=\"T_daff0_\" ><thead>    <tr>        <th class=\"blank level0\" ></th>        <th class=\"col_heading level0 col0\" >Всего кредитополучателей</th>        <th class=\"col_heading level0 col1\" >Всего должников</th>        <th class=\"col_heading level0 col2\" >Доля должников</th>    </tr>    <tr>        <th class=\"index_name level0\" >children</th>        <th class=\"blank\" ></th>        <th class=\"blank\" ></th>        <th class=\"blank\" ></th>    </tr></thead><tbody>\n",
       "                <tr>\n",
       "                        <th id=\"T_daff0_level0_row0\" class=\"row_heading level0 row0\" >0</th>\n",
       "                        <td id=\"T_daff0_row0_col0\" class=\"data row0 col0\" >14091.000</td>\n",
       "                        <td id=\"T_daff0_row0_col1\" class=\"data row0 col1\" >1063.000</td>\n",
       "                        <td id=\"T_daff0_row0_col2\" class=\"data row0 col2\" >0.075</td>\n",
       "            </tr>\n",
       "            <tr>\n",
       "                        <th id=\"T_daff0_level0_row1\" class=\"row_heading level0 row1\" >1</th>\n",
       "                        <td id=\"T_daff0_row1_col0\" class=\"data row1 col0\" >4808.000</td>\n",
       "                        <td id=\"T_daff0_row1_col1\" class=\"data row1 col1\" >444.000</td>\n",
       "                        <td id=\"T_daff0_row1_col2\" class=\"data row1 col2\" >0.092</td>\n",
       "            </tr>\n",
       "            <tr>\n",
       "                        <th id=\"T_daff0_level0_row2\" class=\"row_heading level0 row2\" >2</th>\n",
       "                        <td id=\"T_daff0_row2_col0\" class=\"data row2 col0\" >2052.000</td>\n",
       "                        <td id=\"T_daff0_row2_col1\" class=\"data row2 col1\" >194.000</td>\n",
       "                        <td id=\"T_daff0_row2_col2\" class=\"data row2 col2\" >0.095</td>\n",
       "            </tr>\n",
       "            <tr>\n",
       "                        <th id=\"T_daff0_level0_row3\" class=\"row_heading level0 row3\" >3</th>\n",
       "                        <td id=\"T_daff0_row3_col0\" class=\"data row3 col0\" >330.000</td>\n",
       "                        <td id=\"T_daff0_row3_col1\" class=\"data row3 col1\" >27.000</td>\n",
       "                        <td id=\"T_daff0_row3_col2\" class=\"data row3 col2\" >0.082</td>\n",
       "            </tr>\n",
       "            <tr>\n",
       "                        <th id=\"T_daff0_level0_row4\" class=\"row_heading level0 row4\" >4</th>\n",
       "                        <td id=\"T_daff0_row4_col0\" class=\"data row4 col0\" >41.000</td>\n",
       "                        <td id=\"T_daff0_row4_col1\" class=\"data row4 col1\" >4.000</td>\n",
       "                        <td id=\"T_daff0_row4_col2\" class=\"data row4 col2\" >0.098</td>\n",
       "            </tr>\n",
       "            <tr>\n",
       "                        <th id=\"T_daff0_level0_row5\" class=\"row_heading level0 row5\" >5</th>\n",
       "                        <td id=\"T_daff0_row5_col0\" class=\"data row5 col0\" >9.000</td>\n",
       "                        <td id=\"T_daff0_row5_col1\" class=\"data row5 col1\" >0.000</td>\n",
       "                        <td id=\"T_daff0_row5_col2\" class=\"data row5 col2\" >0.000</td>\n",
       "            </tr>\n",
       "    </tbody></table>"
      ],
      "text/plain": [
       "<pandas.io.formats.style.Styler at 0x7f5e5ff3f0d0>"
      ]
     },
     "metadata": {},
     "output_type": "display_data"
    }
   ],
   "source": [
    "# Комментарий ревьюера 2\n",
    "# Создаем копию датасета, что бы не работать с исходным\n",
    "temp = data.copy()\n",
    "# Напишем функцию, так как все задачи аналогичны\n",
    "def que(category):\n",
    "    data_temp = temp.pivot_table(index=category, values='debt', aggfunc=['count', 'sum', 'mean'])\n",
    "    data_temp.columns = ['Всего кредитополучателей', 'Всего должников', 'Доля должников']\n",
    "    # Оформим таблицу цветным градиентом, но можно ее вывести и просто display(data_temp)\n",
    "    display(data_temp.style.format(\"{:.3f}\").background_gradient(cmap='Blues', axis=0))\n",
    "    \n",
    "que('children')"
   ]
  },
  {
   "cell_type": "markdown",
   "id": "2eb9088e",
   "metadata": {
    "deletable": false,
    "id": "2eb9088e"
   },
   "source": [
    "**Вывод** Зависимости между количеством детей у кредитополучателя и наличием задолженности нет. В каждой группе % должников примерно одинаковый от 7,5% (у кредитополучателей у которых нет детей) до 9,7% (4 детей)."
   ]
  },
  {
   "cell_type": "markdown",
   "id": "fb1be249",
   "metadata": {},
   "source": [
    "<font color='DarkBlue'><b>Комментарий ревьюера 2</b></font><br>\n",
    "<font color='Red'>🛠 При сравнении долей (а здесь не равные выборки), необходимо учитывать не разницу в долях, а процент, когда максимальная доля принимается за 100%. В данном случае разница между крайними значениями долей должников (не учитывая категорию с 5-тью детьми) составляет более 22%.</font>"
   ]
  },
  {
   "cell_type": "markdown",
   "id": "f2386105",
   "metadata": {},
   "source": [
    "Комментарий студента <br>\n",
    "**Заемщики с детьми и без отдают кредиты примерно на одном уровне. Бездетные отдают кредиты лучше, среди бездетных должников меньше на 22%, чем среди тех заемщиков, у которых 4 детей.**"
   ]
  },
  {
   "cell_type": "markdown",
   "id": "3a6ce19c",
   "metadata": {},
   "source": [
    "<font color='DarkBlue'><b>Комментарий ревьюера 3</b></font><br>\n",
    "<font color='DarkGreen'>👌 Действительно семьи без детей не несут дополнительных расходов и своевременно обслуживают свой кредит. У клиентов с детьми более высокая расходная часть семейного бюджета, поэтому и возникают сложности со своевременной выплатой по кредитным обязательствам.</font>"
   ]
  },
  {
   "cell_type": "markdown",
   "id": "74c9b3a7",
   "metadata": {
    "deletable": false,
    "editable": false,
    "id": "74c9b3a7"
   },
   "source": [
    "#### 3.2 Есть ли зависимость между семейным положением и возвратом кредита в срок?"
   ]
  },
  {
   "cell_type": "code",
   "execution_count": 25,
   "id": "8098ab3b",
   "metadata": {
    "deletable": false,
    "id": "8098ab3b"
   },
   "outputs": [
    {
     "name": "stdout",
     "output_type": "stream",
     "text": [
      "family_status\n",
      "Не женат / не замужем    273\n",
      "в разводе                 84\n",
      "вдовец / вдова            63\n",
      "гражданский брак         385\n",
      "женат / замужем          927\n",
      "Name: debt, dtype: int64\n"
     ]
    }
   ],
   "source": [
    "# Ваш код будет здесь. Вы можете создавать новые ячейки.\n",
    "print(data.groupby('family_status')['debt'].sum())"
   ]
  },
  {
   "cell_type": "markdown",
   "id": "c389ca63",
   "metadata": {
    "deletable": false,
    "id": "c389ca63"
   },
   "source": [
    "**Вывод:** Да есть, больше всего заемщиков, имеющих задолженность в категории замужних\\женатых, меньше всего у разведенных и вдовствующих"
   ]
  },
  {
   "cell_type": "markdown",
   "id": "eb921570",
   "metadata": {},
   "source": [
    "<font color='DarkBlue'><b>Комментарий ревьюера</b></font><br>\n",
    "<font color='Red'>🛠 Аналогичная ошибка. </font>"
   ]
  },
  {
   "cell_type": "markdown",
   "id": "0fc9294e",
   "metadata": {},
   "source": [
    "Комментарий студента"
   ]
  },
  {
   "cell_type": "code",
   "execution_count": 26,
   "id": "4c33e112",
   "metadata": {},
   "outputs": [
    {
     "name": "stdout",
     "output_type": "stream",
     "text": [
      "                       Всего кредитополучателей  Всего должников  \\\n",
      "family_status                                                      \n",
      "Не женат / не замужем                      2796              273   \n",
      "в разводе                                  1189               84   \n",
      "вдовец / вдова                              951               63   \n",
      "гражданский брак                           4134              385   \n",
      "женат / замужем                           12261              927   \n",
      "\n",
      "                       Доля должников  \n",
      "family_status                          \n",
      "Не женат / не замужем        0.097639  \n",
      "в разводе                    0.070648  \n",
      "вдовец / вдова               0.066246  \n",
      "гражданский брак             0.093130  \n",
      "женат / замужем              0.075606  \n"
     ]
    }
   ],
   "source": [
    "data_pivot = data.pivot_table(index=['family_status'], values='debt', aggfunc=['count','sum','mean']) #строим сводную таблицу\n",
    "data_pivot.columns = ['Всего кредитополучателей', 'Всего должников', 'Доля должников'] #переименовываем столбцы сводной таблицы\n",
    "\n",
    "print(data_pivot)#вывод сводной таблицы на экран"
   ]
  },
  {
   "cell_type": "markdown",
   "id": "af1d1f47",
   "metadata": {},
   "source": [
    "<font color='DarkBlue'><b>Комментарий ревьюера 3</b></font><br>\n",
    "<font color='DarkMagenta'>👉 Использование функции print() не позволяет вывести содержимое таблицы в виде удобном для анализа. Если имя таблицы находится в последней строке, исполняемой ячейки, то не нужны ни какие функции, в том числе и display(). Если выводим таблицу в середине ячейки (например, в теле цикла или функции), то используем display(). Рекомендация данная в тренажере относится к учебной платформе, в которой есть определенные ограничения, а тут эти функции в последней строке ячейки не нужны.</font><br>\n",
    "<font color='DarkGreen'>👌 Вот пример:</font>"
   ]
  },
  {
   "cell_type": "code",
   "execution_count": 27,
   "id": "a1e239e9",
   "metadata": {},
   "outputs": [
    {
     "data": {
      "text/html": [
       "<div>\n",
       "<style scoped>\n",
       "    .dataframe tbody tr th:only-of-type {\n",
       "        vertical-align: middle;\n",
       "    }\n",
       "\n",
       "    .dataframe tbody tr th {\n",
       "        vertical-align: top;\n",
       "    }\n",
       "\n",
       "    .dataframe thead th {\n",
       "        text-align: right;\n",
       "    }\n",
       "</style>\n",
       "<table border=\"1\" class=\"dataframe\">\n",
       "  <thead>\n",
       "    <tr style=\"text-align: right;\">\n",
       "      <th></th>\n",
       "      <th>Всего кредитополучателей</th>\n",
       "      <th>Всего должников</th>\n",
       "      <th>Доля должников</th>\n",
       "    </tr>\n",
       "    <tr>\n",
       "      <th>family_status</th>\n",
       "      <th></th>\n",
       "      <th></th>\n",
       "      <th></th>\n",
       "    </tr>\n",
       "  </thead>\n",
       "  <tbody>\n",
       "    <tr>\n",
       "      <th>Не женат / не замужем</th>\n",
       "      <td>2796</td>\n",
       "      <td>273</td>\n",
       "      <td>0.097639</td>\n",
       "    </tr>\n",
       "    <tr>\n",
       "      <th>в разводе</th>\n",
       "      <td>1189</td>\n",
       "      <td>84</td>\n",
       "      <td>0.070648</td>\n",
       "    </tr>\n",
       "    <tr>\n",
       "      <th>вдовец / вдова</th>\n",
       "      <td>951</td>\n",
       "      <td>63</td>\n",
       "      <td>0.066246</td>\n",
       "    </tr>\n",
       "    <tr>\n",
       "      <th>гражданский брак</th>\n",
       "      <td>4134</td>\n",
       "      <td>385</td>\n",
       "      <td>0.093130</td>\n",
       "    </tr>\n",
       "    <tr>\n",
       "      <th>женат / замужем</th>\n",
       "      <td>12261</td>\n",
       "      <td>927</td>\n",
       "      <td>0.075606</td>\n",
       "    </tr>\n",
       "  </tbody>\n",
       "</table>\n",
       "</div>"
      ],
      "text/plain": [
       "                       Всего кредитополучателей  Всего должников  \\\n",
       "family_status                                                      \n",
       "Не женат / не замужем                      2796              273   \n",
       "в разводе                                  1189               84   \n",
       "вдовец / вдова                              951               63   \n",
       "гражданский брак                           4134              385   \n",
       "женат / замужем                           12261              927   \n",
       "\n",
       "                       Доля должников  \n",
       "family_status                          \n",
       "Не женат / не замужем        0.097639  \n",
       "в разводе                    0.070648  \n",
       "вдовец / вдова               0.066246  \n",
       "гражданский брак             0.093130  \n",
       "женат / замужем              0.075606  "
      ]
     },
     "execution_count": 27,
     "metadata": {},
     "output_type": "execute_result"
    }
   ],
   "source": [
    "# Комментарий ревьюера 3\n",
    "data_pivot"
   ]
  },
  {
   "cell_type": "markdown",
   "id": "39ceba86",
   "metadata": {},
   "source": [
    "Вывод: Зависимости между семейным положением и наличием задолженности нет. В каждой группе примерно одинаковое количество кредитополучателей, имеющих задолженность от 6,6 до 9,7%."
   ]
  },
  {
   "cell_type": "markdown",
   "id": "8cdb9bd7",
   "metadata": {},
   "source": [
    "<font color='DarkBlue'><b>Комментарий ревьюера 2</b></font><br>\n",
    "<font color='Red'>🛠 Аналогичная ошибка. </font>"
   ]
  },
  {
   "cell_type": "markdown",
   "id": "7808ee03",
   "metadata": {},
   "source": [
    "Комментарий студента <br>\n",
    "**Семейное положение влияет на возвращаемость кредита. \n",
    "Лучше всего отдают кредиты вдовцы\\вдовы, на 31% лучше чем не женатые\\не замужние.**"
   ]
  },
  {
   "cell_type": "markdown",
   "id": "2e687b04",
   "metadata": {},
   "source": [
    "<font color='DarkBlue'><b>Комментарий ревьюера 3</b></font><br>\n",
    "<font color='DarkGreen'>👌 Оформленные семейные отношения или их прошлый опыт налагают определенную ответственность и приучают к финансовой дисциплине.</font>"
   ]
  },
  {
   "cell_type": "markdown",
   "id": "9529de68",
   "metadata": {
    "deletable": false,
    "editable": false,
    "id": "9529de68"
   },
   "source": [
    "#### 3.3 Есть ли зависимость между уровнем дохода и возвратом кредита в срок?"
   ]
  },
  {
   "cell_type": "code",
   "execution_count": 28,
   "id": "8787f44a",
   "metadata": {
    "deletable": false,
    "id": "8787f44a"
   },
   "outputs": [],
   "source": [
    "# Ваш код будет здесь. Вы можете создавать новые ячейки.\n",
    "def categorize_income(income):\n",
    "    try:\n",
    "        if 0 <= income <= 30000:\n",
    "            return 'E'\n",
    "        elif 30001 <= income <= 50000:\n",
    "            return 'D'\n",
    "        elif 50001 <= income <= 200000:\n",
    "            return 'C'\n",
    "        elif 200001 <= income <= 1000000:\n",
    "            return 'B'\n",
    "        elif income >= 1000001:\n",
    "            return 'A'\n",
    "    except:\n",
    "        pass"
   ]
  },
  {
   "cell_type": "code",
   "execution_count": 29,
   "id": "c5e1019a",
   "metadata": {},
   "outputs": [],
   "source": [
    "data['total_income_category'] = data['total_income'].apply(categorize_income)"
   ]
  },
  {
   "cell_type": "markdown",
   "id": "fac57975",
   "metadata": {},
   "source": [
    "<font color='DarkBlue'><b>Комментарий ревьюера</b></font><br>\n",
    "<font color='DarkMagenta'>👉 Данная категоризация по доходу сделана в первой части проекта.</font>"
   ]
  },
  {
   "cell_type": "code",
   "execution_count": 30,
   "id": "e4e9cf58",
   "metadata": {},
   "outputs": [
    {
     "name": "stdout",
     "output_type": "stream",
     "text": [
      "total_income_category\n",
      "A       2\n",
      "B     354\n",
      "C    1353\n",
      "D      21\n",
      "E       2\n",
      "Name: debt, dtype: int64\n"
     ]
    }
   ],
   "source": [
    "print(data.groupby('total_income_category')['debt'].sum())"
   ]
  },
  {
   "cell_type": "markdown",
   "id": "6dd14b57",
   "metadata": {
    "deletable": false,
    "id": "6dd14b57"
   },
   "source": [
    "**Вывод:** Больше всего должников в группе заемщиков с доходом от 50001 до 200000 рублей. Можно слелать вывод, что заемщики со средним доходом склонны просрочивать платежи. "
   ]
  },
  {
   "cell_type": "markdown",
   "id": "b1537a58",
   "metadata": {},
   "source": [
    "Необходимо рассчитать долю должников по каждй группе заемщиков, для более полной информации."
   ]
  },
  {
   "cell_type": "markdown",
   "id": "e1c07a10",
   "metadata": {},
   "source": [
    "<font color='DarkBlue'><b>Комментарий ревьюера</b></font><br>\n",
    "<font color='Red'>🛠 Анализ проводится без учета размера выборок.</font>"
   ]
  },
  {
   "cell_type": "markdown",
   "id": "436895ad",
   "metadata": {},
   "source": [
    "Комментарий студента"
   ]
  },
  {
   "cell_type": "code",
   "execution_count": 31,
   "id": "0aa81951",
   "metadata": {},
   "outputs": [
    {
     "name": "stdout",
     "output_type": "stream",
     "text": [
      "                       Всего кредитополучателей  Всего должников  \\\n",
      "total_income_category                                              \n",
      "A                                            25                2   \n",
      "B                                          5014              354   \n",
      "C                                         15921             1353   \n",
      "D                                           349               21   \n",
      "E                                            22                2   \n",
      "\n",
      "                       Доля должников  \n",
      "total_income_category                  \n",
      "A                            0.080000  \n",
      "B                            0.070602  \n",
      "C                            0.084982  \n",
      "D                            0.060172  \n",
      "E                            0.090909  \n"
     ]
    }
   ],
   "source": [
    "data_pivot = data.pivot_table(index=['total_income_category'], values='debt', aggfunc=['count','sum','mean'])\n",
    "data_pivot.columns = ['Всего кредитополучателей', 'Всего должников', 'Доля должников']\n",
    "\n",
    "print(data_pivot)"
   ]
  },
  {
   "cell_type": "markdown",
   "id": "43aa5da4",
   "metadata": {},
   "source": [
    "Вывод: Зависимости между уровнем дохода и задолженностью нет. Доля должников по каждой группе примерно одинаковая от 6 до 9%."
   ]
  },
  {
   "cell_type": "markdown",
   "id": "97effb9e",
   "metadata": {},
   "source": [
    "<font color='DarkBlue'><b>Комментарий ревьюера 2</b></font><br>\n",
    "<font color='Red'>🛠 Аналогичная ошибка. </font>"
   ]
  },
  {
   "cell_type": "markdown",
   "id": "5b84b056",
   "metadata": {},
   "source": [
    "Комментарий студента <br>\n",
    "**Существует зависимость возвращаемости кредита от дохода. Заемщики с доходом менее 30 тыс руб, возвращают кредит хуже, на 33% чем заемщики с доходом от 30 до 50 тыс рублей.**"
   ]
  },
  {
   "cell_type": "markdown",
   "id": "209c0c42",
   "metadata": {},
   "source": [
    "<font color='DarkBlue'><b>Комментарий ревьюера 3</b></font><br>\n",
    "<font color='DarkMagenta'>👉 Обращаю внимание, что представленные выборки несбалансированы и какой-то вывод можно делать только по двум категориям с достаточным размером выборок.</font>\n",
    "<br><font color='DarkMagenta'>👉 В задачах, где требуется анализировать несбалансированные выборки можно, делать дополнительный анализ, разбив данные на равные выборки методом `.qcut`. Подробнее можно прочитать тут: <br>https://dfedorov.spb.ru/pandas/Разделение%20данных%20в%20Pandas%20с%20помощью%20qcut%20и%20cut.html.</font>"
   ]
  },
  {
   "cell_type": "markdown",
   "id": "1dcc9b12",
   "metadata": {
    "deletable": false,
    "editable": false,
    "id": "1dcc9b12"
   },
   "source": [
    "#### 3.4 Как разные цели кредита влияют на его возврат в срок?"
   ]
  },
  {
   "cell_type": "code",
   "execution_count": 32,
   "id": "c602bc8b",
   "metadata": {
    "deletable": false,
    "id": "c602bc8b"
   },
   "outputs": [],
   "source": [
    "# Ваш код будет здесь. Вы можете создавать новые ячейки.\n",
    "def categorize_purpose(row):\n",
    "    try:\n",
    "        if 'автом' in row:\n",
    "            return 'операции с автомобилем'\n",
    "        elif 'жил' in row or 'недвиж' in row:\n",
    "            return 'операции с недвижимостью'\n",
    "        elif 'свад' in row:\n",
    "            return 'проведение свадьбы'\n",
    "        elif 'образов' in row:\n",
    "            return 'получение образования'\n",
    "    except:\n",
    "        return 'нет категории'"
   ]
  },
  {
   "cell_type": "code",
   "execution_count": 33,
   "id": "9a0031cf",
   "metadata": {},
   "outputs": [],
   "source": [
    "data['purpose_category'] = data['purpose'].apply(categorize_purpose)"
   ]
  },
  {
   "cell_type": "markdown",
   "id": "e6a4d84b",
   "metadata": {},
   "source": [
    "<font color='DarkBlue'><b>Комментарий ревьюера</b></font><br>\n",
    "<font color='DarkMagenta'>👉 Данная категоризация по целям кредита сделана в первой части проекта. Зачем писать лишний код?</font>"
   ]
  },
  {
   "cell_type": "code",
   "execution_count": 34,
   "id": "2b541e60",
   "metadata": {},
   "outputs": [
    {
     "name": "stdout",
     "output_type": "stream",
     "text": [
      "purpose_category\n",
      "операции с автомобилем      400\n",
      "операции с недвижимостью    780\n",
      "получение образования       369\n",
      "проведение свадьбы          183\n",
      "Name: debt, dtype: int64\n"
     ]
    }
   ],
   "source": [
    "print(data.groupby('purpose_category')['debt'].sum())"
   ]
  },
  {
   "cell_type": "markdown",
   "id": "cf05ed63",
   "metadata": {
    "deletable": false,
    "id": "cf05ed63"
   },
   "source": [
    "**Вывод:** Больше всего заемщиков, имеющих долг, брали кредит на недвижимость, меньше всего должников - в группе 'проведение свадьбы'."
   ]
  },
  {
   "cell_type": "markdown",
   "id": "a031d393",
   "metadata": {},
   "source": [
    "Необходимо расчитать долю задолженности по каждой группе, так как количество заемщиков по каждой группе может существенно отличаться."
   ]
  },
  {
   "cell_type": "markdown",
   "id": "b2cdbf9b",
   "metadata": {},
   "source": [
    "<font color='DarkBlue'><b>Комментарий ревьюера</b></font><br>\n",
    "<font color='Red'>🛠 Тут аналогичная ошибка. </font>"
   ]
  },
  {
   "cell_type": "markdown",
   "id": "c7bcc9fa",
   "metadata": {},
   "source": [
    "Комментарий студента"
   ]
  },
  {
   "cell_type": "code",
   "execution_count": 35,
   "id": "ee86ef3d",
   "metadata": {},
   "outputs": [
    {
     "name": "stdout",
     "output_type": "stream",
     "text": [
      "                          Всего кредитополучателей  Всего должников  \\\n",
      "purpose_category                                                      \n",
      "операции с автомобилем                        4279              400   \n",
      "операции с недвижимостью                     10751              780   \n",
      "получение образования                         3988              369   \n",
      "проведение свадьбы                            2313              183   \n",
      "\n",
      "                          Доля должников  \n",
      "purpose_category                          \n",
      "операции с автомобилем          0.093480  \n",
      "операции с недвижимостью        0.072551  \n",
      "получение образования           0.092528  \n",
      "проведение свадьбы              0.079118  \n"
     ]
    }
   ],
   "source": [
    "data_pivot = data.pivot_table(index=['purpose_category'], values='debt', aggfunc=['count','sum','mean'])\n",
    "data_pivot.columns = ['Всего кредитополучателей', 'Всего должников', 'Доля должников']\n",
    "\n",
    "print(data_pivot)"
   ]
  },
  {
   "cell_type": "markdown",
   "id": "be84997a",
   "metadata": {},
   "source": [
    "Вывод: Связи между целями кредита и его возвратом, также нет. Доля должников примерно одинаковая во всех группах от 7,2 до 9,3%."
   ]
  },
  {
   "cell_type": "markdown",
   "id": "4ed505d1",
   "metadata": {},
   "source": [
    "<font color='DarkBlue'><b>Комментарий ревьюера 2</b></font><br>\n",
    "<font color='Red'>🛠 Не правильный вывод. </font>"
   ]
  },
  {
   "cell_type": "markdown",
   "id": "7a15309e",
   "metadata": {},
   "source": [
    "Комментарий студента <br>\n",
    "**Цели кредита влияют на возвращаемость. Хуже всего возвращают кредиты на образование и автомобили.**"
   ]
  },
  {
   "cell_type": "markdown",
   "id": "a1651ce3",
   "metadata": {},
   "source": [
    "<font color='DarkBlue'><b>Комментарий ревьюера 3</b></font><br>\n",
    "<font color='DarkGreen'>👌 Видимо, кредиты на автомобиль и обучение несут дополнительные риски связанные или с возможной аварией, или с проблемами трудоустройства после обучения.</font>"
   ]
  },
  {
   "cell_type": "markdown",
   "id": "46c1f10b",
   "metadata": {
    "deletable": false,
    "editable": false,
    "id": "46c1f10b"
   },
   "source": [
    "#### 3.5 Приведите возможные причины появления пропусков в исходных данных."
   ]
  },
  {
   "cell_type": "markdown",
   "id": "3697d2a9",
   "metadata": {
    "deletable": false,
    "id": "3697d2a9"
   },
   "source": [
    "*Ответ:* \n",
    "1. Человеческий фактор (пользователи не оставили информацию)\n",
    "2. Технологические причины (сбой при записи, копировании, считывании, смене формата)"
   ]
  },
  {
   "cell_type": "markdown",
   "id": "76a345ee",
   "metadata": {},
   "source": [
    "<font color='DarkBlue'><b>Комментарий ревьюера</b></font><br>\n",
    "<font color='DarkGreen'>👌 Правильно определены причины пропусков.</font>"
   ]
  },
  {
   "cell_type": "markdown",
   "id": "3137d257",
   "metadata": {
    "deletable": false,
    "editable": false,
    "id": "3137d257"
   },
   "source": [
    "#### 3.6 Объясните, почему заполнить пропуски медианным значением — лучшее решение для количественных переменных."
   ]
  },
  {
   "cell_type": "markdown",
   "id": "cf40012a",
   "metadata": {
    "deletable": false,
    "id": "cf40012a"
   },
   "source": [
    "*Ответ:* Если данные неоднородны, т.е. присутствуют выбросы (экстемально минимальные или максимальные значения), то корректно расчитывать медиану. "
   ]
  },
  {
   "cell_type": "markdown",
   "id": "e4a6f7dc",
   "metadata": {},
   "source": [
    "<font color='DarkBlue'><b>Комментарий ревьюера</b></font><br>\n",
    "<font color='DarkGreen'>👌 Правильно, у средних более высокая чувствительность к выбросам, чем у медиан.<br>Можно попробовать посчитать и сравнить среднюю и медиану для колонки с выбросами, например `days_employed`.</font>"
   ]
  },
  {
   "cell_type": "markdown",
   "id": "400c2846",
   "metadata": {},
   "source": [
    "Комментарий студента"
   ]
  },
  {
   "cell_type": "code",
   "execution_count": 36,
   "id": "86f56e5f",
   "metadata": {},
   "outputs": [
    {
     "name": "stdout",
     "output_type": "stream",
     "text": [
      "401755.40047533\n",
      "67148.97213258488\n",
      "1996.732855437927\n"
     ]
    }
   ],
   "source": [
    "print(data['days_employed'].max()) #максимальное значение \n",
    "print(data['days_employed'].mean()) #среднее значение \n",
    "print(data['days_employed'].median()) #медиана"
   ]
  },
  {
   "cell_type": "code",
   "execution_count": 39,
   "id": "98638dc0",
   "metadata": {},
   "outputs": [
    {
     "name": "stdout",
     "output_type": "stream",
     "text": [
      "Среднее 67148.97213258488\n",
      "Медиана 1996.732855437927\n",
      "Во сколько раз среднее превышает медиану: 34\n"
     ]
    }
   ],
   "source": [
    "# Комментарий ревьюера 3\n",
    "a, b, = data.days_employed.mean(), data.days_employed.median()\n",
    "print('Среднее', a)\n",
    "print('Медиана', b)\n",
    "print('Во сколько раз среднее превышает медиану:', round(a/b))"
   ]
  },
  {
   "cell_type": "markdown",
   "id": "5ffb8188",
   "metadata": {},
   "source": [
    "Из-за выбросов среднее значение слишком большое, ближе к истине медиана."
   ]
  },
  {
   "cell_type": "markdown",
   "id": "74fd993f",
   "metadata": {},
   "source": [
    "При исследовании не всегда понятна структура данных, поэтому лучше использовать медиану для рассчета среднего значения."
   ]
  },
  {
   "attachments": {
    "image.png": {
     "image/png": "[encoded data removed]"
    }
   },
   "cell_type": "markdown",
   "id": "41448352",
   "metadata": {},
   "source": [
    "<font color='DarkBlue'><b>Комментарий ревьюера</b></font><br>\n",
    "<font color='Red'>🛠 Ошибка кода.</font>\n",
    "![image.png](attachment:image.png)"
   ]
  },
  {
   "cell_type": "markdown",
   "id": "57bc304e",
   "metadata": {
    "deletable": false,
    "editable": false,
    "id": "57bc304e"
   },
   "source": [
    "### Шаг 4: общий вывод."
   ]
  },
  {
   "cell_type": "markdown",
   "id": "1ab75d1c",
   "metadata": {
    "deletable": false,
    "id": "1ab75d1c"
   },
   "source": [
    "Напишите ваш общий вывод.\n",
    "Для более глубоких выводов, по выборке заемщиков, необходимо дополнительное исследование относительных значений по каждой группе заемщиков."
   ]
  },
  {
   "cell_type": "markdown",
   "id": "f1f15f64",
   "metadata": {},
   "source": [
    "Общий вывод:\n",
    "Описание. Заказчик - кредитный отдел банка, предоставил данные о платежеспособности клиентов. \n",
    "Необходимо проверить ряд гипотез.\n",
    "Есть ли зависимость между количеством детей и возвратом кредита в срок?\n",
    "Есть ли зависимость между семейным положением и возвратом кредита в срок?\n",
    "Есть ли зависимость между уровнем дохода и возвратом кредита в срок?\n",
    "Как разные цели кредита влияют на его возврат в срок?\n",
    "\n",
    "1. Предобработка данных. \n",
    "\n",
    "1.1. Данные были проверены на пропуски и аномалии. В столбце total_income, days_employed пропуски заменены на медианное значение.<br>\n",
    "1.2.В столбце days_employed и children заменены отрицательные значения на положительные.<br>\n",
    "1.3.В столбце education найдены и удалены дубликаты, путем приведения столбца к нижнему регистру.<br>\n",
    "1.4.Добавлены новые столбцы с категори<>зацией абонентов по целям взятия кредита и по доходам.<br>\n",
    "\n",
    "2. Проверка гипотез\n",
    "Путем создания сводных таблиц были проверены гипотезы, что существует зависимость между погашением кредита в срок и наличием детей, семейным положением, уровнем дохода и целями кредита.\n",
    "Получена доля кредитополучателей у которых есть задолженность.\n",
    "<br>\n",
    "<br>\n",
    "Можно сказать, что доли должников кардинально не отличаются, но 2% на больших числах могут оказать существенное влияние на кредитный портфель банка. Особое внимание следует уделить вдовам/вдовцам, заемщикам с доходом ниже 30 тыс руб, а также заемщикам берущим кредит на образование и покупку автомобиля — с ними риски по невозврату кредитов выше."
   ]
  },
  {
   "cell_type": "markdown",
   "id": "5cc7b85e",
   "metadata": {},
   "source": [
    "<font color='DarkBlue'><b>Комментарий ревьюера 2</b></font><br>\n",
    "<font color='Red'>🛠 Выводы по исследовательскому анализу необходимо будет переделать после исправления ошибок.</font>"
   ]
  },
  {
   "cell_type": "markdown",
   "id": "af566726",
   "metadata": {},
   "source": [
    "<font color='DarkBlue'><b>Комментарий ревьюера</b></font><br>\n",
    "<font color='Red'>🛠 Общий вывод относится ко всему проекту, а не только к исследовательскому анализу.<br>Он должен содержать развернутое резюме по всем разделам проекта: описание данных, порядок обработки аномалий, пропусков и дубликатов, предобработка данных для анализа и проведенный анализ.<br>В реальных проектах сначала читают цель исследования, затем полученные выводы, затем уже сам анализ.</font>\n",
    "<br>\n",
    "<font color='DarkMagenta'>👉 В общем выводе можно дать рекомендации по улучшению сбора данных на основе обнаруженных ошибок. А так же  составить портрет добросовестного заемщика.</font>"
   ]
  },
  {
   "cell_type": "markdown",
   "id": "3a12c23a",
   "metadata": {},
   "source": [
    "<font color='DarkBlue'><b>Заключительный комментарий ревьюера</b></font><br><br>\n",
    "<font color='DarkGreen'>👌 Ирина, проект хорошо проработан.<br>Так держать и дальше!<br></font>\n",
    "<font color='Red'>🛠 Что нужно, что бы сделать проект лучше:</font><br>\n",
    "<font color='Red'>🛠 Во всех заданиях проекта вывести сводные таблицы и сделать анализ баланса выборок. Переделать анализ зависимости между количеством детей, семейным положением, доходом и целью кредита и возвратом кредита в срок. Сделать развернутый общий вывод проекта.<br>\n",
    "<font color='DarkMagenta'>👉 При исправлении ошибок и недочетов будут приобретены дополнительный опыт и навыки!</font><br>\n",
    "<font color='DarkGreen'>👌 Жду окончательный вариант! Успехов.</font>"
   ]
  },
  {
   "cell_type": "markdown",
   "id": "de3bb1db",
   "metadata": {},
   "source": [
    "<font color='DarkBlue'><b>Заключительный комментарий ревьюера 2</b></font><br><br>\n",
    "<font color='DarkGreen'>👌 Ирина, увы, остались еще ошибки.<br></font>\n",
    "<font color='Red'>🛠 Что нужно доделать:</font><br>\n",
    "<font color='Red'>🛠 Переделать выводы анализа зависимости между количеством детей, семейным положением, доходом и целью кредита и возвратом кредита в срок. Переделать общий вывод после исправления ошибок.</font><br>\n",
    "<font color='DarkGreen'>👌 Жду исправленный вариант! Успехов.</font>"
   ]
  },
  {
   "attachments": {
    "image.png": {
     "image/png": "[encoded data removed]"
    }
   },
   "cell_type": "markdown",
   "id": "56c08508",
   "metadata": {},
   "source": [
    "<font color='DarkBlue'><b>Заключительный комментарий ревьюера 3</b></font><br><br>\n",
    "<font color='DarkGreen'>👌 Ирина! Справились со всеми заданиями в проекте. Молодец!<br>\n",
    "Входе выполнения проекта научились анализировать первичные данные и проводить обработку датасета. Провели самостоятельный исследовательский анализ.<br></font>\n",
    "<font color='DarkGreen'>👌 Теперь, вперед за новыми знаниями и навыками! Удачи! 😉</font>\n",
    "![image.png](attachment:image.png)"
   ]
  }
 ],
 "metadata": {
  "ExecuteTimeLog": [
   {
    "duration": 472,
    "start_time": "2023-07-29T21:21:41.927Z"
   },
   {
    "duration": 22,
    "start_time": "2023-07-29T21:22:40.479Z"
   },
   {
    "duration": 19,
    "start_time": "2023-07-29T21:23:03.876Z"
   },
   {
    "duration": 14,
    "start_time": "2023-07-29T21:24:40.561Z"
   },
   {
    "duration": 70,
    "start_time": "2023-07-29T21:24:46.158Z"
   },
   {
    "duration": 14,
    "start_time": "2023-07-29T21:24:46.230Z"
   },
   {
    "duration": 23,
    "start_time": "2023-07-29T21:24:46.246Z"
   },
   {
    "duration": 8,
    "start_time": "2023-07-29T21:24:46.271Z"
   },
   {
    "duration": 33,
    "start_time": "2023-07-29T21:24:46.280Z"
   },
   {
    "duration": 3,
    "start_time": "2023-07-29T21:24:46.315Z"
   },
   {
    "duration": 10,
    "start_time": "2023-07-29T21:24:46.319Z"
   },
   {
    "duration": 4,
    "start_time": "2023-07-29T21:24:46.330Z"
   },
   {
    "duration": 29,
    "start_time": "2023-07-29T21:24:46.335Z"
   },
   {
    "duration": 14,
    "start_time": "2023-07-29T21:24:46.366Z"
   },
   {
    "duration": 38,
    "start_time": "2023-07-29T21:24:46.381Z"
   },
   {
    "duration": 9,
    "start_time": "2023-07-29T21:24:46.420Z"
   },
   {
    "duration": 11,
    "start_time": "2023-07-29T21:24:46.431Z"
   },
   {
    "duration": 21,
    "start_time": "2023-07-29T21:24:46.443Z"
   },
   {
    "duration": 20,
    "start_time": "2023-07-29T21:24:46.465Z"
   },
   {
    "duration": 17,
    "start_time": "2023-07-29T21:24:46.486Z"
   },
   {
    "duration": 3,
    "start_time": "2023-07-29T21:24:46.505Z"
   },
   {
    "duration": 12,
    "start_time": "2023-07-29T21:24:46.510Z"
   },
   {
    "duration": 5,
    "start_time": "2023-07-29T21:24:46.524Z"
   },
   {
    "duration": 4,
    "start_time": "2023-07-29T21:24:46.558Z"
   },
   {
    "duration": 14,
    "start_time": "2023-07-29T21:24:46.564Z"
   },
   {
    "duration": 4,
    "start_time": "2023-07-29T21:24:46.579Z"
   },
   {
    "duration": 5,
    "start_time": "2023-07-29T21:24:46.585Z"
   },
   {
    "duration": 6,
    "start_time": "2023-07-29T21:24:46.592Z"
   },
   {
    "duration": 3,
    "start_time": "2023-07-29T21:24:46.600Z"
   },
   {
    "duration": 6,
    "start_time": "2023-07-29T21:32:11.035Z"
   },
   {
    "duration": 68,
    "start_time": "2023-07-29T21:35:47.311Z"
   },
   {
    "duration": 10,
    "start_time": "2023-07-29T21:35:56.726Z"
   },
   {
    "duration": 7,
    "start_time": "2023-07-29T21:36:12.779Z"
   },
   {
    "duration": 9,
    "start_time": "2023-07-29T21:41:50.640Z"
   },
   {
    "duration": 9,
    "start_time": "2023-07-29T21:43:26.554Z"
   },
   {
    "duration": 4,
    "start_time": "2023-07-29T21:45:40.026Z"
   },
   {
    "duration": 8,
    "start_time": "2023-07-29T21:45:42.700Z"
   },
   {
    "duration": 8,
    "start_time": "2023-07-29T21:45:45.948Z"
   },
   {
    "duration": 5,
    "start_time": "2023-07-29T22:17:05.277Z"
   },
   {
    "duration": 10,
    "start_time": "2023-07-29T22:17:31.821Z"
   },
   {
    "duration": 7,
    "start_time": "2023-07-29T22:18:31.561Z"
   },
   {
    "duration": 612,
    "start_time": "2023-07-30T01:01:29.259Z"
   },
   {
    "duration": 36,
    "start_time": "2023-07-30T01:01:29.874Z"
   },
   {
    "duration": 27,
    "start_time": "2023-07-30T01:01:29.912Z"
   },
   {
    "duration": 18,
    "start_time": "2023-07-30T01:01:29.942Z"
   },
   {
    "duration": 73,
    "start_time": "2023-07-30T01:01:29.964Z"
   },
   {
    "duration": 4,
    "start_time": "2023-07-30T01:01:30.039Z"
   },
   {
    "duration": 60,
    "start_time": "2023-07-30T01:01:30.045Z"
   },
   {
    "duration": 9,
    "start_time": "2023-07-30T01:01:30.113Z"
   },
   {
    "duration": 26,
    "start_time": "2023-07-30T01:01:30.126Z"
   },
   {
    "duration": 45,
    "start_time": "2023-07-30T01:01:30.154Z"
   },
   {
    "duration": 68,
    "start_time": "2023-07-30T01:01:30.202Z"
   },
   {
    "duration": 11,
    "start_time": "2023-07-30T01:01:30.271Z"
   },
   {
    "duration": 31,
    "start_time": "2023-07-30T01:01:30.283Z"
   },
   {
    "duration": 30,
    "start_time": "2023-07-30T01:01:30.318Z"
   },
   {
    "duration": 72,
    "start_time": "2023-07-30T01:01:30.350Z"
   },
   {
    "duration": 18,
    "start_time": "2023-07-30T01:01:30.424Z"
   },
   {
    "duration": 53,
    "start_time": "2023-07-30T01:01:30.444Z"
   },
   {
    "duration": 17,
    "start_time": "2023-07-30T01:01:30.499Z"
   },
   {
    "duration": 63,
    "start_time": "2023-07-30T01:01:30.518Z"
   },
   {
    "duration": 39,
    "start_time": "2023-07-30T01:01:30.583Z"
   },
   {
    "duration": 85,
    "start_time": "2023-07-30T01:01:30.625Z"
   },
   {
    "duration": 70,
    "start_time": "2023-07-30T01:01:30.713Z"
   },
   {
    "duration": 79,
    "start_time": "2023-07-30T01:01:30.785Z"
   },
   {
    "duration": 65,
    "start_time": "2023-07-30T01:01:30.866Z"
   },
   {
    "duration": 73,
    "start_time": "2023-07-30T01:01:30.933Z"
   },
   {
    "duration": 55,
    "start_time": "2023-07-30T01:01:31.008Z"
   },
   {
    "duration": 48,
    "start_time": "2023-07-30T01:01:31.065Z"
   },
   {
    "duration": 41,
    "start_time": "2023-07-30T01:01:31.115Z"
   },
   {
    "duration": 82,
    "start_time": "2023-07-30T01:01:31.159Z"
   },
   {
    "duration": 99,
    "start_time": "2023-07-30T01:01:31.243Z"
   },
   {
    "duration": 54,
    "start_time": "2023-07-30T16:11:40.985Z"
   },
   {
    "duration": 530,
    "start_time": "2023-07-30T16:11:48.202Z"
   },
   {
    "duration": 21,
    "start_time": "2023-07-30T16:11:48.734Z"
   },
   {
    "duration": 14,
    "start_time": "2023-07-30T16:11:48.756Z"
   },
   {
    "duration": 10,
    "start_time": "2023-07-30T16:11:48.771Z"
   },
   {
    "duration": 39,
    "start_time": "2023-07-30T16:11:48.783Z"
   },
   {
    "duration": 3,
    "start_time": "2023-07-30T16:11:48.824Z"
   },
   {
    "duration": 15,
    "start_time": "2023-07-30T16:11:48.829Z"
   },
   {
    "duration": 12,
    "start_time": "2023-07-30T16:11:48.846Z"
   },
   {
    "duration": 16,
    "start_time": "2023-07-30T16:11:48.859Z"
   },
   {
    "duration": 6,
    "start_time": "2023-07-30T16:11:48.877Z"
   },
   {
    "duration": 35,
    "start_time": "2023-07-30T16:11:48.885Z"
   },
   {
    "duration": 9,
    "start_time": "2023-07-30T16:11:48.921Z"
   },
   {
    "duration": 3,
    "start_time": "2023-07-30T16:11:48.931Z"
   },
   {
    "duration": 45,
    "start_time": "2023-07-30T16:11:48.937Z"
   },
   {
    "duration": 23,
    "start_time": "2023-07-30T16:11:48.984Z"
   },
   {
    "duration": 16,
    "start_time": "2023-07-30T16:11:49.008Z"
   },
   {
    "duration": 28,
    "start_time": "2023-07-30T16:11:49.026Z"
   },
   {
    "duration": 14,
    "start_time": "2023-07-30T16:11:49.056Z"
   },
   {
    "duration": 14,
    "start_time": "2023-07-30T16:11:49.072Z"
   },
   {
    "duration": 5,
    "start_time": "2023-07-30T16:11:49.088Z"
   },
   {
    "duration": 21,
    "start_time": "2023-07-30T16:11:49.095Z"
   },
   {
    "duration": 8,
    "start_time": "2023-07-30T16:11:49.117Z"
   },
   {
    "duration": 39,
    "start_time": "2023-07-30T16:11:49.127Z"
   },
   {
    "duration": 0,
    "start_time": "2023-07-30T16:11:49.168Z"
   },
   {
    "duration": 0,
    "start_time": "2023-07-30T16:11:49.177Z"
   },
   {
    "duration": 0,
    "start_time": "2023-07-30T16:11:49.178Z"
   },
   {
    "duration": 0,
    "start_time": "2023-07-30T16:11:49.179Z"
   },
   {
    "duration": 0,
    "start_time": "2023-07-30T16:11:49.180Z"
   },
   {
    "duration": 0,
    "start_time": "2023-07-30T16:11:49.181Z"
   },
   {
    "duration": 0,
    "start_time": "2023-07-30T16:11:49.182Z"
   },
   {
    "duration": 18,
    "start_time": "2023-07-30T16:17:25.517Z"
   },
   {
    "duration": 15,
    "start_time": "2023-07-30T16:17:46.125Z"
   },
   {
    "duration": 16,
    "start_time": "2023-07-30T16:18:57.862Z"
   },
   {
    "duration": 17,
    "start_time": "2023-07-30T16:19:18.726Z"
   },
   {
    "duration": 15,
    "start_time": "2023-07-30T16:20:21.852Z"
   },
   {
    "duration": 14,
    "start_time": "2023-07-30T16:22:29.108Z"
   },
   {
    "duration": 22,
    "start_time": "2023-07-30T16:22:47.226Z"
   },
   {
    "duration": 136,
    "start_time": "2023-07-30T16:38:20.749Z"
   },
   {
    "duration": 22,
    "start_time": "2023-07-30T16:38:47.446Z"
   },
   {
    "duration": 14,
    "start_time": "2023-07-30T16:39:17.358Z"
   },
   {
    "duration": 23,
    "start_time": "2023-07-30T16:39:36.246Z"
   },
   {
    "duration": 23,
    "start_time": "2023-07-30T16:42:45.096Z"
   },
   {
    "duration": 23,
    "start_time": "2023-07-30T16:43:37.150Z"
   },
   {
    "duration": 25,
    "start_time": "2023-07-30T17:01:56.231Z"
   },
   {
    "duration": 4,
    "start_time": "2023-07-30T17:11:13.714Z"
   },
   {
    "duration": 10,
    "start_time": "2023-07-30T17:11:16.353Z"
   },
   {
    "duration": 6,
    "start_time": "2023-07-30T17:11:21.103Z"
   },
   {
    "duration": 37,
    "start_time": "2023-07-30T17:12:16.556Z"
   },
   {
    "duration": 27,
    "start_time": "2023-07-30T17:19:31.609Z"
   },
   {
    "duration": 6,
    "start_time": "2023-07-30T17:29:45.597Z"
   },
   {
    "duration": 6,
    "start_time": "2023-07-30T17:55:45.700Z"
   },
   {
    "duration": 435,
    "start_time": "2023-07-30T19:35:03.900Z"
   },
   {
    "duration": 23,
    "start_time": "2023-07-30T19:35:04.337Z"
   },
   {
    "duration": 15,
    "start_time": "2023-07-30T19:35:04.361Z"
   },
   {
    "duration": 9,
    "start_time": "2023-07-30T19:35:04.378Z"
   },
   {
    "duration": 32,
    "start_time": "2023-07-30T19:35:04.390Z"
   },
   {
    "duration": 3,
    "start_time": "2023-07-30T19:35:04.424Z"
   },
   {
    "duration": 29,
    "start_time": "2023-07-30T19:35:04.429Z"
   },
   {
    "duration": 6,
    "start_time": "2023-07-30T19:35:04.460Z"
   },
   {
    "duration": 10,
    "start_time": "2023-07-30T19:35:04.467Z"
   },
   {
    "duration": 6,
    "start_time": "2023-07-30T19:35:04.479Z"
   },
   {
    "duration": 40,
    "start_time": "2023-07-30T19:35:04.487Z"
   },
   {
    "duration": 35,
    "start_time": "2023-07-30T19:35:04.528Z"
   },
   {
    "duration": 4,
    "start_time": "2023-07-30T19:35:04.564Z"
   },
   {
    "duration": 11,
    "start_time": "2023-07-30T19:35:04.571Z"
   },
   {
    "duration": 20,
    "start_time": "2023-07-30T19:35:04.584Z"
   },
   {
    "duration": 17,
    "start_time": "2023-07-30T19:35:04.606Z"
   },
   {
    "duration": 3,
    "start_time": "2023-07-30T19:35:04.624Z"
   },
   {
    "duration": 9,
    "start_time": "2023-07-30T19:35:04.656Z"
   },
   {
    "duration": 11,
    "start_time": "2023-07-30T19:35:04.667Z"
   },
   {
    "duration": 5,
    "start_time": "2023-07-30T19:35:04.680Z"
   },
   {
    "duration": 19,
    "start_time": "2023-07-30T19:35:04.686Z"
   },
   {
    "duration": 6,
    "start_time": "2023-07-30T19:35:04.707Z"
   },
   {
    "duration": 48,
    "start_time": "2023-07-30T19:35:04.715Z"
   },
   {
    "duration": 7,
    "start_time": "2023-07-30T19:35:04.764Z"
   },
   {
    "duration": 26,
    "start_time": "2023-07-30T19:35:04.772Z"
   },
   {
    "duration": 3,
    "start_time": "2023-07-30T19:35:04.800Z"
   },
   {
    "duration": 11,
    "start_time": "2023-07-30T19:35:04.805Z"
   },
   {
    "duration": 7,
    "start_time": "2023-07-30T19:35:04.818Z"
   },
   {
    "duration": 26,
    "start_time": "2023-07-30T19:35:04.856Z"
   },
   {
    "duration": 3,
    "start_time": "2023-07-30T19:35:04.884Z"
   },
   {
    "duration": 14,
    "start_time": "2023-07-30T19:35:04.889Z"
   },
   {
    "duration": 23,
    "start_time": "2023-07-30T19:35:04.905Z"
   },
   {
    "duration": 38,
    "start_time": "2023-07-30T19:35:04.930Z"
   },
   {
    "duration": 5,
    "start_time": "2023-07-30T19:35:04.970Z"
   },
   {
    "duration": 679,
    "start_time": "2023-08-02T17:37:32.862Z"
   },
   {
    "duration": 23,
    "start_time": "2023-08-02T17:37:33.543Z"
   },
   {
    "duration": 31,
    "start_time": "2023-08-02T17:37:33.568Z"
   },
   {
    "duration": 17,
    "start_time": "2023-08-02T17:37:33.602Z"
   },
   {
    "duration": 42,
    "start_time": "2023-08-02T17:37:33.620Z"
   },
   {
    "duration": 3,
    "start_time": "2023-08-02T17:37:33.664Z"
   },
   {
    "duration": 36,
    "start_time": "2023-08-02T17:37:33.669Z"
   },
   {
    "duration": 7,
    "start_time": "2023-08-02T17:37:33.706Z"
   },
   {
    "duration": 24,
    "start_time": "2023-08-02T17:37:33.715Z"
   },
   {
    "duration": 9,
    "start_time": "2023-08-02T17:37:33.741Z"
   },
   {
    "duration": 43,
    "start_time": "2023-08-02T17:37:33.752Z"
   },
   {
    "duration": 9,
    "start_time": "2023-08-02T17:37:33.796Z"
   },
   {
    "duration": 34,
    "start_time": "2023-08-02T17:37:33.807Z"
   },
   {
    "duration": 29,
    "start_time": "2023-08-02T17:37:33.842Z"
   },
   {
    "duration": 23,
    "start_time": "2023-08-02T17:37:33.873Z"
   },
   {
    "duration": 18,
    "start_time": "2023-08-02T17:37:33.898Z"
   },
   {
    "duration": 22,
    "start_time": "2023-08-02T17:37:33.918Z"
   },
   {
    "duration": 25,
    "start_time": "2023-08-02T17:37:33.942Z"
   },
   {
    "duration": 20,
    "start_time": "2023-08-02T17:37:33.969Z"
   },
   {
    "duration": 17,
    "start_time": "2023-08-02T17:37:33.991Z"
   },
   {
    "duration": 13,
    "start_time": "2023-08-02T17:37:34.010Z"
   },
   {
    "duration": 11,
    "start_time": "2023-08-02T17:37:34.024Z"
   },
   {
    "duration": 38,
    "start_time": "2023-08-02T17:37:34.039Z"
   },
   {
    "duration": 16,
    "start_time": "2023-08-02T17:37:34.078Z"
   },
   {
    "duration": 46,
    "start_time": "2023-08-02T17:37:34.096Z"
   },
   {
    "duration": 10,
    "start_time": "2023-08-02T17:37:34.148Z"
   },
   {
    "duration": 64,
    "start_time": "2023-08-02T17:37:34.160Z"
   },
   {
    "duration": 18,
    "start_time": "2023-08-02T17:37:34.227Z"
   },
   {
    "duration": 30,
    "start_time": "2023-08-02T17:37:34.246Z"
   },
   {
    "duration": 4,
    "start_time": "2023-08-02T17:37:34.278Z"
   },
   {
    "duration": 17,
    "start_time": "2023-08-02T17:37:34.283Z"
   },
   {
    "duration": 15,
    "start_time": "2023-08-02T17:37:34.302Z"
   },
   {
    "duration": 40,
    "start_time": "2023-08-02T17:37:34.319Z"
   },
   {
    "duration": 16,
    "start_time": "2023-08-02T17:37:34.360Z"
   },
   {
    "duration": 530,
    "start_time": "2023-08-02T18:17:16.440Z"
   },
   {
    "duration": 26,
    "start_time": "2023-08-02T18:17:16.972Z"
   },
   {
    "duration": 21,
    "start_time": "2023-08-02T18:17:17.000Z"
   },
   {
    "duration": 35,
    "start_time": "2023-08-02T18:17:17.023Z"
   },
   {
    "duration": 62,
    "start_time": "2023-08-02T18:17:17.061Z"
   },
   {
    "duration": 5,
    "start_time": "2023-08-02T18:17:17.126Z"
   },
   {
    "duration": 28,
    "start_time": "2023-08-02T18:17:17.133Z"
   },
   {
    "duration": 13,
    "start_time": "2023-08-02T18:17:17.164Z"
   },
   {
    "duration": 14,
    "start_time": "2023-08-02T18:17:17.179Z"
   },
   {
    "duration": 7,
    "start_time": "2023-08-02T18:17:17.195Z"
   },
   {
    "duration": 65,
    "start_time": "2023-08-02T18:17:17.204Z"
   },
   {
    "duration": 10,
    "start_time": "2023-08-02T18:17:17.271Z"
   },
   {
    "duration": 21,
    "start_time": "2023-08-02T18:17:17.282Z"
   },
   {
    "duration": 40,
    "start_time": "2023-08-02T18:17:17.306Z"
   },
   {
    "duration": 58,
    "start_time": "2023-08-02T18:17:17.348Z"
   },
   {
    "duration": 21,
    "start_time": "2023-08-02T18:17:17.408Z"
   },
   {
    "duration": 4,
    "start_time": "2023-08-02T18:17:17.431Z"
   },
   {
    "duration": 24,
    "start_time": "2023-08-02T18:17:17.437Z"
   },
   {
    "duration": 17,
    "start_time": "2023-08-02T18:17:17.464Z"
   },
   {
    "duration": 6,
    "start_time": "2023-08-02T18:17:17.484Z"
   },
   {
    "duration": 29,
    "start_time": "2023-08-02T18:17:17.492Z"
   },
   {
    "duration": 7,
    "start_time": "2023-08-02T18:17:17.523Z"
   },
   {
    "duration": 41,
    "start_time": "2023-08-02T18:17:17.532Z"
   },
   {
    "duration": 8,
    "start_time": "2023-08-02T18:17:17.575Z"
   },
   {
    "duration": 33,
    "start_time": "2023-08-02T18:17:17.586Z"
   },
   {
    "duration": 4,
    "start_time": "2023-08-02T18:17:17.620Z"
   },
   {
    "duration": 36,
    "start_time": "2023-08-02T18:17:17.626Z"
   },
   {
    "duration": 21,
    "start_time": "2023-08-02T18:17:17.664Z"
   },
   {
    "duration": 36,
    "start_time": "2023-08-02T18:17:17.687Z"
   },
   {
    "duration": 4,
    "start_time": "2023-08-02T18:17:17.725Z"
   },
   {
    "duration": 27,
    "start_time": "2023-08-02T18:17:17.731Z"
   },
   {
    "duration": 8,
    "start_time": "2023-08-02T18:17:17.759Z"
   },
   {
    "duration": 41,
    "start_time": "2023-08-02T18:17:17.770Z"
   },
   {
    "duration": 42,
    "start_time": "2023-08-02T18:17:17.813Z"
   },
   {
    "duration": 349,
    "start_time": "2023-08-02T18:29:14.660Z"
   },
   {
    "duration": 10,
    "start_time": "2023-08-02T18:32:23.399Z"
   },
   {
    "duration": 510,
    "start_time": "2023-08-02T18:32:38.184Z"
   },
   {
    "duration": 26,
    "start_time": "2023-08-02T18:32:38.697Z"
   },
   {
    "duration": 36,
    "start_time": "2023-08-02T18:32:38.725Z"
   },
   {
    "duration": 19,
    "start_time": "2023-08-02T18:32:38.765Z"
   },
   {
    "duration": 46,
    "start_time": "2023-08-02T18:32:38.786Z"
   },
   {
    "duration": 5,
    "start_time": "2023-08-02T18:32:38.852Z"
   },
   {
    "duration": 15,
    "start_time": "2023-08-02T18:32:38.858Z"
   },
   {
    "duration": 6,
    "start_time": "2023-08-02T18:32:38.875Z"
   },
   {
    "duration": 15,
    "start_time": "2023-08-02T18:32:38.883Z"
   },
   {
    "duration": 13,
    "start_time": "2023-08-02T18:32:38.903Z"
   },
   {
    "duration": 57,
    "start_time": "2023-08-02T18:32:38.918Z"
   },
   {
    "duration": 19,
    "start_time": "2023-08-02T18:32:38.978Z"
   },
   {
    "duration": 6,
    "start_time": "2023-08-02T18:32:39.000Z"
   },
   {
    "duration": 46,
    "start_time": "2023-08-02T18:32:39.009Z"
   },
   {
    "duration": 34,
    "start_time": "2023-08-02T18:32:39.058Z"
   },
   {
    "duration": 22,
    "start_time": "2023-08-02T18:32:39.093Z"
   },
   {
    "duration": 4,
    "start_time": "2023-08-02T18:32:39.117Z"
   },
   {
    "duration": 37,
    "start_time": "2023-08-02T18:32:39.123Z"
   },
   {
    "duration": 13,
    "start_time": "2023-08-02T18:32:39.162Z"
   },
   {
    "duration": 9,
    "start_time": "2023-08-02T18:32:39.177Z"
   },
   {
    "duration": 24,
    "start_time": "2023-08-02T18:32:39.189Z"
   },
   {
    "duration": 8,
    "start_time": "2023-08-02T18:32:39.216Z"
   },
   {
    "duration": 46,
    "start_time": "2023-08-02T18:32:39.226Z"
   },
   {
    "duration": 355,
    "start_time": "2023-08-02T18:32:39.274Z"
   },
   {
    "duration": 9,
    "start_time": "2023-08-02T18:32:39.631Z"
   },
   {
    "duration": 37,
    "start_time": "2023-08-02T18:32:39.643Z"
   },
   {
    "duration": 9,
    "start_time": "2023-08-02T18:32:39.682Z"
   },
   {
    "duration": 8,
    "start_time": "2023-08-02T18:32:39.694Z"
   },
   {
    "duration": 19,
    "start_time": "2023-08-02T18:32:39.704Z"
   },
   {
    "duration": 27,
    "start_time": "2023-08-02T18:32:39.725Z"
   },
   {
    "duration": 34,
    "start_time": "2023-08-02T18:32:39.755Z"
   },
   {
    "duration": 4,
    "start_time": "2023-08-02T18:32:39.791Z"
   },
   {
    "duration": 22,
    "start_time": "2023-08-02T18:32:39.797Z"
   },
   {
    "duration": 31,
    "start_time": "2023-08-02T18:32:39.821Z"
   },
   {
    "duration": 30,
    "start_time": "2023-08-02T18:32:39.854Z"
   },
   {
    "duration": 7,
    "start_time": "2023-08-02T18:32:39.886Z"
   },
   {
    "duration": 7,
    "start_time": "2023-08-02T18:34:42.512Z"
   },
   {
    "duration": 7,
    "start_time": "2023-08-02T18:35:02.740Z"
   },
   {
    "duration": 6,
    "start_time": "2023-08-02T18:35:36.170Z"
   }
  ],
  "colab": {
   "provenance": []
  },
  "kernelspec": {
   "display_name": "Python 3 (ipykernel)",
   "language": "python",
   "name": "python3"
  },
  "language_info": {
   "codemirror_mode": {
    "name": "ipython",
    "version": 3
   },
   "file_extension": ".py",
   "mimetype": "text/x-python",
   "name": "python",
   "nbconvert_exporter": "python",
   "pygments_lexer": "ipython3",
   "version": "3.9.5"
  },
  "toc": {
   "base_numbering": 1,
   "nav_menu": {},
   "number_sections": true,
   "sideBar": true,
   "skip_h1_title": true,
   "title_cell": "Table of Contents",
   "title_sidebar": "Contents",
   "toc_cell": false,
   "toc_position": {
    "height": "calc(100% - 180px)",
    "left": "10px",
    "top": "150px",
    "width": "226.943px"
   },
   "toc_section_display": true,
   "toc_window_display": true
  }
 },
 "nbformat": 4,
 "nbformat_minor": 5
}
