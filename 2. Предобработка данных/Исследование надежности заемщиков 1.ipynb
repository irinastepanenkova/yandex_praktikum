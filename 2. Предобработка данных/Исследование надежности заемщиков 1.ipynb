{
 "cells": [
  {
   "cell_type": "markdown",
   "id": "4f11de00",
   "metadata": {
    "deletable": false,
    "editable": false,
    "id": "4f11de00"
   },
   "source": [
    "# Исследование надежности заемщиков"
   ]
  },
  {
   "cell_type": "markdown",
   "id": "f09d6878",
   "metadata": {
    "deletable": false,
    "editable": false,
    "id": "f09d6878"
   },
   "source": [
    "Это первая часть проекта, она будет проверена автоматически. Вторую часть проверит ревьюер. "
   ]
  },
  {
   "cell_type": "markdown",
   "id": "516620ee",
   "metadata": {
    "deletable": false,
    "editable": false,
    "id": "516620ee"
   },
   "source": [
    "## Откройте таблицу и изучите общую информацию о данных"
   ]
  },
  {
   "cell_type": "markdown",
   "id": "76a8a9ce",
   "metadata": {
    "deletable": false,
    "editable": false,
    "id": "76a8a9ce",
    "tags": [
     "start_task"
    ]
   },
   "source": [
    "**Задание 1. Импортируйте библиотеку pandas. Считайте данные из csv-файла в датафрейм и сохраните в переменную `data`. Путь к файлу:**\n",
    "\n",
    "`/datasets/data.csv`"
   ]
  },
  {
   "cell_type": "code",
   "execution_count": 149,
   "id": "fab207d0",
   "metadata": {
    "id": "fab207d0"
   },
   "outputs": [],
   "source": [
    "# импортируйте библиотеку pandas\n",
    "import pandas as pd"
   ]
  },
  {
   "cell_type": "code",
   "execution_count": 150,
   "id": "6c82b607",
   "metadata": {
    "id": "6c82b607"
   },
   "outputs": [],
   "source": [
    "# прочитайте csv-файл\n",
    "data = pd.read_csv('/datasets/data.csv')"
   ]
  },
  {
   "cell_type": "markdown",
   "id": "08bbb5b3",
   "metadata": {
    "deletable": false,
    "editable": false,
    "id": "08bbb5b3",
    "tags": [
     "start_task"
    ]
   },
   "source": [
    "**Задание 2. Выведите первые 20 строчек датафрейма `data` на экран.**"
   ]
  },
  {
   "cell_type": "code",
   "execution_count": 151,
   "id": "4ff33b36",
   "metadata": {
    "id": "4ff33b36"
   },
   "outputs": [
    {
     "name": "stdout",
     "output_type": "stream",
     "text": [
      "    children  days_employed  dob_years            education  education_id  \\\n",
      "0          1   -8437.673028         42               высшее             0   \n",
      "1          1   -4024.803754         36              среднее             1   \n",
      "2          0   -5623.422610         33              Среднее             1   \n",
      "3          3   -4124.747207         32              среднее             1   \n",
      "4          0  340266.072047         53              среднее             1   \n",
      "5          0    -926.185831         27               высшее             0   \n",
      "6          0   -2879.202052         43               высшее             0   \n",
      "7          0    -152.779569         50              СРЕДНЕЕ             1   \n",
      "8          2   -6929.865299         35               ВЫСШЕЕ             0   \n",
      "9          0   -2188.756445         41              среднее             1   \n",
      "10         2   -4171.483647         36               высшее             0   \n",
      "11         0    -792.701887         40              среднее             1   \n",
      "12         0            NaN         65              среднее             1   \n",
      "13         0   -1846.641941         54  неоконченное высшее             2   \n",
      "14         0   -1844.956182         56               высшее             0   \n",
      "15         1    -972.364419         26              среднее             1   \n",
      "16         0   -1719.934226         35              среднее             1   \n",
      "17         0   -2369.999720         33               высшее             0   \n",
      "18         0  400281.136913         53              среднее             1   \n",
      "19         0  -10038.818549         48              СРЕДНЕЕ             1   \n",
      "\n",
      "       family_status  family_status_id gender income_type  debt  \\\n",
      "0    женат / замужем                 0      F   сотрудник     0   \n",
      "1    женат / замужем                 0      F   сотрудник     0   \n",
      "2    женат / замужем                 0      M   сотрудник     0   \n",
      "3    женат / замужем                 0      M   сотрудник     0   \n",
      "4   гражданский брак                 1      F   пенсионер     0   \n",
      "5   гражданский брак                 1      M   компаньон     0   \n",
      "6    женат / замужем                 0      F   компаньон     0   \n",
      "7    женат / замужем                 0      M   сотрудник     0   \n",
      "8   гражданский брак                 1      F   сотрудник     0   \n",
      "9    женат / замужем                 0      M   сотрудник     0   \n",
      "10   женат / замужем                 0      M   компаньон     0   \n",
      "11   женат / замужем                 0      F   сотрудник     0   \n",
      "12  гражданский брак                 1      M   пенсионер     0   \n",
      "13   женат / замужем                 0      F   сотрудник     0   \n",
      "14  гражданский брак                 1      F   компаньон     1   \n",
      "15   женат / замужем                 0      F   сотрудник     0   \n",
      "16   женат / замужем                 0      F   сотрудник     0   \n",
      "17  гражданский брак                 1      M   сотрудник     0   \n",
      "18    вдовец / вдова                 2      F   пенсионер     0   \n",
      "19         в разводе                 3      F   сотрудник     0   \n",
      "\n",
      "     total_income                                 purpose  \n",
      "0   253875.639453                           покупка жилья  \n",
      "1   112080.014102                 приобретение автомобиля  \n",
      "2   145885.952297                           покупка жилья  \n",
      "3   267628.550329              дополнительное образование  \n",
      "4   158616.077870                         сыграть свадьбу  \n",
      "5   255763.565419                           покупка жилья  \n",
      "6   240525.971920                       операции с жильем  \n",
      "7   135823.934197                             образование  \n",
      "8    95856.832424                   на проведение свадьбы  \n",
      "9   144425.938277                 покупка жилья для семьи  \n",
      "10  113943.491460                    покупка недвижимости  \n",
      "11   77069.234271       покупка коммерческой недвижимости  \n",
      "12            NaN                         сыграть свадьбу  \n",
      "13  130458.228857                 приобретение автомобиля  \n",
      "14  165127.911772              покупка жилой недвижимости  \n",
      "15  116820.904450  строительство собственной недвижимости  \n",
      "16  289202.704229                            недвижимость  \n",
      "17   90410.586745              строительство недвижимости  \n",
      "18   56823.777243      на покупку подержанного автомобиля  \n",
      "19  242831.107982            на покупку своего автомобиля  \n"
     ]
    }
   ],
   "source": [
    "# ваш код здесь\n",
    "print(data.head(20))"
   ]
  },
  {
   "cell_type": "markdown",
   "id": "c8f382ae",
   "metadata": {
    "deletable": false,
    "editable": false,
    "id": "c8f382ae",
    "tags": [
     "start_task"
    ]
   },
   "source": [
    "**Задание 3. Выведите основную информацию о датафрейме с помощью метода `info()`.**"
   ]
  },
  {
   "cell_type": "code",
   "execution_count": 152,
   "id": "e1ed9908",
   "metadata": {
    "id": "e1ed9908"
   },
   "outputs": [
    {
     "name": "stdout",
     "output_type": "stream",
     "text": [
      "<class 'pandas.core.frame.DataFrame'>\n",
      "RangeIndex: 21525 entries, 0 to 21524\n",
      "Data columns (total 12 columns):\n",
      " #   Column            Non-Null Count  Dtype  \n",
      "---  ------            --------------  -----  \n",
      " 0   children          21525 non-null  int64  \n",
      " 1   days_employed     19351 non-null  float64\n",
      " 2   dob_years         21525 non-null  int64  \n",
      " 3   education         21525 non-null  object \n",
      " 4   education_id      21525 non-null  int64  \n",
      " 5   family_status     21525 non-null  object \n",
      " 6   family_status_id  21525 non-null  int64  \n",
      " 7   gender            21525 non-null  object \n",
      " 8   income_type       21525 non-null  object \n",
      " 9   debt              21525 non-null  int64  \n",
      " 10  total_income      19351 non-null  float64\n",
      " 11  purpose           21525 non-null  object \n",
      "dtypes: float64(2), int64(5), object(5)\n",
      "memory usage: 2.0+ MB\n"
     ]
    }
   ],
   "source": [
    "# ваш код здесь\n",
    "data.info()"
   ]
  },
  {
   "cell_type": "markdown",
   "id": "f969a1cd",
   "metadata": {
    "deletable": false,
    "editable": false,
    "id": "f969a1cd"
   },
   "source": [
    "## Предобработка данных"
   ]
  },
  {
   "cell_type": "markdown",
   "id": "7283e864",
   "metadata": {
    "deletable": false,
    "editable": false,
    "id": "7283e864"
   },
   "source": [
    "### Удаление пропусков"
   ]
  },
  {
   "cell_type": "markdown",
   "id": "c9a0745e",
   "metadata": {
    "deletable": false,
    "editable": false,
    "id": "c9a0745e",
    "tags": [
     "start_task"
    ]
   },
   "source": [
    "**Задание 4. Выведите количество пропущенных значений для каждого столбца. Используйте комбинацию двух методов.**"
   ]
  },
  {
   "cell_type": "code",
   "execution_count": 153,
   "id": "b7a096e1",
   "metadata": {
    "id": "b7a096e1"
   },
   "outputs": [
    {
     "name": "stdout",
     "output_type": "stream",
     "text": [
      "children               0\n",
      "days_employed       2174\n",
      "dob_years              0\n",
      "education              0\n",
      "education_id           0\n",
      "family_status          0\n",
      "family_status_id       0\n",
      "gender                 0\n",
      "income_type            0\n",
      "debt                   0\n",
      "total_income        2174\n",
      "purpose                0\n",
      "dtype: int64\n"
     ]
    }
   ],
   "source": [
    "# ваш код здесь\n",
    "print(data.isna().sum())"
   ]
  },
  {
   "cell_type": "markdown",
   "id": "c2578616",
   "metadata": {
    "deletable": false,
    "editable": false,
    "id": "c2578616",
    "tags": [
     "start_task"
    ]
   },
   "source": [
    "**Задание 5. В двух столбцах есть пропущенные значения. Один из них — `days_employed`. Пропуски в этом столбце вы обработаете на следующем этапе. Другой столбец с пропущенными значениями — `total_income` — хранит данные о доходах. На сумму дохода сильнее всего влияет тип занятости, поэтому заполнить пропуски в этом столбце нужно медианным значением по каждому типу из столбца `income_type`. Например, у человека с типом занятости `сотрудник` пропуск в столбце `total_income` должен быть заполнен медианным доходом среди всех записей с тем же типом.**"
   ]
  },
  {
   "cell_type": "code",
   "execution_count": 154,
   "id": "e8afc4bc",
   "metadata": {
    "id": "e8afc4bc"
   },
   "outputs": [
    {
     "name": "stdout",
     "output_type": "stream",
     "text": [
      "0\n"
     ]
    }
   ],
   "source": [
    "# ваш код здесь\n",
    "\n",
    "\n",
    "for d in data['income_type'].unique(): #выбираем все уникальные значения столбца income_type\n",
    "    data.loc[(data['income_type'] == d) & (data['total_income'].isna()), 'total_income'] = \\\n",
    "    data.loc[(data['income_type'] == d), 'total_income'].median()\n",
    "    \n",
    "print(data['total_income'].isna().sum()) #проверка, что все пустые значения заменены"
   ]
  },
  {
   "cell_type": "markdown",
   "id": "ae986d46",
   "metadata": {
    "deletable": false,
    "editable": false,
    "id": "ae986d46"
   },
   "source": [
    "### Обработка аномальных значений"
   ]
  },
  {
   "cell_type": "markdown",
   "id": "b049cbae",
   "metadata": {
    "deletable": false,
    "editable": false,
    "id": "b049cbae",
    "tags": [
     "start_task"
    ]
   },
   "source": [
    "**Задание 6. В данных могут встречаться артефакты (аномалии) — значения, которые не отражают действительность и появились по какой-то ошибке. Таким артефактом будет отрицательное количество дней трудового стажа в столбце `days_employed`. Для реальных данных это нормально. Обработайте значения в этом столбце: замените все отрицательные значения положительными с помощью метода `abs()`.**"
   ]
  },
  {
   "cell_type": "code",
   "execution_count": 155,
   "id": "187779b0",
   "metadata": {
    "id": "187779b0"
   },
   "outputs": [],
   "source": [
    "# ваш код здесь\n",
    "data['days_employed'] = data['days_employed'].abs()"
   ]
  },
  {
   "cell_type": "markdown",
   "id": "a13054c2",
   "metadata": {
    "deletable": false,
    "editable": false,
    "id": "a13054c2",
    "tags": [
     "start_task"
    ]
   },
   "source": [
    "**Задание 7. Для каждого типа занятости выведите медианное значение трудового стажа `days_employed` в днях.**"
   ]
  },
  {
   "cell_type": "code",
   "execution_count": 156,
   "id": "f3f5810c",
   "metadata": {
    "id": "f3f5810c"
   },
   "outputs": [
    {
     "name": "stdout",
     "output_type": "stream",
     "text": [
      "income_type\n",
      "безработный        366413.652744\n",
      "в декрете            3296.759962\n",
      "госслужащий          2689.368353\n",
      "компаньон            1547.382223\n",
      "пенсионер          365213.306266\n",
      "предприниматель       520.848083\n",
      "сотрудник            1574.202821\n",
      "студент               578.751554\n",
      "Name: days_employed, dtype: float64\n"
     ]
    }
   ],
   "source": [
    "# ваш код здесь\n",
    "days_empl_mediana = data.groupby('income_type')['days_employed'].median()\n",
    "print(days_empl_mediana)"
   ]
  },
  {
   "cell_type": "markdown",
   "id": "dbc3168c",
   "metadata": {
    "deletable": false,
    "editable": false,
    "id": "dbc3168c"
   },
   "source": [
    "У двух типов (безработные и пенсионеры) получатся аномально большие значения. Исправить такие значения сложно, поэтому оставьте их как есть."
   ]
  },
  {
   "cell_type": "markdown",
   "id": "ff4378c2",
   "metadata": {
    "deletable": false,
    "editable": false,
    "id": "ff4378c2",
    "tags": [
     "start_task"
    ]
   },
   "source": [
    "**Задание 8. Выведите перечень уникальных значений столбца `children`.**"
   ]
  },
  {
   "cell_type": "code",
   "execution_count": 157,
   "id": "9bd0c232",
   "metadata": {
    "id": "9bd0c232"
   },
   "outputs": [
    {
     "name": "stdout",
     "output_type": "stream",
     "text": [
      "[ 1  0  3  2 -1  4 20  5]\n"
     ]
    }
   ],
   "source": [
    "# ваш код здесь\n",
    "print(data['children'].unique())"
   ]
  },
  {
   "cell_type": "markdown",
   "id": "8e911990",
   "metadata": {
    "deletable": false,
    "editable": false,
    "id": "8e911990",
    "tags": [
     "start_task"
    ]
   },
   "source": [
    "**Задание 9. В столбце `children` есть два аномальных значения. Удалите строки, в которых встречаются такие аномальные значения из датафрейма `data`.**"
   ]
  },
  {
   "cell_type": "code",
   "execution_count": 158,
   "id": "6d5ba289",
   "metadata": {
    "id": "6d5ba289"
   },
   "outputs": [],
   "source": [
    "# ваш код здесь\n",
    "rows = (data['children'] != -1) & (data['children'] != 20)\n",
    "data = data.loc[rows]"
   ]
  },
  {
   "cell_type": "markdown",
   "id": "18d77455",
   "metadata": {
    "deletable": false,
    "editable": false,
    "id": "18d77455",
    "tags": [
     "start_task"
    ]
   },
   "source": [
    "**Задание 10. Ещё раз выведите перечень уникальных значений столбца `children`, чтобы убедиться, что артефакты удалены.**"
   ]
  },
  {
   "cell_type": "code",
   "execution_count": 159,
   "id": "2c5fa92c",
   "metadata": {
    "id": "2c5fa92c"
   },
   "outputs": [
    {
     "name": "stdout",
     "output_type": "stream",
     "text": [
      "[1 0 3 2 4 5]\n"
     ]
    }
   ],
   "source": [
    "# ваш код здесь\n",
    "print(data['children'].unique())"
   ]
  },
  {
   "cell_type": "markdown",
   "id": "0ec07dee",
   "metadata": {
    "deletable": false,
    "editable": false,
    "id": "0ec07dee"
   },
   "source": [
    "### Удаление пропусков (продолжение)"
   ]
  },
  {
   "cell_type": "markdown",
   "id": "0fc3ae3f",
   "metadata": {
    "deletable": false,
    "editable": false,
    "id": "0fc3ae3f",
    "tags": [
     "start_task"
    ]
   },
   "source": [
    "**Задание 11. Заполните пропуски в столбце `days_employed` медианными значениями по каждому типу занятости `income_type`.**"
   ]
  },
  {
   "cell_type": "code",
   "execution_count": 160,
   "id": "e2aea7ac",
   "metadata": {
    "id": "e2aea7ac"
   },
   "outputs": [
    {
     "name": "stdout",
     "output_type": "stream",
     "text": [
      "0\n"
     ]
    }
   ],
   "source": [
    "# ваш код здесь\n",
    "\n",
    "for d in data['income_type'].unique(): #выбираем все уникальные значения столбца income_type\n",
    "    data.loc[(data['income_type'] == d) & (data['days_employed'].isna()), 'days_employed'] = \\\n",
    "    data.loc[(data['income_type'] == d), 'days_employed'].median()\n",
    "    \n",
    "print(data['days_employed'].isna().sum()) #проверка, что все пустые значения заменены"
   ]
  },
  {
   "cell_type": "markdown",
   "id": "97b0b795",
   "metadata": {
    "deletable": false,
    "editable": false,
    "id": "97b0b795",
    "tags": [
     "start_task"
    ]
   },
   "source": [
    "**Задание 12. Убедитесь, что все пропуски заполнены. Проверьте себя и ещё раз выведите количество пропущенных значений для каждого столбца с помощью двух методов.**"
   ]
  },
  {
   "cell_type": "code",
   "execution_count": 161,
   "id": "79632a21",
   "metadata": {
    "id": "79632a21"
   },
   "outputs": [
    {
     "name": "stdout",
     "output_type": "stream",
     "text": [
      "children            21402\n",
      "days_employed       21402\n",
      "dob_years           21402\n",
      "education           21402\n",
      "education_id        21402\n",
      "family_status       21402\n",
      "family_status_id    21402\n",
      "gender              21402\n",
      "income_type         21402\n",
      "debt                21402\n",
      "total_income        21402\n",
      "purpose             21402\n",
      "dtype: int64\n"
     ]
    }
   ],
   "source": [
    "# ваш код здесь\n",
    "print(data.isna().count())"
   ]
  },
  {
   "cell_type": "markdown",
   "id": "bd4aeb20",
   "metadata": {
    "deletable": false,
    "editable": false,
    "id": "bd4aeb20"
   },
   "source": [
    "### Изменение типов данных"
   ]
  },
  {
   "cell_type": "markdown",
   "id": "963bfa58",
   "metadata": {
    "deletable": false,
    "editable": false,
    "id": "963bfa58",
    "tags": [
     "start_task"
    ]
   },
   "source": [
    "**Задание 13. Замените вещественный тип данных в столбце `total_income` на целочисленный с помощью метода `astype()`.**"
   ]
  },
  {
   "cell_type": "code",
   "execution_count": 162,
   "id": "73da6ea0",
   "metadata": {
    "id": "73da6ea0"
   },
   "outputs": [],
   "source": [
    "# ваш код здесь\n",
    "data['total_income'] = data['total_income'].astype('int')"
   ]
  },
  {
   "cell_type": "markdown",
   "id": "d290239e",
   "metadata": {
    "deletable": false,
    "editable": false,
    "id": "d290239e"
   },
   "source": [
    "### Обработка дубликатов"
   ]
  },
  {
   "cell_type": "markdown",
   "id": "1b5844fd",
   "metadata": {
    "deletable": false,
    "editable": false,
    "id": "1b5844fd",
    "tags": [
     "start_task"
    ]
   },
   "source": [
    "**Задание 14. Обработайте неявные дубликаты в столбце `education`. В этом столбце есть одни и те же значения, но записанные по-разному: с использованием заглавных и строчных букв. Приведите их к нижнему регистру.**"
   ]
  },
  {
   "cell_type": "code",
   "execution_count": 163,
   "id": "3f2504b3",
   "metadata": {
    "id": "3f2504b3"
   },
   "outputs": [],
   "source": [
    "# ваш код здесь\n",
    "data['education'] = data['education'].str.lower()"
   ]
  },
  {
   "cell_type": "markdown",
   "id": "4c22acbc",
   "metadata": {
    "deletable": false,
    "editable": false,
    "id": "4c22acbc",
    "tags": [
     "start_task"
    ]
   },
   "source": [
    "**Задание 15. Выведите на экран количество строк-дубликатов в данных. Если такие строки присутствуют, удалите их.**"
   ]
  },
  {
   "cell_type": "code",
   "execution_count": 164,
   "id": "d34a4325",
   "metadata": {
    "id": "d34a4325"
   },
   "outputs": [
    {
     "name": "stdout",
     "output_type": "stream",
     "text": [
      "71\n"
     ]
    }
   ],
   "source": [
    "# посчитайте дубликаты\n",
    "print(data.duplicated().sum())"
   ]
  },
  {
   "cell_type": "code",
   "execution_count": 165,
   "id": "6e1a6499",
   "metadata": {
    "id": "6e1a6499"
   },
   "outputs": [
    {
     "name": "stdout",
     "output_type": "stream",
     "text": [
      "0\n"
     ]
    }
   ],
   "source": [
    "# удалите дубликаты\n",
    "data = data.drop_duplicates()\n",
    "print(data.duplicated().sum())"
   ]
  },
  {
   "cell_type": "markdown",
   "id": "e5686ccc",
   "metadata": {
    "deletable": false,
    "editable": false,
    "id": "e5686ccc"
   },
   "source": [
    "### Категоризация данных"
   ]
  },
  {
   "cell_type": "markdown",
   "id": "636e9acd",
   "metadata": {
    "deletable": false,
    "editable": false,
    "id": "636e9acd",
    "tags": [
     "start_task"
    ]
   },
   "source": [
    "**Задание 16. На основании диапазонов, указанных ниже, создайте в датафрейме `data` столбец `total_income_category` с категориями:**\n",
    "\n",
    "- 0–30000 — `'E'`;\n",
    "- 30001–50000 — `'D'`;\n",
    "- 50001–200000 — `'C'`;\n",
    "- 200001–1000000 — `'B'`;\n",
    "- 1000001 и выше — `'A'`.\n",
    "\n",
    "\n",
    "**Например, кредитополучателю с доходом 25000 нужно назначить категорию `'E'`, а клиенту, получающему 235000, — `'B'`. Используйте собственную функцию с именем `categorize_income()` и метод `apply()`.**"
   ]
  },
  {
   "cell_type": "code",
   "execution_count": 166,
   "id": "880a77e5",
   "metadata": {
    "id": "880a77e5"
   },
   "outputs": [],
   "source": [
    "# создайте функцию categorize_income()\n",
    "def categorize_income(income):\n",
    "    if 0 <= income <=  30000:\n",
    "        return 'E'\n",
    "    if 30001 <= income <= 50000:\n",
    "        return 'D'\n",
    "    if 50001 <= income <= 200000:\n",
    "        return 'C'\n",
    "    if 200001 <= income <= 1000000:\n",
    "        return 'B'\n",
    "    if 1000001 <= income:\n",
    "        return 'A'"
   ]
  },
  {
   "cell_type": "code",
   "execution_count": 167,
   "id": "6f25f161",
   "metadata": {
    "id": "6f25f161"
   },
   "outputs": [],
   "source": [
    "# примените функцию методом apply()\n",
    "data['total_income_category'] = data['total_income'].apply(categorize_income)"
   ]
  },
  {
   "cell_type": "markdown",
   "id": "3363b685",
   "metadata": {
    "deletable": false,
    "editable": false,
    "id": "3363b685",
    "tags": [
     "start_task"
    ]
   },
   "source": [
    "**Задание 17. Выведите на экран перечень уникальных целей взятия кредита из столбца `purpose`.**"
   ]
  },
  {
   "cell_type": "code",
   "execution_count": 168,
   "id": "e59f2c15",
   "metadata": {
    "id": "e59f2c15"
   },
   "outputs": [
    {
     "name": "stdout",
     "output_type": "stream",
     "text": [
      "['покупка жилья' 'приобретение автомобиля' 'дополнительное образование'\n",
      " 'сыграть свадьбу' 'операции с жильем' 'образование'\n",
      " 'на проведение свадьбы' 'покупка жилья для семьи' 'покупка недвижимости'\n",
      " 'покупка коммерческой недвижимости' 'покупка жилой недвижимости'\n",
      " 'строительство собственной недвижимости' 'недвижимость'\n",
      " 'строительство недвижимости' 'на покупку подержанного автомобиля'\n",
      " 'на покупку своего автомобиля' 'операции с коммерческой недвижимостью'\n",
      " 'строительство жилой недвижимости' 'жилье'\n",
      " 'операции со своей недвижимостью' 'автомобили' 'заняться образованием'\n",
      " 'сделка с подержанным автомобилем' 'получение образования' 'автомобиль'\n",
      " 'свадьба' 'получение дополнительного образования' 'покупка своего жилья'\n",
      " 'операции с недвижимостью' 'получение высшего образования'\n",
      " 'свой автомобиль' 'сделка с автомобилем' 'профильное образование'\n",
      " 'высшее образование' 'покупка жилья для сдачи' 'на покупку автомобиля'\n",
      " 'ремонт жилью' 'заняться высшим образованием']\n"
     ]
    }
   ],
   "source": [
    "# ваш код здесь\n",
    "print(data['purpose'].unique())"
   ]
  },
  {
   "cell_type": "markdown",
   "id": "bb33e847",
   "metadata": {
    "deletable": false,
    "editable": false,
    "id": "bb33e847",
    "tags": [
     "start_task"
    ]
   },
   "source": [
    "**Задание 18. Создайте функцию, которая на основании данных из столбца `purpose` сформирует новый столбец `purpose_category`, в который войдут следующие категории:**\n",
    "\n",
    "- `'операции с автомобилем'`,\n",
    "- `'операции с недвижимостью'`,\n",
    "- `'проведение свадьбы'`,\n",
    "- `'получение образования'`.\n",
    "\n",
    "**Например, если в столбце `purpose` находится подстрока `'на покупку автомобиля'`, то в столбце `purpose_category` должна появиться строка `'операции с автомобилем'`.**\n",
    "\n",
    "**Используйте собственную функцию с именем `categorize_purpose()` и метод `apply()`. Изучите данные в столбце `purpose` и определите, какие подстроки помогут вам правильно определить категорию.**"
   ]
  },
  {
   "cell_type": "code",
   "execution_count": 170,
   "id": "63909b83",
   "metadata": {
    "id": "63909b83"
   },
   "outputs": [
    {
     "name": "stdout",
     "output_type": "stream",
     "text": [
      "операции с недвижимостью\n"
     ]
    }
   ],
   "source": [
    "# создайте функцию categorize_purpose()\n",
    "def categorize_purpose(purpose):\n",
    "    if purpose.find('авто') >= 0:\n",
    "        return 'операции с автомобилем'\n",
    "    if purpose.find('недвиж') >= 0:\n",
    "        return 'операции с недвижимостью'\n",
    "    if purpose.find('жиль') >= 0:\n",
    "        return 'операции с недвижимостью'\n",
    "    if purpose.find('свадь') >= 0:\n",
    "        return 'проведение свадьбы'\n",
    "    if purpose.find('образ') >= 0:\n",
    "        return 'получение образования'\n",
    "    \n",
    "print(categorize_purpose('покупка жилья для сдачи'))"
   ]
  },
  {
   "cell_type": "code",
   "execution_count": 171,
   "id": "7cb4a81d",
   "metadata": {
    "id": "7cb4a81d"
   },
   "outputs": [],
   "source": [
    "# примените функцию методом apply()\n",
    "data['purpose_category'] = data['purpose'].apply(categorize_purpose)"
   ]
  }
 ],
 "metadata": {
  "ExecuteTimeLog": [
   {
    "duration": 410,
    "start_time": "2023-07-28T04:43:53.394Z"
   },
   {
    "duration": 294,
    "start_time": "2023-07-28T04:43:55.457Z"
   },
   {
    "duration": 11,
    "start_time": "2023-07-28T04:44:35.856Z"
   },
   {
    "duration": 19,
    "start_time": "2023-07-28T04:45:34.620Z"
   },
   {
    "duration": 68,
    "start_time": "2023-07-28T04:47:27.811Z"
   },
   {
    "duration": 8,
    "start_time": "2023-07-28T04:50:16.294Z"
   },
   {
    "duration": 41,
    "start_time": "2023-07-28T04:50:24.413Z"
   },
   {
    "duration": 10,
    "start_time": "2023-07-28T04:52:18.220Z"
   },
   {
    "duration": 14,
    "start_time": "2023-07-28T04:53:03.009Z"
   },
   {
    "duration": 18,
    "start_time": "2023-07-28T04:53:44.176Z"
   },
   {
    "duration": 13,
    "start_time": "2023-07-28T04:55:26.049Z"
   },
   {
    "duration": 139,
    "start_time": "2023-07-28T04:56:09.478Z"
   },
   {
    "duration": 11,
    "start_time": "2023-07-28T04:56:34.054Z"
   },
   {
    "duration": 16,
    "start_time": "2023-07-28T04:57:11.914Z"
   },
   {
    "duration": 10,
    "start_time": "2023-07-28T04:57:31.812Z"
   },
   {
    "duration": 404,
    "start_time": "2023-07-29T15:47:27.538Z"
   },
   {
    "duration": 165,
    "start_time": "2023-07-29T15:47:27.944Z"
   },
   {
    "duration": 14,
    "start_time": "2023-07-29T15:47:28.111Z"
   },
   {
    "duration": 47,
    "start_time": "2023-07-29T15:47:28.128Z"
   },
   {
    "duration": 17,
    "start_time": "2023-07-29T15:47:28.182Z"
   },
   {
    "duration": 3,
    "start_time": "2023-07-29T15:47:28.201Z"
   },
   {
    "duration": 5,
    "start_time": "2023-07-29T15:47:28.206Z"
   },
   {
    "duration": 12,
    "start_time": "2023-07-29T15:47:28.213Z"
   },
   {
    "duration": 6,
    "start_time": "2023-07-29T15:47:28.226Z"
   },
   {
    "duration": 12,
    "start_time": "2023-07-29T15:47:28.237Z"
   },
   {
    "duration": 9,
    "start_time": "2023-07-29T15:47:28.251Z"
   },
   {
    "duration": 7,
    "start_time": "2023-07-29T15:47:28.262Z"
   },
   {
    "duration": 23,
    "start_time": "2023-07-29T15:47:28.275Z"
   },
   {
    "duration": 7,
    "start_time": "2023-07-29T15:47:28.300Z"
   },
   {
    "duration": 8,
    "start_time": "2023-07-29T15:47:28.309Z"
   },
   {
    "duration": 7,
    "start_time": "2023-07-29T15:47:28.318Z"
   },
   {
    "duration": 6,
    "start_time": "2023-07-29T15:47:28.327Z"
   },
   {
    "duration": 4,
    "start_time": "2023-07-29T15:47:28.335Z"
   },
   {
    "duration": 4,
    "start_time": "2023-07-29T15:47:28.341Z"
   },
   {
    "duration": 7,
    "start_time": "2023-07-29T15:47:28.346Z"
   },
   {
    "duration": 9,
    "start_time": "2023-07-29T15:47:28.354Z"
   },
   {
    "duration": 5,
    "start_time": "2023-07-29T15:47:28.365Z"
   },
   {
    "duration": 3,
    "start_time": "2023-07-29T15:47:42.884Z"
   },
   {
    "duration": 71,
    "start_time": "2023-07-29T15:47:45.492Z"
   },
   {
    "duration": 69,
    "start_time": "2023-07-29T17:59:50.927Z"
   },
   {
    "duration": 14,
    "start_time": "2023-07-29T18:00:12.320Z"
   },
   {
    "duration": 14,
    "start_time": "2023-07-29T18:00:20.321Z"
   },
   {
    "duration": 24,
    "start_time": "2023-07-29T18:00:53.155Z"
   },
   {
    "duration": 16,
    "start_time": "2023-07-29T18:02:00.402Z"
   },
   {
    "duration": 12,
    "start_time": "2023-07-29T18:03:44.951Z"
   },
   {
    "duration": 22,
    "start_time": "2023-07-29T18:06:39.664Z"
   },
   {
    "duration": 9,
    "start_time": "2023-07-29T18:09:00.077Z"
   },
   {
    "duration": 8,
    "start_time": "2023-07-29T18:15:30.597Z"
   },
   {
    "duration": 9,
    "start_time": "2023-07-29T18:15:50.084Z"
   },
   {
    "duration": 12,
    "start_time": "2023-07-29T18:16:00.164Z"
   },
   {
    "duration": 5,
    "start_time": "2023-07-29T18:34:10.111Z"
   },
   {
    "duration": 4,
    "start_time": "2023-07-29T18:35:53.173Z"
   },
   {
    "duration": 8,
    "start_time": "2023-07-29T18:36:32.449Z"
   },
   {
    "duration": 6,
    "start_time": "2023-07-29T18:37:43.907Z"
   },
   {
    "duration": 7,
    "start_time": "2023-07-29T18:38:31.585Z"
   },
   {
    "duration": 18,
    "start_time": "2023-07-29T18:39:31.784Z"
   },
   {
    "duration": 8,
    "start_time": "2023-07-29T18:40:07.948Z"
   },
   {
    "duration": 9,
    "start_time": "2023-07-29T18:40:18.141Z"
   },
   {
    "duration": 8,
    "start_time": "2023-07-29T18:40:27.807Z"
   },
   {
    "duration": 9,
    "start_time": "2023-07-29T18:40:40.721Z"
   },
   {
    "duration": 8,
    "start_time": "2023-07-29T18:40:48.205Z"
   },
   {
    "duration": 11,
    "start_time": "2023-07-29T18:40:54.088Z"
   },
   {
    "duration": 8,
    "start_time": "2023-07-29T18:41:04.948Z"
   },
   {
    "duration": 1287,
    "start_time": "2023-07-29T18:44:20.287Z"
   },
   {
    "duration": 8,
    "start_time": "2023-07-29T18:45:48.638Z"
   },
   {
    "duration": 63,
    "start_time": "2023-07-29T18:46:09.083Z"
   },
   {
    "duration": 3,
    "start_time": "2023-07-29T18:46:28.327Z"
   },
   {
    "duration": 73,
    "start_time": "2023-07-29T18:46:28.331Z"
   },
   {
    "duration": 8,
    "start_time": "2023-07-29T18:46:28.406Z"
   },
   {
    "duration": 18,
    "start_time": "2023-07-29T18:46:28.416Z"
   },
   {
    "duration": 8,
    "start_time": "2023-07-29T18:46:28.435Z"
   },
   {
    "duration": 7,
    "start_time": "2023-07-29T18:46:28.459Z"
   },
   {
    "duration": 2,
    "start_time": "2023-07-29T18:46:28.467Z"
   },
   {
    "duration": 3,
    "start_time": "2023-07-29T18:46:28.471Z"
   },
   {
    "duration": 4,
    "start_time": "2023-07-29T18:46:28.475Z"
   },
   {
    "duration": 5,
    "start_time": "2023-07-29T18:46:28.480Z"
   },
   {
    "duration": 4,
    "start_time": "2023-07-29T18:46:28.486Z"
   },
   {
    "duration": 4,
    "start_time": "2023-07-29T18:46:28.492Z"
   },
   {
    "duration": 8,
    "start_time": "2023-07-29T18:46:28.497Z"
   },
   {
    "duration": 3,
    "start_time": "2023-07-29T18:46:28.507Z"
   },
   {
    "duration": 15,
    "start_time": "2023-07-29T18:46:28.512Z"
   },
   {
    "duration": 4,
    "start_time": "2023-07-29T18:46:28.529Z"
   },
   {
    "duration": 7,
    "start_time": "2023-07-29T18:46:28.534Z"
   },
   {
    "duration": 2,
    "start_time": "2023-07-29T18:46:28.559Z"
   },
   {
    "duration": 4,
    "start_time": "2023-07-29T18:46:28.563Z"
   },
   {
    "duration": 6,
    "start_time": "2023-07-29T18:46:28.568Z"
   },
   {
    "duration": 5,
    "start_time": "2023-07-29T18:46:28.575Z"
   },
   {
    "duration": 17,
    "start_time": "2023-07-29T18:46:28.581Z"
   },
   {
    "duration": 8,
    "start_time": "2023-07-29T18:49:59.424Z"
   },
   {
    "duration": 11,
    "start_time": "2023-07-29T18:51:37.929Z"
   },
   {
    "duration": 17,
    "start_time": "2023-07-29T18:51:54.443Z"
   },
   {
    "duration": 15,
    "start_time": "2023-07-29T18:52:08.687Z"
   },
   {
    "duration": 10,
    "start_time": "2023-07-29T18:52:57.049Z"
   },
   {
    "duration": 11,
    "start_time": "2023-07-29T19:00:47.607Z"
   },
   {
    "duration": 10,
    "start_time": "2023-07-29T19:01:12.026Z"
   },
   {
    "duration": 10,
    "start_time": "2023-07-29T19:03:46.932Z"
   },
   {
    "duration": 3,
    "start_time": "2023-07-29T19:03:59.025Z"
   },
   {
    "duration": 7,
    "start_time": "2023-07-29T19:04:04.597Z"
   },
   {
    "duration": 9,
    "start_time": "2023-07-29T19:10:29.674Z"
   },
   {
    "duration": 45,
    "start_time": "2023-07-29T19:27:47.763Z"
   },
   {
    "duration": 4,
    "start_time": "2023-07-29T19:46:39.276Z"
   },
   {
    "duration": 7,
    "start_time": "2023-07-29T19:49:39.079Z"
   },
   {
    "duration": 4,
    "start_time": "2023-07-29T19:50:47.786Z"
   },
   {
    "duration": 23,
    "start_time": "2023-07-29T20:04:47.445Z"
   },
   {
    "duration": 4,
    "start_time": "2023-07-29T20:05:28.326Z"
   },
   {
    "duration": 4,
    "start_time": "2023-07-29T20:05:50.954Z"
   },
   {
    "duration": 33,
    "start_time": "2023-07-29T20:12:07.518Z"
   },
   {
    "duration": 4,
    "start_time": "2023-07-29T20:12:53.544Z"
   },
   {
    "duration": 11,
    "start_time": "2023-07-29T20:13:58.015Z"
   },
   {
    "duration": 9,
    "start_time": "2023-07-29T20:17:00.980Z"
   },
   {
    "duration": 3,
    "start_time": "2023-07-29T20:18:43.167Z"
   },
   {
    "duration": 741,
    "start_time": "2023-07-29T20:19:08.235Z"
   },
   {
    "duration": 807,
    "start_time": "2023-07-29T20:19:44.359Z"
   },
   {
    "duration": 846,
    "start_time": "2023-07-29T20:22:09.313Z"
   },
   {
    "duration": 816,
    "start_time": "2023-07-29T20:22:14.122Z"
   },
   {
    "duration": 2,
    "start_time": "2023-07-29T20:22:22.965Z"
   },
   {
    "duration": 88,
    "start_time": "2023-07-29T20:22:22.969Z"
   },
   {
    "duration": 10,
    "start_time": "2023-07-29T20:22:23.060Z"
   },
   {
    "duration": 29,
    "start_time": "2023-07-29T20:22:23.072Z"
   },
   {
    "duration": 14,
    "start_time": "2023-07-29T20:22:23.104Z"
   },
   {
    "duration": 55,
    "start_time": "2023-07-29T20:22:23.120Z"
   },
   {
    "duration": 4,
    "start_time": "2023-07-29T20:22:23.176Z"
   },
   {
    "duration": 13,
    "start_time": "2023-07-29T20:22:23.182Z"
   },
   {
    "duration": 4,
    "start_time": "2023-07-29T20:22:23.197Z"
   },
   {
    "duration": 9,
    "start_time": "2023-07-29T20:22:23.202Z"
   },
   {
    "duration": 33,
    "start_time": "2023-07-29T20:22:23.212Z"
   },
   {
    "duration": 39,
    "start_time": "2023-07-29T20:22:23.246Z"
   },
   {
    "duration": 10,
    "start_time": "2023-07-29T20:22:23.286Z"
   },
   {
    "duration": 11,
    "start_time": "2023-07-29T20:22:23.299Z"
   },
   {
    "duration": 28,
    "start_time": "2023-07-29T20:22:23.311Z"
   },
   {
    "duration": 6,
    "start_time": "2023-07-29T20:22:23.341Z"
   },
   {
    "duration": 7,
    "start_time": "2023-07-29T20:22:23.349Z"
   },
   {
    "duration": 5,
    "start_time": "2023-07-29T20:22:23.357Z"
   },
   {
    "duration": 8,
    "start_time": "2023-07-29T20:22:23.363Z"
   },
   {
    "duration": 21,
    "start_time": "2023-07-29T20:22:23.372Z"
   },
   {
    "duration": 5,
    "start_time": "2023-07-29T20:22:23.395Z"
   },
   {
    "duration": 10,
    "start_time": "2023-07-29T20:22:23.401Z"
   },
   {
    "duration": 4,
    "start_time": "2023-07-29T20:25:06.138Z"
   },
   {
    "duration": 11,
    "start_time": "2023-07-29T20:28:06.560Z"
   },
   {
    "duration": 2,
    "start_time": "2023-07-29T20:28:12.837Z"
   },
   {
    "duration": 95,
    "start_time": "2023-07-29T20:28:12.841Z"
   },
   {
    "duration": 9,
    "start_time": "2023-07-29T20:28:12.938Z"
   },
   {
    "duration": 15,
    "start_time": "2023-07-29T20:28:12.948Z"
   },
   {
    "duration": 8,
    "start_time": "2023-07-29T20:28:12.965Z"
   },
   {
    "duration": 34,
    "start_time": "2023-07-29T20:28:12.974Z"
   },
   {
    "duration": 3,
    "start_time": "2023-07-29T20:28:13.010Z"
   },
   {
    "duration": 11,
    "start_time": "2023-07-29T20:28:13.015Z"
   },
   {
    "duration": 18,
    "start_time": "2023-07-29T20:28:13.029Z"
   },
   {
    "duration": 13,
    "start_time": "2023-07-29T20:28:13.060Z"
   },
   {
    "duration": 26,
    "start_time": "2023-07-29T20:28:13.075Z"
   },
   {
    "duration": 38,
    "start_time": "2023-07-29T20:28:13.103Z"
   },
   {
    "duration": 16,
    "start_time": "2023-07-29T20:28:13.143Z"
   },
   {
    "duration": 3,
    "start_time": "2023-07-29T20:28:13.161Z"
   },
   {
    "duration": 13,
    "start_time": "2023-07-29T20:28:13.166Z"
   },
   {
    "duration": 0,
    "start_time": "2023-07-29T20:28:13.180Z"
   },
   {
    "duration": 0,
    "start_time": "2023-07-29T20:28:13.181Z"
   },
   {
    "duration": 0,
    "start_time": "2023-07-29T20:28:13.182Z"
   },
   {
    "duration": 0,
    "start_time": "2023-07-29T20:28:13.184Z"
   },
   {
    "duration": 0,
    "start_time": "2023-07-29T20:28:13.185Z"
   },
   {
    "duration": 0,
    "start_time": "2023-07-29T20:28:13.186Z"
   },
   {
    "duration": 0,
    "start_time": "2023-07-29T20:28:13.188Z"
   },
   {
    "duration": 11,
    "start_time": "2023-07-29T20:28:47.526Z"
   },
   {
    "duration": 20,
    "start_time": "2023-07-29T20:30:04.805Z"
   },
   {
    "duration": 17,
    "start_time": "2023-07-29T20:30:19.949Z"
   },
   {
    "duration": 31,
    "start_time": "2023-07-29T20:32:14.756Z"
   },
   {
    "duration": 32,
    "start_time": "2023-07-29T20:32:24.958Z"
   },
   {
    "duration": 5,
    "start_time": "2023-07-29T20:46:35.634Z"
   },
   {
    "duration": 9,
    "start_time": "2023-07-29T21:09:50.067Z"
   },
   {
    "duration": 14,
    "start_time": "2023-07-29T21:14:02.293Z"
   },
   {
    "duration": 12,
    "start_time": "2023-07-29T21:14:05.514Z"
   },
   {
    "duration": 3,
    "start_time": "2023-07-29T21:14:09.198Z"
   },
   {
    "duration": 73,
    "start_time": "2023-07-29T21:14:09.204Z"
   },
   {
    "duration": 8,
    "start_time": "2023-07-29T21:14:09.279Z"
   },
   {
    "duration": 25,
    "start_time": "2023-07-29T21:14:09.289Z"
   },
   {
    "duration": 17,
    "start_time": "2023-07-29T21:14:09.317Z"
   },
   {
    "duration": 39,
    "start_time": "2023-07-29T21:14:09.336Z"
   },
   {
    "duration": 3,
    "start_time": "2023-07-29T21:14:09.377Z"
   },
   {
    "duration": 59,
    "start_time": "2023-07-29T21:14:09.382Z"
   },
   {
    "duration": 93,
    "start_time": "2023-07-29T21:14:09.444Z"
   },
   {
    "duration": 246,
    "start_time": "2023-07-29T21:14:09.539Z"
   },
   {
    "duration": 46,
    "start_time": "2023-07-29T21:14:09.787Z"
   },
   {
    "duration": 58,
    "start_time": "2023-07-29T21:14:09.834Z"
   },
   {
    "duration": 11,
    "start_time": "2023-07-29T21:14:09.893Z"
   },
   {
    "duration": 47,
    "start_time": "2023-07-29T21:14:09.907Z"
   },
   {
    "duration": 20,
    "start_time": "2023-07-29T21:14:09.956Z"
   },
   {
    "duration": 29,
    "start_time": "2023-07-29T21:14:09.978Z"
   },
   {
    "duration": 43,
    "start_time": "2023-07-29T21:14:10.009Z"
   },
   {
    "duration": 4,
    "start_time": "2023-07-29T21:14:10.054Z"
   },
   {
    "duration": 37,
    "start_time": "2023-07-29T21:14:10.059Z"
   },
   {
    "duration": 16,
    "start_time": "2023-07-29T21:14:10.098Z"
   },
   {
    "duration": 16,
    "start_time": "2023-07-29T21:14:10.116Z"
   },
   {
    "duration": 0,
    "start_time": "2023-07-29T21:14:10.134Z"
   },
   {
    "duration": 4,
    "start_time": "2023-07-29T21:15:22.488Z"
   },
   {
    "duration": 17,
    "start_time": "2023-07-29T21:15:33.073Z"
   }
  ],
  "colab": {
   "provenance": []
  },
  "kernelspec": {
   "display_name": "Python 3 (ipykernel)",
   "language": "python",
   "name": "python3"
  },
  "language_info": {
   "codemirror_mode": {
    "name": "ipython",
    "version": 3
   },
   "file_extension": ".py",
   "mimetype": "text/x-python",
   "name": "python",
   "nbconvert_exporter": "python",
   "pygments_lexer": "ipython3",
   "version": "3.9.5"
  },
  "toc": {
   "base_numbering": 1,
   "nav_menu": {},
   "number_sections": true,
   "sideBar": true,
   "skip_h1_title": true,
   "title_cell": "Table of Contents",
   "title_sidebar": "Contents",
   "toc_cell": false,
   "toc_position": {},
   "toc_section_display": true,
   "toc_window_display": false
  }
 },
 "nbformat": 4,
 "nbformat_minor": 5
}
